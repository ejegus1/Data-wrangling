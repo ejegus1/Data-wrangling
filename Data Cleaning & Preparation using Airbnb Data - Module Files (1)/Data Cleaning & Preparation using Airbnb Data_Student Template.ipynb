{
 "cells": [
  {
   "cell_type": "markdown",
   "metadata": {},
   "source": [
    "# Data Cleaning & Preparation\n",
    "## Using Airbnb Data\n",
    "\n",
    "<img src='airbnb_photo.JPG'>\n",
    "<i>Image by <a href=\"https://pixabay.com/users/instagramfotografin-5746148/?utm_source=link-attribution&amp;utm_medium=referral&amp;utm_campaign=image&amp;utm_content=3399753\">InstagramFOTOGRAFIN</a> from <a href=\"https://pixabay.com/?utm_source=link-attribution&amp;utm_medium=referral&amp;utm_campaign=image&amp;utm_content=3399753\">Pixabay</a></i>\n",
    "\n",
    "It is often said that an analyst spends 80% or more of their time on data preparation tasks such as cleaning, transforming and rearranging data. In this module, we will discuss ways to handle missing data, duplicate data, string manipulation and other types of transformations.\n",
    "\n",
    "When we first explore a topic, we will use a simple example to explain the process. Then you will practice by implementing a similar transformation using a real world dataset in a more complex way.\n",
    "\n",
    "For this module, we will be working with data from [Airbnb](https://www.airbnb.com/), one of the top travel websites where hosts can list their properties or rooms for vacation rental. The ultimate goal of working with this data is to see if we can predict a property's price based on its specific attributes. We will specifically be using data from Vienna, Austria.\n",
    "\n",
    "The Airbnb city data comes from [Inside Airbnb](http://insideairbnb.com/get-the-data.html), an investigatory website that focuses on highlighting illegal renting through Airbnb and how Airbnb affects property values in an area. The data is sourced directly from the Airbnb website and is updated monthly. \n",
    "\n",
    "The data is ‘messy’ with long text fields, large amounts of missing data and many features that might not have any correlation with prices. An example of the ‘messiness’ of the data can be found in the ‘amenities’ feature. Each property has a list of amenities that it provides, some standard from the Airbnb website and some that are entered directly by the property owners. This data will need to be pulled apart and cleaned, with new features added based on these amenities.\n",
    "\n",
    "**Note 1:** In order to better show examples of data transformations, some of the data has been adjusted for teaching purposes. If you want to do any further data analysis, please download the actual data from the link above.\n",
    "\n",
    "**Note 2:** We are only using Pandas and Numpy for these data transformations. In future classes, you will learn about additional, sometimes easier, options such as using Scikit-learn for some of these transformations. But even these options use Pandas and Numpy as their base."
   ]
  },
  {
   "cell_type": "markdown",
   "metadata": {},
   "source": [
    "## Table of Contents\n",
    "1. [Import Data](#import)\n",
    "2. [Initial Data Exploration](#exploration)\n",
    "3. [Missing Data](#missing)\n",
    "[<ul>Filtering Missing Data</ul>](#filter)\n",
    "[<ul>Dropping Missing Data</ul>](#drop)\n",
    "[<ul>Filling Missing Data</ul>](#filling)\n",
    "4. [Data Transformation](#transformation)\n",
    "[<ul>Removing Duplicates</ul>](#remove_dupes)\n",
    "[<ul>Transforming Data Using a Function or Mapping</ul>](#map)\n",
    "[<ul>Replacing Values</ul>](#replace)\n",
    "[<ul>Binning</ul>](#bin)\n",
    "[<ul>Detecting & Filtering Outliers</ul>](#outlier)\n",
    "[<ul>Dummy Variables</ul>](#dummy)\n",
    "5. [String Manipulation](#string)\n",
    "[<ul>String Object Methods</ul>](#string_object)\n",
    "[<ul>Regular Expressions</ul>](#regex)\n",
    "6. [Extra Practice](#import)\n",
    "7. [Conclusion](#conclusion)"
   ]
  },
  {
   "cell_type": "markdown",
   "metadata": {},
   "source": [
    "## Import Data<a name=\"import\"></a>"
   ]
  },
  {
   "cell_type": "code",
   "execution_count": 1,
   "metadata": {
    "code_folding": [],
    "hide_input": false
   },
   "outputs": [],
   "source": [
    "import pandas as pd\n",
    "import numpy as np\n",
    "import matplotlib as mpl\n",
    "import matplotlib.pyplot as plt\n",
    "import seaborn as sns\n",
    "\n",
    "# set display columns to max so that we can view all columns\n",
    "pd.set_option('display.max_columns', None)"
   ]
  },
  {
   "cell_type": "code",
   "execution_count": 2,
   "metadata": {
    "code_folding": [],
    "hide_input": false
   },
   "outputs": [],
   "source": [
    "# import the Vienna dataset\n",
    "vienna_raw = pd.read_csv('listings_vienna.csv', index_col='id')\n",
    "\n",
    "# saving raw data as new dataframe for exploration\n",
    "# copy of data so don't have to reimport later in case we loose the csv\n",
    "vienna = vienna_raw.copy()"
   ]
  },
  {
   "cell_type": "markdown",
   "metadata": {},
   "source": [
    "## Initial Data Exploration<a name=\"exploration\"></a>"
   ]
  },
  {
   "cell_type": "code",
   "execution_count": 3,
   "metadata": {},
   "outputs": [
    {
     "data": {
      "text/html": [
       "<div>\n",
       "<style scoped>\n",
       "    .dataframe tbody tr th:only-of-type {\n",
       "        vertical-align: middle;\n",
       "    }\n",
       "\n",
       "    .dataframe tbody tr th {\n",
       "        vertical-align: top;\n",
       "    }\n",
       "\n",
       "    .dataframe thead th {\n",
       "        text-align: right;\n",
       "    }\n",
       "</style>\n",
       "<table border=\"1\" class=\"dataframe\">\n",
       "  <thead>\n",
       "    <tr style=\"text-align: right;\">\n",
       "      <th></th>\n",
       "      <th>listing_url</th>\n",
       "      <th>scrape_id</th>\n",
       "      <th>last_scraped</th>\n",
       "      <th>name</th>\n",
       "      <th>description</th>\n",
       "      <th>neighborhood_overview</th>\n",
       "      <th>picture_url</th>\n",
       "      <th>host_id</th>\n",
       "      <th>host_url</th>\n",
       "      <th>host_name</th>\n",
       "      <th>host_since</th>\n",
       "      <th>host_location</th>\n",
       "      <th>host_about</th>\n",
       "      <th>host_response_time</th>\n",
       "      <th>host_response_rate</th>\n",
       "      <th>host_acceptance_rate</th>\n",
       "      <th>host_is_superhost</th>\n",
       "      <th>host_thumbnail_url</th>\n",
       "      <th>host_picture_url</th>\n",
       "      <th>host_neighbourhood</th>\n",
       "      <th>host_listings_count</th>\n",
       "      <th>host_total_listings_count</th>\n",
       "      <th>host_verifications</th>\n",
       "      <th>host_has_profile_pic</th>\n",
       "      <th>host_identity_verified</th>\n",
       "      <th>neighbourhood</th>\n",
       "      <th>neighbourhood_cleansed</th>\n",
       "      <th>neighbourhood_group_cleansed</th>\n",
       "      <th>latitude</th>\n",
       "      <th>longitude</th>\n",
       "      <th>property_type</th>\n",
       "      <th>room_type</th>\n",
       "      <th>accommodates</th>\n",
       "      <th>bathrooms</th>\n",
       "      <th>bathrooms_text</th>\n",
       "      <th>bedrooms</th>\n",
       "      <th>beds</th>\n",
       "      <th>amenities</th>\n",
       "      <th>price</th>\n",
       "      <th>minimum_nights</th>\n",
       "      <th>maximum_nights</th>\n",
       "      <th>minimum_minimum_nights</th>\n",
       "      <th>maximum_minimum_nights</th>\n",
       "      <th>minimum_maximum_nights</th>\n",
       "      <th>maximum_maximum_nights</th>\n",
       "      <th>minimum_nights_avg_ntm</th>\n",
       "      <th>maximum_nights_avg_ntm</th>\n",
       "      <th>calendar_updated</th>\n",
       "      <th>has_availability</th>\n",
       "      <th>availability_30</th>\n",
       "      <th>availability_60</th>\n",
       "      <th>availability_90</th>\n",
       "      <th>availability_365</th>\n",
       "      <th>calendar_last_scraped</th>\n",
       "      <th>number_of_reviews</th>\n",
       "      <th>number_of_reviews_ltm</th>\n",
       "      <th>number_of_reviews_l30d</th>\n",
       "      <th>first_review</th>\n",
       "      <th>last_review</th>\n",
       "      <th>review_scores_rating</th>\n",
       "      <th>review_scores_accuracy</th>\n",
       "      <th>review_scores_cleanliness</th>\n",
       "      <th>review_scores_checkin</th>\n",
       "      <th>review_scores_communication</th>\n",
       "      <th>review_scores_location</th>\n",
       "      <th>review_scores_value</th>\n",
       "      <th>license</th>\n",
       "      <th>instant_bookable</th>\n",
       "      <th>calculated_host_listings_count</th>\n",
       "      <th>calculated_host_listings_count_entire_homes</th>\n",
       "      <th>calculated_host_listings_count_private_rooms</th>\n",
       "      <th>calculated_host_listings_count_shared_rooms</th>\n",
       "      <th>reviews_per_month</th>\n",
       "    </tr>\n",
       "    <tr>\n",
       "      <th>id</th>\n",
       "      <th></th>\n",
       "      <th></th>\n",
       "      <th></th>\n",
       "      <th></th>\n",
       "      <th></th>\n",
       "      <th></th>\n",
       "      <th></th>\n",
       "      <th></th>\n",
       "      <th></th>\n",
       "      <th></th>\n",
       "      <th></th>\n",
       "      <th></th>\n",
       "      <th></th>\n",
       "      <th></th>\n",
       "      <th></th>\n",
       "      <th></th>\n",
       "      <th></th>\n",
       "      <th></th>\n",
       "      <th></th>\n",
       "      <th></th>\n",
       "      <th></th>\n",
       "      <th></th>\n",
       "      <th></th>\n",
       "      <th></th>\n",
       "      <th></th>\n",
       "      <th></th>\n",
       "      <th></th>\n",
       "      <th></th>\n",
       "      <th></th>\n",
       "      <th></th>\n",
       "      <th></th>\n",
       "      <th></th>\n",
       "      <th></th>\n",
       "      <th></th>\n",
       "      <th></th>\n",
       "      <th></th>\n",
       "      <th></th>\n",
       "      <th></th>\n",
       "      <th></th>\n",
       "      <th></th>\n",
       "      <th></th>\n",
       "      <th></th>\n",
       "      <th></th>\n",
       "      <th></th>\n",
       "      <th></th>\n",
       "      <th></th>\n",
       "      <th></th>\n",
       "      <th></th>\n",
       "      <th></th>\n",
       "      <th></th>\n",
       "      <th></th>\n",
       "      <th></th>\n",
       "      <th></th>\n",
       "      <th></th>\n",
       "      <th></th>\n",
       "      <th></th>\n",
       "      <th></th>\n",
       "      <th></th>\n",
       "      <th></th>\n",
       "      <th></th>\n",
       "      <th></th>\n",
       "      <th></th>\n",
       "      <th></th>\n",
       "      <th></th>\n",
       "      <th></th>\n",
       "      <th></th>\n",
       "      <th></th>\n",
       "      <th></th>\n",
       "      <th></th>\n",
       "      <th></th>\n",
       "      <th></th>\n",
       "      <th></th>\n",
       "      <th></th>\n",
       "    </tr>\n",
       "  </thead>\n",
       "  <tbody>\n",
       "    <tr>\n",
       "      <th>15883</th>\n",
       "      <td>https://www.airbnb.com/rooms/15883</td>\n",
       "      <td>2.020000e+13</td>\n",
       "      <td>4/15/2021</td>\n",
       "      <td>b&amp;b near Old Danube river</td>\n",
       "      <td>Four rooms, each one differently and individua...</td>\n",
       "      <td>small and personal&lt;br /&gt;&lt;br /&gt;Four rooms at th...</td>\n",
       "      <td>https://a0.muscache.com/pictures/18eff738-a737...</td>\n",
       "      <td>62142.0</td>\n",
       "      <td>https://www.airbnb.com/users/show/62142</td>\n",
       "      <td>Eva</td>\n",
       "      <td>12/11/2009</td>\n",
       "      <td>Vienna, Wien, Austria</td>\n",
       "      <td>Mein größtes Hobby: Reisen! Am liebsten mit me...</td>\n",
       "      <td>NaN</td>\n",
       "      <td>NaN</td>\n",
       "      <td>100%</td>\n",
       "      <td>f</td>\n",
       "      <td>https://a0.muscache.com/im/pictures/user/24166...</td>\n",
       "      <td>https://a0.muscache.com/im/pictures/user/24166...</td>\n",
       "      <td>Donaustadt</td>\n",
       "      <td>6.0</td>\n",
       "      <td>6.0</td>\n",
       "      <td>['email', 'phone', 'facebook', 'reviews', 'jum...</td>\n",
       "      <td>t</td>\n",
       "      <td>t</td>\n",
       "      <td>Vienna, Austria</td>\n",
       "      <td>Donaustadt</td>\n",
       "      <td>NaN</td>\n",
       "      <td>48.24262</td>\n",
       "      <td>16.42767</td>\n",
       "      <td>Room in bed and breakfast</td>\n",
       "      <td>Hotel room</td>\n",
       "      <td>3.0</td>\n",
       "      <td>NaN</td>\n",
       "      <td>1 bath</td>\n",
       "      <td>1.0</td>\n",
       "      <td>2.0</td>\n",
       "      <td>[\"Hot water\", \"High chair\", \"Essentials\", \"Hai...</td>\n",
       "      <td>$87.00</td>\n",
       "      <td>1.0</td>\n",
       "      <td>365.0</td>\n",
       "      <td>1.0</td>\n",
       "      <td>1.0</td>\n",
       "      <td>365.0</td>\n",
       "      <td>365.0</td>\n",
       "      <td>1.0</td>\n",
       "      <td>365.0</td>\n",
       "      <td>NaN</td>\n",
       "      <td>t</td>\n",
       "      <td>30.0</td>\n",
       "      <td>60.0</td>\n",
       "      <td>90.0</td>\n",
       "      <td>365.0</td>\n",
       "      <td>4/15/2021</td>\n",
       "      <td>11.0</td>\n",
       "      <td>0.0</td>\n",
       "      <td>0.0</td>\n",
       "      <td>4/10/2015</td>\n",
       "      <td>2/19/2020</td>\n",
       "      <td>95.0</td>\n",
       "      <td>10.0</td>\n",
       "      <td>10.0</td>\n",
       "      <td>10.0</td>\n",
       "      <td>10.0</td>\n",
       "      <td>9.0</td>\n",
       "      <td>9.0</td>\n",
       "      <td>NaN</td>\n",
       "      <td>t</td>\n",
       "      <td>4.0</td>\n",
       "      <td>2.0</td>\n",
       "      <td>0.0</td>\n",
       "      <td>0.0</td>\n",
       "      <td>0.15</td>\n",
       "    </tr>\n",
       "    <tr>\n",
       "      <th>38768</th>\n",
       "      <td>https://www.airbnb.com/rooms/38768</td>\n",
       "      <td>2.020000e+13</td>\n",
       "      <td>4/15/2021</td>\n",
       "      <td>central cityapartement- wifi- nice neighbourhood</td>\n",
       "      <td>39m² apartment with beautiful courtyard of the...</td>\n",
       "      <td>the Karmeliterviertel became very popular in t...</td>\n",
       "      <td>https://a0.muscache.com/pictures/ad4089a3-5355...</td>\n",
       "      <td>166283.0</td>\n",
       "      <td>https://www.airbnb.com/users/show/166283</td>\n",
       "      <td>Hannes</td>\n",
       "      <td>7/14/2010</td>\n",
       "      <td>Vienna, Wien, Austria</td>\n",
       "      <td>I am open minded and like travelling myself. I...</td>\n",
       "      <td>within an hour</td>\n",
       "      <td>100%</td>\n",
       "      <td>98%</td>\n",
       "      <td>t</td>\n",
       "      <td>https://a0.muscache.com/im/users/166283/profil...</td>\n",
       "      <td>https://a0.muscache.com/im/users/166283/profil...</td>\n",
       "      <td>Leopoldstadt</td>\n",
       "      <td>3.0</td>\n",
       "      <td>3.0</td>\n",
       "      <td>['email', 'phone', 'reviews', 'jumio', 'offlin...</td>\n",
       "      <td>t</td>\n",
       "      <td>t</td>\n",
       "      <td>Vienna, Austria</td>\n",
       "      <td>Leopoldstadt</td>\n",
       "      <td>NaN</td>\n",
       "      <td>48.21924</td>\n",
       "      <td>16.37831</td>\n",
       "      <td>Entire apartment</td>\n",
       "      <td>Entire home/apt</td>\n",
       "      <td>5.0</td>\n",
       "      <td>NaN</td>\n",
       "      <td>1 bath</td>\n",
       "      <td>1.0</td>\n",
       "      <td>3.0</td>\n",
       "      <td>[\"Cooking basics\", \"Shampoo\", \"Kitchen\", \"Host...</td>\n",
       "      <td>$60.00</td>\n",
       "      <td>3.0</td>\n",
       "      <td>100.0</td>\n",
       "      <td>3.0</td>\n",
       "      <td>3.0</td>\n",
       "      <td>100.0</td>\n",
       "      <td>100.0</td>\n",
       "      <td>3.0</td>\n",
       "      <td>100.0</td>\n",
       "      <td>NaN</td>\n",
       "      <td>t</td>\n",
       "      <td>0.0</td>\n",
       "      <td>0.0</td>\n",
       "      <td>18.0</td>\n",
       "      <td>109.0</td>\n",
       "      <td>4/15/2021</td>\n",
       "      <td>324.0</td>\n",
       "      <td>11.0</td>\n",
       "      <td>0.0</td>\n",
       "      <td>3/23/2011</td>\n",
       "      <td>10/10/2020</td>\n",
       "      <td>95.0</td>\n",
       "      <td>10.0</td>\n",
       "      <td>9.0</td>\n",
       "      <td>10.0</td>\n",
       "      <td>10.0</td>\n",
       "      <td>10.0</td>\n",
       "      <td>10.0</td>\n",
       "      <td>NaN</td>\n",
       "      <td>f</td>\n",
       "      <td>3.0</td>\n",
       "      <td>3.0</td>\n",
       "      <td>0.0</td>\n",
       "      <td>0.0</td>\n",
       "      <td>2.64</td>\n",
       "    </tr>\n",
       "    <tr>\n",
       "      <th>40625</th>\n",
       "      <td>https://www.airbnb.com/rooms/40625</td>\n",
       "      <td>2.020000e+13</td>\n",
       "      <td>4/15/2021</td>\n",
       "      <td>Near Palace Schönbrunn, Apt. 1</td>\n",
       "      <td>Welcome to my Apt. 1!&lt;br /&gt;&lt;br /&gt;This is a 2be...</td>\n",
       "      <td>The neighbourhood offers plenty of restaurants...</td>\n",
       "      <td>https://a0.muscache.com/pictures/11509144/d55c...</td>\n",
       "      <td>175131.0</td>\n",
       "      <td>https://www.airbnb.com/users/show/175131</td>\n",
       "      <td>Ingela</td>\n",
       "      <td>7/20/2010</td>\n",
       "      <td>Vienna, Wien, Austria</td>\n",
       "      <td>I´m originally from Sweden but have been livin...</td>\n",
       "      <td>within a few hours</td>\n",
       "      <td>90%</td>\n",
       "      <td>74%</td>\n",
       "      <td>t</td>\n",
       "      <td>https://a0.muscache.com/im/users/175131/profil...</td>\n",
       "      <td>https://a0.muscache.com/im/users/175131/profil...</td>\n",
       "      <td>Rudolfsheim-Fünfhaus</td>\n",
       "      <td>16.0</td>\n",
       "      <td>16.0</td>\n",
       "      <td>['email', 'phone', 'reviews', 'jumio', 'govern...</td>\n",
       "      <td>t</td>\n",
       "      <td>t</td>\n",
       "      <td>Vienna, Austria</td>\n",
       "      <td>Rudolfsheim-Fnfhaus</td>\n",
       "      <td>NaN</td>\n",
       "      <td>48.18434</td>\n",
       "      <td>16.32701</td>\n",
       "      <td>Entire apartment</td>\n",
       "      <td>Entire home/apt</td>\n",
       "      <td>6.0</td>\n",
       "      <td>NaN</td>\n",
       "      <td>1 bath</td>\n",
       "      <td>2.0</td>\n",
       "      <td>4.0</td>\n",
       "      <td>[\"Cooking basics\", \"Children\\u2019s books and ...</td>\n",
       "      <td>$88.00</td>\n",
       "      <td>1.0</td>\n",
       "      <td>180.0</td>\n",
       "      <td>1.0</td>\n",
       "      <td>1.0</td>\n",
       "      <td>180.0</td>\n",
       "      <td>180.0</td>\n",
       "      <td>1.0</td>\n",
       "      <td>180.0</td>\n",
       "      <td>NaN</td>\n",
       "      <td>t</td>\n",
       "      <td>30.0</td>\n",
       "      <td>60.0</td>\n",
       "      <td>90.0</td>\n",
       "      <td>365.0</td>\n",
       "      <td>4/15/2021</td>\n",
       "      <td>156.0</td>\n",
       "      <td>3.0</td>\n",
       "      <td>0.0</td>\n",
       "      <td>8/4/2010</td>\n",
       "      <td>2/15/2021</td>\n",
       "      <td>97.0</td>\n",
       "      <td>10.0</td>\n",
       "      <td>10.0</td>\n",
       "      <td>10.0</td>\n",
       "      <td>10.0</td>\n",
       "      <td>9.0</td>\n",
       "      <td>9.0</td>\n",
       "      <td>NaN</td>\n",
       "      <td>t</td>\n",
       "      <td>15.0</td>\n",
       "      <td>14.0</td>\n",
       "      <td>1.0</td>\n",
       "      <td>0.0</td>\n",
       "      <td>1.20</td>\n",
       "    </tr>\n",
       "    <tr>\n",
       "      <th>51287</th>\n",
       "      <td>https://www.airbnb.com/rooms/51287</td>\n",
       "      <td>2.020000e+13</td>\n",
       "      <td>4/16/2021</td>\n",
       "      <td>little studio- next to citycenter- wifi- nice ...</td>\n",
       "      <td>small studio in new renovated old house and ve...</td>\n",
       "      <td>The neighbourhood has a lot of very nice littl...</td>\n",
       "      <td>https://a0.muscache.com/pictures/25163038/1c4e...</td>\n",
       "      <td>166283.0</td>\n",
       "      <td>https://www.airbnb.com/users/show/166283</td>\n",
       "      <td>Hannes</td>\n",
       "      <td>7/14/2010</td>\n",
       "      <td>Vienna, Wien, Austria</td>\n",
       "      <td>I am open minded and like travelling myself. I...</td>\n",
       "      <td>within an hour</td>\n",
       "      <td>100%</td>\n",
       "      <td>98%</td>\n",
       "      <td>t</td>\n",
       "      <td>https://a0.muscache.com/im/users/166283/profil...</td>\n",
       "      <td>https://a0.muscache.com/im/users/166283/profil...</td>\n",
       "      <td>Leopoldstadt</td>\n",
       "      <td>3.0</td>\n",
       "      <td>3.0</td>\n",
       "      <td>['email', 'phone', 'reviews', 'jumio', 'offlin...</td>\n",
       "      <td>t</td>\n",
       "      <td>t</td>\n",
       "      <td>Vienna, Austria</td>\n",
       "      <td>Leopoldstadt</td>\n",
       "      <td>NaN</td>\n",
       "      <td>48.21778</td>\n",
       "      <td>16.37847</td>\n",
       "      <td>Entire apartment</td>\n",
       "      <td>Entire home/apt</td>\n",
       "      <td>3.0</td>\n",
       "      <td>NaN</td>\n",
       "      <td>1 bath</td>\n",
       "      <td>NaN</td>\n",
       "      <td>2.0</td>\n",
       "      <td>[\"Cooking basics\", \"Shampoo\", \"Kitchen\", \"Host...</td>\n",
       "      <td>$60.00</td>\n",
       "      <td>3.0</td>\n",
       "      <td>100.0</td>\n",
       "      <td>3.0</td>\n",
       "      <td>3.0</td>\n",
       "      <td>100.0</td>\n",
       "      <td>100.0</td>\n",
       "      <td>3.0</td>\n",
       "      <td>100.0</td>\n",
       "      <td>NaN</td>\n",
       "      <td>t</td>\n",
       "      <td>0.0</td>\n",
       "      <td>0.0</td>\n",
       "      <td>0.0</td>\n",
       "      <td>0.0</td>\n",
       "      <td>4/16/2021</td>\n",
       "      <td>310.0</td>\n",
       "      <td>15.0</td>\n",
       "      <td>0.0</td>\n",
       "      <td>1/27/2011</td>\n",
       "      <td>1/4/2021</td>\n",
       "      <td>92.0</td>\n",
       "      <td>10.0</td>\n",
       "      <td>9.0</td>\n",
       "      <td>10.0</td>\n",
       "      <td>10.0</td>\n",
       "      <td>10.0</td>\n",
       "      <td>9.0</td>\n",
       "      <td>NaN</td>\n",
       "      <td>f</td>\n",
       "      <td>3.0</td>\n",
       "      <td>3.0</td>\n",
       "      <td>0.0</td>\n",
       "      <td>0.0</td>\n",
       "      <td>2.49</td>\n",
       "    </tr>\n",
       "    <tr>\n",
       "      <th>70637</th>\n",
       "      <td>https://www.airbnb.com/rooms/70637</td>\n",
       "      <td>2.020000e+13</td>\n",
       "      <td>4/16/2021</td>\n",
       "      <td>Flat in the Center with Terrace</td>\n",
       "      <td>&lt;b&gt;The space&lt;/b&gt;&lt;br /&gt;My apartment (including ...</td>\n",
       "      <td>NaN</td>\n",
       "      <td>https://a0.muscache.com/pictures/925691/c8c1bd...</td>\n",
       "      <td>358842.0</td>\n",
       "      <td>https://www.airbnb.com/users/show/358842</td>\n",
       "      <td>Elxe</td>\n",
       "      <td>1/23/2011</td>\n",
       "      <td>Vienna, Wien, Austria</td>\n",
       "      <td>&lt;div class=\"airbnb-embed-frame\"&gt;&lt;img (Website ...</td>\n",
       "      <td>within a few hours</td>\n",
       "      <td>100%</td>\n",
       "      <td>71%</td>\n",
       "      <td>t</td>\n",
       "      <td>https://a0.muscache.com/im/users/358842/profil...</td>\n",
       "      <td>https://a0.muscache.com/im/users/358842/profil...</td>\n",
       "      <td>Leopoldstadt</td>\n",
       "      <td>3.0</td>\n",
       "      <td>3.0</td>\n",
       "      <td>['email', 'phone', 'facebook', 'reviews', 'off...</td>\n",
       "      <td>t</td>\n",
       "      <td>t</td>\n",
       "      <td>NaN</td>\n",
       "      <td>Leopoldstadt</td>\n",
       "      <td>NaN</td>\n",
       "      <td>48.21760</td>\n",
       "      <td>16.38018</td>\n",
       "      <td>Private room in apartment</td>\n",
       "      <td>Private room</td>\n",
       "      <td>2.0</td>\n",
       "      <td>NaN</td>\n",
       "      <td>2 shared baths</td>\n",
       "      <td>1.0</td>\n",
       "      <td>2.0</td>\n",
       "      <td>[\"Cooking basics\", \"Indoor fireplace\", \"Shampo...</td>\n",
       "      <td>$50.00</td>\n",
       "      <td>2.0</td>\n",
       "      <td>1000.0</td>\n",
       "      <td>2.0</td>\n",
       "      <td>2.0</td>\n",
       "      <td>1000.0</td>\n",
       "      <td>1000.0</td>\n",
       "      <td>2.0</td>\n",
       "      <td>1000.0</td>\n",
       "      <td>NaN</td>\n",
       "      <td>t</td>\n",
       "      <td>15.0</td>\n",
       "      <td>45.0</td>\n",
       "      <td>75.0</td>\n",
       "      <td>341.0</td>\n",
       "      <td>4/16/2021</td>\n",
       "      <td>116.0</td>\n",
       "      <td>0.0</td>\n",
       "      <td>0.0</td>\n",
       "      <td>3/28/2011</td>\n",
       "      <td>12/23/2019</td>\n",
       "      <td>95.0</td>\n",
       "      <td>10.0</td>\n",
       "      <td>9.0</td>\n",
       "      <td>10.0</td>\n",
       "      <td>9.0</td>\n",
       "      <td>10.0</td>\n",
       "      <td>10.0</td>\n",
       "      <td>NaN</td>\n",
       "      <td>f</td>\n",
       "      <td>3.0</td>\n",
       "      <td>1.0</td>\n",
       "      <td>2.0</td>\n",
       "      <td>0.0</td>\n",
       "      <td>0.95</td>\n",
       "    </tr>\n",
       "  </tbody>\n",
       "</table>\n",
       "</div>"
      ],
      "text/plain": [
       "                              listing_url     scrape_id last_scraped  \\\n",
       "id                                                                     \n",
       "15883  https://www.airbnb.com/rooms/15883  2.020000e+13    4/15/2021   \n",
       "38768  https://www.airbnb.com/rooms/38768  2.020000e+13    4/15/2021   \n",
       "40625  https://www.airbnb.com/rooms/40625  2.020000e+13    4/15/2021   \n",
       "51287  https://www.airbnb.com/rooms/51287  2.020000e+13    4/16/2021   \n",
       "70637  https://www.airbnb.com/rooms/70637  2.020000e+13    4/16/2021   \n",
       "\n",
       "                                                    name  \\\n",
       "id                                                         \n",
       "15883                          b&b near Old Danube river   \n",
       "38768   central cityapartement- wifi- nice neighbourhood   \n",
       "40625                     Near Palace Schönbrunn, Apt. 1   \n",
       "51287  little studio- next to citycenter- wifi- nice ...   \n",
       "70637                    Flat in the Center with Terrace   \n",
       "\n",
       "                                             description  \\\n",
       "id                                                         \n",
       "15883  Four rooms, each one differently and individua...   \n",
       "38768  39m² apartment with beautiful courtyard of the...   \n",
       "40625  Welcome to my Apt. 1!<br /><br />This is a 2be...   \n",
       "51287  small studio in new renovated old house and ve...   \n",
       "70637  <b>The space</b><br />My apartment (including ...   \n",
       "\n",
       "                                   neighborhood_overview  \\\n",
       "id                                                         \n",
       "15883  small and personal<br /><br />Four rooms at th...   \n",
       "38768  the Karmeliterviertel became very popular in t...   \n",
       "40625  The neighbourhood offers plenty of restaurants...   \n",
       "51287  The neighbourhood has a lot of very nice littl...   \n",
       "70637                                                NaN   \n",
       "\n",
       "                                             picture_url   host_id  \\\n",
       "id                                                                   \n",
       "15883  https://a0.muscache.com/pictures/18eff738-a737...   62142.0   \n",
       "38768  https://a0.muscache.com/pictures/ad4089a3-5355...  166283.0   \n",
       "40625  https://a0.muscache.com/pictures/11509144/d55c...  175131.0   \n",
       "51287  https://a0.muscache.com/pictures/25163038/1c4e...  166283.0   \n",
       "70637  https://a0.muscache.com/pictures/925691/c8c1bd...  358842.0   \n",
       "\n",
       "                                       host_url host_name  host_since  \\\n",
       "id                                                                      \n",
       "15883   https://www.airbnb.com/users/show/62142       Eva  12/11/2009   \n",
       "38768  https://www.airbnb.com/users/show/166283    Hannes   7/14/2010   \n",
       "40625  https://www.airbnb.com/users/show/175131    Ingela   7/20/2010   \n",
       "51287  https://www.airbnb.com/users/show/166283    Hannes   7/14/2010   \n",
       "70637  https://www.airbnb.com/users/show/358842      Elxe   1/23/2011   \n",
       "\n",
       "               host_location  \\\n",
       "id                             \n",
       "15883  Vienna, Wien, Austria   \n",
       "38768  Vienna, Wien, Austria   \n",
       "40625  Vienna, Wien, Austria   \n",
       "51287  Vienna, Wien, Austria   \n",
       "70637  Vienna, Wien, Austria   \n",
       "\n",
       "                                              host_about  host_response_time  \\\n",
       "id                                                                             \n",
       "15883  Mein größtes Hobby: Reisen! Am liebsten mit me...                 NaN   \n",
       "38768  I am open minded and like travelling myself. I...      within an hour   \n",
       "40625  I´m originally from Sweden but have been livin...  within a few hours   \n",
       "51287  I am open minded and like travelling myself. I...      within an hour   \n",
       "70637  <div class=\"airbnb-embed-frame\"><img (Website ...  within a few hours   \n",
       "\n",
       "      host_response_rate host_acceptance_rate host_is_superhost  \\\n",
       "id                                                                \n",
       "15883                NaN                 100%                 f   \n",
       "38768               100%                  98%                 t   \n",
       "40625                90%                  74%                 t   \n",
       "51287               100%                  98%                 t   \n",
       "70637               100%                  71%                 t   \n",
       "\n",
       "                                      host_thumbnail_url  \\\n",
       "id                                                         \n",
       "15883  https://a0.muscache.com/im/pictures/user/24166...   \n",
       "38768  https://a0.muscache.com/im/users/166283/profil...   \n",
       "40625  https://a0.muscache.com/im/users/175131/profil...   \n",
       "51287  https://a0.muscache.com/im/users/166283/profil...   \n",
       "70637  https://a0.muscache.com/im/users/358842/profil...   \n",
       "\n",
       "                                        host_picture_url  \\\n",
       "id                                                         \n",
       "15883  https://a0.muscache.com/im/pictures/user/24166...   \n",
       "38768  https://a0.muscache.com/im/users/166283/profil...   \n",
       "40625  https://a0.muscache.com/im/users/175131/profil...   \n",
       "51287  https://a0.muscache.com/im/users/166283/profil...   \n",
       "70637  https://a0.muscache.com/im/users/358842/profil...   \n",
       "\n",
       "         host_neighbourhood  host_listings_count  host_total_listings_count  \\\n",
       "id                                                                            \n",
       "15883            Donaustadt                  6.0                        6.0   \n",
       "38768          Leopoldstadt                  3.0                        3.0   \n",
       "40625  Rudolfsheim-Fünfhaus                 16.0                       16.0   \n",
       "51287          Leopoldstadt                  3.0                        3.0   \n",
       "70637          Leopoldstadt                  3.0                        3.0   \n",
       "\n",
       "                                      host_verifications host_has_profile_pic  \\\n",
       "id                                                                              \n",
       "15883  ['email', 'phone', 'facebook', 'reviews', 'jum...                    t   \n",
       "38768  ['email', 'phone', 'reviews', 'jumio', 'offlin...                    t   \n",
       "40625  ['email', 'phone', 'reviews', 'jumio', 'govern...                    t   \n",
       "51287  ['email', 'phone', 'reviews', 'jumio', 'offlin...                    t   \n",
       "70637  ['email', 'phone', 'facebook', 'reviews', 'off...                    t   \n",
       "\n",
       "      host_identity_verified    neighbourhood neighbourhood_cleansed  \\\n",
       "id                                                                     \n",
       "15883                      t  Vienna, Austria             Donaustadt   \n",
       "38768                      t  Vienna, Austria           Leopoldstadt   \n",
       "40625                      t  Vienna, Austria   Rudolfsheim-Fnfhaus   \n",
       "51287                      t  Vienna, Austria           Leopoldstadt   \n",
       "70637                      t              NaN           Leopoldstadt   \n",
       "\n",
       "       neighbourhood_group_cleansed  latitude  longitude  \\\n",
       "id                                                         \n",
       "15883                           NaN  48.24262   16.42767   \n",
       "38768                           NaN  48.21924   16.37831   \n",
       "40625                           NaN  48.18434   16.32701   \n",
       "51287                           NaN  48.21778   16.37847   \n",
       "70637                           NaN  48.21760   16.38018   \n",
       "\n",
       "                   property_type        room_type  accommodates  bathrooms  \\\n",
       "id                                                                           \n",
       "15883  Room in bed and breakfast       Hotel room           3.0        NaN   \n",
       "38768           Entire apartment  Entire home/apt           5.0        NaN   \n",
       "40625           Entire apartment  Entire home/apt           6.0        NaN   \n",
       "51287           Entire apartment  Entire home/apt           3.0        NaN   \n",
       "70637  Private room in apartment     Private room           2.0        NaN   \n",
       "\n",
       "       bathrooms_text  bedrooms  beds  \\\n",
       "id                                      \n",
       "15883          1 bath       1.0   2.0   \n",
       "38768          1 bath       1.0   3.0   \n",
       "40625          1 bath       2.0   4.0   \n",
       "51287          1 bath       NaN   2.0   \n",
       "70637  2 shared baths       1.0   2.0   \n",
       "\n",
       "                                               amenities    price  \\\n",
       "id                                                                  \n",
       "15883  [\"Hot water\", \"High chair\", \"Essentials\", \"Hai...  $87.00    \n",
       "38768  [\"Cooking basics\", \"Shampoo\", \"Kitchen\", \"Host...  $60.00    \n",
       "40625  [\"Cooking basics\", \"Children\\u2019s books and ...  $88.00    \n",
       "51287  [\"Cooking basics\", \"Shampoo\", \"Kitchen\", \"Host...  $60.00    \n",
       "70637  [\"Cooking basics\", \"Indoor fireplace\", \"Shampo...  $50.00    \n",
       "\n",
       "       minimum_nights  maximum_nights  minimum_minimum_nights  \\\n",
       "id                                                              \n",
       "15883             1.0           365.0                     1.0   \n",
       "38768             3.0           100.0                     3.0   \n",
       "40625             1.0           180.0                     1.0   \n",
       "51287             3.0           100.0                     3.0   \n",
       "70637             2.0          1000.0                     2.0   \n",
       "\n",
       "       maximum_minimum_nights  minimum_maximum_nights  maximum_maximum_nights  \\\n",
       "id                                                                              \n",
       "15883                     1.0                   365.0                   365.0   \n",
       "38768                     3.0                   100.0                   100.0   \n",
       "40625                     1.0                   180.0                   180.0   \n",
       "51287                     3.0                   100.0                   100.0   \n",
       "70637                     2.0                  1000.0                  1000.0   \n",
       "\n",
       "       minimum_nights_avg_ntm  maximum_nights_avg_ntm  calendar_updated  \\\n",
       "id                                                                        \n",
       "15883                     1.0                   365.0               NaN   \n",
       "38768                     3.0                   100.0               NaN   \n",
       "40625                     1.0                   180.0               NaN   \n",
       "51287                     3.0                   100.0               NaN   \n",
       "70637                     2.0                  1000.0               NaN   \n",
       "\n",
       "      has_availability  availability_30  availability_60  availability_90  \\\n",
       "id                                                                          \n",
       "15883                t             30.0             60.0             90.0   \n",
       "38768                t              0.0              0.0             18.0   \n",
       "40625                t             30.0             60.0             90.0   \n",
       "51287                t              0.0              0.0              0.0   \n",
       "70637                t             15.0             45.0             75.0   \n",
       "\n",
       "       availability_365 calendar_last_scraped  number_of_reviews  \\\n",
       "id                                                                 \n",
       "15883             365.0             4/15/2021               11.0   \n",
       "38768             109.0             4/15/2021              324.0   \n",
       "40625             365.0             4/15/2021              156.0   \n",
       "51287               0.0             4/16/2021              310.0   \n",
       "70637             341.0             4/16/2021              116.0   \n",
       "\n",
       "       number_of_reviews_ltm  number_of_reviews_l30d first_review last_review  \\\n",
       "id                                                                              \n",
       "15883                    0.0                     0.0    4/10/2015   2/19/2020   \n",
       "38768                   11.0                     0.0    3/23/2011  10/10/2020   \n",
       "40625                    3.0                     0.0     8/4/2010   2/15/2021   \n",
       "51287                   15.0                     0.0    1/27/2011    1/4/2021   \n",
       "70637                    0.0                     0.0    3/28/2011  12/23/2019   \n",
       "\n",
       "       review_scores_rating  review_scores_accuracy  \\\n",
       "id                                                    \n",
       "15883                  95.0                    10.0   \n",
       "38768                  95.0                    10.0   \n",
       "40625                  97.0                    10.0   \n",
       "51287                  92.0                    10.0   \n",
       "70637                  95.0                    10.0   \n",
       "\n",
       "       review_scores_cleanliness  review_scores_checkin  \\\n",
       "id                                                        \n",
       "15883                       10.0                   10.0   \n",
       "38768                        9.0                   10.0   \n",
       "40625                       10.0                   10.0   \n",
       "51287                        9.0                   10.0   \n",
       "70637                        9.0                   10.0   \n",
       "\n",
       "       review_scores_communication  review_scores_location  \\\n",
       "id                                                           \n",
       "15883                         10.0                     9.0   \n",
       "38768                         10.0                    10.0   \n",
       "40625                         10.0                     9.0   \n",
       "51287                         10.0                    10.0   \n",
       "70637                          9.0                    10.0   \n",
       "\n",
       "       review_scores_value  license instant_bookable  \\\n",
       "id                                                     \n",
       "15883                  9.0      NaN                t   \n",
       "38768                 10.0      NaN                f   \n",
       "40625                  9.0      NaN                t   \n",
       "51287                  9.0      NaN                f   \n",
       "70637                 10.0      NaN                f   \n",
       "\n",
       "       calculated_host_listings_count  \\\n",
       "id                                      \n",
       "15883                             4.0   \n",
       "38768                             3.0   \n",
       "40625                            15.0   \n",
       "51287                             3.0   \n",
       "70637                             3.0   \n",
       "\n",
       "       calculated_host_listings_count_entire_homes  \\\n",
       "id                                                   \n",
       "15883                                          2.0   \n",
       "38768                                          3.0   \n",
       "40625                                         14.0   \n",
       "51287                                          3.0   \n",
       "70637                                          1.0   \n",
       "\n",
       "       calculated_host_listings_count_private_rooms  \\\n",
       "id                                                    \n",
       "15883                                           0.0   \n",
       "38768                                           0.0   \n",
       "40625                                           1.0   \n",
       "51287                                           0.0   \n",
       "70637                                           2.0   \n",
       "\n",
       "       calculated_host_listings_count_shared_rooms  reviews_per_month  \n",
       "id                                                                     \n",
       "15883                                          0.0               0.15  \n",
       "38768                                          0.0               2.64  \n",
       "40625                                          0.0               1.20  \n",
       "51287                                          0.0               2.49  \n",
       "70637                                          0.0               0.95  "
      ]
     },
     "execution_count": 3,
     "metadata": {},
     "output_type": "execute_result"
    }
   ],
   "source": [
    "# view first few rows\n",
    "vienna.head()"
   ]
  },
  {
   "cell_type": "code",
   "execution_count": 4,
   "metadata": {},
   "outputs": [
    {
     "data": {
      "text/plain": [
       "(11502, 73)"
      ]
     },
     "execution_count": 4,
     "metadata": {},
     "output_type": "execute_result"
    }
   ],
   "source": [
    "# view number of rows/columns\n",
    "vienna.shape"
   ]
  },
  {
   "cell_type": "code",
   "execution_count": 5,
   "metadata": {},
   "outputs": [
    {
     "name": "stdout",
     "output_type": "stream",
     "text": [
      "<class 'pandas.core.frame.DataFrame'>\n",
      "Int64Index: 11502 entries, 15883 to 49171797\n",
      "Data columns (total 73 columns):\n",
      " #   Column                                        Non-Null Count  Dtype  \n",
      "---  ------                                        --------------  -----  \n",
      " 0   listing_url                                   11487 non-null  object \n",
      " 1   scrape_id                                     11487 non-null  float64\n",
      " 2   last_scraped                                  11487 non-null  object \n",
      " 3   name                                          11473 non-null  object \n",
      " 4   description                                   11050 non-null  object \n",
      " 5   neighborhood_overview                         6589 non-null   object \n",
      " 6   picture_url                                   11487 non-null  object \n",
      " 7   host_id                                       11487 non-null  float64\n",
      " 8   host_url                                      11487 non-null  object \n",
      " 9   host_name                                     11219 non-null  object \n",
      " 10  host_since                                    11214 non-null  object \n",
      " 11  host_location                                 11191 non-null  object \n",
      " 12  host_about                                    5973 non-null   object \n",
      " 13  host_response_time                            5826 non-null   object \n",
      " 14  host_response_rate                            5826 non-null   object \n",
      " 15  host_acceptance_rate                          6565 non-null   object \n",
      " 16  host_is_superhost                             11214 non-null  object \n",
      " 17  host_thumbnail_url                            11214 non-null  object \n",
      " 18  host_picture_url                              11214 non-null  object \n",
      " 19  host_neighbourhood                            8455 non-null   object \n",
      " 20  host_listings_count                           11214 non-null  float64\n",
      " 21  host_total_listings_count                     11214 non-null  float64\n",
      " 22  host_verifications                            11487 non-null  object \n",
      " 23  host_has_profile_pic                          11214 non-null  object \n",
      " 24  host_identity_verified                        11214 non-null  object \n",
      " 25  neighbourhood                                 6589 non-null   object \n",
      " 26  neighbourhood_cleansed                        11492 non-null  object \n",
      " 27  neighbourhood_group_cleansed                  0 non-null      float64\n",
      " 28  latitude                                      11487 non-null  float64\n",
      " 29  longitude                                     11487 non-null  float64\n",
      " 30  property_type                                 11492 non-null  object \n",
      " 31  room_type                                     11492 non-null  object \n",
      " 32  accommodates                                  11487 non-null  float64\n",
      " 33  bathrooms                                     0 non-null      float64\n",
      " 34  bathrooms_text                                11480 non-null  object \n",
      " 35  bedrooms                                      10171 non-null  float64\n",
      " 36  beds                                          11385 non-null  float64\n",
      " 37  amenities                                     11492 non-null  object \n",
      " 38  price                                         11492 non-null  object \n",
      " 39  minimum_nights                                11487 non-null  float64\n",
      " 40  maximum_nights                                11487 non-null  float64\n",
      " 41  minimum_minimum_nights                        11487 non-null  float64\n",
      " 42  maximum_minimum_nights                        11487 non-null  float64\n",
      " 43  minimum_maximum_nights                        11487 non-null  float64\n",
      " 44  maximum_maximum_nights                        11487 non-null  float64\n",
      " 45  minimum_nights_avg_ntm                        11487 non-null  float64\n",
      " 46  maximum_nights_avg_ntm                        11487 non-null  float64\n",
      " 47  calendar_updated                              0 non-null      float64\n",
      " 48  has_availability                              11487 non-null  object \n",
      " 49  availability_30                               11487 non-null  float64\n",
      " 50  availability_60                               11487 non-null  float64\n",
      " 51  availability_90                               11487 non-null  float64\n",
      " 52  availability_365                              11487 non-null  float64\n",
      " 53  calendar_last_scraped                         11487 non-null  object \n",
      " 54  number_of_reviews                             11487 non-null  float64\n",
      " 55  number_of_reviews_ltm                         11487 non-null  float64\n",
      " 56  number_of_reviews_l30d                        11487 non-null  float64\n",
      " 57  first_review                                  9150 non-null   object \n",
      " 58  last_review                                   9150 non-null   object \n",
      " 59  review_scores_rating                          9012 non-null   float64\n",
      " 60  review_scores_accuracy                        8985 non-null   float64\n",
      " 61  review_scores_cleanliness                     8985 non-null   float64\n",
      " 62  review_scores_checkin                         8984 non-null   float64\n",
      " 63  review_scores_communication                   8986 non-null   float64\n",
      " 64  review_scores_location                        8986 non-null   float64\n",
      " 65  review_scores_value                           8984 non-null   float64\n",
      " 66  license                                       0 non-null      float64\n",
      " 67  instant_bookable                              11487 non-null  object \n",
      " 68  calculated_host_listings_count                11487 non-null  float64\n",
      " 69  calculated_host_listings_count_entire_homes   11487 non-null  float64\n",
      " 70  calculated_host_listings_count_private_rooms  11487 non-null  float64\n",
      " 71  calculated_host_listings_count_shared_rooms   11487 non-null  float64\n",
      " 72  reviews_per_month                             9150 non-null   float64\n",
      "dtypes: float64(40), object(33)\n",
      "memory usage: 6.5+ MB\n"
     ]
    }
   ],
   "source": [
    "vienna.info()"
   ]
  },
  {
   "cell_type": "markdown",
   "metadata": {},
   "source": [
    "There are three different datatypes represented in the data. Notice that the `price` column, which will be our label (ie what we are trying to predict), is represented as a string instead of a number.  We will need to change this before running any type of machine learning algorithm.  Also, there are several features that have missing values. We'll take care of these as we go along.\n",
    "\n",
    "We will analyze more of the features later, but let's first look at a few of the features in further detail: `neighborhoods in Vienna`, `property types`, `room types`, and `amenities`."
   ]
  },
  {
   "cell_type": "code",
   "execution_count": 6,
   "metadata": {},
   "outputs": [
    {
     "data": {
      "text/plain": [
       "Leopoldstadt            1221\n",
       "Landstra§e               997\n",
       "Rudolfsheim-Fnfhaus     825\n",
       "Alsergrund               730\n",
       "Neubau                   711\n",
       "Margareten               696\n",
       "Innere Stadt             662\n",
       "Favoriten                645\n",
       "Ottakring                564\n",
       "Mariahilf                553\n",
       "Wieden                   502\n",
       "Meidling                 449\n",
       "Brigittenau              443\n",
       "Josefstadt               426\n",
       "Hernals                  341\n",
       "Whring                  337\n",
       "Donaustadt               335\n",
       "Penzing                  296\n",
       "Dbling                  269\n",
       "Hietzing                 158\n",
       "Floridsdorf              141\n",
       "Simmering                121\n",
       "Liesing                   70\n",
       "Name: neighbourhood_cleansed, dtype: int64"
      ]
     },
     "execution_count": 6,
     "metadata": {},
     "output_type": "execute_result"
    }
   ],
   "source": [
    "# view value counts for neighborhood_cleansed\n",
    "vienna['neighbourhood_cleansed'].value_counts()"
   ]
  },
  {
   "cell_type": "code",
   "execution_count": 7,
   "metadata": {},
   "outputs": [
    {
     "data": {
      "text/plain": [
       "Entire apartment                      7524\n",
       "Private room in apartment             2415\n",
       "Entire serviced apartment              287\n",
       "Entire condominium                     281\n",
       "Entire loft                            163\n",
       "Entire house                           111\n",
       "Private room in house                   96\n",
       "Room in boutique hotel                  89\n",
       "Private room in condominium             74\n",
       "Shared room in apartment                65\n",
       "Private room in bed and breakfast       50\n",
       "Room in serviced apartment              46\n",
       "Private room in hostel                  35\n",
       "Room in hotel                           30\n",
       "Private room in loft                    26\n",
       "Room in aparthotel                      25\n",
       "Entire guest suite                      23\n",
       "Private room in townhouse               16\n",
       "Private room in guesthouse              15\n",
       "Entire townhouse                        14\n",
       "Entire villa                            12\n",
       "Shared room in hostel                   10\n",
       "Entire bungalow                          8\n",
       "Entire place                             8\n",
       "Room in bed and breakfast                7\n",
       "Entire guesthouse                        6\n",
       "Private room in serviced apartment       5\n",
       "Private room in guest suite              5\n",
       "Camper/RV                                4\n",
       "Shared room in condominium               3\n",
       "Entire cottage                           3\n",
       "Shared room in loft                      3\n",
       "Private room in villa                    3\n",
       "Private room                             3\n",
       "Private room in earth house              2\n",
       "Private room in castle                   2\n",
       "Shared room in house                     2\n",
       "Tiny house                               2\n",
       "Lighthouse                               2\n",
       "Shared room in serviced apartment        1\n",
       "Shared room in bed and breakfast         1\n",
       "Private room in farm stay                1\n",
       "Private room in nature lodge             1\n",
       "Casa particular                          1\n",
       "Shared room in tiny house                1\n",
       "Shared room in hotel                     1\n",
       "Private room in camper/rv                1\n",
       "Private room in cave                     1\n",
       "Private room in bus                      1\n",
       "Entire chalet                            1\n",
       "Entire hostel                            1\n",
       "Entire cabin                             1\n",
       "Dome house                               1\n",
       "Castle                                   1\n",
       "Private room in treehouse                1\n",
       "Shared room in tent                      1\n",
       "Name: property_type, dtype: int64"
      ]
     },
     "execution_count": 7,
     "metadata": {},
     "output_type": "execute_result"
    }
   ],
   "source": [
    "# view value counts for property_type\n",
    "vienna['property_type'].value_counts()"
   ]
  },
  {
   "cell_type": "markdown",
   "metadata": {},
   "source": [
    "There are a lot of different values for this feature. We could combine some of these (example: cabin and chalet should be similar to a house) to make our list more manageable. But first, let's also look at `room_type`."
   ]
  },
  {
   "cell_type": "code",
   "execution_count": 8,
   "metadata": {},
   "outputs": [
    {
     "data": {
      "text/plain": [
       "Entire home/apt    8466\n",
       "Private room       2853\n",
       "Shared room          88\n",
       "Hotel room           85\n",
       "Name: room_type, dtype: int64"
      ]
     },
     "execution_count": 8,
     "metadata": {},
     "output_type": "execute_result"
    }
   ],
   "source": [
    "# view value counts for room_type\n",
    "vienna['room_type'].value_counts()"
   ]
  },
  {
   "cell_type": "markdown",
   "metadata": {},
   "source": [
    "This seems to be similar data as the `property_type`. I'll leave both in for now and you would want to check for multi-linear correlation on your own if you were actually working on this as a project."
   ]
  },
  {
   "cell_type": "code",
   "execution_count": 9,
   "metadata": {},
   "outputs": [
    {
     "data": {
      "text/plain": [
       "id\n",
       "15883       [\"Hot water\", \"High chair\", \"Essentials\", \"Hai...\n",
       "38768       [\"Cooking basics\", \"Shampoo\", \"Kitchen\", \"Host...\n",
       "40625       [\"Cooking basics\", \"Children\\u2019s books and ...\n",
       "51287       [\"Cooking basics\", \"Shampoo\", \"Kitchen\", \"Host...\n",
       "70637       [\"Cooking basics\", \"Indoor fireplace\", \"Shampo...\n",
       "                                  ...                        \n",
       "49169158    [\"Shampoo\", \"Kitchen\", \"Smoke alarm\", \"Paid pa...\n",
       "49169449    [\"Cooking basics\", \"Essentials\", \"Hair dryer\",...\n",
       "49169526    [\"Shampoo\", \"Dedicated workspace\", \"Lock on be...\n",
       "49170145    [\"Kitchen\", \"Dedicated workspace\", \"Record pla...\n",
       "49171797    [\"Indoor fireplace\", \"Shampoo\", \"Kitchen\", \"Lo...\n",
       "Name: amenities, Length: 11502, dtype: object"
      ]
     },
     "execution_count": 9,
     "metadata": {},
     "output_type": "execute_result"
    }
   ],
   "source": [
    "# view value counts for amenities\n",
    "vienna['amenities']"
   ]
  },
  {
   "cell_type": "markdown",
   "metadata": {},
   "source": [
    "The `amenities` feature is a list of available amenities for each property. This will be difficult to work with but some of these listed amenities might have an influence on the price. We will work on separating these list items out later."
   ]
  },
  {
   "cell_type": "markdown",
   "metadata": {},
   "source": [
    "After a manual review of each feature, there are several features that we can immediately remove from the dataset. First, we can drop features that are not related to price."
   ]
  },
  {
   "cell_type": "code",
   "execution_count": 10,
   "metadata": {},
   "outputs": [
    {
     "data": {
      "text/html": [
       "<div>\n",
       "<style scoped>\n",
       "    .dataframe tbody tr th:only-of-type {\n",
       "        vertical-align: middle;\n",
       "    }\n",
       "\n",
       "    .dataframe tbody tr th {\n",
       "        vertical-align: top;\n",
       "    }\n",
       "\n",
       "    .dataframe thead th {\n",
       "        text-align: right;\n",
       "    }\n",
       "</style>\n",
       "<table border=\"1\" class=\"dataframe\">\n",
       "  <thead>\n",
       "    <tr style=\"text-align: right;\">\n",
       "      <th></th>\n",
       "      <th>name</th>\n",
       "      <th>description</th>\n",
       "      <th>host_id</th>\n",
       "      <th>host_since</th>\n",
       "      <th>host_response_time</th>\n",
       "      <th>host_response_rate</th>\n",
       "      <th>host_acceptance_rate</th>\n",
       "      <th>host_is_superhost</th>\n",
       "      <th>host_listings_count</th>\n",
       "      <th>neighbourhood_cleansed</th>\n",
       "      <th>latitude</th>\n",
       "      <th>longitude</th>\n",
       "      <th>property_type</th>\n",
       "      <th>room_type</th>\n",
       "      <th>accommodates</th>\n",
       "      <th>bathrooms_text</th>\n",
       "      <th>bedrooms</th>\n",
       "      <th>beds</th>\n",
       "      <th>amenities</th>\n",
       "      <th>price</th>\n",
       "      <th>number_of_reviews</th>\n",
       "      <th>first_review</th>\n",
       "      <th>last_review</th>\n",
       "      <th>review_scores_rating</th>\n",
       "      <th>review_scores_accuracy</th>\n",
       "      <th>review_scores_cleanliness</th>\n",
       "      <th>review_scores_checkin</th>\n",
       "      <th>review_scores_communication</th>\n",
       "      <th>review_scores_location</th>\n",
       "      <th>review_scores_value</th>\n",
       "      <th>calculated_host_listings_count</th>\n",
       "      <th>reviews_per_month</th>\n",
       "    </tr>\n",
       "    <tr>\n",
       "      <th>id</th>\n",
       "      <th></th>\n",
       "      <th></th>\n",
       "      <th></th>\n",
       "      <th></th>\n",
       "      <th></th>\n",
       "      <th></th>\n",
       "      <th></th>\n",
       "      <th></th>\n",
       "      <th></th>\n",
       "      <th></th>\n",
       "      <th></th>\n",
       "      <th></th>\n",
       "      <th></th>\n",
       "      <th></th>\n",
       "      <th></th>\n",
       "      <th></th>\n",
       "      <th></th>\n",
       "      <th></th>\n",
       "      <th></th>\n",
       "      <th></th>\n",
       "      <th></th>\n",
       "      <th></th>\n",
       "      <th></th>\n",
       "      <th></th>\n",
       "      <th></th>\n",
       "      <th></th>\n",
       "      <th></th>\n",
       "      <th></th>\n",
       "      <th></th>\n",
       "      <th></th>\n",
       "      <th></th>\n",
       "      <th></th>\n",
       "    </tr>\n",
       "  </thead>\n",
       "  <tbody>\n",
       "    <tr>\n",
       "      <th>15883</th>\n",
       "      <td>b&amp;b near Old Danube river</td>\n",
       "      <td>Four rooms, each one differently and individua...</td>\n",
       "      <td>62142.0</td>\n",
       "      <td>12/11/2009</td>\n",
       "      <td>NaN</td>\n",
       "      <td>NaN</td>\n",
       "      <td>100%</td>\n",
       "      <td>f</td>\n",
       "      <td>6.0</td>\n",
       "      <td>Donaustadt</td>\n",
       "      <td>48.24262</td>\n",
       "      <td>16.42767</td>\n",
       "      <td>Room in bed and breakfast</td>\n",
       "      <td>Hotel room</td>\n",
       "      <td>3.0</td>\n",
       "      <td>1 bath</td>\n",
       "      <td>1.0</td>\n",
       "      <td>2.0</td>\n",
       "      <td>[\"Hot water\", \"High chair\", \"Essentials\", \"Hai...</td>\n",
       "      <td>$87.00</td>\n",
       "      <td>11.0</td>\n",
       "      <td>4/10/2015</td>\n",
       "      <td>2/19/2020</td>\n",
       "      <td>95.0</td>\n",
       "      <td>10.0</td>\n",
       "      <td>10.0</td>\n",
       "      <td>10.0</td>\n",
       "      <td>10.0</td>\n",
       "      <td>9.0</td>\n",
       "      <td>9.0</td>\n",
       "      <td>4.0</td>\n",
       "      <td>0.15</td>\n",
       "    </tr>\n",
       "    <tr>\n",
       "      <th>38768</th>\n",
       "      <td>central cityapartement- wifi- nice neighbourhood</td>\n",
       "      <td>39m² apartment with beautiful courtyard of the...</td>\n",
       "      <td>166283.0</td>\n",
       "      <td>7/14/2010</td>\n",
       "      <td>within an hour</td>\n",
       "      <td>100%</td>\n",
       "      <td>98%</td>\n",
       "      <td>t</td>\n",
       "      <td>3.0</td>\n",
       "      <td>Leopoldstadt</td>\n",
       "      <td>48.21924</td>\n",
       "      <td>16.37831</td>\n",
       "      <td>Entire apartment</td>\n",
       "      <td>Entire home/apt</td>\n",
       "      <td>5.0</td>\n",
       "      <td>1 bath</td>\n",
       "      <td>1.0</td>\n",
       "      <td>3.0</td>\n",
       "      <td>[\"Cooking basics\", \"Shampoo\", \"Kitchen\", \"Host...</td>\n",
       "      <td>$60.00</td>\n",
       "      <td>324.0</td>\n",
       "      <td>3/23/2011</td>\n",
       "      <td>10/10/2020</td>\n",
       "      <td>95.0</td>\n",
       "      <td>10.0</td>\n",
       "      <td>9.0</td>\n",
       "      <td>10.0</td>\n",
       "      <td>10.0</td>\n",
       "      <td>10.0</td>\n",
       "      <td>10.0</td>\n",
       "      <td>3.0</td>\n",
       "      <td>2.64</td>\n",
       "    </tr>\n",
       "    <tr>\n",
       "      <th>40625</th>\n",
       "      <td>Near Palace Schönbrunn, Apt. 1</td>\n",
       "      <td>Welcome to my Apt. 1!&lt;br /&gt;&lt;br /&gt;This is a 2be...</td>\n",
       "      <td>175131.0</td>\n",
       "      <td>7/20/2010</td>\n",
       "      <td>within a few hours</td>\n",
       "      <td>90%</td>\n",
       "      <td>74%</td>\n",
       "      <td>t</td>\n",
       "      <td>16.0</td>\n",
       "      <td>Rudolfsheim-Fnfhaus</td>\n",
       "      <td>48.18434</td>\n",
       "      <td>16.32701</td>\n",
       "      <td>Entire apartment</td>\n",
       "      <td>Entire home/apt</td>\n",
       "      <td>6.0</td>\n",
       "      <td>1 bath</td>\n",
       "      <td>2.0</td>\n",
       "      <td>4.0</td>\n",
       "      <td>[\"Cooking basics\", \"Children\\u2019s books and ...</td>\n",
       "      <td>$88.00</td>\n",
       "      <td>156.0</td>\n",
       "      <td>8/4/2010</td>\n",
       "      <td>2/15/2021</td>\n",
       "      <td>97.0</td>\n",
       "      <td>10.0</td>\n",
       "      <td>10.0</td>\n",
       "      <td>10.0</td>\n",
       "      <td>10.0</td>\n",
       "      <td>9.0</td>\n",
       "      <td>9.0</td>\n",
       "      <td>15.0</td>\n",
       "      <td>1.20</td>\n",
       "    </tr>\n",
       "    <tr>\n",
       "      <th>51287</th>\n",
       "      <td>little studio- next to citycenter- wifi- nice ...</td>\n",
       "      <td>small studio in new renovated old house and ve...</td>\n",
       "      <td>166283.0</td>\n",
       "      <td>7/14/2010</td>\n",
       "      <td>within an hour</td>\n",
       "      <td>100%</td>\n",
       "      <td>98%</td>\n",
       "      <td>t</td>\n",
       "      <td>3.0</td>\n",
       "      <td>Leopoldstadt</td>\n",
       "      <td>48.21778</td>\n",
       "      <td>16.37847</td>\n",
       "      <td>Entire apartment</td>\n",
       "      <td>Entire home/apt</td>\n",
       "      <td>3.0</td>\n",
       "      <td>1 bath</td>\n",
       "      <td>NaN</td>\n",
       "      <td>2.0</td>\n",
       "      <td>[\"Cooking basics\", \"Shampoo\", \"Kitchen\", \"Host...</td>\n",
       "      <td>$60.00</td>\n",
       "      <td>310.0</td>\n",
       "      <td>1/27/2011</td>\n",
       "      <td>1/4/2021</td>\n",
       "      <td>92.0</td>\n",
       "      <td>10.0</td>\n",
       "      <td>9.0</td>\n",
       "      <td>10.0</td>\n",
       "      <td>10.0</td>\n",
       "      <td>10.0</td>\n",
       "      <td>9.0</td>\n",
       "      <td>3.0</td>\n",
       "      <td>2.49</td>\n",
       "    </tr>\n",
       "    <tr>\n",
       "      <th>70637</th>\n",
       "      <td>Flat in the Center with Terrace</td>\n",
       "      <td>&lt;b&gt;The space&lt;/b&gt;&lt;br /&gt;My apartment (including ...</td>\n",
       "      <td>358842.0</td>\n",
       "      <td>1/23/2011</td>\n",
       "      <td>within a few hours</td>\n",
       "      <td>100%</td>\n",
       "      <td>71%</td>\n",
       "      <td>t</td>\n",
       "      <td>3.0</td>\n",
       "      <td>Leopoldstadt</td>\n",
       "      <td>48.21760</td>\n",
       "      <td>16.38018</td>\n",
       "      <td>Private room in apartment</td>\n",
       "      <td>Private room</td>\n",
       "      <td>2.0</td>\n",
       "      <td>2 shared baths</td>\n",
       "      <td>1.0</td>\n",
       "      <td>2.0</td>\n",
       "      <td>[\"Cooking basics\", \"Indoor fireplace\", \"Shampo...</td>\n",
       "      <td>$50.00</td>\n",
       "      <td>116.0</td>\n",
       "      <td>3/28/2011</td>\n",
       "      <td>12/23/2019</td>\n",
       "      <td>95.0</td>\n",
       "      <td>10.0</td>\n",
       "      <td>9.0</td>\n",
       "      <td>10.0</td>\n",
       "      <td>9.0</td>\n",
       "      <td>10.0</td>\n",
       "      <td>10.0</td>\n",
       "      <td>3.0</td>\n",
       "      <td>0.95</td>\n",
       "    </tr>\n",
       "  </tbody>\n",
       "</table>\n",
       "</div>"
      ],
      "text/plain": [
       "                                                    name  \\\n",
       "id                                                         \n",
       "15883                          b&b near Old Danube river   \n",
       "38768   central cityapartement- wifi- nice neighbourhood   \n",
       "40625                     Near Palace Schönbrunn, Apt. 1   \n",
       "51287  little studio- next to citycenter- wifi- nice ...   \n",
       "70637                    Flat in the Center with Terrace   \n",
       "\n",
       "                                             description   host_id  \\\n",
       "id                                                                   \n",
       "15883  Four rooms, each one differently and individua...   62142.0   \n",
       "38768  39m² apartment with beautiful courtyard of the...  166283.0   \n",
       "40625  Welcome to my Apt. 1!<br /><br />This is a 2be...  175131.0   \n",
       "51287  small studio in new renovated old house and ve...  166283.0   \n",
       "70637  <b>The space</b><br />My apartment (including ...  358842.0   \n",
       "\n",
       "       host_since  host_response_time host_response_rate host_acceptance_rate  \\\n",
       "id                                                                              \n",
       "15883  12/11/2009                 NaN                NaN                 100%   \n",
       "38768   7/14/2010      within an hour               100%                  98%   \n",
       "40625   7/20/2010  within a few hours                90%                  74%   \n",
       "51287   7/14/2010      within an hour               100%                  98%   \n",
       "70637   1/23/2011  within a few hours               100%                  71%   \n",
       "\n",
       "      host_is_superhost  host_listings_count neighbourhood_cleansed  latitude  \\\n",
       "id                                                                              \n",
       "15883                 f                  6.0             Donaustadt  48.24262   \n",
       "38768                 t                  3.0           Leopoldstadt  48.21924   \n",
       "40625                 t                 16.0   Rudolfsheim-Fnfhaus  48.18434   \n",
       "51287                 t                  3.0           Leopoldstadt  48.21778   \n",
       "70637                 t                  3.0           Leopoldstadt  48.21760   \n",
       "\n",
       "       longitude              property_type        room_type  accommodates  \\\n",
       "id                                                                           \n",
       "15883   16.42767  Room in bed and breakfast       Hotel room           3.0   \n",
       "38768   16.37831           Entire apartment  Entire home/apt           5.0   \n",
       "40625   16.32701           Entire apartment  Entire home/apt           6.0   \n",
       "51287   16.37847           Entire apartment  Entire home/apt           3.0   \n",
       "70637   16.38018  Private room in apartment     Private room           2.0   \n",
       "\n",
       "       bathrooms_text  bedrooms  beds  \\\n",
       "id                                      \n",
       "15883          1 bath       1.0   2.0   \n",
       "38768          1 bath       1.0   3.0   \n",
       "40625          1 bath       2.0   4.0   \n",
       "51287          1 bath       NaN   2.0   \n",
       "70637  2 shared baths       1.0   2.0   \n",
       "\n",
       "                                               amenities    price  \\\n",
       "id                                                                  \n",
       "15883  [\"Hot water\", \"High chair\", \"Essentials\", \"Hai...  $87.00    \n",
       "38768  [\"Cooking basics\", \"Shampoo\", \"Kitchen\", \"Host...  $60.00    \n",
       "40625  [\"Cooking basics\", \"Children\\u2019s books and ...  $88.00    \n",
       "51287  [\"Cooking basics\", \"Shampoo\", \"Kitchen\", \"Host...  $60.00    \n",
       "70637  [\"Cooking basics\", \"Indoor fireplace\", \"Shampo...  $50.00    \n",
       "\n",
       "       number_of_reviews first_review last_review  review_scores_rating  \\\n",
       "id                                                                        \n",
       "15883               11.0    4/10/2015   2/19/2020                  95.0   \n",
       "38768              324.0    3/23/2011  10/10/2020                  95.0   \n",
       "40625              156.0     8/4/2010   2/15/2021                  97.0   \n",
       "51287              310.0    1/27/2011    1/4/2021                  92.0   \n",
       "70637              116.0    3/28/2011  12/23/2019                  95.0   \n",
       "\n",
       "       review_scores_accuracy  review_scores_cleanliness  \\\n",
       "id                                                         \n",
       "15883                    10.0                       10.0   \n",
       "38768                    10.0                        9.0   \n",
       "40625                    10.0                       10.0   \n",
       "51287                    10.0                        9.0   \n",
       "70637                    10.0                        9.0   \n",
       "\n",
       "       review_scores_checkin  review_scores_communication  \\\n",
       "id                                                          \n",
       "15883                   10.0                         10.0   \n",
       "38768                   10.0                         10.0   \n",
       "40625                   10.0                         10.0   \n",
       "51287                   10.0                         10.0   \n",
       "70637                   10.0                          9.0   \n",
       "\n",
       "       review_scores_location  review_scores_value  \\\n",
       "id                                                   \n",
       "15883                     9.0                  9.0   \n",
       "38768                    10.0                 10.0   \n",
       "40625                     9.0                  9.0   \n",
       "51287                    10.0                  9.0   \n",
       "70637                    10.0                 10.0   \n",
       "\n",
       "       calculated_host_listings_count  reviews_per_month  \n",
       "id                                                        \n",
       "15883                             4.0               0.15  \n",
       "38768                             3.0               2.64  \n",
       "40625                            15.0               1.20  \n",
       "51287                             3.0               2.49  \n",
       "70637                             3.0               0.95  "
      ]
     },
     "execution_count": 10,
     "metadata": {},
     "output_type": "execute_result"
    }
   ],
   "source": [
    "drop_features = ['listing_url','scrape_id','host_url','host_name','host_location',\n",
    "                'host_neighbourhood','neighbourhood_group_cleansed','calendar_updated','license',\n",
    "                'host_thumbnail_url','host_picture_url','host_verifications','host_has_profile_pic',\n",
    "                'has_availability','host_total_listings_count','neighbourhood',\n",
    "                'minimum_minimum_nights','maximum_minimum_nights','minimum_maximum_nights','maximum_maximum_nights',\n",
    "                'minimum_nights_avg_ntm','maximum_nights_avg_ntm','availability_30','availability_60',\n",
    "                'availability_365','calendar_last_scraped','number_of_reviews_ltm','number_of_reviews_l30d',\n",
    "                'calculated_host_listings_count_entire_homes','calculated_host_listings_count_private_rooms',\n",
    "                'calculated_host_listings_count_shared_rooms','last_scraped','neighborhood_overview',\n",
    "                 'host_about','picture_url','host_identity_verified', 'minimum_nights', 'maximum_nights', \n",
    "                 'availability_90', 'instant_bookable','bathrooms','host_total_listings_count']\n",
    "\n",
    "vienna = vienna.drop(drop_features, axis=1)\n",
    "vienna.head()"
   ]
  },
  {
   "cell_type": "code",
   "execution_count": 11,
   "metadata": {},
   "outputs": [
    {
     "data": {
      "text/plain": [
       "(11502, 32)"
      ]
     },
     "execution_count": 11,
     "metadata": {},
     "output_type": "execute_result"
    }
   ],
   "source": [
    "vienna.shape"
   ]
  },
  {
   "cell_type": "markdown",
   "metadata": {},
   "source": [
    "**Important:** In a real world project, we would stop here and split the data into what is called a training set and a test set. The training set is used to explore and train the data, and the test set is used at the very end to determine how new data generalizes with your model. This will be covered in much more detail in the machine learning classes."
   ]
  },
  {
   "cell_type": "markdown",
   "metadata": {},
   "source": [
    "## Missing Data<a name=\"missing\"></a>\n",
    "Missing data is very common in real world datasets and Pandas is a powerful tool in working with this missing data.\n",
    "\n",
    "### Filtering Missing Data<a name=\"filter\"></a>\n",
    "\n",
    "Let's now look at some of the missing data in the dataset. First, we need to understand what data is missing (we should attempt to either find the missing data or impute it based on other data) and what data just doesn't exist (where that fact that it is missing might provide additional information -- example: no reviews for a property)."
   ]
  },
  {
   "cell_type": "code",
   "execution_count": 12,
   "metadata": {},
   "outputs": [
    {
     "data": {
      "text/plain": [
       "id\n",
       "15883       False\n",
       "38768       False\n",
       "40625       False\n",
       "51287       False\n",
       "70637       False\n",
       "            ...  \n",
       "49169158    False\n",
       "49169449    False\n",
       "49169526    False\n",
       "49170145    False\n",
       "49171797    False\n",
       "Name: beds, Length: 11502, dtype: bool"
      ]
     },
     "execution_count": 12,
     "metadata": {},
     "output_type": "execute_result"
    }
   ],
   "source": [
    "# creates True/False mask\n",
    "vienna['beds'].isnull()"
   ]
  },
  {
   "cell_type": "code",
   "execution_count": 13,
   "metadata": {},
   "outputs": [
    {
     "data": {
      "text/plain": [
       "117"
      ]
     },
     "execution_count": 13,
     "metadata": {},
     "output_type": "execute_result"
    }
   ],
   "source": [
    "vienna['beds'].isnull().sum() # missing from data"
   ]
  },
  {
   "cell_type": "markdown",
   "metadata": {},
   "source": [
    "This could be an example of purely missing data. Every property probably should have at least one bed listed, even if it is a non-standard bed type."
   ]
  },
  {
   "cell_type": "code",
   "execution_count": 14,
   "metadata": {},
   "outputs": [
    {
     "data": {
      "text/plain": [
       "2352"
      ]
     },
     "execution_count": 14,
     "metadata": {},
     "output_type": "execute_result"
    }
   ],
   "source": [
    "vienna['first_review'].isnull().sum() # doesn't exist"
   ]
  },
  {
   "cell_type": "markdown",
   "metadata": {},
   "source": [
    "This is an example of data that probably just doesn't exist. These properties might not have any reviews from guests. And the fact that they don't have any reviews might be important to the properties price."
   ]
  },
  {
   "cell_type": "markdown",
   "metadata": {},
   "source": [
    "### Dropping missing values<a name=\"drop\"></a>\n",
    "One way to handle missing data is to drop the values completely. This could be appropriate based on your data but remember that you might lose some other information by dropping the data."
   ]
  },
  {
   "cell_type": "code",
   "execution_count": 15,
   "metadata": {
    "code_folding": []
   },
   "outputs": [
    {
     "data": {
      "text/html": [
       "<div>\n",
       "<style scoped>\n",
       "    .dataframe tbody tr th:only-of-type {\n",
       "        vertical-align: middle;\n",
       "    }\n",
       "\n",
       "    .dataframe tbody tr th {\n",
       "        vertical-align: top;\n",
       "    }\n",
       "\n",
       "    .dataframe thead th {\n",
       "        text-align: right;\n",
       "    }\n",
       "</style>\n",
       "<table border=\"1\" class=\"dataframe\">\n",
       "  <thead>\n",
       "    <tr style=\"text-align: right;\">\n",
       "      <th></th>\n",
       "      <th>0</th>\n",
       "      <th>1</th>\n",
       "      <th>2</th>\n",
       "    </tr>\n",
       "  </thead>\n",
       "  <tbody>\n",
       "    <tr>\n",
       "      <th>0</th>\n",
       "      <td>2.0</td>\n",
       "      <td>4.0</td>\n",
       "      <td>6.0</td>\n",
       "    </tr>\n",
       "    <tr>\n",
       "      <th>1</th>\n",
       "      <td>1.0</td>\n",
       "      <td>NaN</td>\n",
       "      <td>NaN</td>\n",
       "    </tr>\n",
       "    <tr>\n",
       "      <th>2</th>\n",
       "      <td>NaN</td>\n",
       "      <td>NaN</td>\n",
       "      <td>NaN</td>\n",
       "    </tr>\n",
       "    <tr>\n",
       "      <th>3</th>\n",
       "      <td>NaN</td>\n",
       "      <td>10.0</td>\n",
       "      <td>12.0</td>\n",
       "    </tr>\n",
       "  </tbody>\n",
       "</table>\n",
       "</div>"
      ],
      "text/plain": [
       "     0     1     2\n",
       "0  2.0   4.0   6.0\n",
       "1  1.0   NaN   NaN\n",
       "2  NaN   NaN   NaN\n",
       "3  NaN  10.0  12.0"
      ]
     },
     "execution_count": 15,
     "metadata": {},
     "output_type": "execute_result"
    }
   ],
   "source": [
    "#setup simple DataFrame\n",
    "data = pd.DataFrame([[2.,4.,6.],[1.,np.nan,np.nan],\n",
    "                     [np.nan,np.nan,np.nan],[np.nan,10.,12.]])\n",
    "data"
   ]
  },
  {
   "cell_type": "code",
   "execution_count": 16,
   "metadata": {},
   "outputs": [
    {
     "data": {
      "text/html": [
       "<div>\n",
       "<style scoped>\n",
       "    .dataframe tbody tr th:only-of-type {\n",
       "        vertical-align: middle;\n",
       "    }\n",
       "\n",
       "    .dataframe tbody tr th {\n",
       "        vertical-align: top;\n",
       "    }\n",
       "\n",
       "    .dataframe thead th {\n",
       "        text-align: right;\n",
       "    }\n",
       "</style>\n",
       "<table border=\"1\" class=\"dataframe\">\n",
       "  <thead>\n",
       "    <tr style=\"text-align: right;\">\n",
       "      <th></th>\n",
       "      <th>0</th>\n",
       "      <th>1</th>\n",
       "      <th>2</th>\n",
       "    </tr>\n",
       "  </thead>\n",
       "  <tbody>\n",
       "    <tr>\n",
       "      <th>0</th>\n",
       "      <td>2.0</td>\n",
       "      <td>4.0</td>\n",
       "      <td>6.0</td>\n",
       "    </tr>\n",
       "  </tbody>\n",
       "</table>\n",
       "</div>"
      ],
      "text/plain": [
       "     0    1    2\n",
       "0  2.0  4.0  6.0"
      ]
     },
     "execution_count": 16,
     "metadata": {},
     "output_type": "execute_result"
    }
   ],
   "source": [
    "# using drop_na to drop rows with missing values\n",
    "data.dropna()"
   ]
  },
  {
   "cell_type": "code",
   "execution_count": 17,
   "metadata": {},
   "outputs": [
    {
     "data": {
      "text/html": [
       "<div>\n",
       "<style scoped>\n",
       "    .dataframe tbody tr th:only-of-type {\n",
       "        vertical-align: middle;\n",
       "    }\n",
       "\n",
       "    .dataframe tbody tr th {\n",
       "        vertical-align: top;\n",
       "    }\n",
       "\n",
       "    .dataframe thead th {\n",
       "        text-align: right;\n",
       "    }\n",
       "</style>\n",
       "<table border=\"1\" class=\"dataframe\">\n",
       "  <thead>\n",
       "    <tr style=\"text-align: right;\">\n",
       "      <th></th>\n",
       "      <th>0</th>\n",
       "      <th>1</th>\n",
       "      <th>2</th>\n",
       "    </tr>\n",
       "  </thead>\n",
       "  <tbody>\n",
       "    <tr>\n",
       "      <th>0</th>\n",
       "      <td>2.0</td>\n",
       "      <td>4.0</td>\n",
       "      <td>6.0</td>\n",
       "    </tr>\n",
       "    <tr>\n",
       "      <th>3</th>\n",
       "      <td>NaN</td>\n",
       "      <td>10.0</td>\n",
       "      <td>12.0</td>\n",
       "    </tr>\n",
       "  </tbody>\n",
       "</table>\n",
       "</div>"
      ],
      "text/plain": [
       "     0     1     2\n",
       "0  2.0   4.0   6.0\n",
       "3  NaN  10.0  12.0"
      ]
     },
     "execution_count": 17,
     "metadata": {},
     "output_type": "execute_result"
    }
   ],
   "source": [
    "# dropping rows where there are missing values only for column '1'\n",
    "data.dropna(subset=[1])"
   ]
  },
  {
   "cell_type": "code",
   "execution_count": 18,
   "metadata": {},
   "outputs": [
    {
     "data": {
      "text/html": [
       "<div>\n",
       "<style scoped>\n",
       "    .dataframe tbody tr th:only-of-type {\n",
       "        vertical-align: middle;\n",
       "    }\n",
       "\n",
       "    .dataframe tbody tr th {\n",
       "        vertical-align: top;\n",
       "    }\n",
       "\n",
       "    .dataframe thead th {\n",
       "        text-align: right;\n",
       "    }\n",
       "</style>\n",
       "<table border=\"1\" class=\"dataframe\">\n",
       "  <thead>\n",
       "    <tr style=\"text-align: right;\">\n",
       "      <th></th>\n",
       "    </tr>\n",
       "  </thead>\n",
       "  <tbody>\n",
       "    <tr>\n",
       "      <th>0</th>\n",
       "    </tr>\n",
       "    <tr>\n",
       "      <th>1</th>\n",
       "    </tr>\n",
       "    <tr>\n",
       "      <th>2</th>\n",
       "    </tr>\n",
       "    <tr>\n",
       "      <th>3</th>\n",
       "    </tr>\n",
       "  </tbody>\n",
       "</table>\n",
       "</div>"
      ],
      "text/plain": [
       "Empty DataFrame\n",
       "Columns: []\n",
       "Index: [0, 1, 2, 3]"
      ]
     },
     "execution_count": 18,
     "metadata": {},
     "output_type": "execute_result"
    }
   ],
   "source": [
    "# using drop_na to drop columns with missing values\n",
    "data.dropna(axis=1)"
   ]
  },
  {
   "cell_type": "code",
   "execution_count": 19,
   "metadata": {},
   "outputs": [
    {
     "data": {
      "text/html": [
       "<div>\n",
       "<style scoped>\n",
       "    .dataframe tbody tr th:only-of-type {\n",
       "        vertical-align: middle;\n",
       "    }\n",
       "\n",
       "    .dataframe tbody tr th {\n",
       "        vertical-align: top;\n",
       "    }\n",
       "\n",
       "    .dataframe thead th {\n",
       "        text-align: right;\n",
       "    }\n",
       "</style>\n",
       "<table border=\"1\" class=\"dataframe\">\n",
       "  <thead>\n",
       "    <tr style=\"text-align: right;\">\n",
       "      <th></th>\n",
       "      <th>0</th>\n",
       "      <th>1</th>\n",
       "      <th>2</th>\n",
       "    </tr>\n",
       "  </thead>\n",
       "  <tbody>\n",
       "    <tr>\n",
       "      <th>0</th>\n",
       "      <td>2.0</td>\n",
       "      <td>4.0</td>\n",
       "      <td>6.0</td>\n",
       "    </tr>\n",
       "    <tr>\n",
       "      <th>1</th>\n",
       "      <td>1.0</td>\n",
       "      <td>NaN</td>\n",
       "      <td>NaN</td>\n",
       "    </tr>\n",
       "    <tr>\n",
       "      <th>3</th>\n",
       "      <td>NaN</td>\n",
       "      <td>10.0</td>\n",
       "      <td>12.0</td>\n",
       "    </tr>\n",
       "  </tbody>\n",
       "</table>\n",
       "</div>"
      ],
      "text/plain": [
       "     0     1     2\n",
       "0  2.0   4.0   6.0\n",
       "1  1.0   NaN   NaN\n",
       "3  NaN  10.0  12.0"
      ]
     },
     "execution_count": 19,
     "metadata": {},
     "output_type": "execute_result"
    }
   ],
   "source": [
    "# using drop_na to drop rows that have all missing values\n",
    "data.dropna(how='all')"
   ]
  },
  {
   "cell_type": "code",
   "execution_count": 20,
   "metadata": {},
   "outputs": [
    {
     "data": {
      "text/html": [
       "<div>\n",
       "<style scoped>\n",
       "    .dataframe tbody tr th:only-of-type {\n",
       "        vertical-align: middle;\n",
       "    }\n",
       "\n",
       "    .dataframe tbody tr th {\n",
       "        vertical-align: top;\n",
       "    }\n",
       "\n",
       "    .dataframe thead th {\n",
       "        text-align: right;\n",
       "    }\n",
       "</style>\n",
       "<table border=\"1\" class=\"dataframe\">\n",
       "  <thead>\n",
       "    <tr style=\"text-align: right;\">\n",
       "      <th></th>\n",
       "      <th>0</th>\n",
       "      <th>1</th>\n",
       "      <th>2</th>\n",
       "    </tr>\n",
       "  </thead>\n",
       "  <tbody>\n",
       "    <tr>\n",
       "      <th>0</th>\n",
       "      <td>2.0</td>\n",
       "      <td>4.0</td>\n",
       "      <td>6.0</td>\n",
       "    </tr>\n",
       "    <tr>\n",
       "      <th>3</th>\n",
       "      <td>NaN</td>\n",
       "      <td>10.0</td>\n",
       "      <td>12.0</td>\n",
       "    </tr>\n",
       "  </tbody>\n",
       "</table>\n",
       "</div>"
      ],
      "text/plain": [
       "     0     1     2\n",
       "0  2.0   4.0   6.0\n",
       "3  NaN  10.0  12.0"
      ]
     },
     "execution_count": 20,
     "metadata": {},
     "output_type": "execute_result"
    }
   ],
   "source": [
    "# using drop_na to drop rows that don't have at least 2 values\n",
    "data.dropna(thresh=2)"
   ]
  },
  {
   "cell_type": "markdown",
   "metadata": {},
   "source": [
    "#### Student Practice\n",
    "Try to perform the following tasks on the `vienna` dataset. Then check your answers as I walk through the solutions. Unless the exercise asks you to create a new DataFrame, you can assume that you are to alter the original `vienna` data."
   ]
  },
  {
   "cell_type": "code",
   "execution_count": 21,
   "metadata": {
    "code_folding": []
   },
   "outputs": [
    {
     "data": {
      "text/plain": [
       "(11502, 32)"
      ]
     },
     "execution_count": 21,
     "metadata": {},
     "output_type": "execute_result"
    }
   ],
   "source": [
    "# run the following code\n",
    "vienna.shape"
   ]
  },
  {
   "cell_type": "markdown",
   "metadata": {},
   "source": [
    "**Exercise:** Create a new DataFrame called `vienna_dropped_rows` to drop all rows from the original `vienna` dataset with missing values. "
   ]
  },
  {
   "cell_type": "code",
   "execution_count": 22,
   "metadata": {
    "code_folding": []
   },
   "outputs": [
    {
     "data": {
      "text/plain": [
       "(3724, 32)"
      ]
     },
     "execution_count": 22,
     "metadata": {},
     "output_type": "execute_result"
    }
   ],
   "source": [
    "vienna_dropped_rows = vienna.dropna()\n",
    "vienna_dropped_rows.shape"
   ]
  },
  {
   "cell_type": "markdown",
   "metadata": {},
   "source": [
    "**Exercise:** Create a new DataFrame called `vienna_dropped_rows_subset` where rows with missing values in the `bedrooms` column are dropped."
   ]
  },
  {
   "cell_type": "code",
   "execution_count": 23,
   "metadata": {
    "code_folding": []
   },
   "outputs": [
    {
     "data": {
      "text/plain": [
       "(10171, 32)"
      ]
     },
     "execution_count": 23,
     "metadata": {},
     "output_type": "execute_result"
    }
   ],
   "source": [
    "vienna_dropped_rows_subset = vienna.dropna(subset=['bedrooms'])\n",
    "vienna_dropped_rows_subset.shape"
   ]
  },
  {
   "cell_type": "markdown",
   "metadata": {},
   "source": [
    "**Exercise:** Create a new DataFrame called `vienna_dropped_cols` where columns with missing values are dropped."
   ]
  },
  {
   "cell_type": "code",
   "execution_count": 24,
   "metadata": {
    "code_folding": []
   },
   "outputs": [
    {
     "data": {
      "text/plain": [
       "(11502, 0)"
      ]
     },
     "execution_count": 24,
     "metadata": {},
     "output_type": "execute_result"
    }
   ],
   "source": [
    "vienna_dropped_cols = vienna.dropna(axis=1)\n",
    "\n",
    "vienna_dropped_cols.shape"
   ]
  },
  {
   "cell_type": "markdown",
   "metadata": {},
   "source": [
    "**Exercise:** Drop rows from the `vienna` dataset that have only missing values. "
   ]
  },
  {
   "cell_type": "code",
   "execution_count": 25,
   "metadata": {
    "code_folding": []
   },
   "outputs": [
    {
     "data": {
      "text/plain": [
       "(11492, 32)"
      ]
     },
     "execution_count": 25,
     "metadata": {},
     "output_type": "execute_result"
    }
   ],
   "source": [
    "vienna.dropna(how='all').shape"
   ]
  },
  {
   "cell_type": "markdown",
   "metadata": {},
   "source": [
    "**Exercise:** Drop rows from the `vienna` dataset that don't have at least 10 values."
   ]
  },
  {
   "cell_type": "code",
   "execution_count": 26,
   "metadata": {
    "code_folding": []
   },
   "outputs": [
    {
     "data": {
      "text/plain": [
       "(11487, 32)"
      ]
     },
     "execution_count": 26,
     "metadata": {},
     "output_type": "execute_result"
    }
   ],
   "source": [
    "vienna.dropna(thresh=10).shape"
   ]
  },
  {
   "cell_type": "markdown",
   "metadata": {},
   "source": [
    "### Filling Missing Data<a name=\"filling\"></a>\n",
    "\n",
    "Instead of simply discarding data and potentially losing information from other data that goes along with it, sometimes it's better to fill the missing data. This can be done in a number of different ways."
   ]
  },
  {
   "cell_type": "code",
   "execution_count": 27,
   "metadata": {},
   "outputs": [
    {
     "data": {
      "text/html": [
       "<div>\n",
       "<style scoped>\n",
       "    .dataframe tbody tr th:only-of-type {\n",
       "        vertical-align: middle;\n",
       "    }\n",
       "\n",
       "    .dataframe tbody tr th {\n",
       "        vertical-align: top;\n",
       "    }\n",
       "\n",
       "    .dataframe thead th {\n",
       "        text-align: right;\n",
       "    }\n",
       "</style>\n",
       "<table border=\"1\" class=\"dataframe\">\n",
       "  <thead>\n",
       "    <tr style=\"text-align: right;\">\n",
       "      <th></th>\n",
       "      <th>0</th>\n",
       "      <th>1</th>\n",
       "      <th>2</th>\n",
       "    </tr>\n",
       "  </thead>\n",
       "  <tbody>\n",
       "    <tr>\n",
       "      <th>0</th>\n",
       "      <td>-0.097785</td>\n",
       "      <td>NaN</td>\n",
       "      <td>NaN</td>\n",
       "    </tr>\n",
       "    <tr>\n",
       "      <th>1</th>\n",
       "      <td>-0.518532</td>\n",
       "      <td>NaN</td>\n",
       "      <td>NaN</td>\n",
       "    </tr>\n",
       "    <tr>\n",
       "      <th>2</th>\n",
       "      <td>-0.200229</td>\n",
       "      <td>NaN</td>\n",
       "      <td>-0.295784</td>\n",
       "    </tr>\n",
       "    <tr>\n",
       "      <th>3</th>\n",
       "      <td>0.625878</td>\n",
       "      <td>NaN</td>\n",
       "      <td>1.000499</td>\n",
       "    </tr>\n",
       "    <tr>\n",
       "      <th>4</th>\n",
       "      <td>0.156668</td>\n",
       "      <td>-0.092616</td>\n",
       "      <td>-0.654063</td>\n",
       "    </tr>\n",
       "    <tr>\n",
       "      <th>5</th>\n",
       "      <td>-0.773012</td>\n",
       "      <td>-1.405650</td>\n",
       "      <td>3.265541</td>\n",
       "    </tr>\n",
       "    <tr>\n",
       "      <th>6</th>\n",
       "      <td>2.794799</td>\n",
       "      <td>-0.356644</td>\n",
       "      <td>0.455672</td>\n",
       "    </tr>\n",
       "  </tbody>\n",
       "</table>\n",
       "</div>"
      ],
      "text/plain": [
       "          0         1         2\n",
       "0 -0.097785       NaN       NaN\n",
       "1 -0.518532       NaN       NaN\n",
       "2 -0.200229       NaN -0.295784\n",
       "3  0.625878       NaN  1.000499\n",
       "4  0.156668 -0.092616 -0.654063\n",
       "5 -0.773012 -1.405650  3.265541\n",
       "6  2.794799 -0.356644  0.455672"
      ]
     },
     "execution_count": 27,
     "metadata": {},
     "output_type": "execute_result"
    }
   ],
   "source": [
    "# setup example DataFrame\n",
    "data = pd.DataFrame(np.random.randn(7, 3))\n",
    "data.iloc[:4, 1] = np.nan\n",
    "data.iloc[:2, 2] = np.nan\n",
    "data"
   ]
  },
  {
   "cell_type": "code",
   "execution_count": 28,
   "metadata": {},
   "outputs": [
    {
     "data": {
      "text/html": [
       "<div>\n",
       "<style scoped>\n",
       "    .dataframe tbody tr th:only-of-type {\n",
       "        vertical-align: middle;\n",
       "    }\n",
       "\n",
       "    .dataframe tbody tr th {\n",
       "        vertical-align: top;\n",
       "    }\n",
       "\n",
       "    .dataframe thead th {\n",
       "        text-align: right;\n",
       "    }\n",
       "</style>\n",
       "<table border=\"1\" class=\"dataframe\">\n",
       "  <thead>\n",
       "    <tr style=\"text-align: right;\">\n",
       "      <th></th>\n",
       "      <th>0</th>\n",
       "      <th>1</th>\n",
       "      <th>2</th>\n",
       "    </tr>\n",
       "  </thead>\n",
       "  <tbody>\n",
       "    <tr>\n",
       "      <th>0</th>\n",
       "      <td>-0.097785</td>\n",
       "      <td>0.000000</td>\n",
       "      <td>0.000000</td>\n",
       "    </tr>\n",
       "    <tr>\n",
       "      <th>1</th>\n",
       "      <td>-0.518532</td>\n",
       "      <td>0.000000</td>\n",
       "      <td>0.000000</td>\n",
       "    </tr>\n",
       "    <tr>\n",
       "      <th>2</th>\n",
       "      <td>-0.200229</td>\n",
       "      <td>0.000000</td>\n",
       "      <td>-0.295784</td>\n",
       "    </tr>\n",
       "    <tr>\n",
       "      <th>3</th>\n",
       "      <td>0.625878</td>\n",
       "      <td>0.000000</td>\n",
       "      <td>1.000499</td>\n",
       "    </tr>\n",
       "    <tr>\n",
       "      <th>4</th>\n",
       "      <td>0.156668</td>\n",
       "      <td>-0.092616</td>\n",
       "      <td>-0.654063</td>\n",
       "    </tr>\n",
       "    <tr>\n",
       "      <th>5</th>\n",
       "      <td>-0.773012</td>\n",
       "      <td>-1.405650</td>\n",
       "      <td>3.265541</td>\n",
       "    </tr>\n",
       "    <tr>\n",
       "      <th>6</th>\n",
       "      <td>2.794799</td>\n",
       "      <td>-0.356644</td>\n",
       "      <td>0.455672</td>\n",
       "    </tr>\n",
       "  </tbody>\n",
       "</table>\n",
       "</div>"
      ],
      "text/plain": [
       "          0         1         2\n",
       "0 -0.097785  0.000000  0.000000\n",
       "1 -0.518532  0.000000  0.000000\n",
       "2 -0.200229  0.000000 -0.295784\n",
       "3  0.625878  0.000000  1.000499\n",
       "4  0.156668 -0.092616 -0.654063\n",
       "5 -0.773012 -1.405650  3.265541\n",
       "6  2.794799 -0.356644  0.455672"
      ]
     },
     "execution_count": 28,
     "metadata": {},
     "output_type": "execute_result"
    }
   ],
   "source": [
    "# using fillna with a constant \n",
    "data.fillna(0)"
   ]
  },
  {
   "cell_type": "code",
   "execution_count": 29,
   "metadata": {},
   "outputs": [
    {
     "data": {
      "text/html": [
       "<div>\n",
       "<style scoped>\n",
       "    .dataframe tbody tr th:only-of-type {\n",
       "        vertical-align: middle;\n",
       "    }\n",
       "\n",
       "    .dataframe tbody tr th {\n",
       "        vertical-align: top;\n",
       "    }\n",
       "\n",
       "    .dataframe thead th {\n",
       "        text-align: right;\n",
       "    }\n",
       "</style>\n",
       "<table border=\"1\" class=\"dataframe\">\n",
       "  <thead>\n",
       "    <tr style=\"text-align: right;\">\n",
       "      <th></th>\n",
       "      <th>0</th>\n",
       "      <th>1</th>\n",
       "      <th>2</th>\n",
       "    </tr>\n",
       "  </thead>\n",
       "  <tbody>\n",
       "    <tr>\n",
       "      <th>0</th>\n",
       "      <td>-0.097785</td>\n",
       "      <td>1.500000</td>\n",
       "      <td>-1.500000</td>\n",
       "    </tr>\n",
       "    <tr>\n",
       "      <th>1</th>\n",
       "      <td>-0.518532</td>\n",
       "      <td>1.500000</td>\n",
       "      <td>-1.500000</td>\n",
       "    </tr>\n",
       "    <tr>\n",
       "      <th>2</th>\n",
       "      <td>-0.200229</td>\n",
       "      <td>1.500000</td>\n",
       "      <td>-0.295784</td>\n",
       "    </tr>\n",
       "    <tr>\n",
       "      <th>3</th>\n",
       "      <td>0.625878</td>\n",
       "      <td>1.500000</td>\n",
       "      <td>1.000499</td>\n",
       "    </tr>\n",
       "    <tr>\n",
       "      <th>4</th>\n",
       "      <td>0.156668</td>\n",
       "      <td>-0.092616</td>\n",
       "      <td>-0.654063</td>\n",
       "    </tr>\n",
       "    <tr>\n",
       "      <th>5</th>\n",
       "      <td>-0.773012</td>\n",
       "      <td>-1.405650</td>\n",
       "      <td>3.265541</td>\n",
       "    </tr>\n",
       "    <tr>\n",
       "      <th>6</th>\n",
       "      <td>2.794799</td>\n",
       "      <td>-0.356644</td>\n",
       "      <td>0.455672</td>\n",
       "    </tr>\n",
       "  </tbody>\n",
       "</table>\n",
       "</div>"
      ],
      "text/plain": [
       "          0         1         2\n",
       "0 -0.097785  1.500000 -1.500000\n",
       "1 -0.518532  1.500000 -1.500000\n",
       "2 -0.200229  1.500000 -0.295784\n",
       "3  0.625878  1.500000  1.000499\n",
       "4  0.156668 -0.092616 -0.654063\n",
       "5 -0.773012 -1.405650  3.265541\n",
       "6  2.794799 -0.356644  0.455672"
      ]
     },
     "execution_count": 29,
     "metadata": {},
     "output_type": "execute_result"
    }
   ],
   "source": [
    "# using fillna with a dictionary for potential different values\n",
    "data.fillna({1: 1.5, 2:-1.5})"
   ]
  },
  {
   "cell_type": "code",
   "execution_count": 30,
   "metadata": {},
   "outputs": [
    {
     "data": {
      "text/html": [
       "<div>\n",
       "<style scoped>\n",
       "    .dataframe tbody tr th:only-of-type {\n",
       "        vertical-align: middle;\n",
       "    }\n",
       "\n",
       "    .dataframe tbody tr th {\n",
       "        vertical-align: top;\n",
       "    }\n",
       "\n",
       "    .dataframe thead th {\n",
       "        text-align: right;\n",
       "    }\n",
       "</style>\n",
       "<table border=\"1\" class=\"dataframe\">\n",
       "  <thead>\n",
       "    <tr style=\"text-align: right;\">\n",
       "      <th></th>\n",
       "      <th>0</th>\n",
       "      <th>1</th>\n",
       "      <th>2</th>\n",
       "    </tr>\n",
       "  </thead>\n",
       "  <tbody>\n",
       "    <tr>\n",
       "      <th>0</th>\n",
       "      <td>-1.101385</td>\n",
       "      <td>-0.307201</td>\n",
       "      <td>-1.270593</td>\n",
       "    </tr>\n",
       "    <tr>\n",
       "      <th>1</th>\n",
       "      <td>0.072933</td>\n",
       "      <td>-0.630511</td>\n",
       "      <td>0.119904</td>\n",
       "    </tr>\n",
       "    <tr>\n",
       "      <th>2</th>\n",
       "      <td>0.281113</td>\n",
       "      <td>NaN</td>\n",
       "      <td>-0.853286</td>\n",
       "    </tr>\n",
       "    <tr>\n",
       "      <th>3</th>\n",
       "      <td>0.804062</td>\n",
       "      <td>NaN</td>\n",
       "      <td>0.945558</td>\n",
       "    </tr>\n",
       "    <tr>\n",
       "      <th>4</th>\n",
       "      <td>-1.279718</td>\n",
       "      <td>NaN</td>\n",
       "      <td>NaN</td>\n",
       "    </tr>\n",
       "    <tr>\n",
       "      <th>5</th>\n",
       "      <td>-0.921409</td>\n",
       "      <td>NaN</td>\n",
       "      <td>NaN</td>\n",
       "    </tr>\n",
       "  </tbody>\n",
       "</table>\n",
       "</div>"
      ],
      "text/plain": [
       "          0         1         2\n",
       "0 -1.101385 -0.307201 -1.270593\n",
       "1  0.072933 -0.630511  0.119904\n",
       "2  0.281113       NaN -0.853286\n",
       "3  0.804062       NaN  0.945558\n",
       "4 -1.279718       NaN       NaN\n",
       "5 -0.921409       NaN       NaN"
      ]
     },
     "execution_count": 30,
     "metadata": {},
     "output_type": "execute_result"
    }
   ],
   "source": [
    "# same interpolation methods available for reindexing can be used with fillna\n",
    "df = pd.DataFrame(np.random.randn(6, 3))\n",
    "df.iloc[2:, 1] = np.nan\n",
    "df.iloc[4:, 2] = np.nan\n",
    "df"
   ]
  },
  {
   "cell_type": "code",
   "execution_count": 31,
   "metadata": {},
   "outputs": [
    {
     "data": {
      "text/html": [
       "<div>\n",
       "<style scoped>\n",
       "    .dataframe tbody tr th:only-of-type {\n",
       "        vertical-align: middle;\n",
       "    }\n",
       "\n",
       "    .dataframe tbody tr th {\n",
       "        vertical-align: top;\n",
       "    }\n",
       "\n",
       "    .dataframe thead th {\n",
       "        text-align: right;\n",
       "    }\n",
       "</style>\n",
       "<table border=\"1\" class=\"dataframe\">\n",
       "  <thead>\n",
       "    <tr style=\"text-align: right;\">\n",
       "      <th></th>\n",
       "      <th>0</th>\n",
       "      <th>1</th>\n",
       "      <th>2</th>\n",
       "    </tr>\n",
       "  </thead>\n",
       "  <tbody>\n",
       "    <tr>\n",
       "      <th>0</th>\n",
       "      <td>-1.101385</td>\n",
       "      <td>-0.307201</td>\n",
       "      <td>-1.270593</td>\n",
       "    </tr>\n",
       "    <tr>\n",
       "      <th>1</th>\n",
       "      <td>0.072933</td>\n",
       "      <td>-0.630511</td>\n",
       "      <td>0.119904</td>\n",
       "    </tr>\n",
       "    <tr>\n",
       "      <th>2</th>\n",
       "      <td>0.281113</td>\n",
       "      <td>-0.630511</td>\n",
       "      <td>-0.853286</td>\n",
       "    </tr>\n",
       "    <tr>\n",
       "      <th>3</th>\n",
       "      <td>0.804062</td>\n",
       "      <td>-0.630511</td>\n",
       "      <td>0.945558</td>\n",
       "    </tr>\n",
       "    <tr>\n",
       "      <th>4</th>\n",
       "      <td>-1.279718</td>\n",
       "      <td>-0.630511</td>\n",
       "      <td>0.945558</td>\n",
       "    </tr>\n",
       "    <tr>\n",
       "      <th>5</th>\n",
       "      <td>-0.921409</td>\n",
       "      <td>-0.630511</td>\n",
       "      <td>0.945558</td>\n",
       "    </tr>\n",
       "  </tbody>\n",
       "</table>\n",
       "</div>"
      ],
      "text/plain": [
       "          0         1         2\n",
       "0 -1.101385 -0.307201 -1.270593\n",
       "1  0.072933 -0.630511  0.119904\n",
       "2  0.281113 -0.630511 -0.853286\n",
       "3  0.804062 -0.630511  0.945558\n",
       "4 -1.279718 -0.630511  0.945558\n",
       "5 -0.921409 -0.630511  0.945558"
      ]
     },
     "execution_count": 31,
     "metadata": {},
     "output_type": "execute_result"
    }
   ],
   "source": [
    "# using 'ffill' 'forward fill'\n",
    "df.fillna(method='ffill')"
   ]
  },
  {
   "cell_type": "code",
   "execution_count": 32,
   "metadata": {},
   "outputs": [
    {
     "data": {
      "text/html": [
       "<div>\n",
       "<style scoped>\n",
       "    .dataframe tbody tr th:only-of-type {\n",
       "        vertical-align: middle;\n",
       "    }\n",
       "\n",
       "    .dataframe tbody tr th {\n",
       "        vertical-align: top;\n",
       "    }\n",
       "\n",
       "    .dataframe thead th {\n",
       "        text-align: right;\n",
       "    }\n",
       "</style>\n",
       "<table border=\"1\" class=\"dataframe\">\n",
       "  <thead>\n",
       "    <tr style=\"text-align: right;\">\n",
       "      <th></th>\n",
       "      <th>0</th>\n",
       "      <th>1</th>\n",
       "      <th>2</th>\n",
       "    </tr>\n",
       "  </thead>\n",
       "  <tbody>\n",
       "    <tr>\n",
       "      <th>0</th>\n",
       "      <td>-1.101385</td>\n",
       "      <td>-0.307201</td>\n",
       "      <td>-1.270593</td>\n",
       "    </tr>\n",
       "    <tr>\n",
       "      <th>1</th>\n",
       "      <td>0.072933</td>\n",
       "      <td>-0.630511</td>\n",
       "      <td>0.119904</td>\n",
       "    </tr>\n",
       "    <tr>\n",
       "      <th>2</th>\n",
       "      <td>0.281113</td>\n",
       "      <td>-0.630511</td>\n",
       "      <td>-0.853286</td>\n",
       "    </tr>\n",
       "    <tr>\n",
       "      <th>3</th>\n",
       "      <td>0.804062</td>\n",
       "      <td>-0.630511</td>\n",
       "      <td>0.945558</td>\n",
       "    </tr>\n",
       "    <tr>\n",
       "      <th>4</th>\n",
       "      <td>-1.279718</td>\n",
       "      <td>NaN</td>\n",
       "      <td>0.945558</td>\n",
       "    </tr>\n",
       "    <tr>\n",
       "      <th>5</th>\n",
       "      <td>-0.921409</td>\n",
       "      <td>NaN</td>\n",
       "      <td>0.945558</td>\n",
       "    </tr>\n",
       "  </tbody>\n",
       "</table>\n",
       "</div>"
      ],
      "text/plain": [
       "          0         1         2\n",
       "0 -1.101385 -0.307201 -1.270593\n",
       "1  0.072933 -0.630511  0.119904\n",
       "2  0.281113 -0.630511 -0.853286\n",
       "3  0.804062 -0.630511  0.945558\n",
       "4 -1.279718       NaN  0.945558\n",
       "5 -0.921409       NaN  0.945558"
      ]
     },
     "execution_count": 32,
     "metadata": {},
     "output_type": "execute_result"
    }
   ],
   "source": [
    "# using 'ffill' with limit\n",
    "df.fillna(method='ffill', limit=2)"
   ]
  },
  {
   "cell_type": "code",
   "execution_count": 33,
   "metadata": {},
   "outputs": [
    {
     "data": {
      "text/html": [
       "<div>\n",
       "<style scoped>\n",
       "    .dataframe tbody tr th:only-of-type {\n",
       "        vertical-align: middle;\n",
       "    }\n",
       "\n",
       "    .dataframe tbody tr th {\n",
       "        vertical-align: top;\n",
       "    }\n",
       "\n",
       "    .dataframe thead th {\n",
       "        text-align: right;\n",
       "    }\n",
       "</style>\n",
       "<table border=\"1\" class=\"dataframe\">\n",
       "  <thead>\n",
       "    <tr style=\"text-align: right;\">\n",
       "      <th></th>\n",
       "      <th>0</th>\n",
       "      <th>1</th>\n",
       "      <th>2</th>\n",
       "    </tr>\n",
       "  </thead>\n",
       "  <tbody>\n",
       "    <tr>\n",
       "      <th>0</th>\n",
       "      <td>-1.101385</td>\n",
       "      <td>-0.307201</td>\n",
       "      <td>-1.270593</td>\n",
       "    </tr>\n",
       "    <tr>\n",
       "      <th>1</th>\n",
       "      <td>0.072933</td>\n",
       "      <td>-0.630511</td>\n",
       "      <td>0.119904</td>\n",
       "    </tr>\n",
       "    <tr>\n",
       "      <th>2</th>\n",
       "      <td>0.281113</td>\n",
       "      <td>-0.468856</td>\n",
       "      <td>-0.853286</td>\n",
       "    </tr>\n",
       "    <tr>\n",
       "      <th>3</th>\n",
       "      <td>0.804062</td>\n",
       "      <td>-0.468856</td>\n",
       "      <td>0.945558</td>\n",
       "    </tr>\n",
       "    <tr>\n",
       "      <th>4</th>\n",
       "      <td>-1.279718</td>\n",
       "      <td>-0.468856</td>\n",
       "      <td>-0.264604</td>\n",
       "    </tr>\n",
       "    <tr>\n",
       "      <th>5</th>\n",
       "      <td>-0.921409</td>\n",
       "      <td>-0.468856</td>\n",
       "      <td>-0.264604</td>\n",
       "    </tr>\n",
       "  </tbody>\n",
       "</table>\n",
       "</div>"
      ],
      "text/plain": [
       "          0         1         2\n",
       "0 -1.101385 -0.307201 -1.270593\n",
       "1  0.072933 -0.630511  0.119904\n",
       "2  0.281113 -0.468856 -0.853286\n",
       "3  0.804062 -0.468856  0.945558\n",
       "4 -1.279718 -0.468856 -0.264604\n",
       "5 -0.921409 -0.468856 -0.264604"
      ]
     },
     "execution_count": 33,
     "metadata": {},
     "output_type": "execute_result"
    }
   ],
   "source": [
    "# using the mean of each column\n",
    "df.fillna(df.mean())"
   ]
  },
  {
   "cell_type": "markdown",
   "metadata": {},
   "source": [
    "#### Student Practice\n",
    "Try to perform the following tasks on the `vienna` dataset. Then check your answers as I walk through the solutions. Unless the exercise asks you to create a new DataFrame, you can assume that you are to alter the original `vienna` data."
   ]
  },
  {
   "cell_type": "code",
   "execution_count": 34,
   "metadata": {
    "code_folding": []
   },
   "outputs": [
    {
     "data": {
      "text/plain": [
       "22"
      ]
     },
     "execution_count": 34,
     "metadata": {},
     "output_type": "execute_result"
    }
   ],
   "source": [
    "# look at missing data for bathrooms\n",
    "vienna['bathrooms_text'].isnull().sum()"
   ]
  },
  {
   "cell_type": "markdown",
   "metadata": {},
   "source": [
    "**Exercise:** Fill missing values from `bathrooms_text` with the number `1`."
   ]
  },
  {
   "cell_type": "code",
   "execution_count": 35,
   "metadata": {
    "code_folding": []
   },
   "outputs": [
    {
     "data": {
      "text/plain": [
       "1 bath               6819\n",
       "1.5 baths            1860\n",
       "1 shared bath        1342\n",
       "1.5 shared baths      380\n",
       "2 baths               320\n",
       "1 private bath        264\n",
       "2.5 baths             125\n",
       "2 shared baths         95\n",
       "Half-bath              51\n",
       "2.5 shared baths       38\n",
       "3 baths                38\n",
       "3 shared baths         29\n",
       "1                      22\n",
       "3.5 baths              17\n",
       "Shared half-bath       17\n",
       "4 shared baths         16\n",
       "0 baths                15\n",
       "4 baths                15\n",
       "3.5 shared baths        9\n",
       "4.5 baths               8\n",
       "Private half-bath       4\n",
       "6 baths                 4\n",
       "5 baths                 4\n",
       "8 baths                 4\n",
       "0 shared baths          3\n",
       "9 baths                 1\n",
       "11 baths                1\n",
       "12 baths                1\n",
       "Name: bathrooms_text, dtype: int64"
      ]
     },
     "execution_count": 35,
     "metadata": {},
     "output_type": "execute_result"
    }
   ],
   "source": [
    "vienna['bathrooms_text'].fillna(1, inplace=True)\n",
    "#check\n",
    "vienna['bathrooms_text'].value_counts()"
   ]
  },
  {
   "cell_type": "markdown",
   "metadata": {},
   "source": [
    "**Exercise:** Fill missing values as follows:\n",
    "- bedrooms: 1\n",
    "- host_listings_count: 1\n",
    "- host_is_superhost: 'f'"
   ]
  },
  {
   "cell_type": "code",
   "execution_count": 36,
   "metadata": {
    "code_folding": []
   },
   "outputs": [],
   "source": [
    "vienna['bedrooms'] = vienna['bedrooms'].fillna(1)\n",
    "vienna['host_listings_count'] = vienna['host_listings_count'].fillna(1)\n",
    "vienna['host_is_superhost'] = vienna['host_is_superhost'].fillna('f')"
   ]
  },
  {
   "cell_type": "code",
   "execution_count": 37,
   "metadata": {},
   "outputs": [
    {
     "data": {
      "text/plain": [
       "0"
      ]
     },
     "execution_count": 37,
     "metadata": {},
     "output_type": "execute_result"
    }
   ],
   "source": [
    "#let's check now\n",
    "vienna['bedrooms'].isnull().sum()"
   ]
  },
  {
   "cell_type": "markdown",
   "metadata": {},
   "source": [
    "**Exercise:** Fill the missing values in the `beds` column with the median."
   ]
  },
  {
   "cell_type": "code",
   "execution_count": 38,
   "metadata": {
    "code_folding": []
   },
   "outputs": [
    {
     "data": {
      "text/plain": [
       "0"
      ]
     },
     "execution_count": 38,
     "metadata": {},
     "output_type": "execute_result"
    }
   ],
   "source": [
    "vienna['beds'] = vienna['beds'].fillna(vienna.beds.median())\n",
    "#check\n",
    "vienna['beds'].isnull().sum()"
   ]
  },
  {
   "cell_type": "markdown",
   "metadata": {},
   "source": [
    "**Note:** There are more efficient ways to handle missing values by using pipelines with Scikit-learn, which you will study more in the machine learning classes. These pipelines will allow you to clean future data more easily so that you won't have to do it manually each time."
   ]
  },
  {
   "cell_type": "markdown",
   "metadata": {},
   "source": [
    "## Data Transformation<a name=\"transformation\"></a>\n",
    "### Removing Duplicates<a name=\"remove_dupes\"></a>\n",
    "You may also find yourself spending a lot of time identifying and handling duplicate data. Sometimes it will be easy to identify the duplicates (all or most of the values are the same), while other times duplicates will be much harder to identify."
   ]
  },
  {
   "cell_type": "code",
   "execution_count": 39,
   "metadata": {},
   "outputs": [
    {
     "data": {
      "text/html": [
       "<div>\n",
       "<style scoped>\n",
       "    .dataframe tbody tr th:only-of-type {\n",
       "        vertical-align: middle;\n",
       "    }\n",
       "\n",
       "    .dataframe tbody tr th {\n",
       "        vertical-align: top;\n",
       "    }\n",
       "\n",
       "    .dataframe thead th {\n",
       "        text-align: right;\n",
       "    }\n",
       "</style>\n",
       "<table border=\"1\" class=\"dataframe\">\n",
       "  <thead>\n",
       "    <tr style=\"text-align: right;\">\n",
       "      <th></th>\n",
       "      <th>Student</th>\n",
       "      <th>Grade</th>\n",
       "    </tr>\n",
       "  </thead>\n",
       "  <tbody>\n",
       "    <tr>\n",
       "      <th>0</th>\n",
       "      <td>Stephanie</td>\n",
       "      <td>100</td>\n",
       "    </tr>\n",
       "    <tr>\n",
       "      <th>1</th>\n",
       "      <td>Nadia</td>\n",
       "      <td>95</td>\n",
       "    </tr>\n",
       "    <tr>\n",
       "      <th>2</th>\n",
       "      <td>Lukas</td>\n",
       "      <td>100</td>\n",
       "    </tr>\n",
       "    <tr>\n",
       "      <th>3</th>\n",
       "      <td>Sally</td>\n",
       "      <td>80</td>\n",
       "    </tr>\n",
       "    <tr>\n",
       "      <th>4</th>\n",
       "      <td>Nadia</td>\n",
       "      <td>100</td>\n",
       "    </tr>\n",
       "    <tr>\n",
       "      <th>5</th>\n",
       "      <td>Nadia</td>\n",
       "      <td>100</td>\n",
       "    </tr>\n",
       "  </tbody>\n",
       "</table>\n",
       "</div>"
      ],
      "text/plain": [
       "     Student  Grade\n",
       "0  Stephanie    100\n",
       "1      Nadia     95\n",
       "2      Lukas    100\n",
       "3      Sally     80\n",
       "4      Nadia    100\n",
       "5      Nadia    100"
      ]
     },
     "execution_count": 39,
     "metadata": {},
     "output_type": "execute_result"
    }
   ],
   "source": [
    "# create basic DataFrame\n",
    "data = pd.DataFrame({'Student': ['Stephanie','Nadia','Lukas','Sally','Nadia','Nadia'],\n",
    "                    'Grade': [100,95,100,80,100,100]})\n",
    "data"
   ]
  },
  {
   "cell_type": "code",
   "execution_count": 40,
   "metadata": {},
   "outputs": [
    {
     "data": {
      "text/plain": [
       "0    False\n",
       "1    False\n",
       "2    False\n",
       "3    False\n",
       "4    False\n",
       "5     True\n",
       "dtype: bool"
      ]
     },
     "execution_count": 40,
     "metadata": {},
     "output_type": "execute_result"
    }
   ],
   "source": [
    "# returns boolean Series: True represents whether row has been observed before\n",
    "data.duplicated()"
   ]
  },
  {
   "cell_type": "code",
   "execution_count": 41,
   "metadata": {},
   "outputs": [
    {
     "data": {
      "text/html": [
       "<div>\n",
       "<style scoped>\n",
       "    .dataframe tbody tr th:only-of-type {\n",
       "        vertical-align: middle;\n",
       "    }\n",
       "\n",
       "    .dataframe tbody tr th {\n",
       "        vertical-align: top;\n",
       "    }\n",
       "\n",
       "    .dataframe thead th {\n",
       "        text-align: right;\n",
       "    }\n",
       "</style>\n",
       "<table border=\"1\" class=\"dataframe\">\n",
       "  <thead>\n",
       "    <tr style=\"text-align: right;\">\n",
       "      <th></th>\n",
       "      <th>Student</th>\n",
       "      <th>Grade</th>\n",
       "    </tr>\n",
       "  </thead>\n",
       "  <tbody>\n",
       "    <tr>\n",
       "      <th>0</th>\n",
       "      <td>Stephanie</td>\n",
       "      <td>100</td>\n",
       "    </tr>\n",
       "    <tr>\n",
       "      <th>1</th>\n",
       "      <td>Nadia</td>\n",
       "      <td>95</td>\n",
       "    </tr>\n",
       "    <tr>\n",
       "      <th>2</th>\n",
       "      <td>Lukas</td>\n",
       "      <td>100</td>\n",
       "    </tr>\n",
       "    <tr>\n",
       "      <th>3</th>\n",
       "      <td>Sally</td>\n",
       "      <td>80</td>\n",
       "    </tr>\n",
       "    <tr>\n",
       "      <th>4</th>\n",
       "      <td>Nadia</td>\n",
       "      <td>100</td>\n",
       "    </tr>\n",
       "  </tbody>\n",
       "</table>\n",
       "</div>"
      ],
      "text/plain": [
       "     Student  Grade\n",
       "0  Stephanie    100\n",
       "1      Nadia     95\n",
       "2      Lukas    100\n",
       "3      Sally     80\n",
       "4      Nadia    100"
      ]
     },
     "execution_count": 41,
     "metadata": {},
     "output_type": "execute_result"
    }
   ],
   "source": [
    "# returns only non-duplicated rows\n",
    "data.drop_duplicates()"
   ]
  },
  {
   "cell_type": "code",
   "execution_count": 42,
   "metadata": {},
   "outputs": [
    {
     "data": {
      "text/html": [
       "<div>\n",
       "<style scoped>\n",
       "    .dataframe tbody tr th:only-of-type {\n",
       "        vertical-align: middle;\n",
       "    }\n",
       "\n",
       "    .dataframe tbody tr th {\n",
       "        vertical-align: top;\n",
       "    }\n",
       "\n",
       "    .dataframe thead th {\n",
       "        text-align: right;\n",
       "    }\n",
       "</style>\n",
       "<table border=\"1\" class=\"dataframe\">\n",
       "  <thead>\n",
       "    <tr style=\"text-align: right;\">\n",
       "      <th></th>\n",
       "      <th>Student</th>\n",
       "      <th>Grade</th>\n",
       "    </tr>\n",
       "  </thead>\n",
       "  <tbody>\n",
       "    <tr>\n",
       "      <th>0</th>\n",
       "      <td>Stephanie</td>\n",
       "      <td>100</td>\n",
       "    </tr>\n",
       "    <tr>\n",
       "      <th>1</th>\n",
       "      <td>Nadia</td>\n",
       "      <td>95</td>\n",
       "    </tr>\n",
       "    <tr>\n",
       "      <th>2</th>\n",
       "      <td>Lukas</td>\n",
       "      <td>100</td>\n",
       "    </tr>\n",
       "    <tr>\n",
       "      <th>3</th>\n",
       "      <td>Sally</td>\n",
       "      <td>80</td>\n",
       "    </tr>\n",
       "    <tr>\n",
       "      <th>5</th>\n",
       "      <td>Nadia</td>\n",
       "      <td>100</td>\n",
       "    </tr>\n",
       "  </tbody>\n",
       "</table>\n",
       "</div>"
      ],
      "text/plain": [
       "     Student  Grade\n",
       "0  Stephanie    100\n",
       "1      Nadia     95\n",
       "2      Lukas    100\n",
       "3      Sally     80\n",
       "5      Nadia    100"
      ]
     },
     "execution_count": 42,
     "metadata": {},
     "output_type": "execute_result"
    }
   ],
   "source": [
    "# keep the last row instead of the first\n",
    "data.drop_duplicates(keep='last')"
   ]
  },
  {
   "cell_type": "code",
   "execution_count": 43,
   "metadata": {},
   "outputs": [
    {
     "data": {
      "text/html": [
       "<div>\n",
       "<style scoped>\n",
       "    .dataframe tbody tr th:only-of-type {\n",
       "        vertical-align: middle;\n",
       "    }\n",
       "\n",
       "    .dataframe tbody tr th {\n",
       "        vertical-align: top;\n",
       "    }\n",
       "\n",
       "    .dataframe thead th {\n",
       "        text-align: right;\n",
       "    }\n",
       "</style>\n",
       "<table border=\"1\" class=\"dataframe\">\n",
       "  <thead>\n",
       "    <tr style=\"text-align: right;\">\n",
       "      <th></th>\n",
       "      <th>Student</th>\n",
       "      <th>Grade</th>\n",
       "    </tr>\n",
       "  </thead>\n",
       "  <tbody>\n",
       "    <tr>\n",
       "      <th>0</th>\n",
       "      <td>Stephanie</td>\n",
       "      <td>100</td>\n",
       "    </tr>\n",
       "    <tr>\n",
       "      <th>1</th>\n",
       "      <td>Nadia</td>\n",
       "      <td>95</td>\n",
       "    </tr>\n",
       "    <tr>\n",
       "      <th>2</th>\n",
       "      <td>Lukas</td>\n",
       "      <td>100</td>\n",
       "    </tr>\n",
       "    <tr>\n",
       "      <th>3</th>\n",
       "      <td>Sally</td>\n",
       "      <td>80</td>\n",
       "    </tr>\n",
       "  </tbody>\n",
       "</table>\n",
       "</div>"
      ],
      "text/plain": [
       "     Student  Grade\n",
       "0  Stephanie    100\n",
       "1      Nadia     95\n",
       "2      Lukas    100\n",
       "3      Sally     80"
      ]
     },
     "execution_count": 43,
     "metadata": {},
     "output_type": "execute_result"
    }
   ],
   "source": [
    "# default considers all values\n",
    "# can specify subset \n",
    "data.drop_duplicates(['Student'])"
   ]
  },
  {
   "cell_type": "markdown",
   "metadata": {},
   "source": [
    "#### Student Practice\n",
    "Try to perform the following tasks on the `vienna` dataset. Then check your answers as I walk through the solutions. Unless the exercise asks you to create a new DataFrame, you can assume that you are to alter the original `vienna` data."
   ]
  },
  {
   "cell_type": "markdown",
   "metadata": {},
   "source": [
    "**Exercise:** How many exact duplicates are in the `vienna` data? Drop any exact duplicates from the data."
   ]
  },
  {
   "cell_type": "code",
   "execution_count": 44,
   "metadata": {
    "code_folding": []
   },
   "outputs": [
    {
     "data": {
      "text/plain": [
       "23"
      ]
     },
     "execution_count": 44,
     "metadata": {},
     "output_type": "execute_result"
    }
   ],
   "source": [
    "vienna.duplicated().sum()"
   ]
  },
  {
   "cell_type": "code",
   "execution_count": 45,
   "metadata": {},
   "outputs": [],
   "source": [
    "vienna.drop_duplicates(inplace=True)"
   ]
  },
  {
   "cell_type": "markdown",
   "metadata": {},
   "source": [
    "**Exercise:** How many properties have the exact same `host_id`, `name`, and `description`and are in the same neighborhood as a previous property?"
   ]
  },
  {
   "cell_type": "code",
   "execution_count": 46,
   "metadata": {},
   "outputs": [
    {
     "data": {
      "text/plain": [
       "96"
      ]
     },
     "execution_count": 46,
     "metadata": {},
     "output_type": "execute_result"
    }
   ],
   "source": [
    "vienna.duplicated(['host_id', 'name', 'description', 'neighbourhood_cleansed']).sum()"
   ]
  },
  {
   "cell_type": "markdown",
   "metadata": {},
   "source": [
    "**Exercise**: These properties may be duplicates. Let's say after researching further that we have decided to remove these duplicated rows. Remove these rows from the `vienna` data."
   ]
  },
  {
   "cell_type": "code",
   "execution_count": 47,
   "metadata": {
    "code_folding": []
   },
   "outputs": [],
   "source": [
    "vienna.drop_duplicates(['host_id', 'name', 'description', 'neighbourhood_cleansed'], inplace=True)"
   ]
  },
  {
   "cell_type": "markdown",
   "metadata": {},
   "source": [
    "### Transforming Data Using a Function or Mapping<a name=\"map\"></a>\n",
    "Performing transformations based on values in an array."
   ]
  },
  {
   "cell_type": "code",
   "execution_count": 48,
   "metadata": {},
   "outputs": [
    {
     "data": {
      "text/html": [
       "<div>\n",
       "<style scoped>\n",
       "    .dataframe tbody tr th:only-of-type {\n",
       "        vertical-align: middle;\n",
       "    }\n",
       "\n",
       "    .dataframe tbody tr th {\n",
       "        vertical-align: top;\n",
       "    }\n",
       "\n",
       "    .dataframe thead th {\n",
       "        text-align: right;\n",
       "    }\n",
       "</style>\n",
       "<table border=\"1\" class=\"dataframe\">\n",
       "  <thead>\n",
       "    <tr style=\"text-align: right;\">\n",
       "      <th></th>\n",
       "      <th>city</th>\n",
       "      <th>state</th>\n",
       "    </tr>\n",
       "  </thead>\n",
       "  <tbody>\n",
       "    <tr>\n",
       "      <th>0</th>\n",
       "      <td>atlanta</td>\n",
       "      <td>GA</td>\n",
       "    </tr>\n",
       "    <tr>\n",
       "      <th>1</th>\n",
       "      <td>Baltimore</td>\n",
       "      <td>Maryland</td>\n",
       "    </tr>\n",
       "    <tr>\n",
       "      <th>2</th>\n",
       "      <td>boston</td>\n",
       "      <td>Massachusetts</td>\n",
       "    </tr>\n",
       "    <tr>\n",
       "      <th>3</th>\n",
       "      <td>Buffalo</td>\n",
       "      <td>New York</td>\n",
       "    </tr>\n",
       "    <tr>\n",
       "      <th>4</th>\n",
       "      <td>charlotte</td>\n",
       "      <td>NC</td>\n",
       "    </tr>\n",
       "  </tbody>\n",
       "</table>\n",
       "</div>"
      ],
      "text/plain": [
       "        city          state\n",
       "0    atlanta             GA\n",
       "1  Baltimore       Maryland\n",
       "2     boston  Massachusetts\n",
       "3    Buffalo       New York\n",
       "4  charlotte             NC"
      ]
     },
     "execution_count": 48,
     "metadata": {},
     "output_type": "execute_result"
    }
   ],
   "source": [
    "\n",
    "# create a sample DataFrame\n",
    "data = pd.DataFrame({\n",
    "    'city': ['atlanta','Baltimore','boston','Buffalo','charlotte'],\n",
    "    'state': ['GA','Maryland','Massachusetts','New York','NC']\n",
    "})\n",
    "\n",
    "data"
   ]
  },
  {
   "cell_type": "markdown",
   "metadata": {},
   "source": [
    "First, notice that some of these cities are capitlized and some are not. We need to keep that in mind when we go to map the values.\n",
    "\n",
    "Suppose you wanted to add a column indicating the NFL mascot for the respective city. We can map the city to the mascot name as follows:"
   ]
  },
  {
   "cell_type": "code",
   "execution_count": 49,
   "metadata": {},
   "outputs": [],
   "source": [
    "# create a dictionary mapping\n",
    "city_to_mascot = {\n",
    "    'atlanta':'Falcons',\n",
    "    'baltimore':'Ravens',\n",
    "    'boston':'Patriots',\n",
    "    'buffalo':'Bills',\n",
    "    'charlotte':'Panthers'\n",
    "}"
   ]
  },
  {
   "cell_type": "code",
   "execution_count": 50,
   "metadata": {},
   "outputs": [
    {
     "data": {
      "text/plain": [
       "0      atlanta\n",
       "1    baltimore\n",
       "2       boston\n",
       "3      buffalo\n",
       "4    charlotte\n",
       "Name: city, dtype: object"
      ]
     },
     "execution_count": 50,
     "metadata": {},
     "output_type": "execute_result"
    }
   ],
   "source": [
    "# use `str.lower()` to convert values before mapping\n",
    "lowercased_city = data['city'].str.lower()\n",
    "lowercased_city"
   ]
  },
  {
   "cell_type": "code",
   "execution_count": 51,
   "metadata": {},
   "outputs": [
    {
     "data": {
      "text/html": [
       "<div>\n",
       "<style scoped>\n",
       "    .dataframe tbody tr th:only-of-type {\n",
       "        vertical-align: middle;\n",
       "    }\n",
       "\n",
       "    .dataframe tbody tr th {\n",
       "        vertical-align: top;\n",
       "    }\n",
       "\n",
       "    .dataframe thead th {\n",
       "        text-align: right;\n",
       "    }\n",
       "</style>\n",
       "<table border=\"1\" class=\"dataframe\">\n",
       "  <thead>\n",
       "    <tr style=\"text-align: right;\">\n",
       "      <th></th>\n",
       "      <th>city</th>\n",
       "      <th>state</th>\n",
       "      <th>mascot</th>\n",
       "    </tr>\n",
       "  </thead>\n",
       "  <tbody>\n",
       "    <tr>\n",
       "      <th>0</th>\n",
       "      <td>atlanta</td>\n",
       "      <td>GA</td>\n",
       "      <td>Falcons</td>\n",
       "    </tr>\n",
       "    <tr>\n",
       "      <th>1</th>\n",
       "      <td>Baltimore</td>\n",
       "      <td>Maryland</td>\n",
       "      <td>Ravens</td>\n",
       "    </tr>\n",
       "    <tr>\n",
       "      <th>2</th>\n",
       "      <td>boston</td>\n",
       "      <td>Massachusetts</td>\n",
       "      <td>Patriots</td>\n",
       "    </tr>\n",
       "    <tr>\n",
       "      <th>3</th>\n",
       "      <td>Buffalo</td>\n",
       "      <td>New York</td>\n",
       "      <td>Bills</td>\n",
       "    </tr>\n",
       "    <tr>\n",
       "      <th>4</th>\n",
       "      <td>charlotte</td>\n",
       "      <td>NC</td>\n",
       "      <td>Panthers</td>\n",
       "    </tr>\n",
       "  </tbody>\n",
       "</table>\n",
       "</div>"
      ],
      "text/plain": [
       "        city          state    mascot\n",
       "0    atlanta             GA   Falcons\n",
       "1  Baltimore       Maryland    Ravens\n",
       "2     boston  Massachusetts  Patriots\n",
       "3    Buffalo       New York     Bills\n",
       "4  charlotte             NC  Panthers"
      ]
     },
     "execution_count": 51,
     "metadata": {},
     "output_type": "execute_result"
    }
   ],
   "source": [
    "# `map()` accepts a function or dictionary-like object\n",
    "data['mascot'] = lowercased_city.map(city_to_mascot)\n",
    "data"
   ]
  },
  {
   "cell_type": "code",
   "execution_count": 52,
   "metadata": {},
   "outputs": [
    {
     "data": {
      "text/plain": [
       "0     Falcons\n",
       "1      Ravens\n",
       "2    Patriots\n",
       "3       Bills\n",
       "4    Panthers\n",
       "Name: city, dtype: object"
      ]
     },
     "execution_count": 52,
     "metadata": {},
     "output_type": "execute_result"
    }
   ],
   "source": [
    "# also can pass a function\n",
    "data['city'].map(lambda x: city_to_mascot[x.lower()])"
   ]
  },
  {
   "cell_type": "markdown",
   "metadata": {},
   "source": [
    "Sometimes you might only want to map some values and leave others as they appear in the data. You can combine `map()` and `fillna()` for this purpose.\n",
    "\n",
    "How could we use a mapping to abbreviate the states that don't yet have abbreviations?"
   ]
  },
  {
   "cell_type": "code",
   "execution_count": 53,
   "metadata": {},
   "outputs": [
    {
     "data": {
      "text/html": [
       "<div>\n",
       "<style scoped>\n",
       "    .dataframe tbody tr th:only-of-type {\n",
       "        vertical-align: middle;\n",
       "    }\n",
       "\n",
       "    .dataframe tbody tr th {\n",
       "        vertical-align: top;\n",
       "    }\n",
       "\n",
       "    .dataframe thead th {\n",
       "        text-align: right;\n",
       "    }\n",
       "</style>\n",
       "<table border=\"1\" class=\"dataframe\">\n",
       "  <thead>\n",
       "    <tr style=\"text-align: right;\">\n",
       "      <th></th>\n",
       "      <th>city</th>\n",
       "      <th>state</th>\n",
       "      <th>mascot</th>\n",
       "    </tr>\n",
       "  </thead>\n",
       "  <tbody>\n",
       "    <tr>\n",
       "      <th>0</th>\n",
       "      <td>atlanta</td>\n",
       "      <td>NaN</td>\n",
       "      <td>Falcons</td>\n",
       "    </tr>\n",
       "    <tr>\n",
       "      <th>1</th>\n",
       "      <td>Baltimore</td>\n",
       "      <td>MD</td>\n",
       "      <td>Ravens</td>\n",
       "    </tr>\n",
       "    <tr>\n",
       "      <th>2</th>\n",
       "      <td>boston</td>\n",
       "      <td>MA</td>\n",
       "      <td>Patriots</td>\n",
       "    </tr>\n",
       "    <tr>\n",
       "      <th>3</th>\n",
       "      <td>Buffalo</td>\n",
       "      <td>NY</td>\n",
       "      <td>Bills</td>\n",
       "    </tr>\n",
       "    <tr>\n",
       "      <th>4</th>\n",
       "      <td>charlotte</td>\n",
       "      <td>NaN</td>\n",
       "      <td>Panthers</td>\n",
       "    </tr>\n",
       "  </tbody>\n",
       "</table>\n",
       "</div>"
      ],
      "text/plain": [
       "        city state    mascot\n",
       "0    atlanta   NaN   Falcons\n",
       "1  Baltimore    MD    Ravens\n",
       "2     boston    MA  Patriots\n",
       "3    Buffalo    NY     Bills\n",
       "4  charlotte   NaN  Panthers"
      ]
     },
     "execution_count": 53,
     "metadata": {},
     "output_type": "execute_result"
    }
   ],
   "source": [
    "state_abbr = {\n",
    "    'Maryland':'MD',\n",
    "    'Massachusetts':'MA',\n",
    "    'New York':'NY'\n",
    "}\n",
    "\n",
    "# make a copy of data to use with the following example\n",
    "data2 = data.copy()\n",
    "\n",
    "# this won't work\n",
    "data2['state']= data2['state'].map(state_abbr)\n",
    "data2"
   ]
  },
  {
   "cell_type": "code",
   "execution_count": 54,
   "metadata": {},
   "outputs": [
    {
     "data": {
      "text/html": [
       "<div>\n",
       "<style scoped>\n",
       "    .dataframe tbody tr th:only-of-type {\n",
       "        vertical-align: middle;\n",
       "    }\n",
       "\n",
       "    .dataframe tbody tr th {\n",
       "        vertical-align: top;\n",
       "    }\n",
       "\n",
       "    .dataframe thead th {\n",
       "        text-align: right;\n",
       "    }\n",
       "</style>\n",
       "<table border=\"1\" class=\"dataframe\">\n",
       "  <thead>\n",
       "    <tr style=\"text-align: right;\">\n",
       "      <th></th>\n",
       "      <th>city</th>\n",
       "      <th>state</th>\n",
       "      <th>mascot</th>\n",
       "    </tr>\n",
       "  </thead>\n",
       "  <tbody>\n",
       "    <tr>\n",
       "      <th>0</th>\n",
       "      <td>atlanta</td>\n",
       "      <td>GA</td>\n",
       "      <td>Falcons</td>\n",
       "    </tr>\n",
       "    <tr>\n",
       "      <th>1</th>\n",
       "      <td>Baltimore</td>\n",
       "      <td>MD</td>\n",
       "      <td>Ravens</td>\n",
       "    </tr>\n",
       "    <tr>\n",
       "      <th>2</th>\n",
       "      <td>boston</td>\n",
       "      <td>MA</td>\n",
       "      <td>Patriots</td>\n",
       "    </tr>\n",
       "    <tr>\n",
       "      <th>3</th>\n",
       "      <td>Buffalo</td>\n",
       "      <td>NY</td>\n",
       "      <td>Bills</td>\n",
       "    </tr>\n",
       "    <tr>\n",
       "      <th>4</th>\n",
       "      <td>charlotte</td>\n",
       "      <td>NC</td>\n",
       "      <td>Panthers</td>\n",
       "    </tr>\n",
       "  </tbody>\n",
       "</table>\n",
       "</div>"
      ],
      "text/plain": [
       "        city state    mascot\n",
       "0    atlanta    GA   Falcons\n",
       "1  Baltimore    MD    Ravens\n",
       "2     boston    MA  Patriots\n",
       "3    Buffalo    NY     Bills\n",
       "4  charlotte    NC  Panthers"
      ]
     },
     "execution_count": 54,
     "metadata": {},
     "output_type": "execute_result"
    }
   ],
   "source": [
    "data['state'] = data['state'].map(state_abbr).fillna(data['state'])\n",
    "data"
   ]
  },
  {
   "cell_type": "markdown",
   "metadata": {},
   "source": [
    "#### Student Practice\n",
    "Try to perform the following tasks on the `vienna` dataset. Then check your answers as I walk through the solutions. Unless the exercise asks you to create a new DataFrame, you can assume that you are to alter the original `vienna` data."
   ]
  },
  {
   "cell_type": "markdown",
   "metadata": {},
   "source": [
    "**Exercise:** Change the column name from the British spelling of `neighbourhood_cleansed` to the American spelling of `neighborhood_cleansed`."
   ]
  },
  {
   "cell_type": "code",
   "execution_count": 55,
   "metadata": {
    "code_folding": []
   },
   "outputs": [],
   "source": [
    "vienna.rename({'neighbourhood_cleansed':'neighborhood_cleansed'}, axis=1, inplace=True)"
   ]
  },
  {
   "cell_type": "markdown",
   "metadata": {},
   "source": [
    "**Exercise:** Check the value counts of this column. Notice that the various foreign language characters did not get encoded correctly."
   ]
  },
  {
   "cell_type": "code",
   "execution_count": 56,
   "metadata": {
    "code_folding": []
   },
   "outputs": [
    {
     "data": {
      "text/plain": [
       "Leopoldstadt            1220\n",
       "Landstra§e               986\n",
       "Rudolfsheim-Fnfhaus     822\n",
       "Alsergrund               726\n",
       "Neubau                   708\n",
       "Margareten               688\n",
       "Innere Stadt             654\n",
       "Favoriten                631\n",
       "Ottakring                547\n",
       "Mariahilf                545\n",
       "Wieden                   498\n",
       "Brigittenau              439\n",
       "Meidling                 430\n",
       "Josefstadt               426\n",
       "Hernals                  341\n",
       "Donaustadt               334\n",
       "Whring                  333\n",
       "Penzing                  295\n",
       "Dbling                  269\n",
       "Hietzing                 158\n",
       "Floridsdorf              141\n",
       "Simmering                121\n",
       "Liesing                   70\n",
       "Name: neighborhood_cleansed, dtype: int64"
      ]
     },
     "execution_count": 56,
     "metadata": {},
     "output_type": "execute_result"
    }
   ],
   "source": [
    "vienna['neighborhood_cleansed'].value_counts()"
   ]
  },
  {
   "cell_type": "markdown",
   "metadata": {},
   "source": [
    "**Exercise:** Use a mapping to update the following neighborhood names. Check your value counts again to ensure that the names were updated. \n",
    "- Landstrasse\n",
    "- Rudolfsheim-Funfhaus\n",
    "- Wahring\n",
    "- Dobling"
   ]
  },
  {
   "cell_type": "code",
   "execution_count": 57,
   "metadata": {
    "code_folding": []
   },
   "outputs": [],
   "source": [
    "updated_name = {'Landstra§e':'Landstrasse',\n",
    "               'Rudolfsheim-Fnfhaus':'Rudolfsheim-Funfhaus',\n",
    "               'Whring':'Wahring',\n",
    "               'Dbling': 'Dobling'}\n",
    "\n",
    "vienna3 = vienna.copy()"
   ]
  },
  {
   "cell_type": "code",
   "execution_count": 58,
   "metadata": {},
   "outputs": [],
   "source": [
    "vienna3['neighborhood_cleansed'] = vienna3['neighborhood_cleansed'].map(updated_name).fillna(vienna3['neighborhood_cleansed'])"
   ]
  },
  {
   "cell_type": "code",
   "execution_count": 59,
   "metadata": {},
   "outputs": [
    {
     "data": {
      "text/plain": [
       "Leopoldstadt            1220\n",
       "Landstrasse              986\n",
       "Rudolfsheim-Funfhaus     822\n",
       "Alsergrund               726\n",
       "Neubau                   708\n",
       "Margareten               688\n",
       "Innere Stadt             654\n",
       "Favoriten                631\n",
       "Ottakring                547\n",
       "Mariahilf                545\n",
       "Wieden                   498\n",
       "Brigittenau              439\n",
       "Meidling                 430\n",
       "Josefstadt               426\n",
       "Hernals                  341\n",
       "Donaustadt               334\n",
       "Wahring                  333\n",
       "Penzing                  295\n",
       "Dobling                  269\n",
       "Hietzing                 158\n",
       "Floridsdorf              141\n",
       "Simmering                121\n",
       "Liesing                   70\n",
       "Name: neighborhood_cleansed, dtype: int64"
      ]
     },
     "execution_count": 59,
     "metadata": {},
     "output_type": "execute_result"
    }
   ],
   "source": [
    "vienna3['neighborhood_cleansed'].value_counts()"
   ]
  },
  {
   "cell_type": "markdown",
   "metadata": {},
   "source": [
    "**Exercise:** Using Seaborn, plot a scatterplot using the `longitude` and `latitude` of the `vienna` DataFrame using the `neighborhood_cleansed` column as the hue."
   ]
  },
  {
   "cell_type": "code",
   "execution_count": 60,
   "metadata": {
    "code_folding": []
   },
   "outputs": [
    {
     "data": {
      "image/png": "[encoded data removed]",
      "text/plain": [
       "<Figure size 864x576 with 1 Axes>"
      ]
     },
     "metadata": {
      "needs_background": "light"
     },
     "output_type": "display_data"
    }
   ],
   "source": [
    "import matplotlib.pyplot as plt\n",
    "import seaborn as sns\n",
    "plt.figure(figsize=(12,8))\n",
    "sns.scatterplot(data=vienna3, x='longitude', y='latitude', hue='neighborhood_cleansed' )\n",
    "plt.show()"
   ]
  },
  {
   "cell_type": "markdown",
   "metadata": {},
   "source": [
    "### Replacing Values<a name=\"replace\"></a>\n",
    "As we saw previously, `map` can be used to modify a subset of values but `replace` can sometimes be simpler and more flexible. However, using `map` is sometimes more efficient for larger datasets."
   ]
  },
  {
   "cell_type": "code",
   "execution_count": 61,
   "metadata": {},
   "outputs": [
    {
     "data": {
      "text/html": [
       "<div>\n",
       "<style scoped>\n",
       "    .dataframe tbody tr th:only-of-type {\n",
       "        vertical-align: middle;\n",
       "    }\n",
       "\n",
       "    .dataframe tbody tr th {\n",
       "        vertical-align: top;\n",
       "    }\n",
       "\n",
       "    .dataframe thead th {\n",
       "        text-align: right;\n",
       "    }\n",
       "</style>\n",
       "<table border=\"1\" class=\"dataframe\">\n",
       "  <thead>\n",
       "    <tr style=\"text-align: right;\">\n",
       "      <th></th>\n",
       "      <th>city</th>\n",
       "      <th>state</th>\n",
       "      <th>mascot</th>\n",
       "    </tr>\n",
       "  </thead>\n",
       "  <tbody>\n",
       "    <tr>\n",
       "      <th>0</th>\n",
       "      <td>atlanta</td>\n",
       "      <td>GA</td>\n",
       "      <td>Falcons</td>\n",
       "    </tr>\n",
       "    <tr>\n",
       "      <th>1</th>\n",
       "      <td>Baltimore</td>\n",
       "      <td>MD</td>\n",
       "      <td>Ravens</td>\n",
       "    </tr>\n",
       "    <tr>\n",
       "      <th>2</th>\n",
       "      <td>boston</td>\n",
       "      <td>MA</td>\n",
       "      <td>Patriots</td>\n",
       "    </tr>\n",
       "    <tr>\n",
       "      <th>3</th>\n",
       "      <td>Buffalo</td>\n",
       "      <td>NY</td>\n",
       "      <td>Bills</td>\n",
       "    </tr>\n",
       "    <tr>\n",
       "      <th>4</th>\n",
       "      <td>charlotte</td>\n",
       "      <td>NC</td>\n",
       "      <td>Panthers</td>\n",
       "    </tr>\n",
       "  </tbody>\n",
       "</table>\n",
       "</div>"
      ],
      "text/plain": [
       "        city state    mascot\n",
       "0    atlanta    GA   Falcons\n",
       "1  Baltimore    MD    Ravens\n",
       "2     boston    MA  Patriots\n",
       "3    Buffalo    NY     Bills\n",
       "4  charlotte    NC  Panthers"
      ]
     },
     "execution_count": 61,
     "metadata": {},
     "output_type": "execute_result"
    }
   ],
   "source": [
    "data"
   ]
  },
  {
   "cell_type": "code",
   "execution_count": 62,
   "metadata": {},
   "outputs": [
    {
     "data": {
      "text/html": [
       "<div>\n",
       "<style scoped>\n",
       "    .dataframe tbody tr th:only-of-type {\n",
       "        vertical-align: middle;\n",
       "    }\n",
       "\n",
       "    .dataframe tbody tr th {\n",
       "        vertical-align: top;\n",
       "    }\n",
       "\n",
       "    .dataframe thead th {\n",
       "        text-align: right;\n",
       "    }\n",
       "</style>\n",
       "<table border=\"1\" class=\"dataframe\">\n",
       "  <thead>\n",
       "    <tr style=\"text-align: right;\">\n",
       "      <th></th>\n",
       "      <th>city</th>\n",
       "      <th>state</th>\n",
       "      <th>mascot</th>\n",
       "    </tr>\n",
       "  </thead>\n",
       "  <tbody>\n",
       "    <tr>\n",
       "      <th>0</th>\n",
       "      <td>atlanta</td>\n",
       "      <td>GA</td>\n",
       "      <td>Falcons</td>\n",
       "    </tr>\n",
       "    <tr>\n",
       "      <th>1</th>\n",
       "      <td>Baltimore</td>\n",
       "      <td>MD</td>\n",
       "      <td>Ravens</td>\n",
       "    </tr>\n",
       "    <tr>\n",
       "      <th>2</th>\n",
       "      <td>boston</td>\n",
       "      <td>MA</td>\n",
       "      <td>Patriots</td>\n",
       "    </tr>\n",
       "    <tr>\n",
       "      <th>3</th>\n",
       "      <td>Buffalo</td>\n",
       "      <td>NY</td>\n",
       "      <td>Bills</td>\n",
       "    </tr>\n",
       "    <tr>\n",
       "      <th>4</th>\n",
       "      <td>charlotte</td>\n",
       "      <td>NC</td>\n",
       "      <td>NaN</td>\n",
       "    </tr>\n",
       "  </tbody>\n",
       "</table>\n",
       "</div>"
      ],
      "text/plain": [
       "        city state    mascot\n",
       "0    atlanta    GA   Falcons\n",
       "1  Baltimore    MD    Ravens\n",
       "2     boston    MA  Patriots\n",
       "3    Buffalo    NY     Bills\n",
       "4  charlotte    NC       NaN"
      ]
     },
     "execution_count": 62,
     "metadata": {},
     "output_type": "execute_result"
    }
   ],
   "source": [
    "# using replace to replace a single value\n",
    "data.replace('Panthers', np.nan, inplace=True)\n",
    "data"
   ]
  },
  {
   "cell_type": "code",
   "execution_count": 63,
   "metadata": {},
   "outputs": [
    {
     "data": {
      "text/html": [
       "<div>\n",
       "<style scoped>\n",
       "    .dataframe tbody tr th:only-of-type {\n",
       "        vertical-align: middle;\n",
       "    }\n",
       "\n",
       "    .dataframe tbody tr th {\n",
       "        vertical-align: top;\n",
       "    }\n",
       "\n",
       "    .dataframe thead th {\n",
       "        text-align: right;\n",
       "    }\n",
       "</style>\n",
       "<table border=\"1\" class=\"dataframe\">\n",
       "  <thead>\n",
       "    <tr style=\"text-align: right;\">\n",
       "      <th></th>\n",
       "      <th>city</th>\n",
       "      <th>state</th>\n",
       "      <th>mascot</th>\n",
       "    </tr>\n",
       "  </thead>\n",
       "  <tbody>\n",
       "    <tr>\n",
       "      <th>0</th>\n",
       "      <td>atlanta</td>\n",
       "      <td>GA</td>\n",
       "      <td>NaN</td>\n",
       "    </tr>\n",
       "    <tr>\n",
       "      <th>1</th>\n",
       "      <td>Baltimore</td>\n",
       "      <td>MD</td>\n",
       "      <td>NaN</td>\n",
       "    </tr>\n",
       "    <tr>\n",
       "      <th>2</th>\n",
       "      <td>boston</td>\n",
       "      <td>MA</td>\n",
       "      <td>Patriots</td>\n",
       "    </tr>\n",
       "    <tr>\n",
       "      <th>3</th>\n",
       "      <td>Buffalo</td>\n",
       "      <td>NY</td>\n",
       "      <td>Bills</td>\n",
       "    </tr>\n",
       "    <tr>\n",
       "      <th>4</th>\n",
       "      <td>charlotte</td>\n",
       "      <td>NC</td>\n",
       "      <td>NaN</td>\n",
       "    </tr>\n",
       "  </tbody>\n",
       "</table>\n",
       "</div>"
      ],
      "text/plain": [
       "        city state    mascot\n",
       "0    atlanta    GA       NaN\n",
       "1  Baltimore    MD       NaN\n",
       "2     boston    MA  Patriots\n",
       "3    Buffalo    NY     Bills\n",
       "4  charlotte    NC       NaN"
      ]
     },
     "execution_count": 63,
     "metadata": {},
     "output_type": "execute_result"
    }
   ],
   "source": [
    "# using replace to replace multiple values\n",
    "data.replace(['Falcons', 'Ravens'], np.nan, inplace=True)\n",
    "data"
   ]
  },
  {
   "cell_type": "code",
   "execution_count": 64,
   "metadata": {},
   "outputs": [
    {
     "data": {
      "text/html": [
       "<div>\n",
       "<style scoped>\n",
       "    .dataframe tbody tr th:only-of-type {\n",
       "        vertical-align: middle;\n",
       "    }\n",
       "\n",
       "    .dataframe tbody tr th {\n",
       "        vertical-align: top;\n",
       "    }\n",
       "\n",
       "    .dataframe thead th {\n",
       "        text-align: right;\n",
       "    }\n",
       "</style>\n",
       "<table border=\"1\" class=\"dataframe\">\n",
       "  <thead>\n",
       "    <tr style=\"text-align: right;\">\n",
       "      <th></th>\n",
       "      <th>city</th>\n",
       "      <th>state</th>\n",
       "      <th>mascot</th>\n",
       "    </tr>\n",
       "  </thead>\n",
       "  <tbody>\n",
       "    <tr>\n",
       "      <th>0</th>\n",
       "      <td>atlanta</td>\n",
       "      <td>GA</td>\n",
       "      <td>NaN</td>\n",
       "    </tr>\n",
       "    <tr>\n",
       "      <th>1</th>\n",
       "      <td>Baltimore</td>\n",
       "      <td>MD</td>\n",
       "      <td>NaN</td>\n",
       "    </tr>\n",
       "    <tr>\n",
       "      <th>2</th>\n",
       "      <td>boston</td>\n",
       "      <td>MA</td>\n",
       "      <td>NaN</td>\n",
       "    </tr>\n",
       "    <tr>\n",
       "      <th>3</th>\n",
       "      <td>Buffalo</td>\n",
       "      <td>NY</td>\n",
       "      <td>Wings</td>\n",
       "    </tr>\n",
       "    <tr>\n",
       "      <th>4</th>\n",
       "      <td>charlotte</td>\n",
       "      <td>NC</td>\n",
       "      <td>NaN</td>\n",
       "    </tr>\n",
       "  </tbody>\n",
       "</table>\n",
       "</div>"
      ],
      "text/plain": [
       "        city state mascot\n",
       "0    atlanta    GA    NaN\n",
       "1  Baltimore    MD    NaN\n",
       "2     boston    MA    NaN\n",
       "3    Buffalo    NY  Wings\n",
       "4  charlotte    NC    NaN"
      ]
     },
     "execution_count": 64,
     "metadata": {},
     "output_type": "execute_result"
    }
   ],
   "source": [
    "# using replace to replace different values using lists\n",
    "data.replace(['Patriots','Bills'],[np.nan, 'Wings'])"
   ]
  },
  {
   "cell_type": "code",
   "execution_count": 65,
   "metadata": {},
   "outputs": [
    {
     "data": {
      "text/html": [
       "<div>\n",
       "<style scoped>\n",
       "    .dataframe tbody tr th:only-of-type {\n",
       "        vertical-align: middle;\n",
       "    }\n",
       "\n",
       "    .dataframe tbody tr th {\n",
       "        vertical-align: top;\n",
       "    }\n",
       "\n",
       "    .dataframe thead th {\n",
       "        text-align: right;\n",
       "    }\n",
       "</style>\n",
       "<table border=\"1\" class=\"dataframe\">\n",
       "  <thead>\n",
       "    <tr style=\"text-align: right;\">\n",
       "      <th></th>\n",
       "      <th>city</th>\n",
       "      <th>state</th>\n",
       "      <th>mascot</th>\n",
       "    </tr>\n",
       "  </thead>\n",
       "  <tbody>\n",
       "    <tr>\n",
       "      <th>0</th>\n",
       "      <td>atlanta</td>\n",
       "      <td>GA</td>\n",
       "      <td>NaN</td>\n",
       "    </tr>\n",
       "    <tr>\n",
       "      <th>1</th>\n",
       "      <td>Baltimore</td>\n",
       "      <td>MD</td>\n",
       "      <td>NaN</td>\n",
       "    </tr>\n",
       "    <tr>\n",
       "      <th>2</th>\n",
       "      <td>boston</td>\n",
       "      <td>MA</td>\n",
       "      <td>NaN</td>\n",
       "    </tr>\n",
       "    <tr>\n",
       "      <th>3</th>\n",
       "      <td>Buffalo</td>\n",
       "      <td>NY</td>\n",
       "      <td>Wings</td>\n",
       "    </tr>\n",
       "    <tr>\n",
       "      <th>4</th>\n",
       "      <td>charlotte</td>\n",
       "      <td>NC</td>\n",
       "      <td>NaN</td>\n",
       "    </tr>\n",
       "  </tbody>\n",
       "</table>\n",
       "</div>"
      ],
      "text/plain": [
       "        city state mascot\n",
       "0    atlanta    GA    NaN\n",
       "1  Baltimore    MD    NaN\n",
       "2     boston    MA    NaN\n",
       "3    Buffalo    NY  Wings\n",
       "4  charlotte    NC    NaN"
      ]
     },
     "execution_count": 65,
     "metadata": {},
     "output_type": "execute_result"
    }
   ],
   "source": [
    "# using replace to replace different values using a dictionary\n",
    "data.replace({'Patriots':np.nan, 'Bills':'Wings'}, inplace=True)\n",
    "data"
   ]
  },
  {
   "cell_type": "markdown",
   "metadata": {},
   "source": [
    "#### Student Practice\n",
    "Try to perform the following tasks on the `vienna` dataset. Then check your answers as I walk through the solutions. Unless the exercise asks you to create a new DataFrame, you can assume that you are to alter the original `vienna` data."
   ]
  },
  {
   "cell_type": "markdown",
   "metadata": {},
   "source": [
    "**Exercise:** Check the value counts for the property types."
   ]
  },
  {
   "cell_type": "code",
   "execution_count": 66,
   "metadata": {
    "code_folding": []
   },
   "outputs": [
    {
     "data": {
      "text/plain": [
       "Entire apartment                      7466\n",
       "Private room in apartment             2405\n",
       "Entire serviced apartment              287\n",
       "Entire condominium                     281\n",
       "Entire loft                            163\n",
       "Entire house                           111\n",
       "Private room in house                   96\n",
       "Room in boutique hotel                  85\n",
       "Private room in condominium             74\n",
       "Shared room in apartment                64\n",
       "Private room in bed and breakfast       42\n",
       "Room in serviced apartment              38\n",
       "Room in hotel                           30\n",
       "Private room in loft                    26\n",
       "Room in aparthotel                      23\n",
       "Entire guest suite                      23\n",
       "Private room in townhouse               16\n",
       "Private room in hostel                  16\n",
       "Private room in guesthouse              15\n",
       "Entire townhouse                        14\n",
       "Entire villa                            12\n",
       "Shared room in hostel                   10\n",
       "Entire bungalow                          8\n",
       "Entire place                             8\n",
       "Room in bed and breakfast                7\n",
       "Entire guesthouse                        6\n",
       "Private room in serviced apartment       5\n",
       "Private room in guest suite              5\n",
       "Camper/RV                                4\n",
       "Shared room in condominium               3\n",
       "Entire cottage                           3\n",
       "Shared room in loft                      3\n",
       "Private room in villa                    3\n",
       "Private room                             3\n",
       "Private room in earth house              2\n",
       "Private room in castle                   2\n",
       "Shared room in house                     2\n",
       "Tiny house                               2\n",
       "Lighthouse                               2\n",
       "Shared room in serviced apartment        1\n",
       "Shared room in bed and breakfast         1\n",
       "Private room in farm stay                1\n",
       "Private room in nature lodge             1\n",
       "Casa particular                          1\n",
       "Shared room in tiny house                1\n",
       "Shared room in hotel                     1\n",
       "Private room in camper/rv                1\n",
       "Private room in cave                     1\n",
       "Private room in bus                      1\n",
       "Entire chalet                            1\n",
       "Entire hostel                            1\n",
       "Entire cabin                             1\n",
       "Dome house                               1\n",
       "Castle                                   1\n",
       "Private room in treehouse                1\n",
       "Shared room in tent                      1\n",
       "Name: property_type, dtype: int64"
      ]
     },
     "execution_count": 66,
     "metadata": {},
     "output_type": "execute_result"
    }
   ],
   "source": [
    "vienna.property_type.value_counts()"
   ]
  },
  {
   "cell_type": "markdown",
   "metadata": {},
   "source": [
    "**Exercise:** We want to combine some of these categories so that we eventually only have four categories: 'Apartment', 'House', 'Room', and 'Other'. For example, 'Entire house' and 'Entire cottage' can probably just be listed as 'House' to simplify the data.\n",
    "\n",
    "First, combine the property types that you think could be simply represented by 'House' and 'Apartment' (Note: answers will vary based on how you break down the categories)"
   ]
  },
  {
   "cell_type": "code",
   "execution_count": 67,
   "metadata": {
    "code_folding": []
   },
   "outputs": [],
   "source": [
    "vienna.property_type.replace({'Entire apartment': 'Apartment',\n",
    "                             'Entire serviced apartment':'Apartment',\n",
    "                             'Entire condominium': 'Apartment',\n",
    "                             'Entire loft': 'Apartment',\n",
    "                             'Entire townhouse': 'House',\n",
    "                             'Entire guesthouse': 'House',\n",
    "                             'Entire house': 'House', \n",
    "                             'Entire bungalow':'House',\n",
    "                             'Entire villa': 'House',\n",
    "                             'Entire cabin': 'House',\n",
    "                             'Entire chalet': 'House'\n",
    "                              \n",
    "                               }, inplace=True)"
   ]
  },
  {
   "cell_type": "code",
   "execution_count": 68,
   "metadata": {},
   "outputs": [
    {
     "data": {
      "text/plain": [
       "Apartment                             8197\n",
       "Private room in apartment             2405\n",
       "House                                  153\n",
       "Private room in house                   96\n",
       "Room in boutique hotel                  85\n",
       "Private room in condominium             74\n",
       "Shared room in apartment                64\n",
       "Private room in bed and breakfast       42\n",
       "Room in serviced apartment              38\n",
       "Room in hotel                           30\n",
       "Private room in loft                    26\n",
       "Room in aparthotel                      23\n",
       "Entire guest suite                      23\n",
       "Private room in hostel                  16\n",
       "Private room in townhouse               16\n",
       "Private room in guesthouse              15\n",
       "Shared room in hostel                   10\n",
       "Entire place                             8\n",
       "Room in bed and breakfast                7\n",
       "Private room in serviced apartment       5\n",
       "Private room in guest suite              5\n",
       "Camper/RV                                4\n",
       "Entire cottage                           3\n",
       "Shared room in loft                      3\n",
       "Private room                             3\n",
       "Shared room in condominium               3\n",
       "Private room in villa                    3\n",
       "Private room in castle                   2\n",
       "Shared room in house                     2\n",
       "Private room in earth house              2\n",
       "Lighthouse                               2\n",
       "Tiny house                               2\n",
       "Shared room in bed and breakfast         1\n",
       "Private room in camper/rv                1\n",
       "Shared room in serviced apartment        1\n",
       "Shared room in tiny house                1\n",
       "Casa particular                          1\n",
       "Shared room in hotel                     1\n",
       "Private room in farm stay                1\n",
       "Private room in cave                     1\n",
       "Private room in nature lodge             1\n",
       "Private room in bus                      1\n",
       "Entire hostel                            1\n",
       "Dome house                               1\n",
       "Castle                                   1\n",
       "Private room in treehouse                1\n",
       "Shared room in tent                      1\n",
       "Name: property_type, dtype: int64"
      ]
     },
     "execution_count": 68,
     "metadata": {},
     "output_type": "execute_result"
    }
   ],
   "source": [
    "vienna.property_type.value_counts()"
   ]
  },
  {
   "cell_type": "markdown",
   "metadata": {},
   "source": [
    "**Exercise:** Perform a similar task of combining property types that might be simply considered as a 'Room'. \n",
    "\n",
    "*Bonus:* You could perform this with `replace()` but it would take a long dictionary of values. Can you perform this using the Pandas [str.contains()](https://pandas.pydata.org/docs/reference/api/pandas.Series.str.contains.html) method in one line of code?"
   ]
  },
  {
   "cell_type": "code",
   "execution_count": 69,
   "metadata": {
    "code_folding": []
   },
   "outputs": [],
   "source": [
    "vienna.loc[vienna['property_type'].str.contains('room', case=False, na=False), 'property_type'] = 'Room'"
   ]
  },
  {
   "cell_type": "code",
   "execution_count": 70,
   "metadata": {},
   "outputs": [
    {
     "data": {
      "text/plain": [
       "Apartment             8197\n",
       "Room                  2986\n",
       "House                  153\n",
       "Entire guest suite      23\n",
       "Entire place             8\n",
       "Camper/RV                4\n",
       "Entire cottage           3\n",
       "Tiny house               2\n",
       "Lighthouse               2\n",
       "Castle                   1\n",
       "Dome house               1\n",
       "Entire hostel            1\n",
       "Casa particular          1\n",
       "Name: property_type, dtype: int64"
      ]
     },
     "execution_count": 70,
     "metadata": {},
     "output_type": "execute_result"
    }
   ],
   "source": [
    "vienna.property_type.value_counts()"
   ]
  },
  {
   "cell_type": "markdown",
   "metadata": {},
   "source": [
    "**Exercise:** Change all other values not listed as 'House', 'Apartment', or 'Room' to 'Other'. \n",
    "\n",
    "*Bonus:* Again, you could perform this with `replace()`, but can you think of a way to do it in one line of code? Hint: You want to select everything where the property type is not 'House', 'Apartment', or 'Room' and code those as 'Other'.   "
   ]
  },
  {
   "cell_type": "code",
   "execution_count": 71,
   "metadata": {
    "code_folding": []
   },
   "outputs": [],
   "source": [
    "#vienna.loc[(vienna['property_type'] != 'Apartment') & (vienna['property_type'] != 'Room') & (vienna['property_type'] != 'House')] = 'Other'"
   ]
  },
  {
   "cell_type": "code",
   "execution_count": 72,
   "metadata": {},
   "outputs": [],
   "source": [
    "# ~ means negating or doing the opisite of whatever code is specified after\n",
    "vienna.loc[~vienna.property_type.isin(['House', 'Apartment', 'Room']), 'property_type'] = 'other'"
   ]
  },
  {
   "cell_type": "markdown",
   "metadata": {},
   "source": [
    "**Exercise:** Check the property type value counts one last time to verify that you now only have four categories."
   ]
  },
  {
   "cell_type": "code",
   "execution_count": 73,
   "metadata": {
    "code_folding": []
   },
   "outputs": [
    {
     "data": {
      "text/plain": [
       "Apartment    8197\n",
       "Room         2986\n",
       "House         153\n",
       "other          47\n",
       "Name: property_type, dtype: int64"
      ]
     },
     "execution_count": 73,
     "metadata": {},
     "output_type": "execute_result"
    }
   ],
   "source": [
    "vienna.property_type.value_counts()"
   ]
  },
  {
   "cell_type": "markdown",
   "metadata": {},
   "source": [
    "### Binning<a name=\"bin\"></a>\n",
    "\n",
    "Continuous data is often separated into 'bins' for analysis."
   ]
  },
  {
   "cell_type": "code",
   "execution_count": 74,
   "metadata": {
    "code_folding": []
   },
   "outputs": [
    {
     "data": {
      "text/plain": [
       "[(1945, 1964], (1945, 1964], (1964, 1980], (1980, 1996], (1945, 1964], (1996, 2012], (1964, 1980]]\n",
       "Categories (4, interval[int64, right]): [(1945, 1964] < (1964, 1980] < (1980, 1996] < (1996, 2012]]"
      ]
     },
     "execution_count": 74,
     "metadata": {},
     "output_type": "execute_result"
    }
   ],
   "source": [
    "# setup list of birth years\n",
    "year = [1955, 1964, 1975, 1985, 1960, 2001, 1978]\n",
    "\n",
    "# setup bins \n",
    "bins = [1945, 1964, 1980, 1996, 2012]\n",
    "\n",
    "# use the `cut()` function to divide years into their appropriate bins\n",
    "cats = pd.cut(year, bins)\n",
    "\n",
    "# returns a special `Categorical` object\n",
    "cats"
   ]
  },
  {
   "cell_type": "markdown",
   "metadata": {},
   "source": [
    "Uses mathematical notation for intervals.\n",
    "- `(` is *open* (not included in the category)\n",
    "- `]` is *closed* (inclusive)\n",
    "- can change which side is closed by passing `right=False`"
   ]
  },
  {
   "cell_type": "code",
   "execution_count": 75,
   "metadata": {
    "code_folding": []
   },
   "outputs": [],
   "source": [
    "# can pass your own bin names\n",
    "cats = pd.cut(year, bins, labels=['Baby Boomer', 'Generation X', \n",
    "                                  'Generation Y (Millennials)', 'Generation Z'])"
   ]
  },
  {
   "cell_type": "code",
   "execution_count": 76,
   "metadata": {},
   "outputs": [
    {
     "data": {
      "text/plain": [
       "array([0, 0, 1, 2, 0, 3, 1], dtype=int8)"
      ]
     },
     "execution_count": 76,
     "metadata": {},
     "output_type": "execute_result"
    }
   ],
   "source": [
    "# label for the year data\n",
    "cats.codes"
   ]
  },
  {
   "cell_type": "code",
   "execution_count": 77,
   "metadata": {},
   "outputs": [
    {
     "data": {
      "text/plain": [
       "Index(['Baby Boomer', 'Generation X', 'Generation Y (Millennials)',\n",
       "       'Generation Z'],\n",
       "      dtype='object')"
      ]
     },
     "execution_count": 77,
     "metadata": {},
     "output_type": "execute_result"
    }
   ],
   "source": [
    "# categories for the year data\n",
    "cats.categories"
   ]
  },
  {
   "cell_type": "code",
   "execution_count": 78,
   "metadata": {},
   "outputs": [
    {
     "data": {
      "text/plain": [
       "Baby Boomer                   3\n",
       "Generation X                  2\n",
       "Generation Y (Millennials)    1\n",
       "Generation Z                  1\n",
       "dtype: int64"
      ]
     },
     "execution_count": 78,
     "metadata": {},
     "output_type": "execute_result"
    }
   ],
   "source": [
    "# value counts for the bins\n",
    "pd.value_counts(cats)"
   ]
  },
  {
   "cell_type": "code",
   "execution_count": 79,
   "metadata": {},
   "outputs": [
    {
     "data": {
      "text/plain": [
       "array([0.83718971, 0.72535932, 0.62190843, 0.88432419, 0.88341431,\n",
       "       0.32349278, 0.04383053, 0.662199  , 0.34672544, 0.0156076 ,\n",
       "       0.57989905, 0.79879348, 0.08854928, 0.77313539, 0.30048799,\n",
       "       0.78265004, 0.96668435, 0.4004984 , 0.94075704, 0.70241806,\n",
       "       0.63460955, 0.31940636, 0.82939875, 0.10490515, 0.98604847,\n",
       "       0.61587733, 0.15535896, 0.37361819, 0.77281739, 0.86495537,\n",
       "       0.09827378, 0.29681303, 0.58201922, 0.60246924, 0.17676217,\n",
       "       0.68903099, 0.3942287 , 0.83821058, 0.96781294, 0.336312  ,\n",
       "       0.88022456, 0.13841857, 0.84521518, 0.71962371, 0.07877491,\n",
       "       0.79187771, 0.48264741, 0.45619641, 0.90293701, 0.15067998,\n",
       "       0.59159339, 0.66127386, 0.25256047, 0.74782773, 0.55044823,\n",
       "       0.63942036, 0.19085091, 0.00722941, 0.2805471 , 0.93887698,\n",
       "       0.44422774, 0.45108674, 0.74754587, 0.65625086, 0.06322985,\n",
       "       0.27293841, 0.1173816 , 0.2248422 , 0.02738862, 0.39650897,\n",
       "       0.21978031, 0.01872048, 0.14772549, 0.84466876, 0.38839814,\n",
       "       0.41005876, 0.03722484, 0.24288486, 0.0415969 , 0.63776807,\n",
       "       0.34239968, 0.28676414, 0.81121163, 0.40435044, 0.58893677,\n",
       "       0.54305688, 0.32420651, 0.97541386, 0.79589964, 0.7867139 ,\n",
       "       0.92787043, 0.94003378, 0.67295667, 0.888784  , 0.16551503,\n",
       "       0.70004101, 0.96767527, 0.61098085, 0.32203582, 0.33383407])"
      ]
     },
     "execution_count": 79,
     "metadata": {},
     "output_type": "execute_result"
    }
   ],
   "source": [
    "# create random array of data\n",
    "data = np.random.rand(100)\n",
    "data"
   ]
  },
  {
   "cell_type": "code",
   "execution_count": 80,
   "metadata": {},
   "outputs": [
    {
     "data": {
      "text/plain": [
       "[(0.74, 0.99], (0.5, 0.74], (0.5, 0.74], (0.74, 0.99], (0.74, 0.99], ..., (0.5, 0.74], (0.74, 0.99], (0.5, 0.74], (0.25, 0.5], (0.25, 0.5]]\n",
       "Length: 100\n",
       "Categories (4, interval[float64, right]): [(0.0063, 0.25] < (0.25, 0.5] < (0.5, 0.74] < (0.74, 0.99]]"
      ]
     },
     "execution_count": 80,
     "metadata": {},
     "output_type": "execute_result"
    }
   ],
   "source": [
    "# equal length bins based on min and max values\n",
    "pd.cut(data, 4, precision=2)"
   ]
  },
  {
   "cell_type": "code",
   "execution_count": 81,
   "metadata": {},
   "outputs": [
    {
     "data": {
      "text/plain": [
       "0     0.449042\n",
       "1          NaN\n",
       "2     0.576925\n",
       "3          NaN\n",
       "4     0.696776\n",
       "5          NaN\n",
       "6     0.294403\n",
       "7     0.915750\n",
       "8     0.684169\n",
       "9     0.377829\n",
       "10    0.287489\n",
       "11    0.194726\n",
       "12    0.719439\n",
       "13    0.432730\n",
       "14    0.140881\n",
       "15    0.366714\n",
       "16    0.128594\n",
       "17    0.852145\n",
       "18    0.665693\n",
       "19    0.489197\n",
       "dtype: float64"
      ]
     },
     "execution_count": 81,
     "metadata": {},
     "output_type": "execute_result"
    }
   ],
   "source": [
    "# create sample Series data\n",
    "ser1 = pd.Series(np.random.rand(20))\n",
    "ser1[[1,3,5]] = np.nan\n",
    "ser1"
   ]
  },
  {
   "cell_type": "code",
   "execution_count": 82,
   "metadata": {},
   "outputs": [
    {
     "data": {
      "text/plain": [
       "0      medium\n",
       "1         NaN\n",
       "2       large\n",
       "3         NaN\n",
       "4       large\n",
       "5         NaN\n",
       "6       small\n",
       "7     x-large\n",
       "8       large\n",
       "9      medium\n",
       "10      small\n",
       "11      small\n",
       "12    x-large\n",
       "13     medium\n",
       "14      small\n",
       "15     medium\n",
       "16      small\n",
       "17    x-large\n",
       "18      large\n",
       "19     medium\n",
       "dtype: category\n",
       "Categories (4, object): ['small' < 'medium' < 'large' < 'x-large']"
      ]
     },
     "execution_count": 82,
     "metadata": {},
     "output_type": "execute_result"
    }
   ],
   "source": [
    "# bin in four equal categories\n",
    "ser1 = pd.cut(ser1, 4, precision=4, labels=['small','medium','large','x-large'])\n",
    "ser1"
   ]
  },
  {
   "cell_type": "code",
   "execution_count": 84,
   "metadata": {},
   "outputs": [
    {
     "data": {
      "text/plain": [
       "Index(['small', 'medium', 'large', 'x-large'], dtype='object')"
      ]
     },
     "execution_count": 84,
     "metadata": {},
     "output_type": "execute_result"
    }
   ],
   "source": [
    "ser1.cat.categories"
   ]
  },
  {
   "cell_type": "code",
   "execution_count": 85,
   "metadata": {},
   "outputs": [
    {
     "data": {
      "text/plain": [
       "0      medium\n",
       "1         NaN\n",
       "2       large\n",
       "3         NaN\n",
       "4       large\n",
       "5         NaN\n",
       "6       small\n",
       "7     x-large\n",
       "8       large\n",
       "9      medium\n",
       "10      small\n",
       "11      small\n",
       "12    x-large\n",
       "13     medium\n",
       "14      small\n",
       "15     medium\n",
       "16      small\n",
       "17    x-large\n",
       "18      large\n",
       "19     medium\n",
       "dtype: category\n",
       "Categories (5, object): ['small' < 'medium' < 'large' < 'x-large' < 'not_measured']"
      ]
     },
     "execution_count": 85,
     "metadata": {},
     "output_type": "execute_result"
    }
   ],
   "source": [
    "# add category - added to the front position\n",
    "ser1 = ser1.cat.add_categories('not_measured')\n",
    "ser1"
   ]
  },
  {
   "cell_type": "code",
   "execution_count": 86,
   "metadata": {},
   "outputs": [
    {
     "data": {
      "text/plain": [
       "0      medium\n",
       "1         NaN\n",
       "2       large\n",
       "3         NaN\n",
       "4       large\n",
       "5         NaN\n",
       "6       small\n",
       "7     x-large\n",
       "8       large\n",
       "9      medium\n",
       "10      small\n",
       "11      small\n",
       "12    x-large\n",
       "13     medium\n",
       "14      small\n",
       "15     medium\n",
       "16      small\n",
       "17    x-large\n",
       "18      large\n",
       "19     medium\n",
       "dtype: category\n",
       "Categories (5, object): ['not_measured' < 'small' < 'medium' < 'large' < 'x-large']"
      ]
     },
     "execution_count": 86,
     "metadata": {},
     "output_type": "execute_result"
    }
   ],
   "source": [
    "# reorder categories so that new category is first\n",
    "ser1 = ser1.cat.reorder_categories(['not_measured','small','medium','large','x-large'])\n",
    "ser1"
   ]
  },
  {
   "cell_type": "code",
   "execution_count": 87,
   "metadata": {},
   "outputs": [
    {
     "data": {
      "text/plain": [
       "0      medium\n",
       "1         NaN\n",
       "2       large\n",
       "3         NaN\n",
       "4       large\n",
       "5         NaN\n",
       "6       small\n",
       "7     x-large\n",
       "8       large\n",
       "9      medium\n",
       "10      small\n",
       "11      small\n",
       "12    x-large\n",
       "13     medium\n",
       "14      small\n",
       "15     medium\n",
       "16      small\n",
       "17    x-large\n",
       "18      large\n",
       "19     medium\n",
       "dtype: category\n",
       "Categories (5, object): ['not_measured', 'small', 'medium', 'large', 'x-large']"
      ]
     },
     "execution_count": 87,
     "metadata": {},
     "output_type": "execute_result"
    }
   ],
   "source": [
    "# make categories unordered\n",
    "ser1 = ser1.cat.as_unordered()\n",
    "ser1"
   ]
  },
  {
   "cell_type": "code",
   "execution_count": 88,
   "metadata": {},
   "outputs": [
    {
     "data": {
      "text/plain": [
       "0           medium\n",
       "1     not_measured\n",
       "2            large\n",
       "3     not_measured\n",
       "4            large\n",
       "5     not_measured\n",
       "6            small\n",
       "7          x-large\n",
       "8            large\n",
       "9           medium\n",
       "10           small\n",
       "11           small\n",
       "12         x-large\n",
       "13          medium\n",
       "14           small\n",
       "15          medium\n",
       "16           small\n",
       "17         x-large\n",
       "18           large\n",
       "19          medium\n",
       "dtype: category\n",
       "Categories (5, object): ['not_measured', 'small', 'medium', 'large', 'x-large']"
      ]
     },
     "execution_count": 88,
     "metadata": {},
     "output_type": "execute_result"
    }
   ],
   "source": [
    "# fillna with 'not_measured'\n",
    "ser1 = ser1.fillna('not_measured')\n",
    "#ser1 = ser1.fillna('missing') this will give an error becuase 'missing' is not a category. that is why we intially added 'not_measured' as a category, so we could actually fill missing values with a valid category\n",
    "ser1"
   ]
  },
  {
   "cell_type": "code",
   "execution_count": 89,
   "metadata": {},
   "outputs": [
    {
     "data": {
      "text/plain": [
       "0    a\n",
       "1    b\n",
       "2    a\n",
       "3    c\n",
       "4    b\n",
       "5    a\n",
       "dtype: category\n",
       "Categories (3, object): ['a', 'b', 'c']"
      ]
     },
     "execution_count": 89,
     "metadata": {},
     "output_type": "execute_result"
    }
   ],
   "source": [
    "# creating a categorical datatype with automatic categories\n",
    "ser2 = pd.Series(['a','b','a','c','b','a']).astype('category')\n",
    "ser2"
   ]
  },
  {
   "cell_type": "markdown",
   "metadata": {},
   "source": [
    "#### Student Practice\n",
    "Try to perform the following tasks on the `vienna` dataset. Then check your answers as I walk through the solutions. Unless the exercise asks you to create a new DataFrame, you can assume that you are to alter the original `vienna` data."
   ]
  },
  {
   "cell_type": "markdown",
   "metadata": {},
   "source": [
    "**Exercise:** View the `host_response_time`, `host_response_rate`, and `host_acceptance_rate` columns of the `vienna` dataset."
   ]
  },
  {
   "cell_type": "code",
   "execution_count": 90,
   "metadata": {
    "code_folding": []
   },
   "outputs": [
    {
     "data": {
      "text/html": [
       "<div>\n",
       "<style scoped>\n",
       "    .dataframe tbody tr th:only-of-type {\n",
       "        vertical-align: middle;\n",
       "    }\n",
       "\n",
       "    .dataframe tbody tr th {\n",
       "        vertical-align: top;\n",
       "    }\n",
       "\n",
       "    .dataframe thead th {\n",
       "        text-align: right;\n",
       "    }\n",
       "</style>\n",
       "<table border=\"1\" class=\"dataframe\">\n",
       "  <thead>\n",
       "    <tr style=\"text-align: right;\">\n",
       "      <th></th>\n",
       "      <th>host_response_time</th>\n",
       "      <th>host_response_rate</th>\n",
       "      <th>host_acceptance_rate</th>\n",
       "    </tr>\n",
       "    <tr>\n",
       "      <th>id</th>\n",
       "      <th></th>\n",
       "      <th></th>\n",
       "      <th></th>\n",
       "    </tr>\n",
       "  </thead>\n",
       "  <tbody>\n",
       "    <tr>\n",
       "      <th>15883</th>\n",
       "      <td>NaN</td>\n",
       "      <td>NaN</td>\n",
       "      <td>100%</td>\n",
       "    </tr>\n",
       "    <tr>\n",
       "      <th>38768</th>\n",
       "      <td>within an hour</td>\n",
       "      <td>100%</td>\n",
       "      <td>98%</td>\n",
       "    </tr>\n",
       "    <tr>\n",
       "      <th>40625</th>\n",
       "      <td>within a few hours</td>\n",
       "      <td>90%</td>\n",
       "      <td>74%</td>\n",
       "    </tr>\n",
       "    <tr>\n",
       "      <th>51287</th>\n",
       "      <td>within an hour</td>\n",
       "      <td>100%</td>\n",
       "      <td>98%</td>\n",
       "    </tr>\n",
       "    <tr>\n",
       "      <th>70637</th>\n",
       "      <td>within a few hours</td>\n",
       "      <td>100%</td>\n",
       "      <td>71%</td>\n",
       "    </tr>\n",
       "    <tr>\n",
       "      <th>...</th>\n",
       "      <td>...</td>\n",
       "      <td>...</td>\n",
       "      <td>...</td>\n",
       "    </tr>\n",
       "    <tr>\n",
       "      <th>49169158</th>\n",
       "      <td>within a day</td>\n",
       "      <td>100%</td>\n",
       "      <td>NaN</td>\n",
       "    </tr>\n",
       "    <tr>\n",
       "      <th>49169449</th>\n",
       "      <td>within an hour</td>\n",
       "      <td>100%</td>\n",
       "      <td>87%</td>\n",
       "    </tr>\n",
       "    <tr>\n",
       "      <th>49169526</th>\n",
       "      <td>within a few hours</td>\n",
       "      <td>100%</td>\n",
       "      <td>100%</td>\n",
       "    </tr>\n",
       "    <tr>\n",
       "      <th>49170145</th>\n",
       "      <td>NaN</td>\n",
       "      <td>NaN</td>\n",
       "      <td>NaN</td>\n",
       "    </tr>\n",
       "    <tr>\n",
       "      <th>49171797</th>\n",
       "      <td>within a few hours</td>\n",
       "      <td>100%</td>\n",
       "      <td>100%</td>\n",
       "    </tr>\n",
       "  </tbody>\n",
       "</table>\n",
       "<p>11383 rows × 3 columns</p>\n",
       "</div>"
      ],
      "text/plain": [
       "          host_response_time host_response_rate host_acceptance_rate\n",
       "id                                                                  \n",
       "15883                    NaN                NaN                 100%\n",
       "38768         within an hour               100%                  98%\n",
       "40625     within a few hours                90%                  74%\n",
       "51287         within an hour               100%                  98%\n",
       "70637     within a few hours               100%                  71%\n",
       "...                      ...                ...                  ...\n",
       "49169158        within a day               100%                  NaN\n",
       "49169449      within an hour               100%                  87%\n",
       "49169526  within a few hours               100%                 100%\n",
       "49170145                 NaN                NaN                  NaN\n",
       "49171797  within a few hours               100%                 100%\n",
       "\n",
       "[11383 rows x 3 columns]"
      ]
     },
     "execution_count": 90,
     "metadata": {},
     "output_type": "execute_result"
    }
   ],
   "source": [
    "vienna[['host_response_time', 'host_response_rate', 'host_acceptance_rate' ]]"
   ]
  },
  {
   "cell_type": "markdown",
   "metadata": {},
   "source": [
    "**Exercise:** For `host_response_time`, code all missing values as `unknown`"
   ]
  },
  {
   "cell_type": "code",
   "execution_count": 91,
   "metadata": {
    "code_folding": []
   },
   "outputs": [],
   "source": [
    "vienna.host_response_time.fillna('unknown', inplace=True)"
   ]
  },
  {
   "cell_type": "markdown",
   "metadata": {},
   "source": [
    "**Exercise:** Make the `host_response_time` a categorical datatype."
   ]
  },
  {
   "cell_type": "code",
   "execution_count": 92,
   "metadata": {
    "code_folding": []
   },
   "outputs": [
    {
     "data": {
      "text/plain": [
       "id\n",
       "15883                  unknown\n",
       "38768           within an hour\n",
       "40625       within a few hours\n",
       "51287           within an hour\n",
       "70637       within a few hours\n",
       "                   ...        \n",
       "49169158          within a day\n",
       "49169449        within an hour\n",
       "49169526    within a few hours\n",
       "49170145               unknown\n",
       "49171797    within a few hours\n",
       "Name: host_response_time, Length: 11383, dtype: category\n",
       "Categories (5, object): ['a few days or more', 'unknown', 'within a day', 'within a few hours', 'within an hour']"
      ]
     },
     "execution_count": 92,
     "metadata": {},
     "output_type": "execute_result"
    }
   ],
   "source": [
    "vienna.host_response_time = vienna.host_response_time.astype('category')\n",
    "vienna.host_response_time"
   ]
  },
  {
   "cell_type": "markdown",
   "metadata": {},
   "source": [
    "**Exercise:** First, run the code below to turn the `host_acceptance_rate` and `host_response_rate` from strings to floats. \n",
    "\n",
    "Note that the `regex=True` determines if the passed-in pattern is a regular expression:\n",
    "\n",
    "- If True, assumes the passed-in pattern is a regular expression.\n",
    "\n",
    "- If False, treats the pattern as a literal string"
   ]
  },
  {
   "cell_type": "code",
   "execution_count": 93,
   "metadata": {},
   "outputs": [
    {
     "data": {
      "text/plain": [
       "100%    3222\n",
       "98%      416\n",
       "99%      412\n",
       "0%       273\n",
       "96%      264\n",
       "        ... \n",
       "77%        1\n",
       "52%        1\n",
       "59%        1\n",
       "10%        1\n",
       "61%        1\n",
       "Name: host_acceptance_rate, Length: 71, dtype: int64"
      ]
     },
     "execution_count": 93,
     "metadata": {},
     "output_type": "execute_result"
    }
   ],
   "source": [
    "#vienna['host_acceptance_rate']\n",
    "#vienna.loc[:,'host_response_rate']\n",
    "vienna['host_acceptance_rate'].value_counts()"
   ]
  },
  {
   "cell_type": "code",
   "execution_count": 94,
   "metadata": {
    "code_folding": []
   },
   "outputs": [],
   "source": [
    "# change string values to floats\n",
    "vienna.loc[:,'host_acceptance_rate'] = vienna.loc[:,'host_acceptance_rate'].str.replace('\\%', '', regex=True).astype(float)\n",
    "vienna.loc[:,'host_response_rate'] = vienna.loc[:,'host_response_rate'].str.replace('\\%', '', regex=True).astype(float)"
   ]
  },
  {
   "cell_type": "markdown",
   "metadata": {},
   "source": [
    "**Exercise:** Create the following bins for the `host_acceptance_rate` and `host_response_rate` columns\n",
    "- 0 - 49\n",
    "- 50 - 79\n",
    "- 80 - 89\n",
    "- 90 - 99\n",
    "- 100"
   ]
  },
  {
   "cell_type": "code",
   "execution_count": 95,
   "metadata": {},
   "outputs": [],
   "source": [
    "bins = [0,49,79,89,99,100]\n",
    "vienna['host_acceptance_rate'] = pd.cut(vienna.host_acceptance_rate, bins, labels = ['0-49','50-79','80-89','90-99','100'])\n",
    "vienna['host_response_rate'] = pd.cut(vienna.host_response_rate, bins, labels = ['0-49','50-79','80-89','90-99','100'])"
   ]
  },
  {
   "cell_type": "code",
   "execution_count": 96,
   "metadata": {},
   "outputs": [
    {
     "data": {
      "text/plain": [
       "id\n",
       "15883         NaN\n",
       "38768         100\n",
       "40625       90-99\n",
       "51287         100\n",
       "70637         100\n",
       "            ...  \n",
       "49169158      100\n",
       "49169449      100\n",
       "49169526      100\n",
       "49170145      NaN\n",
       "49171797      100\n",
       "Name: host_response_rate, Length: 11383, dtype: category\n",
       "Categories (5, object): ['0-49' < '50-79' < '80-89' < '90-99' < '100']"
      ]
     },
     "execution_count": 96,
     "metadata": {},
     "output_type": "execute_result"
    }
   ],
   "source": [
    "# verify results\n",
    "vienna['host_response_rate']"
   ]
  },
  {
   "cell_type": "markdown",
   "metadata": {},
   "source": [
    "**Exercise:** \n",
    "1. Add a new `unknown` category for both `host_response_rate` and `host_acceptance_rate`. \n",
    "2. Re-order the categories so that `unknown` is first.\n",
    "3. Fill all missing values in these two columns with the `unknown` category."
   ]
  },
  {
   "cell_type": "code",
   "execution_count": 97,
   "metadata": {
    "code_folding": []
   },
   "outputs": [
    {
     "data": {
      "text/plain": [
       "id\n",
       "15883         NaN\n",
       "38768         100\n",
       "40625       90-99\n",
       "51287         100\n",
       "70637         100\n",
       "            ...  \n",
       "49169158      100\n",
       "49169449      100\n",
       "49169526      100\n",
       "49170145      NaN\n",
       "49171797      100\n",
       "Name: host_response_rate, Length: 11383, dtype: category\n",
       "Categories (6, object): ['0-49' < '50-79' < '80-89' < '90-99' < '100' < 'unknown']"
      ]
     },
     "execution_count": 97,
     "metadata": {},
     "output_type": "execute_result"
    }
   ],
   "source": [
    "### ENTER CODE HERE ###  cat.add_categories('not_measured')\n",
    "vienna['host_acceptance_rate'] = vienna['host_acceptance_rate'].cat.add_categories('unknown')\n",
    "vienna['host_response_rate'] = vienna['host_response_rate'].cat.add_categories('unknown')\n",
    "vienna['host_response_rate']"
   ]
  },
  {
   "cell_type": "code",
   "execution_count": 98,
   "metadata": {},
   "outputs": [],
   "source": [
    "#ser1.cat.reorder_categories(['not_measured','small','medium','large','x-large'])\n",
    "vienna['host_acceptance_rate'] = vienna['host_acceptance_rate'].cat.reorder_categories(['unknown','0-49','50-79','80-89','90-99','100'])\n",
    "vienna['host_response_rate'] = vienna['host_response_rate'].cat.reorder_categories(['unknown','0-49','50-79','80-89','90-99','100'])"
   ]
  },
  {
   "cell_type": "code",
   "execution_count": 99,
   "metadata": {},
   "outputs": [],
   "source": [
    "vienna['host_acceptance_rate'].fillna('unknown', inplace=True)\n",
    "vienna['host_response_rate'].fillna('unknown', inplace=True)"
   ]
  },
  {
   "cell_type": "code",
   "execution_count": 100,
   "metadata": {},
   "outputs": [
    {
     "data": {
      "text/html": [
       "<div>\n",
       "<style scoped>\n",
       "    .dataframe tbody tr th:only-of-type {\n",
       "        vertical-align: middle;\n",
       "    }\n",
       "\n",
       "    .dataframe tbody tr th {\n",
       "        vertical-align: top;\n",
       "    }\n",
       "\n",
       "    .dataframe thead th {\n",
       "        text-align: right;\n",
       "    }\n",
       "</style>\n",
       "<table border=\"1\" class=\"dataframe\">\n",
       "  <thead>\n",
       "    <tr style=\"text-align: right;\">\n",
       "      <th></th>\n",
       "      <th>host_response_time</th>\n",
       "      <th>host_response_rate</th>\n",
       "      <th>host_acceptance_rate</th>\n",
       "    </tr>\n",
       "    <tr>\n",
       "      <th>id</th>\n",
       "      <th></th>\n",
       "      <th></th>\n",
       "      <th></th>\n",
       "    </tr>\n",
       "  </thead>\n",
       "  <tbody>\n",
       "    <tr>\n",
       "      <th>15883</th>\n",
       "      <td>unknown</td>\n",
       "      <td>unknown</td>\n",
       "      <td>100</td>\n",
       "    </tr>\n",
       "    <tr>\n",
       "      <th>38768</th>\n",
       "      <td>within an hour</td>\n",
       "      <td>100</td>\n",
       "      <td>90-99</td>\n",
       "    </tr>\n",
       "    <tr>\n",
       "      <th>40625</th>\n",
       "      <td>within a few hours</td>\n",
       "      <td>90-99</td>\n",
       "      <td>50-79</td>\n",
       "    </tr>\n",
       "    <tr>\n",
       "      <th>51287</th>\n",
       "      <td>within an hour</td>\n",
       "      <td>100</td>\n",
       "      <td>90-99</td>\n",
       "    </tr>\n",
       "    <tr>\n",
       "      <th>70637</th>\n",
       "      <td>within a few hours</td>\n",
       "      <td>100</td>\n",
       "      <td>50-79</td>\n",
       "    </tr>\n",
       "    <tr>\n",
       "      <th>...</th>\n",
       "      <td>...</td>\n",
       "      <td>...</td>\n",
       "      <td>...</td>\n",
       "    </tr>\n",
       "    <tr>\n",
       "      <th>49169158</th>\n",
       "      <td>within a day</td>\n",
       "      <td>100</td>\n",
       "      <td>unknown</td>\n",
       "    </tr>\n",
       "    <tr>\n",
       "      <th>49169449</th>\n",
       "      <td>within an hour</td>\n",
       "      <td>100</td>\n",
       "      <td>80-89</td>\n",
       "    </tr>\n",
       "    <tr>\n",
       "      <th>49169526</th>\n",
       "      <td>within a few hours</td>\n",
       "      <td>100</td>\n",
       "      <td>100</td>\n",
       "    </tr>\n",
       "    <tr>\n",
       "      <th>49170145</th>\n",
       "      <td>unknown</td>\n",
       "      <td>unknown</td>\n",
       "      <td>unknown</td>\n",
       "    </tr>\n",
       "    <tr>\n",
       "      <th>49171797</th>\n",
       "      <td>within a few hours</td>\n",
       "      <td>100</td>\n",
       "      <td>100</td>\n",
       "    </tr>\n",
       "  </tbody>\n",
       "</table>\n",
       "<p>11383 rows × 3 columns</p>\n",
       "</div>"
      ],
      "text/plain": [
       "          host_response_time host_response_rate host_acceptance_rate\n",
       "id                                                                  \n",
       "15883                unknown            unknown                  100\n",
       "38768         within an hour                100                90-99\n",
       "40625     within a few hours              90-99                50-79\n",
       "51287         within an hour                100                90-99\n",
       "70637     within a few hours                100                50-79\n",
       "...                      ...                ...                  ...\n",
       "49169158        within a day                100              unknown\n",
       "49169449      within an hour                100                80-89\n",
       "49169526  within a few hours                100                  100\n",
       "49170145             unknown            unknown              unknown\n",
       "49171797  within a few hours                100                  100\n",
       "\n",
       "[11383 rows x 3 columns]"
      ]
     },
     "execution_count": 100,
     "metadata": {},
     "output_type": "execute_result"
    }
   ],
   "source": [
    "#check values\n",
    "vienna[['host_response_time', 'host_response_rate', 'host_acceptance_rate' ]]"
   ]
  },
  {
   "cell_type": "markdown",
   "metadata": {},
   "source": [
    "### Detecting & Filtering Outliers<a name=\"outlier\"></a>"
   ]
  },
  {
   "cell_type": "code",
   "execution_count": 101,
   "metadata": {},
   "outputs": [
    {
     "data": {
      "text/html": [
       "<div>\n",
       "<style scoped>\n",
       "    .dataframe tbody tr th:only-of-type {\n",
       "        vertical-align: middle;\n",
       "    }\n",
       "\n",
       "    .dataframe tbody tr th {\n",
       "        vertical-align: top;\n",
       "    }\n",
       "\n",
       "    .dataframe thead th {\n",
       "        text-align: right;\n",
       "    }\n",
       "</style>\n",
       "<table border=\"1\" class=\"dataframe\">\n",
       "  <thead>\n",
       "    <tr style=\"text-align: right;\">\n",
       "      <th></th>\n",
       "      <th>0</th>\n",
       "      <th>1</th>\n",
       "      <th>2</th>\n",
       "      <th>3</th>\n",
       "    </tr>\n",
       "  </thead>\n",
       "  <tbody>\n",
       "    <tr>\n",
       "      <th>0</th>\n",
       "      <td>-0.651351</td>\n",
       "      <td>-1.392607</td>\n",
       "      <td>1.045254</td>\n",
       "      <td>-0.194720</td>\n",
       "    </tr>\n",
       "    <tr>\n",
       "      <th>1</th>\n",
       "      <td>0.121079</td>\n",
       "      <td>0.507230</td>\n",
       "      <td>0.794660</td>\n",
       "      <td>-0.661981</td>\n",
       "    </tr>\n",
       "    <tr>\n",
       "      <th>2</th>\n",
       "      <td>-0.088559</td>\n",
       "      <td>-0.952313</td>\n",
       "      <td>0.078048</td>\n",
       "      <td>1.167952</td>\n",
       "    </tr>\n",
       "    <tr>\n",
       "      <th>3</th>\n",
       "      <td>1.150980</td>\n",
       "      <td>-1.560503</td>\n",
       "      <td>-1.109477</td>\n",
       "      <td>0.632489</td>\n",
       "    </tr>\n",
       "    <tr>\n",
       "      <th>4</th>\n",
       "      <td>-2.076211</td>\n",
       "      <td>-0.343737</td>\n",
       "      <td>-1.776275</td>\n",
       "      <td>-0.576417</td>\n",
       "    </tr>\n",
       "    <tr>\n",
       "      <th>...</th>\n",
       "      <td>...</td>\n",
       "      <td>...</td>\n",
       "      <td>...</td>\n",
       "      <td>...</td>\n",
       "    </tr>\n",
       "    <tr>\n",
       "      <th>995</th>\n",
       "      <td>1.901510</td>\n",
       "      <td>-0.389727</td>\n",
       "      <td>1.730213</td>\n",
       "      <td>-1.067951</td>\n",
       "    </tr>\n",
       "    <tr>\n",
       "      <th>996</th>\n",
       "      <td>-0.018809</td>\n",
       "      <td>-0.819434</td>\n",
       "      <td>1.748740</td>\n",
       "      <td>-0.952606</td>\n",
       "    </tr>\n",
       "    <tr>\n",
       "      <th>997</th>\n",
       "      <td>0.260436</td>\n",
       "      <td>0.161325</td>\n",
       "      <td>-1.063259</td>\n",
       "      <td>-0.218654</td>\n",
       "    </tr>\n",
       "    <tr>\n",
       "      <th>998</th>\n",
       "      <td>1.731182</td>\n",
       "      <td>0.084304</td>\n",
       "      <td>-0.308984</td>\n",
       "      <td>-0.872049</td>\n",
       "    </tr>\n",
       "    <tr>\n",
       "      <th>999</th>\n",
       "      <td>1.079558</td>\n",
       "      <td>0.661657</td>\n",
       "      <td>-0.072813</td>\n",
       "      <td>0.362651</td>\n",
       "    </tr>\n",
       "  </tbody>\n",
       "</table>\n",
       "<p>1000 rows × 4 columns</p>\n",
       "</div>"
      ],
      "text/plain": [
       "            0         1         2         3\n",
       "0   -0.651351 -1.392607  1.045254 -0.194720\n",
       "1    0.121079  0.507230  0.794660 -0.661981\n",
       "2   -0.088559 -0.952313  0.078048  1.167952\n",
       "3    1.150980 -1.560503 -1.109477  0.632489\n",
       "4   -2.076211 -0.343737 -1.776275 -0.576417\n",
       "..        ...       ...       ...       ...\n",
       "995  1.901510 -0.389727  1.730213 -1.067951\n",
       "996 -0.018809 -0.819434  1.748740 -0.952606\n",
       "997  0.260436  0.161325 -1.063259 -0.218654\n",
       "998  1.731182  0.084304 -0.308984 -0.872049\n",
       "999  1.079558  0.661657 -0.072813  0.362651\n",
       "\n",
       "[1000 rows x 4 columns]"
      ]
     },
     "execution_count": 101,
     "metadata": {},
     "output_type": "execute_result"
    }
   ],
   "source": [
    "# create DataFrame of normally distributed data\n",
    "data = pd.DataFrame(np.random.randn(1000, 4))\n",
    "data"
   ]
  },
  {
   "cell_type": "code",
   "execution_count": 102,
   "metadata": {},
   "outputs": [
    {
     "data": {
      "text/html": [
       "<div>\n",
       "<style scoped>\n",
       "    .dataframe tbody tr th:only-of-type {\n",
       "        vertical-align: middle;\n",
       "    }\n",
       "\n",
       "    .dataframe tbody tr th {\n",
       "        vertical-align: top;\n",
       "    }\n",
       "\n",
       "    .dataframe thead th {\n",
       "        text-align: right;\n",
       "    }\n",
       "</style>\n",
       "<table border=\"1\" class=\"dataframe\">\n",
       "  <thead>\n",
       "    <tr style=\"text-align: right;\">\n",
       "      <th></th>\n",
       "      <th>0</th>\n",
       "      <th>1</th>\n",
       "      <th>2</th>\n",
       "      <th>3</th>\n",
       "    </tr>\n",
       "  </thead>\n",
       "  <tbody>\n",
       "    <tr>\n",
       "      <th>count</th>\n",
       "      <td>1000.000000</td>\n",
       "      <td>1000.000000</td>\n",
       "      <td>1000.000000</td>\n",
       "      <td>1000.000000</td>\n",
       "    </tr>\n",
       "    <tr>\n",
       "      <th>mean</th>\n",
       "      <td>-0.075946</td>\n",
       "      <td>0.032050</td>\n",
       "      <td>-0.014150</td>\n",
       "      <td>0.009180</td>\n",
       "    </tr>\n",
       "    <tr>\n",
       "      <th>std</th>\n",
       "      <td>0.984380</td>\n",
       "      <td>1.004498</td>\n",
       "      <td>1.015306</td>\n",
       "      <td>1.000520</td>\n",
       "    </tr>\n",
       "    <tr>\n",
       "      <th>min</th>\n",
       "      <td>-3.164606</td>\n",
       "      <td>-2.926579</td>\n",
       "      <td>-2.874972</td>\n",
       "      <td>-2.674113</td>\n",
       "    </tr>\n",
       "    <tr>\n",
       "      <th>25%</th>\n",
       "      <td>-0.715545</td>\n",
       "      <td>-0.656326</td>\n",
       "      <td>-0.735765</td>\n",
       "      <td>-0.654650</td>\n",
       "    </tr>\n",
       "    <tr>\n",
       "      <th>50%</th>\n",
       "      <td>-0.032742</td>\n",
       "      <td>0.010303</td>\n",
       "      <td>-0.030418</td>\n",
       "      <td>-0.033782</td>\n",
       "    </tr>\n",
       "    <tr>\n",
       "      <th>75%</th>\n",
       "      <td>0.562008</td>\n",
       "      <td>0.703042</td>\n",
       "      <td>0.708949</td>\n",
       "      <td>0.664675</td>\n",
       "    </tr>\n",
       "    <tr>\n",
       "      <th>max</th>\n",
       "      <td>2.605788</td>\n",
       "      <td>3.024372</td>\n",
       "      <td>2.808896</td>\n",
       "      <td>3.285616</td>\n",
       "    </tr>\n",
       "  </tbody>\n",
       "</table>\n",
       "</div>"
      ],
      "text/plain": [
       "                 0            1            2            3\n",
       "count  1000.000000  1000.000000  1000.000000  1000.000000\n",
       "mean     -0.075946     0.032050    -0.014150     0.009180\n",
       "std       0.984380     1.004498     1.015306     1.000520\n",
       "min      -3.164606    -2.926579    -2.874972    -2.674113\n",
       "25%      -0.715545    -0.656326    -0.735765    -0.654650\n",
       "50%      -0.032742     0.010303    -0.030418    -0.033782\n",
       "75%       0.562008     0.703042     0.708949     0.664675\n",
       "max       2.605788     3.024372     2.808896     3.285616"
      ]
     },
     "execution_count": 102,
     "metadata": {},
     "output_type": "execute_result"
    }
   ],
   "source": [
    "data.describe()"
   ]
  },
  {
   "cell_type": "code",
   "execution_count": 103,
   "metadata": {},
   "outputs": [
    {
     "data": {
      "text/plain": [
       "183    3.024372\n",
       "Name: 1, dtype: float64"
      ]
     },
     "execution_count": 103,
     "metadata": {},
     "output_type": "execute_result"
    }
   ],
   "source": [
    "# select values in column 1 that have values exceeding 3 in absolute value\n",
    "column1 = data[1]\n",
    "column1[np.abs(column1) > 3]"
   ]
  },
  {
   "cell_type": "code",
   "execution_count": 104,
   "metadata": {},
   "outputs": [
    {
     "data": {
      "text/html": [
       "<div>\n",
       "<style scoped>\n",
       "    .dataframe tbody tr th:only-of-type {\n",
       "        vertical-align: middle;\n",
       "    }\n",
       "\n",
       "    .dataframe tbody tr th {\n",
       "        vertical-align: top;\n",
       "    }\n",
       "\n",
       "    .dataframe thead th {\n",
       "        text-align: right;\n",
       "    }\n",
       "</style>\n",
       "<table border=\"1\" class=\"dataframe\">\n",
       "  <thead>\n",
       "    <tr style=\"text-align: right;\">\n",
       "      <th></th>\n",
       "      <th>0</th>\n",
       "      <th>1</th>\n",
       "      <th>2</th>\n",
       "      <th>3</th>\n",
       "    </tr>\n",
       "  </thead>\n",
       "  <tbody>\n",
       "    <tr>\n",
       "      <th>5</th>\n",
       "      <td>-0.012871</td>\n",
       "      <td>-1.499792</td>\n",
       "      <td>0.980746</td>\n",
       "      <td>3.062044</td>\n",
       "    </tr>\n",
       "    <tr>\n",
       "      <th>183</th>\n",
       "      <td>-0.239053</td>\n",
       "      <td>3.024372</td>\n",
       "      <td>-0.108386</td>\n",
       "      <td>-0.127448</td>\n",
       "    </tr>\n",
       "    <tr>\n",
       "      <th>193</th>\n",
       "      <td>-3.137149</td>\n",
       "      <td>0.614623</td>\n",
       "      <td>-1.626612</td>\n",
       "      <td>-1.028855</td>\n",
       "    </tr>\n",
       "    <tr>\n",
       "      <th>639</th>\n",
       "      <td>0.712493</td>\n",
       "      <td>2.812070</td>\n",
       "      <td>-0.601186</td>\n",
       "      <td>3.165510</td>\n",
       "    </tr>\n",
       "    <tr>\n",
       "      <th>764</th>\n",
       "      <td>1.028122</td>\n",
       "      <td>1.896318</td>\n",
       "      <td>1.264948</td>\n",
       "      <td>3.285616</td>\n",
       "    </tr>\n",
       "    <tr>\n",
       "      <th>877</th>\n",
       "      <td>-3.164606</td>\n",
       "      <td>0.442918</td>\n",
       "      <td>-1.643852</td>\n",
       "      <td>-1.272848</td>\n",
       "    </tr>\n",
       "  </tbody>\n",
       "</table>\n",
       "</div>"
      ],
      "text/plain": [
       "            0         1         2         3\n",
       "5   -0.012871 -1.499792  0.980746  3.062044\n",
       "183 -0.239053  3.024372 -0.108386 -0.127448\n",
       "193 -3.137149  0.614623 -1.626612 -1.028855\n",
       "639  0.712493  2.812070 -0.601186  3.165510\n",
       "764  1.028122  1.896318  1.264948  3.285616\n",
       "877 -3.164606  0.442918 -1.643852 -1.272848"
      ]
     },
     "execution_count": 104,
     "metadata": {},
     "output_type": "execute_result"
    }
   ],
   "source": [
    "# select all rows having a value exceeding 3 or -3\n",
    "data[(np.abs(data) > 3).any(1)]"
   ]
  },
  {
   "cell_type": "code",
   "execution_count": 105,
   "metadata": {},
   "outputs": [],
   "source": [
    "# now set the values based on this criteria\n",
    "data[np.abs(data) > 3] = np.sign(data) * 3"
   ]
  },
  {
   "cell_type": "code",
   "execution_count": 106,
   "metadata": {},
   "outputs": [
    {
     "data": {
      "text/html": [
       "<div>\n",
       "<style scoped>\n",
       "    .dataframe tbody tr th:only-of-type {\n",
       "        vertical-align: middle;\n",
       "    }\n",
       "\n",
       "    .dataframe tbody tr th {\n",
       "        vertical-align: top;\n",
       "    }\n",
       "\n",
       "    .dataframe thead th {\n",
       "        text-align: right;\n",
       "    }\n",
       "</style>\n",
       "<table border=\"1\" class=\"dataframe\">\n",
       "  <thead>\n",
       "    <tr style=\"text-align: right;\">\n",
       "      <th></th>\n",
       "      <th>0</th>\n",
       "      <th>1</th>\n",
       "      <th>2</th>\n",
       "      <th>3</th>\n",
       "    </tr>\n",
       "  </thead>\n",
       "  <tbody>\n",
       "    <tr>\n",
       "      <th>5</th>\n",
       "      <td>-0.012871</td>\n",
       "      <td>-1.499792</td>\n",
       "      <td>0.980746</td>\n",
       "      <td>3.000000</td>\n",
       "    </tr>\n",
       "    <tr>\n",
       "      <th>183</th>\n",
       "      <td>-0.239053</td>\n",
       "      <td>3.000000</td>\n",
       "      <td>-0.108386</td>\n",
       "      <td>-0.127448</td>\n",
       "    </tr>\n",
       "    <tr>\n",
       "      <th>193</th>\n",
       "      <td>-3.000000</td>\n",
       "      <td>0.614623</td>\n",
       "      <td>-1.626612</td>\n",
       "      <td>-1.028855</td>\n",
       "    </tr>\n",
       "    <tr>\n",
       "      <th>639</th>\n",
       "      <td>0.712493</td>\n",
       "      <td>2.812070</td>\n",
       "      <td>-0.601186</td>\n",
       "      <td>3.000000</td>\n",
       "    </tr>\n",
       "    <tr>\n",
       "      <th>764</th>\n",
       "      <td>1.028122</td>\n",
       "      <td>1.896318</td>\n",
       "      <td>1.264948</td>\n",
       "      <td>3.000000</td>\n",
       "    </tr>\n",
       "    <tr>\n",
       "      <th>877</th>\n",
       "      <td>-3.000000</td>\n",
       "      <td>0.442918</td>\n",
       "      <td>-1.643852</td>\n",
       "      <td>-1.272848</td>\n",
       "    </tr>\n",
       "  </tbody>\n",
       "</table>\n",
       "</div>"
      ],
      "text/plain": [
       "            0         1         2         3\n",
       "5   -0.012871 -1.499792  0.980746  3.000000\n",
       "183 -0.239053  3.000000 -0.108386 -0.127448\n",
       "193 -3.000000  0.614623 -1.626612 -1.028855\n",
       "639  0.712493  2.812070 -0.601186  3.000000\n",
       "764  1.028122  1.896318  1.264948  3.000000\n",
       "877 -3.000000  0.442918 -1.643852 -1.272848"
      ]
     },
     "execution_count": 106,
     "metadata": {},
     "output_type": "execute_result"
    }
   ],
   "source": [
    "# look at results\n",
    "data[(np.abs(data) == 3).any(1)]"
   ]
  },
  {
   "cell_type": "code",
   "execution_count": 107,
   "metadata": {},
   "outputs": [
    {
     "data": {
      "text/html": [
       "<div>\n",
       "<style scoped>\n",
       "    .dataframe tbody tr th:only-of-type {\n",
       "        vertical-align: middle;\n",
       "    }\n",
       "\n",
       "    .dataframe tbody tr th {\n",
       "        vertical-align: top;\n",
       "    }\n",
       "\n",
       "    .dataframe thead th {\n",
       "        text-align: right;\n",
       "    }\n",
       "</style>\n",
       "<table border=\"1\" class=\"dataframe\">\n",
       "  <thead>\n",
       "    <tr style=\"text-align: right;\">\n",
       "      <th></th>\n",
       "      <th>0</th>\n",
       "      <th>1</th>\n",
       "      <th>2</th>\n",
       "      <th>3</th>\n",
       "    </tr>\n",
       "  </thead>\n",
       "  <tbody>\n",
       "    <tr>\n",
       "      <th>count</th>\n",
       "      <td>1000.000000</td>\n",
       "      <td>1000.000000</td>\n",
       "      <td>1000.000000</td>\n",
       "      <td>1000.000000</td>\n",
       "    </tr>\n",
       "    <tr>\n",
       "      <th>mean</th>\n",
       "      <td>-0.075644</td>\n",
       "      <td>0.032026</td>\n",
       "      <td>-0.014150</td>\n",
       "      <td>0.008667</td>\n",
       "    </tr>\n",
       "    <tr>\n",
       "      <th>std</th>\n",
       "      <td>0.983458</td>\n",
       "      <td>1.004425</td>\n",
       "      <td>1.015306</td>\n",
       "      <td>0.998927</td>\n",
       "    </tr>\n",
       "    <tr>\n",
       "      <th>min</th>\n",
       "      <td>-3.000000</td>\n",
       "      <td>-2.926579</td>\n",
       "      <td>-2.874972</td>\n",
       "      <td>-2.674113</td>\n",
       "    </tr>\n",
       "    <tr>\n",
       "      <th>25%</th>\n",
       "      <td>-0.715545</td>\n",
       "      <td>-0.656326</td>\n",
       "      <td>-0.735765</td>\n",
       "      <td>-0.654650</td>\n",
       "    </tr>\n",
       "    <tr>\n",
       "      <th>50%</th>\n",
       "      <td>-0.032742</td>\n",
       "      <td>0.010303</td>\n",
       "      <td>-0.030418</td>\n",
       "      <td>-0.033782</td>\n",
       "    </tr>\n",
       "    <tr>\n",
       "      <th>75%</th>\n",
       "      <td>0.562008</td>\n",
       "      <td>0.703042</td>\n",
       "      <td>0.708949</td>\n",
       "      <td>0.664675</td>\n",
       "    </tr>\n",
       "    <tr>\n",
       "      <th>max</th>\n",
       "      <td>2.605788</td>\n",
       "      <td>3.000000</td>\n",
       "      <td>2.808896</td>\n",
       "      <td>3.000000</td>\n",
       "    </tr>\n",
       "  </tbody>\n",
       "</table>\n",
       "</div>"
      ],
      "text/plain": [
       "                 0            1            2            3\n",
       "count  1000.000000  1000.000000  1000.000000  1000.000000\n",
       "mean     -0.075644     0.032026    -0.014150     0.008667\n",
       "std       0.983458     1.004425     1.015306     0.998927\n",
       "min      -3.000000    -2.926579    -2.874972    -2.674113\n",
       "25%      -0.715545    -0.656326    -0.735765    -0.654650\n",
       "50%      -0.032742     0.010303    -0.030418    -0.033782\n",
       "75%       0.562008     0.703042     0.708949     0.664675\n",
       "max       2.605788     3.000000     2.808896     3.000000"
      ]
     },
     "execution_count": 107,
     "metadata": {},
     "output_type": "execute_result"
    }
   ],
   "source": [
    "# notice min and max\n",
    "data.describe() "
   ]
  },
  {
   "cell_type": "code",
   "execution_count": 108,
   "metadata": {},
   "outputs": [
    {
     "data": {
      "text/html": [
       "<div>\n",
       "<style scoped>\n",
       "    .dataframe tbody tr th:only-of-type {\n",
       "        vertical-align: middle;\n",
       "    }\n",
       "\n",
       "    .dataframe tbody tr th {\n",
       "        vertical-align: top;\n",
       "    }\n",
       "\n",
       "    .dataframe thead th {\n",
       "        text-align: right;\n",
       "    }\n",
       "</style>\n",
       "<table border=\"1\" class=\"dataframe\">\n",
       "  <thead>\n",
       "    <tr style=\"text-align: right;\">\n",
       "      <th></th>\n",
       "      <th>0</th>\n",
       "      <th>1</th>\n",
       "      <th>2</th>\n",
       "      <th>3</th>\n",
       "    </tr>\n",
       "  </thead>\n",
       "  <tbody>\n",
       "    <tr>\n",
       "      <th>0</th>\n",
       "      <td>-1.0</td>\n",
       "      <td>-1.0</td>\n",
       "      <td>1.0</td>\n",
       "      <td>-1.0</td>\n",
       "    </tr>\n",
       "    <tr>\n",
       "      <th>1</th>\n",
       "      <td>1.0</td>\n",
       "      <td>1.0</td>\n",
       "      <td>1.0</td>\n",
       "      <td>-1.0</td>\n",
       "    </tr>\n",
       "    <tr>\n",
       "      <th>2</th>\n",
       "      <td>-1.0</td>\n",
       "      <td>-1.0</td>\n",
       "      <td>1.0</td>\n",
       "      <td>1.0</td>\n",
       "    </tr>\n",
       "    <tr>\n",
       "      <th>3</th>\n",
       "      <td>1.0</td>\n",
       "      <td>-1.0</td>\n",
       "      <td>-1.0</td>\n",
       "      <td>1.0</td>\n",
       "    </tr>\n",
       "    <tr>\n",
       "      <th>4</th>\n",
       "      <td>-1.0</td>\n",
       "      <td>-1.0</td>\n",
       "      <td>-1.0</td>\n",
       "      <td>-1.0</td>\n",
       "    </tr>\n",
       "  </tbody>\n",
       "</table>\n",
       "</div>"
      ],
      "text/plain": [
       "     0    1    2    3\n",
       "0 -1.0 -1.0  1.0 -1.0\n",
       "1  1.0  1.0  1.0 -1.0\n",
       "2 -1.0 -1.0  1.0  1.0\n",
       "3  1.0 -1.0 -1.0  1.0\n",
       "4 -1.0 -1.0 -1.0 -1.0"
      ]
     },
     "execution_count": 108,
     "metadata": {},
     "output_type": "execute_result"
    }
   ],
   "source": [
    "# np.sign() produces 1 and -1 values based on positive/negative\n",
    "np.sign(data).head()"
   ]
  },
  {
   "cell_type": "markdown",
   "metadata": {},
   "source": [
    "Now, let's look at the `price` column in the `vienna` dataset."
   ]
  },
  {
   "cell_type": "code",
   "execution_count": 109,
   "metadata": {},
   "outputs": [
    {
     "data": {
      "text/plain": [
       "id\n",
       "15883       $87.00 \n",
       "38768       $60.00 \n",
       "40625       $88.00 \n",
       "51287       $60.00 \n",
       "70637       $50.00 \n",
       "             ...   \n",
       "49169158    $93.00 \n",
       "49169449    $75.00 \n",
       "49169526    $24.00 \n",
       "49170145    $49.00 \n",
       "49171797    $18.00 \n",
       "Name: price, Length: 11383, dtype: object"
      ]
     },
     "execution_count": 109,
     "metadata": {},
     "output_type": "execute_result"
    }
   ],
   "source": [
    "# view price\n",
    "vienna['price']"
   ]
  },
  {
   "cell_type": "code",
   "execution_count": 110,
   "metadata": {},
   "outputs": [],
   "source": [
    "# remove dollar signs and commas; change to float\n",
    "vienna['price'] = vienna['price'].str.replace('\\$', '', regex=True).str.replace(',','').astype(float)"
   ]
  },
  {
   "cell_type": "code",
   "execution_count": 111,
   "metadata": {},
   "outputs": [
    {
     "data": {
      "text/plain": [
       "id\n",
       "15883       87.0\n",
       "38768       60.0\n",
       "40625       88.0\n",
       "51287       60.0\n",
       "70637       50.0\n",
       "            ... \n",
       "49169158    93.0\n",
       "49169449    75.0\n",
       "49169526    24.0\n",
       "49170145    49.0\n",
       "49171797    18.0\n",
       "Name: price, Length: 11383, dtype: float64"
      ]
     },
     "execution_count": 111,
     "metadata": {},
     "output_type": "execute_result"
    }
   ],
   "source": [
    "# verify results\n",
    "vienna['price']"
   ]
  },
  {
   "cell_type": "code",
   "execution_count": 112,
   "metadata": {},
   "outputs": [
    {
     "data": {
      "image/png": "[encoded data removed]",
      "text/plain": [
       "<Figure size 432x288 with 1 Axes>"
      ]
     },
     "metadata": {
      "needs_background": "light"
     },
     "output_type": "display_data"
    }
   ],
   "source": [
    "# let's plot the price data\n",
    "sns.kdeplot(data=vienna['price'], shade='fill')\n",
    "plt.show()"
   ]
  },
  {
   "cell_type": "code",
   "execution_count": 113,
   "metadata": {},
   "outputs": [
    {
     "data": {
      "text/plain": [
       "0.0"
      ]
     },
     "execution_count": 113,
     "metadata": {},
     "output_type": "execute_result"
    }
   ],
   "source": [
    "# check min price\n",
    "vienna['price'].min()"
   ]
  },
  {
   "cell_type": "code",
   "execution_count": 114,
   "metadata": {},
   "outputs": [
    {
     "data": {
      "text/plain": [
       "9.0"
      ]
     },
     "execution_count": 114,
     "metadata": {},
     "output_type": "execute_result"
    }
   ],
   "source": [
    "# remove instances with $0 price\n",
    "vienna = vienna.drop(vienna[vienna['price'] == 0].index)\n",
    "\n",
    "vienna['price'].min()"
   ]
  },
  {
   "cell_type": "code",
   "execution_count": 115,
   "metadata": {},
   "outputs": [
    {
     "data": {
      "text/plain": [
       "Int64Index([23848728, 24443919, 37800761, 37801571, 38262713, 40673594,\n",
       "            40845509, 40845756, 44230207, 45797045, 45798021, 45973934,\n",
       "            46159502, 46757065, 46939763, 47710508, 47852675, 48063916,\n",
       "            48650922],\n",
       "           dtype='int64', name='id')"
      ]
     },
     "execution_count": 115,
     "metadata": {},
     "output_type": "execute_result"
    }
   ],
   "source": [
    "# example to explain previous index code \n",
    "vienna[vienna['price'] == 9.0].index"
   ]
  },
  {
   "cell_type": "code",
   "execution_count": 116,
   "metadata": {},
   "outputs": [
    {
     "data": {
      "text/plain": [
       "10020.0"
      ]
     },
     "execution_count": 116,
     "metadata": {},
     "output_type": "execute_result"
    }
   ],
   "source": [
    "# check max price\n",
    "vienna['price'].max()"
   ]
  },
  {
   "cell_type": "code",
   "execution_count": 117,
   "metadata": {},
   "outputs": [
    {
     "data": {
      "text/plain": [
       "459"
      ]
     },
     "execution_count": 117,
     "metadata": {},
     "output_type": "execute_result"
    }
   ],
   "source": [
    "# 99% of data fall below the following price\n",
    "top = int(vienna['price'].quantile(0.99))\n",
    "top"
   ]
  },
  {
   "cell_type": "code",
   "execution_count": 118,
   "metadata": {},
   "outputs": [
    {
     "data": {
      "text/plain": [
       "458.0"
      ]
     },
     "execution_count": 118,
     "metadata": {},
     "output_type": "execute_result"
    }
   ],
   "source": [
    "# remove top 1% outliers\n",
    "vienna = vienna.drop(vienna[vienna['price'] > top].index)\n",
    "\n",
    "vienna['price'].max()"
   ]
  },
  {
   "cell_type": "code",
   "execution_count": 119,
   "metadata": {},
   "outputs": [
    {
     "data": {
      "image/png": "[encoded data removed]",
      "text/plain": [
       "<Figure size 432x288 with 1 Axes>"
      ]
     },
     "metadata": {
      "needs_background": "light"
     },
     "output_type": "display_data"
    }
   ],
   "source": [
    "# check new kde plot with outliers removed\n",
    "sns.kdeplot(data=vienna['price'], shade='fill')\n",
    "plt.show()"
   ]
  },
  {
   "cell_type": "markdown",
   "metadata": {},
   "source": [
    "### Dummy Variables<a name=\"dummy\"></a>\n",
    "\n",
    "Convert categorical variables into dummy variables as a lot of machine learning algorithms work specifically with numerical data."
   ]
  },
  {
   "cell_type": "code",
   "execution_count": 120,
   "metadata": {},
   "outputs": [
    {
     "data": {
      "text/plain": [
       "0      dog\n",
       "1      cat\n",
       "2      dog\n",
       "3    horse\n",
       "dtype: object"
      ]
     },
     "execution_count": 120,
     "metadata": {},
     "output_type": "execute_result"
    }
   ],
   "source": [
    "# create a simple series\n",
    "ser = pd.Series(['dog','cat','dog','horse'])\n",
    "ser"
   ]
  },
  {
   "cell_type": "code",
   "execution_count": 121,
   "metadata": {},
   "outputs": [
    {
     "data": {
      "text/html": [
       "<div>\n",
       "<style scoped>\n",
       "    .dataframe tbody tr th:only-of-type {\n",
       "        vertical-align: middle;\n",
       "    }\n",
       "\n",
       "    .dataframe tbody tr th {\n",
       "        vertical-align: top;\n",
       "    }\n",
       "\n",
       "    .dataframe thead th {\n",
       "        text-align: right;\n",
       "    }\n",
       "</style>\n",
       "<table border=\"1\" class=\"dataframe\">\n",
       "  <thead>\n",
       "    <tr style=\"text-align: right;\">\n",
       "      <th></th>\n",
       "      <th>cat</th>\n",
       "      <th>dog</th>\n",
       "      <th>horse</th>\n",
       "    </tr>\n",
       "  </thead>\n",
       "  <tbody>\n",
       "    <tr>\n",
       "      <th>0</th>\n",
       "      <td>0</td>\n",
       "      <td>1</td>\n",
       "      <td>0</td>\n",
       "    </tr>\n",
       "    <tr>\n",
       "      <th>1</th>\n",
       "      <td>1</td>\n",
       "      <td>0</td>\n",
       "      <td>0</td>\n",
       "    </tr>\n",
       "    <tr>\n",
       "      <th>2</th>\n",
       "      <td>0</td>\n",
       "      <td>1</td>\n",
       "      <td>0</td>\n",
       "    </tr>\n",
       "    <tr>\n",
       "      <th>3</th>\n",
       "      <td>0</td>\n",
       "      <td>0</td>\n",
       "      <td>1</td>\n",
       "    </tr>\n",
       "  </tbody>\n",
       "</table>\n",
       "</div>"
      ],
      "text/plain": [
       "   cat  dog  horse\n",
       "0    0    1      0\n",
       "1    1    0      0\n",
       "2    0    1      0\n",
       "3    0    0      1"
      ]
     },
     "execution_count": 121,
     "metadata": {},
     "output_type": "execute_result"
    }
   ],
   "source": [
    "# creates a seperate columnmn for every category\n",
    "# for example, for the dog column, the 1st row = dog, therefoer '1' was encoded\n",
    "pd.get_dummies(ser)"
   ]
  },
  {
   "cell_type": "code",
   "execution_count": 122,
   "metadata": {},
   "outputs": [
    {
     "data": {
      "text/html": [
       "<div>\n",
       "<style scoped>\n",
       "    .dataframe tbody tr th:only-of-type {\n",
       "        vertical-align: middle;\n",
       "    }\n",
       "\n",
       "    .dataframe tbody tr th {\n",
       "        vertical-align: top;\n",
       "    }\n",
       "\n",
       "    .dataframe thead th {\n",
       "        text-align: right;\n",
       "    }\n",
       "</style>\n",
       "<table border=\"1\" class=\"dataframe\">\n",
       "  <thead>\n",
       "    <tr style=\"text-align: right;\">\n",
       "      <th></th>\n",
       "      <th>animal_cat</th>\n",
       "      <th>animal_dog</th>\n",
       "      <th>animal_horse</th>\n",
       "    </tr>\n",
       "  </thead>\n",
       "  <tbody>\n",
       "    <tr>\n",
       "      <th>0</th>\n",
       "      <td>0</td>\n",
       "      <td>1</td>\n",
       "      <td>0</td>\n",
       "    </tr>\n",
       "    <tr>\n",
       "      <th>1</th>\n",
       "      <td>1</td>\n",
       "      <td>0</td>\n",
       "      <td>0</td>\n",
       "    </tr>\n",
       "    <tr>\n",
       "      <th>2</th>\n",
       "      <td>0</td>\n",
       "      <td>1</td>\n",
       "      <td>0</td>\n",
       "    </tr>\n",
       "    <tr>\n",
       "      <th>3</th>\n",
       "      <td>0</td>\n",
       "      <td>0</td>\n",
       "      <td>1</td>\n",
       "    </tr>\n",
       "  </tbody>\n",
       "</table>\n",
       "</div>"
      ],
      "text/plain": [
       "   animal_cat  animal_dog  animal_horse\n",
       "0           0           1             0\n",
       "1           1           0             0\n",
       "2           0           1             0\n",
       "3           0           0             1"
      ]
     },
     "execution_count": 122,
     "metadata": {},
     "output_type": "execute_result"
    }
   ],
   "source": [
    "pd.get_dummies(ser, prefix='animal')"
   ]
  },
  {
   "cell_type": "code",
   "execution_count": 123,
   "metadata": {},
   "outputs": [
    {
     "data": {
      "text/html": [
       "<div>\n",
       "<style scoped>\n",
       "    .dataframe tbody tr th:only-of-type {\n",
       "        vertical-align: middle;\n",
       "    }\n",
       "\n",
       "    .dataframe tbody tr th {\n",
       "        vertical-align: top;\n",
       "    }\n",
       "\n",
       "    .dataframe thead th {\n",
       "        text-align: right;\n",
       "    }\n",
       "</style>\n",
       "<table border=\"1\" class=\"dataframe\">\n",
       "  <thead>\n",
       "    <tr style=\"text-align: right;\">\n",
       "      <th></th>\n",
       "      <th>dog</th>\n",
       "      <th>horse</th>\n",
       "    </tr>\n",
       "  </thead>\n",
       "  <tbody>\n",
       "    <tr>\n",
       "      <th>0</th>\n",
       "      <td>1</td>\n",
       "      <td>0</td>\n",
       "    </tr>\n",
       "    <tr>\n",
       "      <th>1</th>\n",
       "      <td>0</td>\n",
       "      <td>0</td>\n",
       "    </tr>\n",
       "    <tr>\n",
       "      <th>2</th>\n",
       "      <td>1</td>\n",
       "      <td>0</td>\n",
       "    </tr>\n",
       "    <tr>\n",
       "      <th>3</th>\n",
       "      <td>0</td>\n",
       "      <td>1</td>\n",
       "    </tr>\n",
       "  </tbody>\n",
       "</table>\n",
       "</div>"
      ],
      "text/plain": [
       "   dog  horse\n",
       "0    1      0\n",
       "1    0      0\n",
       "2    1      0\n",
       "3    0      1"
      ]
     },
     "execution_count": 123,
     "metadata": {},
     "output_type": "execute_result"
    }
   ],
   "source": [
    "# reduces correlation and dimensionality of data\n",
    "pd.get_dummies(ser, drop_first=True)"
   ]
  },
  {
   "cell_type": "code",
   "execution_count": 124,
   "metadata": {},
   "outputs": [
    {
     "data": {
      "text/plain": [
       "['cat', 'dog', nan]"
      ]
     },
     "execution_count": 124,
     "metadata": {},
     "output_type": "execute_result"
    }
   ],
   "source": [
    "ser1 = ['cat','dog',np.nan]\n",
    "ser1"
   ]
  },
  {
   "cell_type": "code",
   "execution_count": 125,
   "metadata": {},
   "outputs": [
    {
     "data": {
      "text/html": [
       "<div>\n",
       "<style scoped>\n",
       "    .dataframe tbody tr th:only-of-type {\n",
       "        vertical-align: middle;\n",
       "    }\n",
       "\n",
       "    .dataframe tbody tr th {\n",
       "        vertical-align: top;\n",
       "    }\n",
       "\n",
       "    .dataframe thead th {\n",
       "        text-align: right;\n",
       "    }\n",
       "</style>\n",
       "<table border=\"1\" class=\"dataframe\">\n",
       "  <thead>\n",
       "    <tr style=\"text-align: right;\">\n",
       "      <th></th>\n",
       "      <th>cat</th>\n",
       "      <th>dog</th>\n",
       "    </tr>\n",
       "  </thead>\n",
       "  <tbody>\n",
       "    <tr>\n",
       "      <th>0</th>\n",
       "      <td>1</td>\n",
       "      <td>0</td>\n",
       "    </tr>\n",
       "    <tr>\n",
       "      <th>1</th>\n",
       "      <td>0</td>\n",
       "      <td>1</td>\n",
       "    </tr>\n",
       "    <tr>\n",
       "      <th>2</th>\n",
       "      <td>0</td>\n",
       "      <td>0</td>\n",
       "    </tr>\n",
       "  </tbody>\n",
       "</table>\n",
       "</div>"
      ],
      "text/plain": [
       "   cat  dog\n",
       "0    1    0\n",
       "1    0    1\n",
       "2    0    0"
      ]
     },
     "execution_count": 125,
     "metadata": {},
     "output_type": "execute_result"
    }
   ],
   "source": [
    "pd.get_dummies(ser1)"
   ]
  },
  {
   "cell_type": "code",
   "execution_count": 126,
   "metadata": {},
   "outputs": [
    {
     "data": {
      "text/html": [
       "<div>\n",
       "<style scoped>\n",
       "    .dataframe tbody tr th:only-of-type {\n",
       "        vertical-align: middle;\n",
       "    }\n",
       "\n",
       "    .dataframe tbody tr th {\n",
       "        vertical-align: top;\n",
       "    }\n",
       "\n",
       "    .dataframe thead th {\n",
       "        text-align: right;\n",
       "    }\n",
       "</style>\n",
       "<table border=\"1\" class=\"dataframe\">\n",
       "  <thead>\n",
       "    <tr style=\"text-align: right;\">\n",
       "      <th></th>\n",
       "      <th>cat</th>\n",
       "      <th>dog</th>\n",
       "      <th>NaN</th>\n",
       "    </tr>\n",
       "  </thead>\n",
       "  <tbody>\n",
       "    <tr>\n",
       "      <th>0</th>\n",
       "      <td>1</td>\n",
       "      <td>0</td>\n",
       "      <td>0</td>\n",
       "    </tr>\n",
       "    <tr>\n",
       "      <th>1</th>\n",
       "      <td>0</td>\n",
       "      <td>1</td>\n",
       "      <td>0</td>\n",
       "    </tr>\n",
       "    <tr>\n",
       "      <th>2</th>\n",
       "      <td>0</td>\n",
       "      <td>0</td>\n",
       "      <td>1</td>\n",
       "    </tr>\n",
       "  </tbody>\n",
       "</table>\n",
       "</div>"
      ],
      "text/plain": [
       "   cat  dog  NaN\n",
       "0    1    0    0\n",
       "1    0    1    0\n",
       "2    0    0    1"
      ]
     },
     "execution_count": 126,
     "metadata": {},
     "output_type": "execute_result"
    }
   ],
   "source": [
    "pd.get_dummies(ser1, dummy_na=True)"
   ]
  },
  {
   "cell_type": "markdown",
   "metadata": {},
   "source": [
    "#### Student Practice\n",
    "Try to perform the following tasks on the `vienna` dataset. Then check your answers as I walk through the solutions. Unless the exercise asks you to create a new DataFrame, you can assume that you are to alter the original `vienna` data."
   ]
  },
  {
   "cell_type": "markdown",
   "metadata": {},
   "source": [
    "**Exercise:** What are the values and counts for the following three columns: `host_is_superhost`, `room_type`, and `property_type`?"
   ]
  },
  {
   "cell_type": "code",
   "execution_count": 127,
   "metadata": {
    "code_folding": []
   },
   "outputs": [
    {
     "name": "stdout",
     "output_type": "stream",
     "text": [
      "f    8399\n",
      "t    2865\n",
      "Name: host_is_superhost, dtype: int64\n",
      "------------------------\n",
      "Entire home/apt    8317\n",
      "Private room       2789\n",
      "Shared room          86\n",
      "Hotel room           71\n",
      "Name: room_type, dtype: int64\n",
      "------------------------\n",
      "Apartment    8115\n",
      "Room         2956\n",
      "House         149\n",
      "other          44\n",
      "Name: property_type, dtype: int64\n"
     ]
    }
   ],
   "source": [
    "print(vienna['host_is_superhost'].value_counts())\n",
    "print('------------------------')\n",
    "print(vienna['room_type'].value_counts())\n",
    "print('------------------------')\n",
    "print(vienna['property_type'].value_counts())"
   ]
  },
  {
   "cell_type": "markdown",
   "metadata": {},
   "source": [
    "**Exercise:** Use `get_dummies()` with the `room_type` and `property_type`columns. Add a prefix of your choosing and drop the first dummy variable for each. *Note: I didn't show you how to work with columns within a DataFrame. See if you can look at the [pandas documentation](https://pandas.pydata.org/docs/reference/api/pandas.get_dummies.html) to figure this out so that you update the `vienna` DataFrame.*"
   ]
  },
  {
   "cell_type": "code",
   "execution_count": 128,
   "metadata": {},
   "outputs": [
    {
     "data": {
      "text/html": [
       "<div>\n",
       "<style scoped>\n",
       "    .dataframe tbody tr th:only-of-type {\n",
       "        vertical-align: middle;\n",
       "    }\n",
       "\n",
       "    .dataframe tbody tr th {\n",
       "        vertical-align: top;\n",
       "    }\n",
       "\n",
       "    .dataframe thead th {\n",
       "        text-align: right;\n",
       "    }\n",
       "</style>\n",
       "<table border=\"1\" class=\"dataframe\">\n",
       "  <thead>\n",
       "    <tr style=\"text-align: right;\">\n",
       "      <th></th>\n",
       "      <th>name</th>\n",
       "      <th>description</th>\n",
       "      <th>host_id</th>\n",
       "      <th>host_since</th>\n",
       "      <th>host_response_time</th>\n",
       "      <th>host_response_rate</th>\n",
       "      <th>host_acceptance_rate</th>\n",
       "      <th>host_is_superhost</th>\n",
       "      <th>host_listings_count</th>\n",
       "      <th>neighborhood_cleansed</th>\n",
       "      <th>latitude</th>\n",
       "      <th>longitude</th>\n",
       "      <th>accommodates</th>\n",
       "      <th>bathrooms_text</th>\n",
       "      <th>bedrooms</th>\n",
       "      <th>beds</th>\n",
       "      <th>amenities</th>\n",
       "      <th>price</th>\n",
       "      <th>number_of_reviews</th>\n",
       "      <th>first_review</th>\n",
       "      <th>last_review</th>\n",
       "      <th>review_scores_rating</th>\n",
       "      <th>review_scores_accuracy</th>\n",
       "      <th>review_scores_cleanliness</th>\n",
       "      <th>review_scores_checkin</th>\n",
       "      <th>review_scores_communication</th>\n",
       "      <th>review_scores_location</th>\n",
       "      <th>review_scores_value</th>\n",
       "      <th>calculated_host_listings_count</th>\n",
       "      <th>reviews_per_month</th>\n",
       "      <th>room_Hotel room</th>\n",
       "      <th>room_Private room</th>\n",
       "      <th>room_Shared room</th>\n",
       "      <th>property_House</th>\n",
       "      <th>property_Room</th>\n",
       "      <th>property_other</th>\n",
       "    </tr>\n",
       "    <tr>\n",
       "      <th>id</th>\n",
       "      <th></th>\n",
       "      <th></th>\n",
       "      <th></th>\n",
       "      <th></th>\n",
       "      <th></th>\n",
       "      <th></th>\n",
       "      <th></th>\n",
       "      <th></th>\n",
       "      <th></th>\n",
       "      <th></th>\n",
       "      <th></th>\n",
       "      <th></th>\n",
       "      <th></th>\n",
       "      <th></th>\n",
       "      <th></th>\n",
       "      <th></th>\n",
       "      <th></th>\n",
       "      <th></th>\n",
       "      <th></th>\n",
       "      <th></th>\n",
       "      <th></th>\n",
       "      <th></th>\n",
       "      <th></th>\n",
       "      <th></th>\n",
       "      <th></th>\n",
       "      <th></th>\n",
       "      <th></th>\n",
       "      <th></th>\n",
       "      <th></th>\n",
       "      <th></th>\n",
       "      <th></th>\n",
       "      <th></th>\n",
       "      <th></th>\n",
       "      <th></th>\n",
       "      <th></th>\n",
       "      <th></th>\n",
       "    </tr>\n",
       "  </thead>\n",
       "  <tbody>\n",
       "    <tr>\n",
       "      <th>15883</th>\n",
       "      <td>b&amp;b near Old Danube river</td>\n",
       "      <td>Four rooms, each one differently and individua...</td>\n",
       "      <td>62142.0</td>\n",
       "      <td>12/11/2009</td>\n",
       "      <td>unknown</td>\n",
       "      <td>unknown</td>\n",
       "      <td>100</td>\n",
       "      <td>f</td>\n",
       "      <td>6.0</td>\n",
       "      <td>Donaustadt</td>\n",
       "      <td>48.24262</td>\n",
       "      <td>16.42767</td>\n",
       "      <td>3.0</td>\n",
       "      <td>1 bath</td>\n",
       "      <td>1.0</td>\n",
       "      <td>2.0</td>\n",
       "      <td>[\"Hot water\", \"High chair\", \"Essentials\", \"Hai...</td>\n",
       "      <td>87.0</td>\n",
       "      <td>11.0</td>\n",
       "      <td>4/10/2015</td>\n",
       "      <td>2/19/2020</td>\n",
       "      <td>95.0</td>\n",
       "      <td>10.0</td>\n",
       "      <td>10.0</td>\n",
       "      <td>10.0</td>\n",
       "      <td>10.0</td>\n",
       "      <td>9.0</td>\n",
       "      <td>9.0</td>\n",
       "      <td>4.0</td>\n",
       "      <td>0.15</td>\n",
       "      <td>1</td>\n",
       "      <td>0</td>\n",
       "      <td>0</td>\n",
       "      <td>0</td>\n",
       "      <td>1</td>\n",
       "      <td>0</td>\n",
       "    </tr>\n",
       "    <tr>\n",
       "      <th>38768</th>\n",
       "      <td>central cityapartement- wifi- nice neighbourhood</td>\n",
       "      <td>39m² apartment with beautiful courtyard of the...</td>\n",
       "      <td>166283.0</td>\n",
       "      <td>7/14/2010</td>\n",
       "      <td>within an hour</td>\n",
       "      <td>100</td>\n",
       "      <td>90-99</td>\n",
       "      <td>t</td>\n",
       "      <td>3.0</td>\n",
       "      <td>Leopoldstadt</td>\n",
       "      <td>48.21924</td>\n",
       "      <td>16.37831</td>\n",
       "      <td>5.0</td>\n",
       "      <td>1 bath</td>\n",
       "      <td>1.0</td>\n",
       "      <td>3.0</td>\n",
       "      <td>[\"Cooking basics\", \"Shampoo\", \"Kitchen\", \"Host...</td>\n",
       "      <td>60.0</td>\n",
       "      <td>324.0</td>\n",
       "      <td>3/23/2011</td>\n",
       "      <td>10/10/2020</td>\n",
       "      <td>95.0</td>\n",
       "      <td>10.0</td>\n",
       "      <td>9.0</td>\n",
       "      <td>10.0</td>\n",
       "      <td>10.0</td>\n",
       "      <td>10.0</td>\n",
       "      <td>10.0</td>\n",
       "      <td>3.0</td>\n",
       "      <td>2.64</td>\n",
       "      <td>0</td>\n",
       "      <td>0</td>\n",
       "      <td>0</td>\n",
       "      <td>0</td>\n",
       "      <td>0</td>\n",
       "      <td>0</td>\n",
       "    </tr>\n",
       "    <tr>\n",
       "      <th>40625</th>\n",
       "      <td>Near Palace Schönbrunn, Apt. 1</td>\n",
       "      <td>Welcome to my Apt. 1!&lt;br /&gt;&lt;br /&gt;This is a 2be...</td>\n",
       "      <td>175131.0</td>\n",
       "      <td>7/20/2010</td>\n",
       "      <td>within a few hours</td>\n",
       "      <td>90-99</td>\n",
       "      <td>50-79</td>\n",
       "      <td>t</td>\n",
       "      <td>16.0</td>\n",
       "      <td>Rudolfsheim-Fnfhaus</td>\n",
       "      <td>48.18434</td>\n",
       "      <td>16.32701</td>\n",
       "      <td>6.0</td>\n",
       "      <td>1 bath</td>\n",
       "      <td>2.0</td>\n",
       "      <td>4.0</td>\n",
       "      <td>[\"Cooking basics\", \"Children\\u2019s books and ...</td>\n",
       "      <td>88.0</td>\n",
       "      <td>156.0</td>\n",
       "      <td>8/4/2010</td>\n",
       "      <td>2/15/2021</td>\n",
       "      <td>97.0</td>\n",
       "      <td>10.0</td>\n",
       "      <td>10.0</td>\n",
       "      <td>10.0</td>\n",
       "      <td>10.0</td>\n",
       "      <td>9.0</td>\n",
       "      <td>9.0</td>\n",
       "      <td>15.0</td>\n",
       "      <td>1.20</td>\n",
       "      <td>0</td>\n",
       "      <td>0</td>\n",
       "      <td>0</td>\n",
       "      <td>0</td>\n",
       "      <td>0</td>\n",
       "      <td>0</td>\n",
       "    </tr>\n",
       "    <tr>\n",
       "      <th>51287</th>\n",
       "      <td>little studio- next to citycenter- wifi- nice ...</td>\n",
       "      <td>small studio in new renovated old house and ve...</td>\n",
       "      <td>166283.0</td>\n",
       "      <td>7/14/2010</td>\n",
       "      <td>within an hour</td>\n",
       "      <td>100</td>\n",
       "      <td>90-99</td>\n",
       "      <td>t</td>\n",
       "      <td>3.0</td>\n",
       "      <td>Leopoldstadt</td>\n",
       "      <td>48.21778</td>\n",
       "      <td>16.37847</td>\n",
       "      <td>3.0</td>\n",
       "      <td>1 bath</td>\n",
       "      <td>1.0</td>\n",
       "      <td>2.0</td>\n",
       "      <td>[\"Cooking basics\", \"Shampoo\", \"Kitchen\", \"Host...</td>\n",
       "      <td>60.0</td>\n",
       "      <td>310.0</td>\n",
       "      <td>1/27/2011</td>\n",
       "      <td>1/4/2021</td>\n",
       "      <td>92.0</td>\n",
       "      <td>10.0</td>\n",
       "      <td>9.0</td>\n",
       "      <td>10.0</td>\n",
       "      <td>10.0</td>\n",
       "      <td>10.0</td>\n",
       "      <td>9.0</td>\n",
       "      <td>3.0</td>\n",
       "      <td>2.49</td>\n",
       "      <td>0</td>\n",
       "      <td>0</td>\n",
       "      <td>0</td>\n",
       "      <td>0</td>\n",
       "      <td>0</td>\n",
       "      <td>0</td>\n",
       "    </tr>\n",
       "    <tr>\n",
       "      <th>70637</th>\n",
       "      <td>Flat in the Center with Terrace</td>\n",
       "      <td>&lt;b&gt;The space&lt;/b&gt;&lt;br /&gt;My apartment (including ...</td>\n",
       "      <td>358842.0</td>\n",
       "      <td>1/23/2011</td>\n",
       "      <td>within a few hours</td>\n",
       "      <td>100</td>\n",
       "      <td>50-79</td>\n",
       "      <td>t</td>\n",
       "      <td>3.0</td>\n",
       "      <td>Leopoldstadt</td>\n",
       "      <td>48.21760</td>\n",
       "      <td>16.38018</td>\n",
       "      <td>2.0</td>\n",
       "      <td>2 shared baths</td>\n",
       "      <td>1.0</td>\n",
       "      <td>2.0</td>\n",
       "      <td>[\"Cooking basics\", \"Indoor fireplace\", \"Shampo...</td>\n",
       "      <td>50.0</td>\n",
       "      <td>116.0</td>\n",
       "      <td>3/28/2011</td>\n",
       "      <td>12/23/2019</td>\n",
       "      <td>95.0</td>\n",
       "      <td>10.0</td>\n",
       "      <td>9.0</td>\n",
       "      <td>10.0</td>\n",
       "      <td>9.0</td>\n",
       "      <td>10.0</td>\n",
       "      <td>10.0</td>\n",
       "      <td>3.0</td>\n",
       "      <td>0.95</td>\n",
       "      <td>0</td>\n",
       "      <td>1</td>\n",
       "      <td>0</td>\n",
       "      <td>0</td>\n",
       "      <td>1</td>\n",
       "      <td>0</td>\n",
       "    </tr>\n",
       "  </tbody>\n",
       "</table>\n",
       "</div>"
      ],
      "text/plain": [
       "                                                    name  \\\n",
       "id                                                         \n",
       "15883                          b&b near Old Danube river   \n",
       "38768   central cityapartement- wifi- nice neighbourhood   \n",
       "40625                     Near Palace Schönbrunn, Apt. 1   \n",
       "51287  little studio- next to citycenter- wifi- nice ...   \n",
       "70637                    Flat in the Center with Terrace   \n",
       "\n",
       "                                             description   host_id  \\\n",
       "id                                                                   \n",
       "15883  Four rooms, each one differently and individua...   62142.0   \n",
       "38768  39m² apartment with beautiful courtyard of the...  166283.0   \n",
       "40625  Welcome to my Apt. 1!<br /><br />This is a 2be...  175131.0   \n",
       "51287  small studio in new renovated old house and ve...  166283.0   \n",
       "70637  <b>The space</b><br />My apartment (including ...  358842.0   \n",
       "\n",
       "       host_since  host_response_time host_response_rate host_acceptance_rate  \\\n",
       "id                                                                              \n",
       "15883  12/11/2009             unknown            unknown                  100   \n",
       "38768   7/14/2010      within an hour                100                90-99   \n",
       "40625   7/20/2010  within a few hours              90-99                50-79   \n",
       "51287   7/14/2010      within an hour                100                90-99   \n",
       "70637   1/23/2011  within a few hours                100                50-79   \n",
       "\n",
       "      host_is_superhost  host_listings_count neighborhood_cleansed  latitude  \\\n",
       "id                                                                             \n",
       "15883                 f                  6.0            Donaustadt  48.24262   \n",
       "38768                 t                  3.0          Leopoldstadt  48.21924   \n",
       "40625                 t                 16.0  Rudolfsheim-Fnfhaus  48.18434   \n",
       "51287                 t                  3.0          Leopoldstadt  48.21778   \n",
       "70637                 t                  3.0          Leopoldstadt  48.21760   \n",
       "\n",
       "       longitude  accommodates  bathrooms_text  bedrooms  beds  \\\n",
       "id                                                               \n",
       "15883   16.42767           3.0          1 bath       1.0   2.0   \n",
       "38768   16.37831           5.0          1 bath       1.0   3.0   \n",
       "40625   16.32701           6.0          1 bath       2.0   4.0   \n",
       "51287   16.37847           3.0          1 bath       1.0   2.0   \n",
       "70637   16.38018           2.0  2 shared baths       1.0   2.0   \n",
       "\n",
       "                                               amenities  price  \\\n",
       "id                                                                \n",
       "15883  [\"Hot water\", \"High chair\", \"Essentials\", \"Hai...   87.0   \n",
       "38768  [\"Cooking basics\", \"Shampoo\", \"Kitchen\", \"Host...   60.0   \n",
       "40625  [\"Cooking basics\", \"Children\\u2019s books and ...   88.0   \n",
       "51287  [\"Cooking basics\", \"Shampoo\", \"Kitchen\", \"Host...   60.0   \n",
       "70637  [\"Cooking basics\", \"Indoor fireplace\", \"Shampo...   50.0   \n",
       "\n",
       "       number_of_reviews first_review last_review  review_scores_rating  \\\n",
       "id                                                                        \n",
       "15883               11.0    4/10/2015   2/19/2020                  95.0   \n",
       "38768              324.0    3/23/2011  10/10/2020                  95.0   \n",
       "40625              156.0     8/4/2010   2/15/2021                  97.0   \n",
       "51287              310.0    1/27/2011    1/4/2021                  92.0   \n",
       "70637              116.0    3/28/2011  12/23/2019                  95.0   \n",
       "\n",
       "       review_scores_accuracy  review_scores_cleanliness  \\\n",
       "id                                                         \n",
       "15883                    10.0                       10.0   \n",
       "38768                    10.0                        9.0   \n",
       "40625                    10.0                       10.0   \n",
       "51287                    10.0                        9.0   \n",
       "70637                    10.0                        9.0   \n",
       "\n",
       "       review_scores_checkin  review_scores_communication  \\\n",
       "id                                                          \n",
       "15883                   10.0                         10.0   \n",
       "38768                   10.0                         10.0   \n",
       "40625                   10.0                         10.0   \n",
       "51287                   10.0                         10.0   \n",
       "70637                   10.0                          9.0   \n",
       "\n",
       "       review_scores_location  review_scores_value  \\\n",
       "id                                                   \n",
       "15883                     9.0                  9.0   \n",
       "38768                    10.0                 10.0   \n",
       "40625                     9.0                  9.0   \n",
       "51287                    10.0                  9.0   \n",
       "70637                    10.0                 10.0   \n",
       "\n",
       "       calculated_host_listings_count  reviews_per_month  room_Hotel room  \\\n",
       "id                                                                          \n",
       "15883                             4.0               0.15                1   \n",
       "38768                             3.0               2.64                0   \n",
       "40625                            15.0               1.20                0   \n",
       "51287                             3.0               2.49                0   \n",
       "70637                             3.0               0.95                0   \n",
       "\n",
       "       room_Private room  room_Shared room  property_House  property_Room  \\\n",
       "id                                                                          \n",
       "15883                  0                 0               0              1   \n",
       "38768                  0                 0               0              0   \n",
       "40625                  0                 0               0              0   \n",
       "51287                  0                 0               0              0   \n",
       "70637                  1                 0               0              1   \n",
       "\n",
       "       property_other  \n",
       "id                     \n",
       "15883               0  \n",
       "38768               0  \n",
       "40625               0  \n",
       "51287               0  \n",
       "70637               0  "
      ]
     },
     "execution_count": 128,
     "metadata": {},
     "output_type": "execute_result"
    }
   ],
   "source": [
    "vienna = pd.get_dummies(vienna, columns=['room_type','property_type'], prefix=['room', 'property'], drop_first=True)\n",
    "vienna.head()"
   ]
  },
  {
   "cell_type": "code",
   "execution_count": 129,
   "metadata": {
    "code_folding": []
   },
   "outputs": [],
   "source": [
    "#pd.get_dummies(vienna['room_type'], prefix='airbnb', drop_first=True)\n",
    "# if 0 all accross then Entire home/apt"
   ]
  },
  {
   "cell_type": "code",
   "execution_count": 130,
   "metadata": {},
   "outputs": [],
   "source": [
    "#pd.get_dummies(vienna['property_type'], prefix='airbnb', drop_first=True)\n",
    "# if all zeros then Apartment"
   ]
  },
  {
   "cell_type": "markdown",
   "metadata": {},
   "source": [
    "**Exercise:** To make sure you understand what `get_dummies()` is doing, can you take the `host_is_superhost` column and turn the values into dummy variables without using `get_dummies()`? Make sure that you only have one column called `superhost` after you are finished and the original column is deleted."
   ]
  },
  {
   "cell_type": "code",
   "execution_count": 131,
   "metadata": {
    "code_folding": []
   },
   "outputs": [
    {
     "data": {
      "text/plain": [
       "f    8399\n",
       "t    2865\n",
       "Name: host_is_superhost, dtype: int64"
      ]
     },
     "execution_count": 131,
     "metadata": {},
     "output_type": "execute_result"
    }
   ],
   "source": [
    "vienna['host_is_superhost'].value_counts()"
   ]
  },
  {
   "cell_type": "code",
   "execution_count": 132,
   "metadata": {},
   "outputs": [
    {
     "data": {
      "text/plain": [
       "id\n",
       "15883    f\n",
       "38768    t\n",
       "40625    t\n",
       "51287    t\n",
       "70637    t\n",
       "Name: host_is_superhost, dtype: object"
      ]
     },
     "execution_count": 132,
     "metadata": {},
     "output_type": "execute_result"
    }
   ],
   "source": [
    "vienna['host_is_superhost'].head()"
   ]
  },
  {
   "cell_type": "code",
   "execution_count": 133,
   "metadata": {},
   "outputs": [
    {
     "data": {
      "text/plain": [
       "id\n",
       "15883       0\n",
       "38768       1\n",
       "40625       1\n",
       "51287       1\n",
       "70637       1\n",
       "           ..\n",
       "49169158    0\n",
       "49169449    0\n",
       "49169526    0\n",
       "49170145    0\n",
       "49171797    0\n",
       "Name: superhost, Length: 11264, dtype: int64"
      ]
     },
     "execution_count": 133,
     "metadata": {},
     "output_type": "execute_result"
    }
   ],
   "source": [
    "result = []\n",
    "for i in vienna['host_is_superhost']:\n",
    "        if i == 't':\n",
    "            result.append(1)\n",
    "        if i == 'f':\n",
    "            result.append(0)\n",
    "\n",
    "vienna['superhost'] = result\n",
    "vienna['superhost']\n",
    "  "
   ]
  },
  {
   "cell_type": "code",
   "execution_count": 134,
   "metadata": {},
   "outputs": [
    {
     "data": {
      "text/html": [
       "<div>\n",
       "<style scoped>\n",
       "    .dataframe tbody tr th:only-of-type {\n",
       "        vertical-align: middle;\n",
       "    }\n",
       "\n",
       "    .dataframe tbody tr th {\n",
       "        vertical-align: top;\n",
       "    }\n",
       "\n",
       "    .dataframe thead th {\n",
       "        text-align: right;\n",
       "    }\n",
       "</style>\n",
       "<table border=\"1\" class=\"dataframe\">\n",
       "  <thead>\n",
       "    <tr style=\"text-align: right;\">\n",
       "      <th></th>\n",
       "      <th>superhost</th>\n",
       "    </tr>\n",
       "    <tr>\n",
       "      <th>id</th>\n",
       "      <th></th>\n",
       "    </tr>\n",
       "  </thead>\n",
       "  <tbody>\n",
       "    <tr>\n",
       "      <th>15883</th>\n",
       "      <td>0</td>\n",
       "    </tr>\n",
       "    <tr>\n",
       "      <th>38768</th>\n",
       "      <td>1</td>\n",
       "    </tr>\n",
       "    <tr>\n",
       "      <th>40625</th>\n",
       "      <td>1</td>\n",
       "    </tr>\n",
       "    <tr>\n",
       "      <th>51287</th>\n",
       "      <td>1</td>\n",
       "    </tr>\n",
       "    <tr>\n",
       "      <th>70637</th>\n",
       "      <td>1</td>\n",
       "    </tr>\n",
       "    <tr>\n",
       "      <th>...</th>\n",
       "      <td>...</td>\n",
       "    </tr>\n",
       "    <tr>\n",
       "      <th>49169158</th>\n",
       "      <td>0</td>\n",
       "    </tr>\n",
       "    <tr>\n",
       "      <th>49169449</th>\n",
       "      <td>0</td>\n",
       "    </tr>\n",
       "    <tr>\n",
       "      <th>49169526</th>\n",
       "      <td>0</td>\n",
       "    </tr>\n",
       "    <tr>\n",
       "      <th>49170145</th>\n",
       "      <td>0</td>\n",
       "    </tr>\n",
       "    <tr>\n",
       "      <th>49171797</th>\n",
       "      <td>0</td>\n",
       "    </tr>\n",
       "  </tbody>\n",
       "</table>\n",
       "<p>11264 rows × 1 columns</p>\n",
       "</div>"
      ],
      "text/plain": [
       "          superhost\n",
       "id                 \n",
       "15883             0\n",
       "38768             1\n",
       "40625             1\n",
       "51287             1\n",
       "70637             1\n",
       "...             ...\n",
       "49169158          0\n",
       "49169449          0\n",
       "49169526          0\n",
       "49170145          0\n",
       "49171797          0\n",
       "\n",
       "[11264 rows x 1 columns]"
      ]
     },
     "execution_count": 134,
     "metadata": {},
     "output_type": "execute_result"
    }
   ],
   "source": [
    "vienna[['superhost']]"
   ]
  },
  {
   "cell_type": "code",
   "execution_count": 135,
   "metadata": {},
   "outputs": [
    {
     "ename": "SyntaxError",
     "evalue": "invalid syntax (<ipython-input-135-9288abee3796>, line 2)",
     "output_type": "error",
     "traceback": [
      "\u001b[0;36m  File \u001b[0;32m\"<ipython-input-135-9288abee3796>\"\u001b[0;36m, line \u001b[0;32m2\u001b[0m\n\u001b[0;31m    vienna.head()`\u001b[0m\n\u001b[0m                 ^\u001b[0m\n\u001b[0;31mSyntaxError\u001b[0m\u001b[0;31m:\u001b[0m invalid syntax\n"
     ]
    }
   ],
   "source": [
    "vienna.drop('host_is_superhost', axis=1, inplace=True)\n",
    "vienna.head()`"
   ]
  },
  {
   "cell_type": "code",
   "execution_count": null,
   "metadata": {},
   "outputs": [],
   "source": [
    "# also you could map\n",
    "\n",
    "#super_map = {'f':0, 't':1}\n",
    "\n",
    "#vienna['superhost'] = vienna['host_is_superhost'].map(supermap)"
   ]
  },
  {
   "cell_type": "markdown",
   "metadata": {},
   "source": [
    "## String Manipulation<a name=\"string\"></a>\n",
    "\n",
    "### String Object Methods<a name=\"string_object\"></a>\n",
    "\n",
    "One of Pythons most popular strengths is its ability to work with strings and text. Some of the more simple operations can easily be done with the built in string methods."
   ]
  },
  {
   "cell_type": "code",
   "execution_count": null,
   "metadata": {},
   "outputs": [],
   "source": [
    "# create simple string of text\n",
    "a = 'Jimmy,Anderson,  jimmy@gmail.com'\n",
    "a"
   ]
  },
  {
   "cell_type": "code",
   "execution_count": null,
   "metadata": {},
   "outputs": [],
   "source": [
    "# using the split() method\n",
    "a.split(',') # splits text on the comma"
   ]
  },
  {
   "cell_type": "code",
   "execution_count": null,
   "metadata": {},
   "outputs": [],
   "source": [
    "# strip() removes whitespace from around character\n",
    "b = [x.strip() for x in a.split(',')]\n",
    "b"
   ]
  },
  {
   "cell_type": "code",
   "execution_count": null,
   "metadata": {},
   "outputs": [],
   "source": [
    "# joining strings within a list\n",
    "'++'.join(b)"
   ]
  },
  {
   "cell_type": "code",
   "execution_count": null,
   "metadata": {},
   "outputs": [],
   "source": [
    "# count of number of commas\n",
    "a.count(',')"
   ]
  },
  {
   "cell_type": "code",
   "execution_count": null,
   "metadata": {},
   "outputs": [],
   "source": [
    "# replace strings in text\n",
    "a.replace(',','')"
   ]
  },
  {
   "cell_type": "markdown",
   "metadata": {},
   "source": [
    "There are many more [string methods](https://www.w3schools.com/python/python_ref_string.asp) that you can research, and you will learn more about some of these in the 575 Python class if you haven't already taken it.\n",
    "\n",
    "Now, let's try to clean up the 'messy' `amenities` column from the `vienna` data. "
   ]
  },
  {
   "cell_type": "code",
   "execution_count": null,
   "metadata": {},
   "outputs": [],
   "source": [
    "# view the amenities for one property\n",
    "vienna.iloc[0]['amenities']"
   ]
  },
  {
   "cell_type": "code",
   "execution_count": null,
   "metadata": {},
   "outputs": [],
   "source": [
    "# create an empty list\n",
    "all_amenities = []\n",
    "\n",
    "# iterate through rows, extending amenities to list\n",
    "for row in vienna.amenities:\n",
    "    all_amenities.extend(row.replace('[','').replace(']','').replace('\"','').lower().strip().split(','))"
   ]
  },
  {
   "cell_type": "code",
   "execution_count": null,
   "metadata": {},
   "outputs": [],
   "source": [
    "all_amenities"
   ]
  },
  {
   "cell_type": "code",
   "execution_count": null,
   "metadata": {},
   "outputs": [],
   "source": [
    "amenities_list = pd.unique(all_amenities)\n",
    "amenities_list"
   ]
  },
  {
   "cell_type": "code",
   "execution_count": null,
   "metadata": {},
   "outputs": [],
   "source": [
    "### Note: You are not responsible for knowing how to do this part of the code. This is to show you what can be done. ###\n",
    "amenity_values = vienna['amenities']\n",
    "amenity_values"
   ]
  },
  {
   "cell_type": "code",
   "execution_count": null,
   "metadata": {},
   "outputs": [],
   "source": [
    "# check the following for more information: https://docs.python.org/3/library/collections.html#collections.Counter\n",
    "from collections import Counter\n",
    "\n",
    "# create Series of amenities column\n",
    "amenity_values = vienna['amenities']\n",
    "\n",
    "# instantiate counter object\n",
    "counter = Counter()\n",
    "\n",
    "# update counter with each amenity and its total\n",
    "for response in amenity_values:\n",
    "    counter.update(response.replace('[','').replace(']','').replace('\"','').lower().split(','))\n",
    "\n",
    "# create two empty lists    \n",
    "amenities_list = []\n",
    "amenities_count = []\n",
    "\n",
    "# iterate through most common amenities in counter and append to lists\n",
    "for item in counter.most_common(50):\n",
    "    amenities_list.append(item[0])\n",
    "    amenities_count.append(item[1])\n",
    "    \n",
    "most_common_amenities = zip(amenities_list,amenities_count)\n",
    "print(list(most_common_amenities))"
   ]
  },
  {
   "cell_type": "code",
   "execution_count": null,
   "metadata": {},
   "outputs": [],
   "source": [
    "def amenities_to_columns(data):\n",
    "    '''\n",
    "    Creates new amenity features if the list of amenities for a respective property includes\n",
    "    certain key words.\n",
    "    \n",
    "    Returns: DataFrame\n",
    "    '''\n",
    "    # create list of new amenity columns\n",
    "    new_columns = ['tv','longterm','washing','cooking','fridge','fireplace','free_parking','paid_parking',\n",
    "                   'air_conditioning','balcony','water_access','coffee','breakfast','family','workspace']\n",
    "    \n",
    "    #search 'amenities' feature for keywords, create new column and dummy variable if true\n",
    "    data.loc[data['amenities'].str.contains('tv|cable|amazon prime|netflix', case=False), 'tv'] = 1\n",
    "    data.loc[data['amenities'].str.contains('long term', case=False), 'longterm'] = 1\n",
    "    data.loc[data['amenities'].str.contains('washer|dishwasher', case=False), 'washing'] = 1\n",
    "    data.loc[data['amenities'].str.contains('stove|oven|microwave', case=False), 'cooking'] = 1\n",
    "    data.loc[data['amenities'].str.contains('refrigerator|freezer|fridge', case=False), 'fridge'] = 1\n",
    "    data.loc[data['amenities'].str.contains('fireplace|fire pit', case=False), 'fireplace'] = 1\n",
    "    data.loc[data['amenities'].str.contains('free parking|free street parking', case=False), 'free_parking'] = 1\n",
    "    data.loc[data['amenities'].str.contains('paid parking|paid street parking',case=False), 'paid_parking'] = 1\n",
    "    data.loc[data['amenities'].str.contains('air conditioning|central air conditioning', case=False), 'air_conditioning'] = 1\n",
    "    data.loc[data['amenities'].str.contains('balcony|patio', case=False), 'balcony'] = 1\n",
    "    data.loc[data['amenities'].str.contains('hot tub|waterfront|pool|lake|beachfront', case=False), 'water_access'] = 1\n",
    "    data.loc[data['amenities'].str.contains('coffee|coffee machine|nespresso', case=False), 'coffee'] = 1\n",
    "    data.loc[data['amenities'].str.contains('breakfast', case=False), 'breakfast'] = 1\n",
    "    data.loc[data['amenities'].str.contains('high chair|crib|children|child|baby|family', case=False), 'family'] = 1\n",
    "    data.loc[data['amenities'].str.contains('workspace', case=False), 'workspace'] = 1\n",
    "\n",
    "    # replace na's with 0\n",
    "    data[new_columns] = data[new_columns].fillna(0)\n",
    "    \n",
    "    return data\n",
    "    \n",
    "vienna = amenities_to_columns(vienna)"
   ]
  },
  {
   "cell_type": "code",
   "execution_count": null,
   "metadata": {},
   "outputs": [],
   "source": [
    "vienna = vienna.drop('amenities', axis=1)\n",
    "vienna.head()"
   ]
  },
  {
   "cell_type": "markdown",
   "metadata": {},
   "source": [
    "### Regular Expressions<a name=\"regex\"></a>\n",
    "\n",
    "While string methods are powerful and can be used in a lot of different ways, sometimes you need a way to search a more complex string pattern. This is where regular expressions (`regex`) offer a flexible way to search or match complex patterns.\n",
    "\n",
    "Regex could be an entire module on its own, but we will cover some of the basics now."
   ]
  },
  {
   "cell_type": "markdown",
   "metadata": {},
   "source": [
    "https://www.dataquest.io/wp-content/uploads/2019/03/python-regular-expressions-cheat-sheet.pdf"
   ]
  },
  {
   "cell_type": "code",
   "execution_count": null,
   "metadata": {},
   "outputs": [],
   "source": [
    "# import the re module\n",
    "import re"
   ]
  },
  {
   "cell_type": "code",
   "execution_count": null,
   "metadata": {},
   "outputs": [],
   "source": [
    "# create a simple text message\n",
    "text = 'A     Lannister\\tnever\\nforgets'\n",
    "\n",
    "# split strings based on whitespace characters (tabs, spaces, newlines)\n",
    "re.split('\\s+', text)"
   ]
  },
  {
   "cell_type": "markdown",
   "metadata": {},
   "source": [
    "When you call `re.split()` it is first compiled, then the split method is called on the passed text. You can compile the regex yourself, which is highly recommended if you apply the same expression to many strings. This will also save you CPU cycles. "
   ]
  },
  {
   "cell_type": "code",
   "execution_count": null,
   "metadata": {},
   "outputs": [],
   "source": [
    "# setup text of names and emails\n",
    "emails = \"\"\"\n",
    "James james.anderson@eastern.edu\n",
    "Sally sally@gmail.com\n",
    "Ryan ryan22@yahoo.com\n",
    "\"\"\"\n",
    "\n",
    "# creating pattern using raw string literal\n",
    "pattern = r'\\b[A-Za-z0-9._%+-]+@[A-Za-z0-9.-]+\\.[A-Z|a-z]{2,}\\b' \n",
    "\n",
    "# compile the regex\n",
    "regex = re.compile(pattern, flags=re.IGNORECASE)"
   ]
  },
  {
   "cell_type": "code",
   "execution_count": null,
   "metadata": {},
   "outputs": [],
   "source": [
    "# returns all matches in a string\n",
    "regex.findall(emails)"
   ]
  },
  {
   "cell_type": "code",
   "execution_count": null,
   "metadata": {},
   "outputs": [],
   "source": [
    "# returns only the first match\n",
    "position = regex.search(emails) # first email, start and end position\n",
    "position"
   ]
  },
  {
   "cell_type": "code",
   "execution_count": null,
   "metadata": {},
   "outputs": [],
   "source": [
    "emails[position.start():position.end()]"
   ]
  },
  {
   "cell_type": "code",
   "execution_count": null,
   "metadata": {},
   "outputs": [],
   "source": [
    "# only matches the beginning of the string\n",
    "print(regex.match(emails)) #only match if pattern occurs at the start of the string"
   ]
  },
  {
   "cell_type": "code",
   "execution_count": null,
   "metadata": {},
   "outputs": [],
   "source": [
    "# simple program to validate an email\n",
    "\n",
    "#create email list\n",
    "email_list = ['james.anderson@eastern.edu','sally@gmail.com','ryan22@yahoo']\n",
    "\n",
    "# iterate through emails\n",
    "for email in email_list:\n",
    "    if (re.fullmatch(regex, email)):\n",
    "        print(\"Valid Email\")\n",
    " \n",
    "    else:\n",
    "        print(\"Invalid Email\")\n",
    "        "
   ]
  },
  {
   "cell_type": "code",
   "execution_count": null,
   "metadata": {},
   "outputs": [],
   "source": [
    "# returns new string with occurrences of the pattern replaced by the new string\n",
    "print(regex.sub('REDACTED', emails))"
   ]
  },
  {
   "cell_type": "code",
   "execution_count": null,
   "metadata": {},
   "outputs": [],
   "source": [
    "# wrap parentheses around different segments\n",
    "pattern2 = r'(\\b[A-Za-z0-9._%+-]+)@([A-Za-z0-9.-]+)\\.([A-Z|a-z]{2,}\\b)'\n",
    "\n",
    "# compile with new pattern\n",
    "regex = re.compile(pattern2, flags=re.IGNORECASE)\n",
    "\n",
    "# returns tuple of matched components\n",
    "segments = regex.match('jamie.andrews@eastern.edu')\n",
    "segments\n",
    "\n",
    "segments.groups()"
   ]
  },
  {
   "cell_type": "markdown",
   "metadata": {},
   "source": [
    "Let's look at a practical example using our `vienna` dataset. We need to turn the strings as listed in the `bathrooms_text` column to floats."
   ]
  },
  {
   "cell_type": "code",
   "execution_count": null,
   "metadata": {},
   "outputs": [],
   "source": [
    "# view column\n",
    "vienna['bathrooms_text'].value_counts()"
   ]
  },
  {
   "cell_type": "code",
   "execution_count": null,
   "metadata": {},
   "outputs": [],
   "source": [
    "pattern = r\"[-+]?\\d*\\.\\d+|\\d+\"\n",
    "# [-+] --> handles plus or minus signs\n",
    "# ? -->  matches the expression to its left 0 or 1 times.\n",
    "# \\d --> matches digits\n",
    "# * --> matches the expression to its left 0 or more times.\n",
    "# \\. --> escapes the decimal character\n",
    "# + --> y matches the expression to its left 1 or more times.\n",
    "# | --> matches expression before or after \n",
    "\n",
    "\n",
    "def bathroomtext_to_num(text):\n",
    "    '''\n",
    "    Strips out number from bathrooms_text field \n",
    "    \n",
    "    Returns: float\n",
    "    '''\n",
    "    pattern = r\"[-+]?\\d*\\.\\d+|\\d+\"  \n",
    "    regex = re.compile(pattern)\n",
    "    num_baths = regex.findall(str(text))\n",
    "    \n",
    "    if 'half' in str(text).lower():\n",
    "        return 0.5\n",
    "    elif num_baths == []:\n",
    "        return 1\n",
    "    else:\n",
    "        return num_baths[0]\n",
    "\n",
    "# apply custom function to 'bathrooms_text' column\n",
    "vienna['bathrooms'] = vienna.apply(lambda row: bathroomtext_to_num(row['bathrooms_text']), axis=1).astype('float64')\n"
   ]
  },
  {
   "cell_type": "code",
   "execution_count": null,
   "metadata": {},
   "outputs": [],
   "source": [
    "# view new 'bathrooms' feature\n",
    "vienna[['bathrooms','bathrooms_text']].head(10)"
   ]
  },
  {
   "cell_type": "code",
   "execution_count": null,
   "metadata": {},
   "outputs": [],
   "source": [
    "vienna = vienna.drop('bathrooms_text', axis=1)"
   ]
  },
  {
   "cell_type": "code",
   "execution_count": null,
   "metadata": {},
   "outputs": [],
   "source": [
    "vienna.head()  "
   ]
  },
  {
   "cell_type": "markdown",
   "metadata": {},
   "source": [
    "## Extra Practice: Plotting and Miscellaneous<a name='extra'></a>"
   ]
  },
  {
   "cell_type": "markdown",
   "metadata": {},
   "source": [
    "**Exercise:** Plot a [scatterplot](https://seaborn.pydata.org/generated/seaborn.scatterplot.html) of longitude and latitude using the 'free_parking' attribute as the color. What do you notice about properties with free parking?"
   ]
  },
  {
   "cell_type": "code",
   "execution_count": null,
   "metadata": {
    "code_folding": []
   },
   "outputs": [],
   "source": [
    "plt.figure(figsize=(12,8))\n",
    "sns.scatterplot(data=vienna,x='longitude', y='latitude')"
   ]
  },
  {
   "cell_type": "markdown",
   "metadata": {},
   "source": [
    "**Exercise:** Plot a scatterplot of longitude and latitude using price as the color. Do you notice any discerable pattern in terms of price versus the area of Vienna?"
   ]
  },
  {
   "cell_type": "code",
   "execution_count": null,
   "metadata": {},
   "outputs": [],
   "source": [
    "# no 'free_parking'column\n",
    "for i in vienna.columns:\n",
    "    print(i)"
   ]
  },
  {
   "cell_type": "code",
   "execution_count": null,
   "metadata": {
    "code_folding": []
   },
   "outputs": [],
   "source": [
    "plt.figure(figsize=(12,8))\n",
    "sns.scatterplot(data=vienna,x='longitude', y='latitude', hue='price')"
   ]
  },
  {
   "cell_type": "markdown",
   "metadata": {},
   "source": [
    "**Exercise:** Plot a [violin plot](https://seaborn.pydata.org/generated/seaborn.violinplot.html) using the price and the neighborhood name. What neighborhoods seem to have the largest range and highest median prices?"
   ]
  },
  {
   "cell_type": "code",
   "execution_count": null,
   "metadata": {
    "code_folding": []
   },
   "outputs": [],
   "source": [
    "plt.figure(figsize=(12,8))\n",
    "sns.violinplot(data=vienna, x='price', y='neighborhood_cleansed')"
   ]
  },
  {
   "cell_type": "markdown",
   "metadata": {},
   "source": [
    "**Exercise:** What areas have the most listings? Create a [horizontal bar chart](https://seaborn.pydata.org/generated/seaborn.countplot.html) to show these listings by neighborhood."
   ]
  },
  {
   "cell_type": "code",
   "execution_count": null,
   "metadata": {
    "code_folding": []
   },
   "outputs": [],
   "source": [
    "sns.countplot(data=vienna, y='neighborhood_cleansed', orient='h', order=vienna.neighborhood_cleansed.value_counts().index)"
   ]
  },
  {
   "cell_type": "markdown",
   "metadata": {},
   "source": [
    "**Exercise:** Using a pivot table, show the top hosts (represented by `host_id`) that have the most multiple listings (`calculated_host_listings_count`)."
   ]
  },
  {
   "cell_type": "code",
   "execution_count": null,
   "metadata": {
    "code_folding": []
   },
   "outputs": [],
   "source": [
    "vienna.pivot_table('calculated_host_listings_count', index='host_id').sort_values(by='calculated_host_listings_count', ascending=False)"
   ]
  },
  {
   "cell_type": "markdown",
   "metadata": {},
   "source": [
    "**Exercise:** How many beds, bedrooms, and bathrooms do most properties have? What percentage of properties have those respective most common values?"
   ]
  },
  {
   "cell_type": "code",
   "execution_count": null,
   "metadata": {
    "code_folding": []
   },
   "outputs": [],
   "source": [
    "print(vienna.beds.value_counts().nlargest(5))\n",
    "print('------------------')\n",
    "print(vienna.bathrooms.value_counts().nlargest(5))\n",
    "print('------------------')\n",
    "print(vienna.bedrooms.value_counts().nlargest(5))"
   ]
  },
  {
   "cell_type": "code",
   "execution_count": null,
   "metadata": {},
   "outputs": [],
   "source": [
    "print(vienna.beds.value_counts(normalize=True).nlargest(5).round(2))\n",
    "print('------------------')\n",
    "print(vienna.bathrooms.value_counts(normalize=True).nlargest(5).round(2))\n",
    "print('------------------')\n",
    "print(vienna.bedrooms.value_counts(normalize=True).nlargest(5).round(2))"
   ]
  },
  {
   "cell_type": "markdown",
   "metadata": {},
   "source": [
    "**Exercise:** Similar to how we binned the `host_response_time`, `host_response_rate`, and `host_acceptance_rate`, perform a similar binning for the various review scores attributes.\n",
    "    \n",
    "- `review_scores_rating`: bin the review scores between '0-79', '80-94','95-99' and '100'.\n",
    "- other review ratings: bin these scores between '0-8','9', and '10'\n",
    "- add an unknown category and fill the na's with 'unkown' (don't forget to reorder your categories so that 'unknown' is first)"
   ]
  },
  {
   "cell_type": "code",
   "execution_count": 136,
   "metadata": {
    "code_folding": []
   },
   "outputs": [
    {
     "data": {
      "text/plain": [
       "id\n",
       "15883       95.0\n",
       "38768       95.0\n",
       "40625       97.0\n",
       "51287       92.0\n",
       "70637       95.0\n",
       "            ... \n",
       "49169158     NaN\n",
       "49169449     NaN\n",
       "49169526     NaN\n",
       "49170145     NaN\n",
       "49171797     NaN\n",
       "Name: review_scores_rating, Length: 11264, dtype: float64"
      ]
     },
     "execution_count": 136,
     "metadata": {},
     "output_type": "execute_result"
    }
   ],
   "source": [
    "vienna.review_scores_rating"
   ]
  },
  {
   "cell_type": "code",
   "execution_count": 137,
   "metadata": {},
   "outputs": [],
   "source": [
    "#vienna.review_scores_rating.fillna('unknown', inplace=True)"
   ]
  },
  {
   "cell_type": "code",
   "execution_count": 140,
   "metadata": {},
   "outputs": [
    {
     "ename": "TypeError",
     "evalue": "'<' not supported between instances of 'int' and 'str'",
     "output_type": "error",
     "traceback": [
      "\u001b[0;31m---------------------------------------------------------------------------\u001b[0m",
      "\u001b[0;31mTypeError\u001b[0m                                 Traceback (most recent call last)",
      "\u001b[0;32m<ipython-input-140-764174f7cb81>\u001b[0m in \u001b[0;36m<module>\u001b[0;34m\u001b[0m\n\u001b[1;32m      1\u001b[0m \u001b[0mbins\u001b[0m \u001b[0;34m=\u001b[0m \u001b[0;34m[\u001b[0m\u001b[0;36m0\u001b[0m\u001b[0;34m,\u001b[0m\u001b[0;36m79\u001b[0m\u001b[0;34m,\u001b[0m\u001b[0;36m94\u001b[0m\u001b[0;34m,\u001b[0m\u001b[0;36m99\u001b[0m\u001b[0;34m,\u001b[0m\u001b[0;36m100\u001b[0m\u001b[0;34m]\u001b[0m\u001b[0;34m\u001b[0m\u001b[0;34m\u001b[0m\u001b[0m\n\u001b[0;32m----> 2\u001b[0;31m \u001b[0mvienna\u001b[0m\u001b[0;34m[\u001b[0m\u001b[0;34m'review_scores_rating'\u001b[0m\u001b[0;34m]\u001b[0m \u001b[0;34m=\u001b[0m \u001b[0mpd\u001b[0m\u001b[0;34m.\u001b[0m\u001b[0mcut\u001b[0m\u001b[0;34m(\u001b[0m\u001b[0mvienna\u001b[0m\u001b[0;34m.\u001b[0m\u001b[0mreview_scores_rating\u001b[0m\u001b[0;34m,\u001b[0m \u001b[0mbins\u001b[0m\u001b[0;34m=\u001b[0m\u001b[0mbins\u001b[0m\u001b[0;34m,\u001b[0m \u001b[0mlabels\u001b[0m\u001b[0;34m=\u001b[0m\u001b[0;34m[\u001b[0m\u001b[0;34m'0-79'\u001b[0m\u001b[0;34m,\u001b[0m \u001b[0;34m'80-94'\u001b[0m\u001b[0;34m,\u001b[0m\u001b[0;34m'95-99'\u001b[0m\u001b[0;34m,\u001b[0m\u001b[0;34m'100'\u001b[0m\u001b[0;34m]\u001b[0m\u001b[0;34m)\u001b[0m\u001b[0;34m\u001b[0m\u001b[0;34m\u001b[0m\u001b[0m\n\u001b[0m\u001b[1;32m      3\u001b[0m \u001b[0;34m\u001b[0m\u001b[0m\n\u001b[1;32m      4\u001b[0m \u001b[0;31m#then change to categorical data type\u001b[0m\u001b[0;34m\u001b[0m\u001b[0;34m\u001b[0m\u001b[0;34m\u001b[0m\u001b[0m\n\u001b[1;32m      5\u001b[0m \u001b[0;31m#vienna['review_scores_rating'] = vienna['review_scores_rating'].astype('category')\u001b[0m\u001b[0;34m\u001b[0m\u001b[0;34m\u001b[0m\u001b[0;34m\u001b[0m\u001b[0m\n",
      "\u001b[0;32m/opt/anaconda3/lib/python3.8/site-packages/pandas/core/reshape/tile.py\u001b[0m in \u001b[0;36mcut\u001b[0;34m(x, bins, right, labels, retbins, precision, include_lowest, duplicates, ordered)\u001b[0m\n\u001b[1;32m    290\u001b[0m             \u001b[0;32mraise\u001b[0m \u001b[0mValueError\u001b[0m\u001b[0;34m(\u001b[0m\u001b[0;34m\"bins must increase monotonically.\"\u001b[0m\u001b[0;34m)\u001b[0m\u001b[0;34m\u001b[0m\u001b[0;34m\u001b[0m\u001b[0m\n\u001b[1;32m    291\u001b[0m \u001b[0;34m\u001b[0m\u001b[0m\n\u001b[0;32m--> 292\u001b[0;31m     fac, bins = _bins_to_cuts(\n\u001b[0m\u001b[1;32m    293\u001b[0m         \u001b[0mx\u001b[0m\u001b[0;34m,\u001b[0m\u001b[0;34m\u001b[0m\u001b[0;34m\u001b[0m\u001b[0m\n\u001b[1;32m    294\u001b[0m         \u001b[0mbins\u001b[0m\u001b[0;34m,\u001b[0m\u001b[0;34m\u001b[0m\u001b[0;34m\u001b[0m\u001b[0m\n",
      "\u001b[0;32m/opt/anaconda3/lib/python3.8/site-packages/pandas/core/reshape/tile.py\u001b[0m in \u001b[0;36m_bins_to_cuts\u001b[0;34m(x, bins, right, labels, precision, include_lowest, dtype, duplicates, ordered)\u001b[0m\n\u001b[1;32m    425\u001b[0m \u001b[0;34m\u001b[0m\u001b[0m\n\u001b[1;32m    426\u001b[0m     \u001b[0mside\u001b[0m\u001b[0;34m:\u001b[0m \u001b[0mLiteral\u001b[0m\u001b[0;34m[\u001b[0m\u001b[0;34m\"left\"\u001b[0m\u001b[0;34m,\u001b[0m \u001b[0;34m\"right\"\u001b[0m\u001b[0;34m]\u001b[0m \u001b[0;34m=\u001b[0m \u001b[0;34m\"left\"\u001b[0m \u001b[0;32mif\u001b[0m \u001b[0mright\u001b[0m \u001b[0;32melse\u001b[0m \u001b[0;34m\"right\"\u001b[0m\u001b[0;34m\u001b[0m\u001b[0;34m\u001b[0m\u001b[0m\n\u001b[0;32m--> 427\u001b[0;31m     \u001b[0mids\u001b[0m \u001b[0;34m=\u001b[0m \u001b[0mensure_platform_int\u001b[0m\u001b[0;34m(\u001b[0m\u001b[0mbins\u001b[0m\u001b[0;34m.\u001b[0m\u001b[0msearchsorted\u001b[0m\u001b[0;34m(\u001b[0m\u001b[0mx\u001b[0m\u001b[0;34m,\u001b[0m \u001b[0mside\u001b[0m\u001b[0;34m=\u001b[0m\u001b[0mside\u001b[0m\u001b[0;34m)\u001b[0m\u001b[0;34m)\u001b[0m\u001b[0;34m\u001b[0m\u001b[0;34m\u001b[0m\u001b[0m\n\u001b[0m\u001b[1;32m    428\u001b[0m \u001b[0;34m\u001b[0m\u001b[0m\n\u001b[1;32m    429\u001b[0m     \u001b[0;32mif\u001b[0m \u001b[0minclude_lowest\u001b[0m\u001b[0;34m:\u001b[0m\u001b[0;34m\u001b[0m\u001b[0;34m\u001b[0m\u001b[0m\n",
      "\u001b[0;31mTypeError\u001b[0m: '<' not supported between instances of 'int' and 'str'"
     ]
    }
   ],
   "source": [
    "bins = [0,79,94,99,100]\n",
    "vienna['review_scores_rating'] = pd.cut(vienna.review_scores_rating, bins=bins, labels=['0-79', '80-94','95-99','100'])\n",
    "\n",
    "#then change to categorical data type\n",
    "#vienna['review_scores_rating'] = vienna['review_scores_rating'].astype('category')\n",
    "\n",
    "#add 'unknown'\n",
    "vienna['review_scores_rating'] = vienna['review_scores_rating'].cat.add_categories('unknown')\n",
    "\n",
    "#reorder so 'unknown' is first\n",
    "vienna['review_scores_rating'] = vienna['review_scores_rating'].cat.reorder_categories(['unknown','0-79', '80-94','95-99','100'])\n",
    "\n",
    "#now fill na's with 'unknown'\n",
    "vienna['review_scores_rating'].fillna('unknown', inplace=True)\n",
    "\n",
    "#let's check\n",
    "vienna['review_scores_rating']"
   ]
  },
  {
   "cell_type": "markdown",
   "metadata": {},
   "source": [
    "## Conclusion<a name=\"conclusion\"></a>"
   ]
  },
  {
   "cell_type": "markdown",
   "metadata": {},
   "source": [
    "In reality, a lot more needs to be done to this dataset before it is ready for a machine learning algorithm to be run. Also, as I mentioned above, there are sometimes easier ways to perform some of these data manipulations using Scikit-learn, which you will learn about more in the machine learning classes.\n",
    "\n",
    "After cleaning up the data further, checking for correlation between the attributes, dropping attributes and creating some new ones using this data, the best machine learning model was able to predict **66%** of the price using this data with a RMSE score of **0.3643** (the target value was changed to use the log of the price).\n",
    "\n",
    "Given the above results, my conclusion is that this data can be used to predict prices somewhat but more work or more data is needed to create a better model. Future work could involve:\n",
    "\n",
    "- performing analysis on the photos and determine if they have an impact on price\n",
    "- performing a sentiment analysis on the foreign language comments (from a different file on the InsideAirbnb website) to determine if the guest comments could be an indicator of price. I was able to perform a sentiment analysis on the English language comments and there was not much impact on the model.\n",
    "- further feature extraction/elimination\n",
    "- prices are the listed prices from the Airbnb website. A more accurate model might be obtained by using the prices that guests actually paid for a property\n",
    "- personally scrape data from the Aribnb website to obtain more information than what is listed in the file"
   ]
  }
 ],
 "metadata": {
  "kernelspec": {
   "display_name": "Python 3",
   "language": "python",
   "name": "python3"
  },
  "language_info": {
   "codemirror_mode": {
    "name": "ipython",
    "version": 3
   },
   "file_extension": ".py",
   "mimetype": "text/x-python",
   "name": "python",
   "nbconvert_exporter": "python",
   "pygments_lexer": "ipython3",
   "version": "3.8.3"
  }
 },
 "nbformat": 4,
 "nbformat_minor": 4
}
