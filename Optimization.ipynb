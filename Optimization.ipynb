{
 "cells": [
  {
   "cell_type": "markdown",
   "metadata": {},
   "source": [
    "# DataFrame Loop Optimization\n",
    "\n",
    "Throughout the various examples and exercises in the notebooks during this class, we have been more interested in learning the different Pandas and Numpy methods and less interested in optimization.\n",
    "\n",
    "Now, let's spend a little time looking at optimization as it is an important part of Data Science, especially as you begin to work with larger data sets. My hope is that this will also give you an idea of different ways to loop through your data when you are working on your own projects.\n",
    "\n",
    "Note: The initial idea and some of the code for this notebook comes from Tanmay Chinmurkar's article titled 'Hey Pandas, why you no fast loop?!?\" on medium.com. Read the full article here: https://medium.com/analytics-vidhya/hey-pandas-why-you-no-fast-loop-e7226ed97322"
   ]
  },
  {
   "cell_type": "code",
   "execution_count": 1,
   "metadata": {},
   "outputs": [],
   "source": [
    "# common imports\n",
    "import pandas as pd\n",
    "import numpy as np\n",
    "import warnings\n",
    "warnings.filterwarnings('ignore')"
   ]
  },
  {
   "cell_type": "markdown",
   "metadata": {},
   "source": [
    "Let's start out by creating a DataFrame with 100,000 review scores similar to the review scores we discussed in the AirBnb data."
   ]
  },
  {
   "cell_type": "code",
   "execution_count": 2,
   "metadata": {},
   "outputs": [
    {
     "data": {
      "text/html": [
       "<div>\n",
       "<style scoped>\n",
       "    .dataframe tbody tr th:only-of-type {\n",
       "        vertical-align: middle;\n",
       "    }\n",
       "\n",
       "    .dataframe tbody tr th {\n",
       "        vertical-align: top;\n",
       "    }\n",
       "\n",
       "    .dataframe thead th {\n",
       "        text-align: right;\n",
       "    }\n",
       "</style>\n",
       "<table border=\"1\" class=\"dataframe\">\n",
       "  <thead>\n",
       "    <tr style=\"text-align: right;\">\n",
       "      <th></th>\n",
       "      <th>review_score</th>\n",
       "    </tr>\n",
       "  </thead>\n",
       "  <tbody>\n",
       "    <tr>\n",
       "      <th>0</th>\n",
       "      <td>51</td>\n",
       "    </tr>\n",
       "    <tr>\n",
       "      <th>1</th>\n",
       "      <td>92</td>\n",
       "    </tr>\n",
       "    <tr>\n",
       "      <th>2</th>\n",
       "      <td>14</td>\n",
       "    </tr>\n",
       "    <tr>\n",
       "      <th>3</th>\n",
       "      <td>71</td>\n",
       "    </tr>\n",
       "    <tr>\n",
       "      <th>4</th>\n",
       "      <td>60</td>\n",
       "    </tr>\n",
       "    <tr>\n",
       "      <th>...</th>\n",
       "      <td>...</td>\n",
       "    </tr>\n",
       "    <tr>\n",
       "      <th>99995</th>\n",
       "      <td>26</td>\n",
       "    </tr>\n",
       "    <tr>\n",
       "      <th>99996</th>\n",
       "      <td>35</td>\n",
       "    </tr>\n",
       "    <tr>\n",
       "      <th>99997</th>\n",
       "      <td>87</td>\n",
       "    </tr>\n",
       "    <tr>\n",
       "      <th>99998</th>\n",
       "      <td>53</td>\n",
       "    </tr>\n",
       "    <tr>\n",
       "      <th>99999</th>\n",
       "      <td>19</td>\n",
       "    </tr>\n",
       "  </tbody>\n",
       "</table>\n",
       "<p>100000 rows × 1 columns</p>\n",
       "</div>"
      ],
      "text/plain": [
       "       review_score\n",
       "0                51\n",
       "1                92\n",
       "2                14\n",
       "3                71\n",
       "4                60\n",
       "...             ...\n",
       "99995            26\n",
       "99996            35\n",
       "99997            87\n",
       "99998            53\n",
       "99999            19\n",
       "\n",
       "[100000 rows x 1 columns]"
      ]
     },
     "execution_count": 2,
     "metadata": {},
     "output_type": "execute_result"
    }
   ],
   "source": [
    "#set random seed\n",
    "np.random.seed(42)\n",
    "\n",
    "# create sample DataFrame of 100,000 review scores\n",
    "df = pd.DataFrame(np.random.randint(0,100, size = 100000), \n",
    "                  columns=['review_score'])\n",
    "\n",
    "df"
   ]
  },
  {
   "cell_type": "markdown",
   "metadata": {},
   "source": [
    "Next, let's say that we want to add a new column called `review_stars` that follows the following mapping:\n",
    "\n",
    "- 0 - 20: 'One Star'\n",
    "\n",
    "- 21 - 40: 'Two Stars'\n",
    "\n",
    "- 41 - 60: 'Three Stars'\n",
    "\n",
    "- 61 - 80: 'Four Stars'\n",
    "\n",
    "- 81 - 100: 'Five Stars'\n",
    "\n",
    "*Note: We will not worry about creating categorical data types for this example."
   ]
  },
  {
   "cell_type": "markdown",
   "metadata": {},
   "source": [
    "## Basic Loops\n",
    "\n",
    "Let's first use a basic Python loop to perform this task and calculate the total computation time."
   ]
  },
  {
   "cell_type": "code",
   "execution_count": 3,
   "metadata": {},
   "outputs": [],
   "source": [
    "def basic_loop(df):\n",
    "    # create an empty column to use in the loop\n",
    "    df['review_stars'] = ''\n",
    "    \n",
    "    # loop through review_scores, creating new review_stars column\n",
    "    for value in range(len(df)):\n",
    "        if df['review_score'][value] >= 0 and df['review_score'][value] <= 20:\n",
    "            df['review_stars'].iloc[value] = 'One Star'\n",
    "        \n",
    "        elif df['review_score'][value] >= 21 and df['review_score'][value] <= 40:\n",
    "            df['review_stars'].iloc[value] = 'Two Stars'\n",
    "        \n",
    "        elif df['review_score'][value] >= 41 and df['review_score'][value] <= 60:\n",
    "            df['review_stars'].iloc[value] = 'Three Stars'\n",
    "        \n",
    "        elif df['review_score'][value] >= 61 and df['review_score'][value] <= 80:\n",
    "            df['review_stars'].iloc[value] = 'Four Stars'\n",
    "        \n",
    "        else: df['review_stars'].iloc[value] = 'Five Stars'"
   ]
  },
  {
   "cell_type": "code",
   "execution_count": 4,
   "metadata": {},
   "outputs": [
    {
     "name": "stdout",
     "output_type": "stream",
     "text": [
      "25.4 s ± 1.03 s per loop (mean ± std. dev. of 7 runs, 1 loop each)\n"
     ]
    }
   ],
   "source": [
    "%%timeit\n",
    "basic_loop(df)"
   ]
  },
  {
   "cell_type": "code",
   "execution_count": 5,
   "metadata": {},
   "outputs": [
    {
     "data": {
      "text/html": [
       "<div>\n",
       "<style scoped>\n",
       "    .dataframe tbody tr th:only-of-type {\n",
       "        vertical-align: middle;\n",
       "    }\n",
       "\n",
       "    .dataframe tbody tr th {\n",
       "        vertical-align: top;\n",
       "    }\n",
       "\n",
       "    .dataframe thead th {\n",
       "        text-align: right;\n",
       "    }\n",
       "</style>\n",
       "<table border=\"1\" class=\"dataframe\">\n",
       "  <thead>\n",
       "    <tr style=\"text-align: right;\">\n",
       "      <th></th>\n",
       "      <th>review_score</th>\n",
       "      <th>review_stars</th>\n",
       "    </tr>\n",
       "  </thead>\n",
       "  <tbody>\n",
       "    <tr>\n",
       "      <th>0</th>\n",
       "      <td>51</td>\n",
       "      <td>Three Stars</td>\n",
       "    </tr>\n",
       "    <tr>\n",
       "      <th>1</th>\n",
       "      <td>92</td>\n",
       "      <td>Five Stars</td>\n",
       "    </tr>\n",
       "    <tr>\n",
       "      <th>2</th>\n",
       "      <td>14</td>\n",
       "      <td>One Star</td>\n",
       "    </tr>\n",
       "    <tr>\n",
       "      <th>3</th>\n",
       "      <td>71</td>\n",
       "      <td>Four Stars</td>\n",
       "    </tr>\n",
       "    <tr>\n",
       "      <th>4</th>\n",
       "      <td>60</td>\n",
       "      <td>Three Stars</td>\n",
       "    </tr>\n",
       "    <tr>\n",
       "      <th>...</th>\n",
       "      <td>...</td>\n",
       "      <td>...</td>\n",
       "    </tr>\n",
       "    <tr>\n",
       "      <th>99995</th>\n",
       "      <td>26</td>\n",
       "      <td>Two Stars</td>\n",
       "    </tr>\n",
       "    <tr>\n",
       "      <th>99996</th>\n",
       "      <td>35</td>\n",
       "      <td>Two Stars</td>\n",
       "    </tr>\n",
       "    <tr>\n",
       "      <th>99997</th>\n",
       "      <td>87</td>\n",
       "      <td>Five Stars</td>\n",
       "    </tr>\n",
       "    <tr>\n",
       "      <th>99998</th>\n",
       "      <td>53</td>\n",
       "      <td>Three Stars</td>\n",
       "    </tr>\n",
       "    <tr>\n",
       "      <th>99999</th>\n",
       "      <td>19</td>\n",
       "      <td>One Star</td>\n",
       "    </tr>\n",
       "  </tbody>\n",
       "</table>\n",
       "<p>100000 rows × 2 columns</p>\n",
       "</div>"
      ],
      "text/plain": [
       "       review_score review_stars\n",
       "0                51  Three Stars\n",
       "1                92   Five Stars\n",
       "2                14     One Star\n",
       "3                71   Four Stars\n",
       "4                60  Three Stars\n",
       "...             ...          ...\n",
       "99995            26    Two Stars\n",
       "99996            35    Two Stars\n",
       "99997            87   Five Stars\n",
       "99998            53  Three Stars\n",
       "99999            19     One Star\n",
       "\n",
       "[100000 rows x 2 columns]"
      ]
     },
     "execution_count": 5,
     "metadata": {},
     "output_type": "execute_result"
    }
   ],
   "source": [
    "# check DataFrame\n",
    "df"
   ]
  },
  {
   "cell_type": "markdown",
   "metadata": {},
   "source": [
    "## Iterrows\n",
    "\n",
    "From Pandas documentation:\n",
    "- The Pandas' method `iterrows` iterates over the DataFrame rows as (Index, Series) pairs. \n",
    "- Because iterrows returns a Series for each row, it does not preserve dtypes across the rows (dtypes are preserved across columns for DataFrames)\n",
    "- To preserve dtypes while iterating over the rows, it is better to use `itertuples()` which returns named tuples of the values and which is generally faster than iterrows\n",
    "- You should never modify something you are iterating over"
   ]
  },
  {
   "cell_type": "code",
   "execution_count": 6,
   "metadata": {},
   "outputs": [
    {
     "data": {
      "text/html": [
       "<div>\n",
       "<style scoped>\n",
       "    .dataframe tbody tr th:only-of-type {\n",
       "        vertical-align: middle;\n",
       "    }\n",
       "\n",
       "    .dataframe tbody tr th {\n",
       "        vertical-align: top;\n",
       "    }\n",
       "\n",
       "    .dataframe thead th {\n",
       "        text-align: right;\n",
       "    }\n",
       "</style>\n",
       "<table border=\"1\" class=\"dataframe\">\n",
       "  <thead>\n",
       "    <tr style=\"text-align: right;\">\n",
       "      <th></th>\n",
       "      <th>int</th>\n",
       "      <th>float</th>\n",
       "    </tr>\n",
       "  </thead>\n",
       "  <tbody>\n",
       "    <tr>\n",
       "      <th>0</th>\n",
       "      <td>1</td>\n",
       "      <td>1.5</td>\n",
       "    </tr>\n",
       "  </tbody>\n",
       "</table>\n",
       "</div>"
      ],
      "text/plain": [
       "   int  float\n",
       "0    1    1.5"
      ]
     },
     "execution_count": 6,
     "metadata": {},
     "output_type": "execute_result"
    }
   ],
   "source": [
    "# Documentation example to show dtypes\n",
    "df2 = pd.DataFrame([[1, 1.5]], columns=['int', 'float'])\n",
    "df2"
   ]
  },
  {
   "cell_type": "code",
   "execution_count": 7,
   "metadata": {},
   "outputs": [
    {
     "name": "stdout",
     "output_type": "stream",
     "text": [
      "<class 'pandas.core.frame.DataFrame'>\n",
      "RangeIndex: 1 entries, 0 to 0\n",
      "Data columns (total 2 columns):\n",
      " #   Column  Non-Null Count  Dtype  \n",
      "---  ------  --------------  -----  \n",
      " 0   int     1 non-null      int64  \n",
      " 1   float   1 non-null      float64\n",
      "dtypes: float64(1), int64(1)\n",
      "memory usage: 144.0 bytes\n"
     ]
    }
   ],
   "source": [
    "# check data types\n",
    "df2.info()"
   ]
  },
  {
   "cell_type": "code",
   "execution_count": 8,
   "metadata": {},
   "outputs": [
    {
     "data": {
      "text/plain": [
       "int      1.0\n",
       "float    1.5\n",
       "Name: 0, dtype: float64"
      ]
     },
     "execution_count": 8,
     "metadata": {},
     "output_type": "execute_result"
    }
   ],
   "source": [
    "row = next(df2.iterrows())[1]\n",
    "row"
   ]
  },
  {
   "cell_type": "code",
   "execution_count": 9,
   "metadata": {},
   "outputs": [
    {
     "name": "stdout",
     "output_type": "stream",
     "text": [
      "float64\n",
      "int64\n"
     ]
    }
   ],
   "source": [
    "# check data types again\n",
    "print(row['int'].dtype)\n",
    "print(df2['int'].dtype)"
   ]
  },
  {
   "cell_type": "code",
   "execution_count": 10,
   "metadata": {},
   "outputs": [
    {
     "name": "stdout",
     "output_type": "stream",
     "text": [
      "0\n",
      "----\n",
      "51\n",
      "--------\n",
      "1\n",
      "----\n",
      "92\n",
      "--------\n",
      "2\n",
      "----\n",
      "14\n",
      "--------\n",
      "3\n",
      "----\n",
      "71\n",
      "--------\n",
      "4\n",
      "----\n",
      "60\n",
      "--------\n"
     ]
    }
   ],
   "source": [
    "count = 0\n",
    "for i, s in df.iterrows():\n",
    "    print(i)\n",
    "    print('----')\n",
    "#     print(s)\n",
    "    print(s[0])\n",
    "    print('--------')\n",
    "    count += 1\n",
    "    if count == 5:\n",
    "        break"
   ]
  },
  {
   "cell_type": "code",
   "execution_count": 11,
   "metadata": {},
   "outputs": [],
   "source": [
    "# create function to work with iterrows()\n",
    "def iterrows_loop(i,s):\n",
    "        if s[0] >= 0 and s[0] <= 20:\n",
    "            return 'One Star'\n",
    "        elif s[0] >= 21 and s[0] <= 40:\n",
    "            return 'Two Stars'\n",
    "        elif s[0] >= 41 and s[0] <= 60:\n",
    "            return 'Three Stars'\n",
    "        elif s[0] >= 61 and s[0] <= 80:\n",
    "            return 'Four Stars'\n",
    "        else: return 'Five Stars'"
   ]
  },
  {
   "cell_type": "code",
   "execution_count": 12,
   "metadata": {},
   "outputs": [
    {
     "name": "stdout",
     "output_type": "stream",
     "text": [
      "3.85 s ± 235 ms per loop (mean ± std. dev. of 7 runs, 1 loop each)\n"
     ]
    }
   ],
   "source": [
    "%%timeit\n",
    "\n",
    "# create empty list\n",
    "output_list = []\n",
    "\n",
    "# iterate over rows\n",
    "for i, s in df.iterrows():\n",
    "    output_list.append(iterrows_loop(i, s))\n",
    "\n",
    "# add list as new column\n",
    "df['review_stars2'] = output_list"
   ]
  },
  {
   "cell_type": "markdown",
   "metadata": {},
   "source": [
    "## Using Apply()"
   ]
  },
  {
   "cell_type": "code",
   "execution_count": 13,
   "metadata": {},
   "outputs": [],
   "source": [
    "# create function to work with apply\n",
    "def buckets(x):\n",
    "    if x >= 0 and x <= 20:\n",
    "        return 'One Star'\n",
    "    elif x >= 21 and x <= 40:\n",
    "        return  'Two Stars'\n",
    "    elif x >= 41 and x <= 60:\n",
    "        return  'Three Stars'\n",
    "    elif x >= 61 and x <= 80:\n",
    "        return  'Four Stars'\n",
    "    else: return  'Five Stars'"
   ]
  },
  {
   "cell_type": "code",
   "execution_count": 14,
   "metadata": {},
   "outputs": [
    {
     "name": "stdout",
     "output_type": "stream",
     "text": [
      "674 ms ± 3.05 ms per loop (mean ± std. dev. of 7 runs, 1 loop each)\n"
     ]
    }
   ],
   "source": [
    "%%timeit\n",
    "df['review_stars3'] = df.apply(lambda row: buckets(row['review_score']), axis=1)"
   ]
  },
  {
   "cell_type": "markdown",
   "metadata": {},
   "source": [
    "## Intertuples()\n",
    "\n",
    "Iterate over DataFrame rows as named tuples."
   ]
  },
  {
   "cell_type": "code",
   "execution_count": 15,
   "metadata": {},
   "outputs": [
    {
     "name": "stdout",
     "output_type": "stream",
     "text": [
      "51\n",
      "----\n",
      "92\n",
      "----\n",
      "14\n",
      "----\n",
      "71\n",
      "----\n",
      "60\n",
      "----\n"
     ]
    }
   ],
   "source": [
    "count = 0\n",
    "\n",
    "for row in df.itertuples():\n",
    "#     print(row)\n",
    "    print(row[1])\n",
    "    print('----')\n",
    "    count += 1\n",
    "    if count == 5:\n",
    "        break"
   ]
  },
  {
   "cell_type": "code",
   "execution_count": 16,
   "metadata": {},
   "outputs": [],
   "source": [
    "# create function to work with intertuples()\n",
    "def itertuples_loop(r):\n",
    "        if r[1] >= 0 and r[1] <= 20:\n",
    "            return 'One Star'\n",
    "        elif r[1] >= 21 and r[1] <= 40:\n",
    "            return 'Two Stars'\n",
    "        elif r[1] >= 41 and r[1] <= 60:\n",
    "            return 'Three Stars'\n",
    "        elif r[1] >= 61 and r[1] <= 80:\n",
    "            return 'Four Stars'\n",
    "        else: return 'Five Stars'"
   ]
  },
  {
   "cell_type": "code",
   "execution_count": 17,
   "metadata": {},
   "outputs": [
    {
     "name": "stdout",
     "output_type": "stream",
     "text": [
      "107 ms ± 6.24 ms per loop (mean ± std. dev. of 7 runs, 10 loops each)\n"
     ]
    }
   ],
   "source": [
    "%%timeit\n",
    "\n",
    "# create empty list\n",
    "output_list = []\n",
    "\n",
    "# iterate using itertuples\n",
    "for row in df.itertuples():\n",
    "    output_list.append(itertuples_loop(row))\n",
    "\n",
    "# create new column using list\n",
    "df['review_stars4'] = output_list"
   ]
  },
  {
   "cell_type": "code",
   "execution_count": 18,
   "metadata": {},
   "outputs": [
    {
     "data": {
      "text/html": [
       "<div>\n",
       "<style scoped>\n",
       "    .dataframe tbody tr th:only-of-type {\n",
       "        vertical-align: middle;\n",
       "    }\n",
       "\n",
       "    .dataframe tbody tr th {\n",
       "        vertical-align: top;\n",
       "    }\n",
       "\n",
       "    .dataframe thead th {\n",
       "        text-align: right;\n",
       "    }\n",
       "</style>\n",
       "<table border=\"1\" class=\"dataframe\">\n",
       "  <thead>\n",
       "    <tr style=\"text-align: right;\">\n",
       "      <th></th>\n",
       "      <th>review_score</th>\n",
       "      <th>review_stars</th>\n",
       "      <th>review_stars2</th>\n",
       "      <th>review_stars3</th>\n",
       "      <th>review_stars4</th>\n",
       "    </tr>\n",
       "  </thead>\n",
       "  <tbody>\n",
       "    <tr>\n",
       "      <th>0</th>\n",
       "      <td>51</td>\n",
       "      <td>Three Stars</td>\n",
       "      <td>Three Stars</td>\n",
       "      <td>Three Stars</td>\n",
       "      <td>Three Stars</td>\n",
       "    </tr>\n",
       "    <tr>\n",
       "      <th>1</th>\n",
       "      <td>92</td>\n",
       "      <td>Five Stars</td>\n",
       "      <td>Five Stars</td>\n",
       "      <td>Five Stars</td>\n",
       "      <td>Five Stars</td>\n",
       "    </tr>\n",
       "    <tr>\n",
       "      <th>2</th>\n",
       "      <td>14</td>\n",
       "      <td>One Star</td>\n",
       "      <td>One Star</td>\n",
       "      <td>One Star</td>\n",
       "      <td>One Star</td>\n",
       "    </tr>\n",
       "    <tr>\n",
       "      <th>3</th>\n",
       "      <td>71</td>\n",
       "      <td>Four Stars</td>\n",
       "      <td>Four Stars</td>\n",
       "      <td>Four Stars</td>\n",
       "      <td>Four Stars</td>\n",
       "    </tr>\n",
       "    <tr>\n",
       "      <th>4</th>\n",
       "      <td>60</td>\n",
       "      <td>Three Stars</td>\n",
       "      <td>Three Stars</td>\n",
       "      <td>Three Stars</td>\n",
       "      <td>Three Stars</td>\n",
       "    </tr>\n",
       "    <tr>\n",
       "      <th>...</th>\n",
       "      <td>...</td>\n",
       "      <td>...</td>\n",
       "      <td>...</td>\n",
       "      <td>...</td>\n",
       "      <td>...</td>\n",
       "    </tr>\n",
       "    <tr>\n",
       "      <th>99995</th>\n",
       "      <td>26</td>\n",
       "      <td>Two Stars</td>\n",
       "      <td>Two Stars</td>\n",
       "      <td>Two Stars</td>\n",
       "      <td>Two Stars</td>\n",
       "    </tr>\n",
       "    <tr>\n",
       "      <th>99996</th>\n",
       "      <td>35</td>\n",
       "      <td>Two Stars</td>\n",
       "      <td>Two Stars</td>\n",
       "      <td>Two Stars</td>\n",
       "      <td>Two Stars</td>\n",
       "    </tr>\n",
       "    <tr>\n",
       "      <th>99997</th>\n",
       "      <td>87</td>\n",
       "      <td>Five Stars</td>\n",
       "      <td>Five Stars</td>\n",
       "      <td>Five Stars</td>\n",
       "      <td>Five Stars</td>\n",
       "    </tr>\n",
       "    <tr>\n",
       "      <th>99998</th>\n",
       "      <td>53</td>\n",
       "      <td>Three Stars</td>\n",
       "      <td>Three Stars</td>\n",
       "      <td>Three Stars</td>\n",
       "      <td>Three Stars</td>\n",
       "    </tr>\n",
       "    <tr>\n",
       "      <th>99999</th>\n",
       "      <td>19</td>\n",
       "      <td>One Star</td>\n",
       "      <td>One Star</td>\n",
       "      <td>One Star</td>\n",
       "      <td>One Star</td>\n",
       "    </tr>\n",
       "  </tbody>\n",
       "</table>\n",
       "<p>100000 rows × 5 columns</p>\n",
       "</div>"
      ],
      "text/plain": [
       "       review_score review_stars review_stars2 review_stars3 review_stars4\n",
       "0                51  Three Stars   Three Stars   Three Stars   Three Stars\n",
       "1                92   Five Stars    Five Stars    Five Stars    Five Stars\n",
       "2                14     One Star      One Star      One Star      One Star\n",
       "3                71   Four Stars    Four Stars    Four Stars    Four Stars\n",
       "4                60  Three Stars   Three Stars   Three Stars   Three Stars\n",
       "...             ...          ...           ...           ...           ...\n",
       "99995            26    Two Stars     Two Stars     Two Stars     Two Stars\n",
       "99996            35    Two Stars     Two Stars     Two Stars     Two Stars\n",
       "99997            87   Five Stars    Five Stars    Five Stars    Five Stars\n",
       "99998            53  Three Stars   Three Stars   Three Stars   Three Stars\n",
       "99999            19     One Star      One Star      One Star      One Star\n",
       "\n",
       "[100000 rows x 5 columns]"
      ]
     },
     "execution_count": 18,
     "metadata": {},
     "output_type": "execute_result"
    }
   ],
   "source": [
    "df"
   ]
  },
  {
   "cell_type": "markdown",
   "metadata": {},
   "source": [
    "## np.where()"
   ]
  },
  {
   "cell_type": "code",
   "execution_count": 19,
   "metadata": {},
   "outputs": [
    {
     "name": "stdout",
     "output_type": "stream",
     "text": [
      "20.6 ms ± 1.96 ms per loop (mean ± std. dev. of 7 runs, 10 loops each)\n"
     ]
    }
   ],
   "source": [
    "%%timeit\n",
    "\n",
    "df['review_stars5'] = np.where((df['review_score'] >= 0) & (df['review_score'] <= 20), 'One Star', \n",
    "                         np.where((df['review_score'] >= 21) & (df['review_score'] <= 40), 'Two Stars',\n",
    "                         np.where((df['review_score'] >= 41) & (df['review_score'] <= 60),'Three Stars', \n",
    "                         np.where((df['review_score'] >= 61) & (df['review_score'] <= 80),'Four Stars',\n",
    "                         'Five Stars'))))"
   ]
  },
  {
   "cell_type": "markdown",
   "metadata": {},
   "source": [
    "## Pandas Vectorization\n",
    "\n",
    "https://stackoverflow.com/questions/1422149/what-is-vectorization"
   ]
  },
  {
   "cell_type": "code",
   "execution_count": 21,
   "metadata": {},
   "outputs": [],
   "source": [
    "def pd_vector(score):\n",
    "    df.loc[(score >= 0) & (score <= 20), 'review_scores6'] = 'One Star'\n",
    "    df.loc[(score >= 21) & (score <= 40), 'review_scores6'] = 'Two Stars'\n",
    "    df.loc[(score >= 41) & (score <= 60), 'review_scores6'] = 'Three Stars'\n",
    "    df.loc[(score >= 61) & (score <= 80), 'review_scores6'] = 'Four Stars'\n",
    "    df.loc[(score >= 81),'review_scores6'] = 'Five Stars'"
   ]
  },
  {
   "cell_type": "code",
   "execution_count": 22,
   "metadata": {},
   "outputs": [
    {
     "name": "stdout",
     "output_type": "stream",
     "text": [
      "4.7 ms ± 79.5 µs per loop (mean ± std. dev. of 7 runs, 100 loops each)\n"
     ]
    }
   ],
   "source": [
    "%%timeit\n",
    "pd_vector(df['review_score'])"
   ]
  },
  {
   "cell_type": "markdown",
   "metadata": {},
   "source": [
    "## Numpy Vectorization"
   ]
  },
  {
   "cell_type": "code",
   "execution_count": 23,
   "metadata": {},
   "outputs": [],
   "source": [
    "def pd_vector_array(score):\n",
    "    df.loc[(score >= 0) & (score <= 20), 'review_scores7'] = 'One Star'\n",
    "    df.loc[(score >= 21) & (score <= 40), 'review_scores7'] = 'Two Stars'\n",
    "    df.loc[(score >= 41) & (score <= 60), 'review_scores7'] = 'Three Stars'\n",
    "    df.loc[(score >= 61) & (score <= 80), 'review_scores7'] = 'Four Stars'\n",
    "    df.loc[(score >= 81),'review_scores7'] = 'Five Stars'"
   ]
  },
  {
   "cell_type": "code",
   "execution_count": 24,
   "metadata": {},
   "outputs": [
    {
     "name": "stdout",
     "output_type": "stream",
     "text": [
      "3.65 ms ± 157 µs per loop (mean ± std. dev. of 7 runs, 100 loops each)\n"
     ]
    }
   ],
   "source": [
    "%%timeit\n",
    "pd_vector_array(df['review_score'].values)"
   ]
  },
  {
   "cell_type": "markdown",
   "metadata": {},
   "source": [
    "## Binning "
   ]
  },
  {
   "cell_type": "code",
   "execution_count": 25,
   "metadata": {},
   "outputs": [
    {
     "name": "stdout",
     "output_type": "stream",
     "text": [
      "3 ms ± 19.7 µs per loop (mean ± std. dev. of 7 runs, 100 loops each)\n"
     ]
    }
   ],
   "source": [
    "%%timeit\n",
    "df.loc[:,'review_stars8'] = pd.cut(x=df['review_score'], bins=[0, 20, 40, 60, 80, 100],\n",
    "                                            labels=['One Star','Two Stars','Three Stars','Four Stars','Five Stars'])"
   ]
  },
  {
   "cell_type": "markdown",
   "metadata": {},
   "source": [
    "## View Final DataFrame"
   ]
  },
  {
   "cell_type": "code",
   "execution_count": 26,
   "metadata": {},
   "outputs": [
    {
     "data": {
      "text/html": [
       "<div>\n",
       "<style scoped>\n",
       "    .dataframe tbody tr th:only-of-type {\n",
       "        vertical-align: middle;\n",
       "    }\n",
       "\n",
       "    .dataframe tbody tr th {\n",
       "        vertical-align: top;\n",
       "    }\n",
       "\n",
       "    .dataframe thead th {\n",
       "        text-align: right;\n",
       "    }\n",
       "</style>\n",
       "<table border=\"1\" class=\"dataframe\">\n",
       "  <thead>\n",
       "    <tr style=\"text-align: right;\">\n",
       "      <th></th>\n",
       "      <th>review_score</th>\n",
       "      <th>review_stars</th>\n",
       "      <th>review_stars2</th>\n",
       "      <th>review_stars3</th>\n",
       "      <th>review_stars4</th>\n",
       "      <th>review_stars5</th>\n",
       "      <th>review_scores6</th>\n",
       "      <th>review_scores7</th>\n",
       "      <th>review_stars8</th>\n",
       "    </tr>\n",
       "  </thead>\n",
       "  <tbody>\n",
       "    <tr>\n",
       "      <th>0</th>\n",
       "      <td>51</td>\n",
       "      <td>Three Stars</td>\n",
       "      <td>Three Stars</td>\n",
       "      <td>Three Stars</td>\n",
       "      <td>Three Stars</td>\n",
       "      <td>Three Stars</td>\n",
       "      <td>Three Stars</td>\n",
       "      <td>Three Stars</td>\n",
       "      <td>Three Stars</td>\n",
       "    </tr>\n",
       "    <tr>\n",
       "      <th>1</th>\n",
       "      <td>92</td>\n",
       "      <td>Five Stars</td>\n",
       "      <td>Five Stars</td>\n",
       "      <td>Five Stars</td>\n",
       "      <td>Five Stars</td>\n",
       "      <td>Five Stars</td>\n",
       "      <td>Five Stars</td>\n",
       "      <td>Five Stars</td>\n",
       "      <td>Five Stars</td>\n",
       "    </tr>\n",
       "    <tr>\n",
       "      <th>2</th>\n",
       "      <td>14</td>\n",
       "      <td>One Star</td>\n",
       "      <td>One Star</td>\n",
       "      <td>One Star</td>\n",
       "      <td>One Star</td>\n",
       "      <td>One Star</td>\n",
       "      <td>One Star</td>\n",
       "      <td>One Star</td>\n",
       "      <td>One Star</td>\n",
       "    </tr>\n",
       "    <tr>\n",
       "      <th>3</th>\n",
       "      <td>71</td>\n",
       "      <td>Four Stars</td>\n",
       "      <td>Four Stars</td>\n",
       "      <td>Four Stars</td>\n",
       "      <td>Four Stars</td>\n",
       "      <td>Four Stars</td>\n",
       "      <td>Four Stars</td>\n",
       "      <td>Four Stars</td>\n",
       "      <td>Four Stars</td>\n",
       "    </tr>\n",
       "    <tr>\n",
       "      <th>4</th>\n",
       "      <td>60</td>\n",
       "      <td>Three Stars</td>\n",
       "      <td>Three Stars</td>\n",
       "      <td>Three Stars</td>\n",
       "      <td>Three Stars</td>\n",
       "      <td>Three Stars</td>\n",
       "      <td>Three Stars</td>\n",
       "      <td>Three Stars</td>\n",
       "      <td>Three Stars</td>\n",
       "    </tr>\n",
       "    <tr>\n",
       "      <th>...</th>\n",
       "      <td>...</td>\n",
       "      <td>...</td>\n",
       "      <td>...</td>\n",
       "      <td>...</td>\n",
       "      <td>...</td>\n",
       "      <td>...</td>\n",
       "      <td>...</td>\n",
       "      <td>...</td>\n",
       "      <td>...</td>\n",
       "    </tr>\n",
       "    <tr>\n",
       "      <th>99995</th>\n",
       "      <td>26</td>\n",
       "      <td>Two Stars</td>\n",
       "      <td>Two Stars</td>\n",
       "      <td>Two Stars</td>\n",
       "      <td>Two Stars</td>\n",
       "      <td>Two Stars</td>\n",
       "      <td>Two Stars</td>\n",
       "      <td>Two Stars</td>\n",
       "      <td>Two Stars</td>\n",
       "    </tr>\n",
       "    <tr>\n",
       "      <th>99996</th>\n",
       "      <td>35</td>\n",
       "      <td>Two Stars</td>\n",
       "      <td>Two Stars</td>\n",
       "      <td>Two Stars</td>\n",
       "      <td>Two Stars</td>\n",
       "      <td>Two Stars</td>\n",
       "      <td>Two Stars</td>\n",
       "      <td>Two Stars</td>\n",
       "      <td>Two Stars</td>\n",
       "    </tr>\n",
       "    <tr>\n",
       "      <th>99997</th>\n",
       "      <td>87</td>\n",
       "      <td>Five Stars</td>\n",
       "      <td>Five Stars</td>\n",
       "      <td>Five Stars</td>\n",
       "      <td>Five Stars</td>\n",
       "      <td>Five Stars</td>\n",
       "      <td>Five Stars</td>\n",
       "      <td>Five Stars</td>\n",
       "      <td>Five Stars</td>\n",
       "    </tr>\n",
       "    <tr>\n",
       "      <th>99998</th>\n",
       "      <td>53</td>\n",
       "      <td>Three Stars</td>\n",
       "      <td>Three Stars</td>\n",
       "      <td>Three Stars</td>\n",
       "      <td>Three Stars</td>\n",
       "      <td>Three Stars</td>\n",
       "      <td>Three Stars</td>\n",
       "      <td>Three Stars</td>\n",
       "      <td>Three Stars</td>\n",
       "    </tr>\n",
       "    <tr>\n",
       "      <th>99999</th>\n",
       "      <td>19</td>\n",
       "      <td>One Star</td>\n",
       "      <td>One Star</td>\n",
       "      <td>One Star</td>\n",
       "      <td>One Star</td>\n",
       "      <td>One Star</td>\n",
       "      <td>One Star</td>\n",
       "      <td>One Star</td>\n",
       "      <td>One Star</td>\n",
       "    </tr>\n",
       "  </tbody>\n",
       "</table>\n",
       "<p>100000 rows × 9 columns</p>\n",
       "</div>"
      ],
      "text/plain": [
       "       review_score review_stars review_stars2 review_stars3 review_stars4  \\\n",
       "0                51  Three Stars   Three Stars   Three Stars   Three Stars   \n",
       "1                92   Five Stars    Five Stars    Five Stars    Five Stars   \n",
       "2                14     One Star      One Star      One Star      One Star   \n",
       "3                71   Four Stars    Four Stars    Four Stars    Four Stars   \n",
       "4                60  Three Stars   Three Stars   Three Stars   Three Stars   \n",
       "...             ...          ...           ...           ...           ...   \n",
       "99995            26    Two Stars     Two Stars     Two Stars     Two Stars   \n",
       "99996            35    Two Stars     Two Stars     Two Stars     Two Stars   \n",
       "99997            87   Five Stars    Five Stars    Five Stars    Five Stars   \n",
       "99998            53  Three Stars   Three Stars   Three Stars   Three Stars   \n",
       "99999            19     One Star      One Star      One Star      One Star   \n",
       "\n",
       "      review_stars5 review_scores6 review_scores7 review_stars8  \n",
       "0       Three Stars    Three Stars    Three Stars   Three Stars  \n",
       "1        Five Stars     Five Stars     Five Stars    Five Stars  \n",
       "2          One Star       One Star       One Star      One Star  \n",
       "3        Four Stars     Four Stars     Four Stars    Four Stars  \n",
       "4       Three Stars    Three Stars    Three Stars   Three Stars  \n",
       "...             ...            ...            ...           ...  \n",
       "99995     Two Stars      Two Stars      Two Stars     Two Stars  \n",
       "99996     Two Stars      Two Stars      Two Stars     Two Stars  \n",
       "99997    Five Stars     Five Stars     Five Stars    Five Stars  \n",
       "99998   Three Stars    Three Stars    Three Stars   Three Stars  \n",
       "99999      One Star       One Star       One Star      One Star  \n",
       "\n",
       "[100000 rows x 9 columns]"
      ]
     },
     "execution_count": 26,
     "metadata": {},
     "output_type": "execute_result"
    }
   ],
   "source": [
    "df"
   ]
  },
  {
   "cell_type": "code",
   "execution_count": null,
   "metadata": {},
   "outputs": [],
   "source": []
  }
 ],
 "metadata": {
  "kernelspec": {
   "display_name": "Python 3",
   "language": "python",
   "name": "python3"
  },
  "language_info": {
   "codemirror_mode": {
    "name": "ipython",
    "version": 3
   },
   "file_extension": ".py",
   "mimetype": "text/x-python",
   "name": "python",
   "nbconvert_exporter": "python",
   "pygments_lexer": "ipython3",
   "version": "3.8.3"
  }
 },
 "nbformat": 4,
 "nbformat_minor": 4
}
