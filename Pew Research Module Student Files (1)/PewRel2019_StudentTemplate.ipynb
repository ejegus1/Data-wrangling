{
 "cells": [
  {
   "cell_type": "markdown",
   "metadata": {},
   "source": [
    "# PewRel2019\n",
    "\n",
    "<img src='images/PF_20.09.12_teens_featured.webp'>\n",
    "<i>Image from <a href=\"https://www.pewresearch.org/religion/wp-content/uploads/sites/7/2020/09/PF_20.09.12_teens_featured.jpg?resize=640,360\">Pew Research</a></i>\n",
    "\n",
    "The Pew Research Center is a nonpartisan think tank that conducts research and polling on a variety of issues, including religion. In this notebook we conceptually replicate analyses from their 2019 report [\"U.S. Teens Take After Their Parents Religiously, Attend Services Together and Enjoy Family Rituals\"](https://www.pewresearch.org/religion/2020/09/10/u-s-teens-take-after-their-parents-religiously-attend-services-together-and-enjoy-family-rituals/) \n",
    "\n",
    "You can read about their methodology [here.](https://www.pewresearch.org/religion/2020/09/10/methodology-34/)  You will need to download their questions [here.](https://www.pewresearch.org/religion/wp-content/uploads/sites/7/2020/09/PF_09.10.20_teens.religion.topline.pdf) \n",
    "\n",
    "You will be provided the data and codebook, but you can download it or other Pew data by [registering for an account.](https://www.pewresearch.org/profile/registration/) (They have a lot of great stuff!)\n",
    "\n",
    "First, download the notebook and SPSS file titled `US Teens and their parents - 2019 Pew Research Survey - FOR RELEASE.sav` and place them in the same folder.\n",
    "\n",
    "Note: there will be some slight differences in our calculations and those provided by the research center report.  This is due to weightings we are not privy to, but we'll get pretty close regardless.  Additionally, for educational purposes we will sometime not do things  in the most efficient way.  If you can do it more quickly, great!"
   ]
  },
  {
   "cell_type": "markdown",
   "metadata": {},
   "source": [
    "### Initial Install\n",
    "\n",
    "Will need to install pyreadstat\n",
    "\n",
    "`pip install pyreadstat`\n",
    "\n",
    "or\n",
    "\n",
    "`conda install pyreadstat`"
   ]
  },
  {
   "cell_type": "code",
   "execution_count": 1,
   "metadata": {},
   "outputs": [
    {
     "name": "stdout",
     "output_type": "stream",
     "text": [
      "Collecting pyreadstat\n",
      "  Downloading pyreadstat-1.1.9-cp38-cp38-macosx_10_9_x86_64.whl (574 kB)\n",
      "\u001b[K     |████████████████████████████████| 574 kB 4.1 MB/s eta 0:00:01\n",
      "\u001b[?25hCollecting pandas>=1.2.0\n",
      "  Downloading pandas-1.4.4-cp38-cp38-macosx_10_9_x86_64.whl (11.4 MB)\n",
      "\u001b[K     |████████████████████████████████| 11.4 MB 12.5 MB/s eta 0:00:01    |▌                               | 174 kB 12.5 MB/s eta 0:00:01\n",
      "\u001b[?25hRequirement already satisfied: numpy>=1.18.5; platform_machine != \"aarch64\" and platform_machine != \"arm64\" and python_version < \"3.10\" in /opt/anaconda3/lib/python3.8/site-packages (from pandas>=1.2.0->pyreadstat) (1.22.3)\n",
      "Requirement already satisfied: python-dateutil>=2.8.1 in /opt/anaconda3/lib/python3.8/site-packages (from pandas>=1.2.0->pyreadstat) (2.8.1)\n",
      "Requirement already satisfied: pytz>=2020.1 in /opt/anaconda3/lib/python3.8/site-packages (from pandas>=1.2.0->pyreadstat) (2020.1)\n",
      "Requirement already satisfied: six>=1.5 in /opt/anaconda3/lib/python3.8/site-packages (from python-dateutil>=2.8.1->pandas>=1.2.0->pyreadstat) (1.15.0)\n",
      "Installing collected packages: pandas, pyreadstat\n",
      "  Attempting uninstall: pandas\n",
      "    Found existing installation: pandas 1.0.5\n",
      "    Uninstalling pandas-1.0.5:\n",
      "      Successfully uninstalled pandas-1.0.5\n",
      "Successfully installed pandas-1.4.4 pyreadstat-1.1.9\n",
      "Note: you may need to restart the kernel to use updated packages.\n"
     ]
    }
   ],
   "source": [
    "pip install pyreadstat"
   ]
  },
  {
   "cell_type": "markdown",
   "metadata": {},
   "source": [
    "### Initial Imports"
   ]
  },
  {
   "cell_type": "code",
   "execution_count": 1,
   "metadata": {},
   "outputs": [],
   "source": [
    "#import common libraries\n",
    "\n",
    "import numpy as np\n",
    "import pandas as pd"
   ]
  },
  {
   "cell_type": "code",
   "execution_count": 2,
   "metadata": {
    "code_folding": [],
    "scrolled": true
   },
   "outputs": [],
   "source": [
    "#import data from SPSS\n",
    "\n",
    "pewdata = pd.read_spss('US Teens and their parents - 2019 Pew Research Survey - FOR RELEASE.sav')"
   ]
  },
  {
   "cell_type": "markdown",
   "metadata": {},
   "source": [
    "Let's explore `pewdata`"
   ]
  },
  {
   "cell_type": "code",
   "execution_count": 3,
   "metadata": {
    "code_folding": []
   },
   "outputs": [
    {
     "data": {
      "text/plain": [
       "(1811, 162)"
      ]
     },
     "execution_count": 3,
     "metadata": {},
     "output_type": "execute_result"
    }
   ],
   "source": [
    "# view shape \n",
    "\n",
    "pewdata.shape"
   ]
  },
  {
   "cell_type": "code",
   "execution_count": 4,
   "metadata": {
    "code_folding": []
   },
   "outputs": [
    {
     "data": {
      "text/html": [
       "<div>\n",
       "<style scoped>\n",
       "    .dataframe tbody tr th:only-of-type {\n",
       "        vertical-align: middle;\n",
       "    }\n",
       "\n",
       "    .dataframe tbody tr th {\n",
       "        vertical-align: top;\n",
       "    }\n",
       "\n",
       "    .dataframe thead th {\n",
       "        text-align: right;\n",
       "    }\n",
       "</style>\n",
       "<table border=\"1\" class=\"dataframe\">\n",
       "  <thead>\n",
       "    <tr style=\"text-align: right;\">\n",
       "      <th></th>\n",
       "      <th>CaseID</th>\n",
       "      <th>parent_wt</th>\n",
       "      <th>teen_wt</th>\n",
       "      <th>XSPANISH</th>\n",
       "      <th>XPPRACEM</th>\n",
       "      <th>PPETHM</th>\n",
       "      <th>PPAGEREC</th>\n",
       "      <th>PPEDUCAT</th>\n",
       "      <th>PPGENDER</th>\n",
       "      <th>PPINCIMPREC</th>\n",
       "      <th>...</th>\n",
       "      <th>tparsame3oe</th>\n",
       "      <th>TGODMORAL</th>\n",
       "      <th>TSEXASK</th>\n",
       "      <th>thisp</th>\n",
       "      <th>TRACECMB</th>\n",
       "      <th>tracethn</th>\n",
       "      <th>TPARTY</th>\n",
       "      <th>TPARTYLN</th>\n",
       "      <th>tpartysum</th>\n",
       "      <th>TIDEO</th>\n",
       "    </tr>\n",
       "  </thead>\n",
       "  <tbody>\n",
       "    <tr>\n",
       "      <th>0</th>\n",
       "      <td>12.0</td>\n",
       "      <td>0.4651</td>\n",
       "      <td>0.3370</td>\n",
       "      <td>English</td>\n",
       "      <td>White</td>\n",
       "      <td>White, Non-Hispanic</td>\n",
       "      <td>50-64</td>\n",
       "      <td>Bachelor's degree or higher</td>\n",
       "      <td>Female</td>\n",
       "      <td>$75,000 or more</td>\n",
       "      <td>...</td>\n",
       "      <td>NaN</td>\n",
       "      <td>It is NOT necessary to believe in God in order...</td>\n",
       "      <td>Female</td>\n",
       "      <td>No</td>\n",
       "      <td>White</td>\n",
       "      <td>White non-Hispanic</td>\n",
       "      <td>Independent</td>\n",
       "      <td>The Democratic Party</td>\n",
       "      <td>Democrat/lean Democrat</td>\n",
       "      <td>Moderate</td>\n",
       "    </tr>\n",
       "    <tr>\n",
       "      <th>1</th>\n",
       "      <td>15.0</td>\n",
       "      <td>4.4208</td>\n",
       "      <td>4.4733</td>\n",
       "      <td>English</td>\n",
       "      <td>White</td>\n",
       "      <td>Hispanic</td>\n",
       "      <td>30-49</td>\n",
       "      <td>Less than high school</td>\n",
       "      <td>Female</td>\n",
       "      <td>$75,000 or more</td>\n",
       "      <td>...</td>\n",
       "      <td>One parent is religious or cares more (e.g. be...</td>\n",
       "      <td>It is NOT necessary to believe in God in order...</td>\n",
       "      <td>Male</td>\n",
       "      <td>Yes</td>\n",
       "      <td>White</td>\n",
       "      <td>Hispanic</td>\n",
       "      <td>Something else</td>\n",
       "      <td>The Republican Party</td>\n",
       "      <td>Republican/lean Republican</td>\n",
       "      <td>Moderate</td>\n",
       "    </tr>\n",
       "    <tr>\n",
       "      <th>2</th>\n",
       "      <td>16.0</td>\n",
       "      <td>1.2422</td>\n",
       "      <td>1.8688</td>\n",
       "      <td>English</td>\n",
       "      <td>White</td>\n",
       "      <td>White, Non-Hispanic</td>\n",
       "      <td>30-49</td>\n",
       "      <td>Bachelor's degree or higher</td>\n",
       "      <td>Male</td>\n",
       "      <td>$75,000 or more</td>\n",
       "      <td>...</td>\n",
       "      <td>NaN</td>\n",
       "      <td>It is NOT necessary to believe in God in order...</td>\n",
       "      <td>Male</td>\n",
       "      <td>No</td>\n",
       "      <td>White</td>\n",
       "      <td>White non-Hispanic</td>\n",
       "      <td>Something else</td>\n",
       "      <td>The Republican Party</td>\n",
       "      <td>Republican/lean Republican</td>\n",
       "      <td>Conservative</td>\n",
       "    </tr>\n",
       "    <tr>\n",
       "      <th>3</th>\n",
       "      <td>19.0</td>\n",
       "      <td>1.1299</td>\n",
       "      <td>1.0989</td>\n",
       "      <td>English</td>\n",
       "      <td>White</td>\n",
       "      <td>White, Non-Hispanic</td>\n",
       "      <td>30-49</td>\n",
       "      <td>Some college</td>\n",
       "      <td>Male</td>\n",
       "      <td>$75,000 or more</td>\n",
       "      <td>...</td>\n",
       "      <td>NaN</td>\n",
       "      <td>It is NOT necessary to believe in God in order...</td>\n",
       "      <td>Female</td>\n",
       "      <td>No</td>\n",
       "      <td>White</td>\n",
       "      <td>White non-Hispanic</td>\n",
       "      <td>Something else</td>\n",
       "      <td>The Democratic Party</td>\n",
       "      <td>Democrat/lean Democrat</td>\n",
       "      <td>Very liberal</td>\n",
       "    </tr>\n",
       "    <tr>\n",
       "      <th>4</th>\n",
       "      <td>21.0</td>\n",
       "      <td>0.2653</td>\n",
       "      <td>0.1712</td>\n",
       "      <td>Spanish</td>\n",
       "      <td>White</td>\n",
       "      <td>Hispanic</td>\n",
       "      <td>50-64</td>\n",
       "      <td>Some college</td>\n",
       "      <td>Female</td>\n",
       "      <td>$30,000 to less than $75,000</td>\n",
       "      <td>...</td>\n",
       "      <td>NaN</td>\n",
       "      <td>It is necessary to believe in God in order to ...</td>\n",
       "      <td>Female</td>\n",
       "      <td>Yes</td>\n",
       "      <td>White</td>\n",
       "      <td>Hispanic</td>\n",
       "      <td>Democrat</td>\n",
       "      <td>NaN</td>\n",
       "      <td>Democrat/lean Democrat</td>\n",
       "      <td>Liberal</td>\n",
       "    </tr>\n",
       "  </tbody>\n",
       "</table>\n",
       "<p>5 rows × 162 columns</p>\n",
       "</div>"
      ],
      "text/plain": [
       "   CaseID  parent_wt  teen_wt XSPANISH XPPRACEM               PPETHM PPAGEREC  \\\n",
       "0    12.0     0.4651   0.3370  English    White  White, Non-Hispanic    50-64   \n",
       "1    15.0     4.4208   4.4733  English    White             Hispanic    30-49   \n",
       "2    16.0     1.2422   1.8688  English    White  White, Non-Hispanic    30-49   \n",
       "3    19.0     1.1299   1.0989  English    White  White, Non-Hispanic    30-49   \n",
       "4    21.0     0.2653   0.1712  Spanish    White             Hispanic    50-64   \n",
       "\n",
       "                      PPEDUCAT PPGENDER                   PPINCIMPREC  ...  \\\n",
       "0  Bachelor's degree or higher   Female               $75,000 or more  ...   \n",
       "1        Less than high school   Female               $75,000 or more  ...   \n",
       "2  Bachelor's degree or higher     Male               $75,000 or more  ...   \n",
       "3                 Some college     Male               $75,000 or more  ...   \n",
       "4                 Some college   Female  $30,000 to less than $75,000  ...   \n",
       "\n",
       "                                         tparsame3oe  \\\n",
       "0                                                NaN   \n",
       "1  One parent is religious or cares more (e.g. be...   \n",
       "2                                                NaN   \n",
       "3                                                NaN   \n",
       "4                                                NaN   \n",
       "\n",
       "                                           TGODMORAL TSEXASK thisp TRACECMB  \\\n",
       "0  It is NOT necessary to believe in God in order...  Female    No    White   \n",
       "1  It is NOT necessary to believe in God in order...    Male   Yes    White   \n",
       "2  It is NOT necessary to believe in God in order...    Male    No    White   \n",
       "3  It is NOT necessary to believe in God in order...  Female    No    White   \n",
       "4  It is necessary to believe in God in order to ...  Female   Yes    White   \n",
       "\n",
       "             tracethn          TPARTY              TPARTYLN  \\\n",
       "0  White non-Hispanic     Independent  The Democratic Party   \n",
       "1            Hispanic  Something else  The Republican Party   \n",
       "2  White non-Hispanic  Something else  The Republican Party   \n",
       "3  White non-Hispanic  Something else  The Democratic Party   \n",
       "4            Hispanic        Democrat                   NaN   \n",
       "\n",
       "                    tpartysum         TIDEO  \n",
       "0      Democrat/lean Democrat      Moderate  \n",
       "1  Republican/lean Republican      Moderate  \n",
       "2  Republican/lean Republican  Conservative  \n",
       "3      Democrat/lean Democrat  Very liberal  \n",
       "4      Democrat/lean Democrat       Liberal  \n",
       "\n",
       "[5 rows x 162 columns]"
      ]
     },
     "execution_count": 4,
     "metadata": {},
     "output_type": "execute_result"
    }
   ],
   "source": [
    "# view head\n",
    "\n",
    "pewdata.head()"
   ]
  },
  {
   "cell_type": "code",
   "execution_count": 5,
   "metadata": {
    "scrolled": true
   },
   "outputs": [
    {
     "data": {
      "text/plain": [
       "Index(['CaseID', 'parent_wt', 'teen_wt', 'XSPANISH', 'XPPRACEM', 'PPETHM',\n",
       "       'PPAGEREC', 'PPEDUCAT', 'PPGENDER', 'PPINCIMPREC',\n",
       "       ...\n",
       "       'tparsame3oe', 'TGODMORAL', 'TSEXASK', 'thisp', 'TRACECMB', 'tracethn',\n",
       "       'TPARTY', 'TPARTYLN', 'tpartysum', 'TIDEO'],\n",
       "      dtype='object', length=162)"
      ]
     },
     "execution_count": 5,
     "metadata": {},
     "output_type": "execute_result"
    }
   ],
   "source": [
    "# view columns\n",
    "\n",
    "pewdata.columns"
   ]
  },
  {
   "cell_type": "code",
   "execution_count": 6,
   "metadata": {
    "code_folding": []
   },
   "outputs": [
    {
     "name": "stdout",
     "output_type": "stream",
     "text": [
      "CaseID\n",
      "parent_wt\n",
      "teen_wt\n",
      "XSPANISH\n",
      "XPPRACEM\n",
      "PPETHM\n",
      "PPAGEREC\n",
      "PPEDUCAT\n",
      "PPGENDER\n",
      "PPINCIMPREC\n",
      "PPMARIT\n",
      "PPHHSIZEREC\n",
      "PPMSACAT\n",
      "PPREG4\n",
      "DOV_ACSLANG\n",
      "DOV_TACSLANG\n",
      "S1\n",
      "S2\n",
      "PTIME\n",
      "PMOTHER\n",
      "PFATHER\n",
      "PSPRELAT1\n",
      "PSPRELAT2\n",
      "PTACTVa\n",
      "PTACTVb\n",
      "PTACTVc\n",
      "PTACTVd\n",
      "PTACTVe\n",
      "preligrec\n",
      "PBORN\n",
      "Preltrad\n",
      "spreligrec\n",
      "sphisp\n",
      "SPRACECMB\n",
      "spracethn\n",
      "SPBORN\n",
      "SPreltrad\n",
      "PATTEND\n",
      "PRELIMP\n",
      "PPRAY\n",
      "PGOD1\n",
      "PGOD2\n",
      "PEXCLUS\n",
      "KIDTRAIT1a\n",
      "KIDTRAIT1b\n",
      "kidtrait1c\n",
      "kidtrait1d\n",
      "PTEENRELIG2\n",
      "pteenrelig3oe\n",
      "PTEENIMP\n",
      "pshare1\n",
      "pshare2\n",
      "PGODMORAL\n",
      "KIDTRAIT2a\n",
      "KIDTRAIT2b\n",
      "KIDTRAIT2c\n",
      "KIDTRAIT2d\n",
      "KIDTRAIT2e\n",
      "KIDTRAIT2f\n",
      "PPARTY\n",
      "PPARTYLN\n",
      "ppartysum\n",
      "PIDEO\n",
      "HOUSEEDUCREC\n",
      "S4\n",
      "Teen_lang\n",
      "TAGE\n",
      "TSATISFY\n",
      "TFITIN\n",
      "TGUIDE1a\n",
      "TGUIDE1b\n",
      "TGUIDE2a\n",
      "TGUIDE2b\n",
      "TGUIDE2c\n",
      "TGUIDE2d\n",
      "tschool\n",
      "TGRADEREC\n",
      "TEXPa\n",
      "TEXPb\n",
      "TEXPc\n",
      "TEXPd\n",
      "TEXPe\n",
      "TEXPf\n",
      "treligrec\n",
      "tborn\n",
      "treltrad\n",
      "TATTEND\n",
      "TATTDWTH\n",
      "TATTDRSN\n",
      "TRELIMP\n",
      "TPRAY\n",
      "TGOD1\n",
      "TGOD2\n",
      "TEXCLUS\n",
      "TPRACTICES1\n",
      "TPRACTICES2\n",
      "TPRACTICES3\n",
      "TPRACTICES4\n",
      "TOBSERV1\n",
      "TOBSERV2\n",
      "TOBSERV3\n",
      "TOBSERV4\n",
      "TOBSERV5\n",
      "TENJOY\n",
      "TOBLIG\n",
      "TFAMTALK\n",
      "TRACESURV21\n",
      "TRACESURV22\n",
      "TPARRELIG1\n",
      "TPARRELIG2\n",
      "TPARRELIG3\n",
      "tsimpar2oe\n",
      "TPARIMP\n",
      "TFRTALK\n",
      "tfrsim\n",
      "tfrsec\n",
      "tbully1\n",
      "tbully1a\n",
      "tbully2a\n",
      "tbully2b\n",
      "tbully3a\n",
      "tbully3b\n",
      "thostile1\n",
      "thostile1boe\n",
      "thostile2\n",
      "thostile2boe\n",
      "thostle3\n",
      "thostile3boe\n",
      "tinschool1a\n",
      "tinschool1b\n",
      "tinschool1c\n",
      "tinschool1d\n",
      "tinschool1e\n",
      "tinschool2a\n",
      "tinschool2b\n",
      "tinschool2c\n",
      "tinschool2d\n",
      "tschoolclub\n",
      "tschoolclub_b\n",
      "tamndseea\n",
      "tamndseeb\n",
      "TAMNDAPPa\n",
      "TAMNDAPPb\n",
      "TAMNDKNOWa\n",
      "TAMNDKNOWb\n",
      "TINSTRUCT\n",
      "THOLKNOW2\n",
      "THOLKNOW3\n",
      "THOLKNOW4\n",
      "THOLKNOW5\n",
      "TPARSAME1\n",
      "TPARSAME2\n",
      "tparsame3oe\n",
      "TGODMORAL\n",
      "TSEXASK\n",
      "thisp\n",
      "TRACECMB\n",
      "tracethn\n",
      "TPARTY\n",
      "TPARTYLN\n",
      "tpartysum\n",
      "TIDEO\n"
     ]
    }
   ],
   "source": [
    "# print all columns\n",
    "\n",
    "for col in pewdata.columns:\n",
    "    print(col)"
   ]
  },
  {
   "cell_type": "markdown",
   "metadata": {},
   "source": [
    "`describe()` method provides summary stats for numeric variables "
   ]
  },
  {
   "cell_type": "code",
   "execution_count": 7,
   "metadata": {
    "code_folding": [],
    "scrolled": false
   },
   "outputs": [
    {
     "data": {
      "text/html": [
       "<div>\n",
       "<style scoped>\n",
       "    .dataframe tbody tr th:only-of-type {\n",
       "        vertical-align: middle;\n",
       "    }\n",
       "\n",
       "    .dataframe tbody tr th {\n",
       "        vertical-align: top;\n",
       "    }\n",
       "\n",
       "    .dataframe thead th {\n",
       "        text-align: right;\n",
       "    }\n",
       "</style>\n",
       "<table border=\"1\" class=\"dataframe\">\n",
       "  <thead>\n",
       "    <tr style=\"text-align: right;\">\n",
       "      <th></th>\n",
       "      <th>CaseID</th>\n",
       "      <th>parent_wt</th>\n",
       "      <th>teen_wt</th>\n",
       "    </tr>\n",
       "  </thead>\n",
       "  <tbody>\n",
       "    <tr>\n",
       "      <th>count</th>\n",
       "      <td>1811.000000</td>\n",
       "      <td>1811.000000</td>\n",
       "      <td>1811.000000</td>\n",
       "    </tr>\n",
       "    <tr>\n",
       "      <th>mean</th>\n",
       "      <td>1286.601325</td>\n",
       "      <td>1.000000</td>\n",
       "      <td>1.000000</td>\n",
       "    </tr>\n",
       "    <tr>\n",
       "      <th>std</th>\n",
       "      <td>756.782246</td>\n",
       "      <td>0.889595</td>\n",
       "      <td>0.919161</td>\n",
       "    </tr>\n",
       "    <tr>\n",
       "      <th>min</th>\n",
       "      <td>12.000000</td>\n",
       "      <td>0.123200</td>\n",
       "      <td>0.134500</td>\n",
       "    </tr>\n",
       "    <tr>\n",
       "      <th>25%</th>\n",
       "      <td>630.500000</td>\n",
       "      <td>0.425050</td>\n",
       "      <td>0.393550</td>\n",
       "    </tr>\n",
       "    <tr>\n",
       "      <th>50%</th>\n",
       "      <td>1252.000000</td>\n",
       "      <td>0.719800</td>\n",
       "      <td>0.687000</td>\n",
       "    </tr>\n",
       "    <tr>\n",
       "      <th>75%</th>\n",
       "      <td>1943.500000</td>\n",
       "      <td>1.289050</td>\n",
       "      <td>1.214500</td>\n",
       "    </tr>\n",
       "    <tr>\n",
       "      <th>max</th>\n",
       "      <td>2679.000000</td>\n",
       "      <td>4.978900</td>\n",
       "      <td>4.723400</td>\n",
       "    </tr>\n",
       "  </tbody>\n",
       "</table>\n",
       "</div>"
      ],
      "text/plain": [
       "            CaseID    parent_wt      teen_wt\n",
       "count  1811.000000  1811.000000  1811.000000\n",
       "mean   1286.601325     1.000000     1.000000\n",
       "std     756.782246     0.889595     0.919161\n",
       "min      12.000000     0.123200     0.134500\n",
       "25%     630.500000     0.425050     0.393550\n",
       "50%    1252.000000     0.719800     0.687000\n",
       "75%    1943.500000     1.289050     1.214500\n",
       "max    2679.000000     4.978900     4.723400"
      ]
     },
     "execution_count": 7,
     "metadata": {},
     "output_type": "execute_result"
    }
   ],
   "source": [
    "# use describe method\n",
    "\n",
    "pewdata.describe()"
   ]
  },
  {
   "cell_type": "code",
   "execution_count": 8,
   "metadata": {
    "code_folding": []
   },
   "outputs": [
    {
     "name": "stdout",
     "output_type": "stream",
     "text": [
      "float64\n",
      "float64\n",
      "float64\n",
      "category\n",
      "category\n",
      "category\n",
      "category\n",
      "category\n",
      "category\n",
      "category\n",
      "category\n",
      "category\n",
      "category\n",
      "category\n",
      "category\n",
      "category\n",
      "category\n",
      "category\n",
      "category\n",
      "category\n",
      "category\n",
      "category\n",
      "category\n",
      "category\n",
      "category\n",
      "category\n",
      "category\n",
      "category\n",
      "category\n",
      "category\n",
      "category\n",
      "category\n",
      "category\n",
      "category\n",
      "category\n",
      "category\n",
      "category\n",
      "category\n",
      "category\n",
      "category\n",
      "category\n",
      "category\n",
      "category\n",
      "category\n",
      "category\n",
      "category\n",
      "category\n",
      "category\n",
      "category\n",
      "category\n",
      "category\n",
      "category\n",
      "category\n",
      "category\n",
      "category\n",
      "category\n",
      "category\n",
      "category\n",
      "category\n",
      "category\n",
      "category\n",
      "category\n",
      "category\n",
      "category\n",
      "category\n",
      "category\n",
      "category\n",
      "category\n",
      "category\n",
      "category\n",
      "category\n",
      "category\n",
      "category\n",
      "category\n",
      "category\n",
      "category\n",
      "category\n",
      "category\n",
      "category\n",
      "category\n",
      "category\n",
      "category\n",
      "category\n",
      "category\n",
      "category\n",
      "category\n",
      "category\n",
      "category\n",
      "category\n",
      "category\n",
      "category\n",
      "category\n",
      "category\n",
      "category\n",
      "category\n",
      "category\n",
      "category\n",
      "category\n",
      "category\n",
      "category\n",
      "category\n",
      "category\n",
      "category\n",
      "category\n",
      "category\n",
      "category\n",
      "category\n",
      "category\n",
      "category\n",
      "category\n",
      "category\n",
      "category\n",
      "category\n",
      "category\n",
      "category\n",
      "category\n",
      "category\n",
      "category\n",
      "category\n",
      "category\n",
      "category\n",
      "category\n",
      "category\n",
      "category\n",
      "category\n",
      "category\n",
      "category\n",
      "category\n",
      "category\n",
      "category\n",
      "category\n",
      "category\n",
      "category\n",
      "category\n",
      "category\n",
      "category\n",
      "category\n",
      "category\n",
      "category\n",
      "category\n",
      "category\n",
      "category\n",
      "category\n",
      "category\n",
      "category\n",
      "category\n",
      "category\n",
      "category\n",
      "category\n",
      "category\n",
      "category\n",
      "category\n",
      "category\n",
      "category\n",
      "category\n",
      "category\n",
      "category\n",
      "category\n",
      "category\n",
      "category\n",
      "category\n",
      "category\n"
     ]
    }
   ],
   "source": [
    "# print all data types\n",
    "\n",
    "for i in pewdata.dtypes:\n",
    "    print(i)"
   ]
  },
  {
   "cell_type": "markdown",
   "metadata": {},
   "source": [
    "We only have three (we'll come back to the categories).  \n",
    "\n",
    "But are they useful?\n",
    "\n",
    "Lets look at `XPPRACE` and `PPMARIT` both here and in the codebook"
   ]
  },
  {
   "cell_type": "code",
   "execution_count": 9,
   "metadata": {},
   "outputs": [
    {
     "data": {
      "text/plain": [
       "0       White\n",
       "1       White\n",
       "2       White\n",
       "3       White\n",
       "4       White\n",
       "        ...  \n",
       "1806    White\n",
       "1807    White\n",
       "1808    White\n",
       "1809    White\n",
       "1810    White\n",
       "Name: XPPRACEM, Length: 1811, dtype: category\n",
       "Categories (6, object): ['2 + Races', 'American Indian Or Alaska Native', 'Asian', 'Black or African American', 'Native Hawaiian/Pacific Islander', 'White']"
      ]
     },
     "execution_count": 9,
     "metadata": {},
     "output_type": "execute_result"
    }
   ],
   "source": [
    "pewdata.XPPRACEM"
   ]
  },
  {
   "cell_type": "markdown",
   "metadata": {},
   "source": [
    "When calling `describe()` on non-numeric, it will provide different statistics "
   ]
  },
  {
   "cell_type": "code",
   "execution_count": 10,
   "metadata": {
    "code_folding": [],
    "scrolled": true
   },
   "outputs": [
    {
     "data": {
      "text/plain": [
       "count      1811\n",
       "unique        6\n",
       "top       White\n",
       "freq       1526\n",
       "Name: XPPRACEM, dtype: object"
      ]
     },
     "execution_count": 10,
     "metadata": {},
     "output_type": "execute_result"
    }
   ],
   "source": [
    "# describe() XPPRACEM\n",
    "\n",
    "pewdata.XPPRACEM.describe()"
   ]
  },
  {
   "cell_type": "markdown",
   "metadata": {},
   "source": [
    "To include all variables, add `include = 'all'` "
   ]
  },
  {
   "cell_type": "code",
   "execution_count": 11,
   "metadata": {
    "code_folding": []
   },
   "outputs": [
    {
     "data": {
      "text/html": [
       "<div>\n",
       "<style scoped>\n",
       "    .dataframe tbody tr th:only-of-type {\n",
       "        vertical-align: middle;\n",
       "    }\n",
       "\n",
       "    .dataframe tbody tr th {\n",
       "        vertical-align: top;\n",
       "    }\n",
       "\n",
       "    .dataframe thead th {\n",
       "        text-align: right;\n",
       "    }\n",
       "</style>\n",
       "<table border=\"1\" class=\"dataframe\">\n",
       "  <thead>\n",
       "    <tr style=\"text-align: right;\">\n",
       "      <th></th>\n",
       "      <th>CaseID</th>\n",
       "      <th>parent_wt</th>\n",
       "      <th>teen_wt</th>\n",
       "      <th>XSPANISH</th>\n",
       "      <th>XPPRACEM</th>\n",
       "      <th>PPETHM</th>\n",
       "      <th>PPAGEREC</th>\n",
       "      <th>PPEDUCAT</th>\n",
       "      <th>PPGENDER</th>\n",
       "      <th>PPINCIMPREC</th>\n",
       "      <th>...</th>\n",
       "      <th>tparsame3oe</th>\n",
       "      <th>TGODMORAL</th>\n",
       "      <th>TSEXASK</th>\n",
       "      <th>thisp</th>\n",
       "      <th>TRACECMB</th>\n",
       "      <th>tracethn</th>\n",
       "      <th>TPARTY</th>\n",
       "      <th>TPARTYLN</th>\n",
       "      <th>tpartysum</th>\n",
       "      <th>TIDEO</th>\n",
       "    </tr>\n",
       "  </thead>\n",
       "  <tbody>\n",
       "    <tr>\n",
       "      <th>count</th>\n",
       "      <td>1811.000000</td>\n",
       "      <td>1811.000000</td>\n",
       "      <td>1811.000000</td>\n",
       "      <td>1811</td>\n",
       "      <td>1811</td>\n",
       "      <td>1811</td>\n",
       "      <td>1811</td>\n",
       "      <td>1811</td>\n",
       "      <td>1811</td>\n",
       "      <td>1811</td>\n",
       "      <td>...</td>\n",
       "      <td>233</td>\n",
       "      <td>1811</td>\n",
       "      <td>1811</td>\n",
       "      <td>1811</td>\n",
       "      <td>1811</td>\n",
       "      <td>1811</td>\n",
       "      <td>1811</td>\n",
       "      <td>868</td>\n",
       "      <td>1811</td>\n",
       "      <td>1811</td>\n",
       "    </tr>\n",
       "    <tr>\n",
       "      <th>unique</th>\n",
       "      <td>NaN</td>\n",
       "      <td>NaN</td>\n",
       "      <td>NaN</td>\n",
       "      <td>2</td>\n",
       "      <td>6</td>\n",
       "      <td>5</td>\n",
       "      <td>4</td>\n",
       "      <td>4</td>\n",
       "      <td>2</td>\n",
       "      <td>3</td>\n",
       "      <td>...</td>\n",
       "      <td>9</td>\n",
       "      <td>3</td>\n",
       "      <td>3</td>\n",
       "      <td>3</td>\n",
       "      <td>6</td>\n",
       "      <td>5</td>\n",
       "      <td>5</td>\n",
       "      <td>3</td>\n",
       "      <td>3</td>\n",
       "      <td>6</td>\n",
       "    </tr>\n",
       "    <tr>\n",
       "      <th>top</th>\n",
       "      <td>NaN</td>\n",
       "      <td>NaN</td>\n",
       "      <td>NaN</td>\n",
       "      <td>English</td>\n",
       "      <td>White</td>\n",
       "      <td>White, Non-Hispanic</td>\n",
       "      <td>30-49</td>\n",
       "      <td>Bachelor's degree or higher</td>\n",
       "      <td>Female</td>\n",
       "      <td>$75,000 or more</td>\n",
       "      <td>...</td>\n",
       "      <td>Made own decision based on what felt right or ...</td>\n",
       "      <td>It is NOT necessary to believe in God in order...</td>\n",
       "      <td>Male</td>\n",
       "      <td>No</td>\n",
       "      <td>White</td>\n",
       "      <td>White non-Hispanic</td>\n",
       "      <td>Democrat</td>\n",
       "      <td>The Democratic Party</td>\n",
       "      <td>Democrat/lean Democrat</td>\n",
       "      <td>Moderate</td>\n",
       "    </tr>\n",
       "    <tr>\n",
       "      <th>freq</th>\n",
       "      <td>NaN</td>\n",
       "      <td>NaN</td>\n",
       "      <td>NaN</td>\n",
       "      <td>1618</td>\n",
       "      <td>1526</td>\n",
       "      <td>1150</td>\n",
       "      <td>1280</td>\n",
       "      <td>786</td>\n",
       "      <td>1232</td>\n",
       "      <td>838</td>\n",
       "      <td>...</td>\n",
       "      <td>57</td>\n",
       "      <td>1115</td>\n",
       "      <td>912</td>\n",
       "      <td>1306</td>\n",
       "      <td>1376</td>\n",
       "      <td>1022</td>\n",
       "      <td>484</td>\n",
       "      <td>419</td>\n",
       "      <td>903</td>\n",
       "      <td>767</td>\n",
       "    </tr>\n",
       "    <tr>\n",
       "      <th>mean</th>\n",
       "      <td>1286.601325</td>\n",
       "      <td>1.000000</td>\n",
       "      <td>1.000000</td>\n",
       "      <td>NaN</td>\n",
       "      <td>NaN</td>\n",
       "      <td>NaN</td>\n",
       "      <td>NaN</td>\n",
       "      <td>NaN</td>\n",
       "      <td>NaN</td>\n",
       "      <td>NaN</td>\n",
       "      <td>...</td>\n",
       "      <td>NaN</td>\n",
       "      <td>NaN</td>\n",
       "      <td>NaN</td>\n",
       "      <td>NaN</td>\n",
       "      <td>NaN</td>\n",
       "      <td>NaN</td>\n",
       "      <td>NaN</td>\n",
       "      <td>NaN</td>\n",
       "      <td>NaN</td>\n",
       "      <td>NaN</td>\n",
       "    </tr>\n",
       "    <tr>\n",
       "      <th>std</th>\n",
       "      <td>756.782246</td>\n",
       "      <td>0.889595</td>\n",
       "      <td>0.919161</td>\n",
       "      <td>NaN</td>\n",
       "      <td>NaN</td>\n",
       "      <td>NaN</td>\n",
       "      <td>NaN</td>\n",
       "      <td>NaN</td>\n",
       "      <td>NaN</td>\n",
       "      <td>NaN</td>\n",
       "      <td>...</td>\n",
       "      <td>NaN</td>\n",
       "      <td>NaN</td>\n",
       "      <td>NaN</td>\n",
       "      <td>NaN</td>\n",
       "      <td>NaN</td>\n",
       "      <td>NaN</td>\n",
       "      <td>NaN</td>\n",
       "      <td>NaN</td>\n",
       "      <td>NaN</td>\n",
       "      <td>NaN</td>\n",
       "    </tr>\n",
       "    <tr>\n",
       "      <th>min</th>\n",
       "      <td>12.000000</td>\n",
       "      <td>0.123200</td>\n",
       "      <td>0.134500</td>\n",
       "      <td>NaN</td>\n",
       "      <td>NaN</td>\n",
       "      <td>NaN</td>\n",
       "      <td>NaN</td>\n",
       "      <td>NaN</td>\n",
       "      <td>NaN</td>\n",
       "      <td>NaN</td>\n",
       "      <td>...</td>\n",
       "      <td>NaN</td>\n",
       "      <td>NaN</td>\n",
       "      <td>NaN</td>\n",
       "      <td>NaN</td>\n",
       "      <td>NaN</td>\n",
       "      <td>NaN</td>\n",
       "      <td>NaN</td>\n",
       "      <td>NaN</td>\n",
       "      <td>NaN</td>\n",
       "      <td>NaN</td>\n",
       "    </tr>\n",
       "    <tr>\n",
       "      <th>25%</th>\n",
       "      <td>630.500000</td>\n",
       "      <td>0.425050</td>\n",
       "      <td>0.393550</td>\n",
       "      <td>NaN</td>\n",
       "      <td>NaN</td>\n",
       "      <td>NaN</td>\n",
       "      <td>NaN</td>\n",
       "      <td>NaN</td>\n",
       "      <td>NaN</td>\n",
       "      <td>NaN</td>\n",
       "      <td>...</td>\n",
       "      <td>NaN</td>\n",
       "      <td>NaN</td>\n",
       "      <td>NaN</td>\n",
       "      <td>NaN</td>\n",
       "      <td>NaN</td>\n",
       "      <td>NaN</td>\n",
       "      <td>NaN</td>\n",
       "      <td>NaN</td>\n",
       "      <td>NaN</td>\n",
       "      <td>NaN</td>\n",
       "    </tr>\n",
       "    <tr>\n",
       "      <th>50%</th>\n",
       "      <td>1252.000000</td>\n",
       "      <td>0.719800</td>\n",
       "      <td>0.687000</td>\n",
       "      <td>NaN</td>\n",
       "      <td>NaN</td>\n",
       "      <td>NaN</td>\n",
       "      <td>NaN</td>\n",
       "      <td>NaN</td>\n",
       "      <td>NaN</td>\n",
       "      <td>NaN</td>\n",
       "      <td>...</td>\n",
       "      <td>NaN</td>\n",
       "      <td>NaN</td>\n",
       "      <td>NaN</td>\n",
       "      <td>NaN</td>\n",
       "      <td>NaN</td>\n",
       "      <td>NaN</td>\n",
       "      <td>NaN</td>\n",
       "      <td>NaN</td>\n",
       "      <td>NaN</td>\n",
       "      <td>NaN</td>\n",
       "    </tr>\n",
       "    <tr>\n",
       "      <th>75%</th>\n",
       "      <td>1943.500000</td>\n",
       "      <td>1.289050</td>\n",
       "      <td>1.214500</td>\n",
       "      <td>NaN</td>\n",
       "      <td>NaN</td>\n",
       "      <td>NaN</td>\n",
       "      <td>NaN</td>\n",
       "      <td>NaN</td>\n",
       "      <td>NaN</td>\n",
       "      <td>NaN</td>\n",
       "      <td>...</td>\n",
       "      <td>NaN</td>\n",
       "      <td>NaN</td>\n",
       "      <td>NaN</td>\n",
       "      <td>NaN</td>\n",
       "      <td>NaN</td>\n",
       "      <td>NaN</td>\n",
       "      <td>NaN</td>\n",
       "      <td>NaN</td>\n",
       "      <td>NaN</td>\n",
       "      <td>NaN</td>\n",
       "    </tr>\n",
       "    <tr>\n",
       "      <th>max</th>\n",
       "      <td>2679.000000</td>\n",
       "      <td>4.978900</td>\n",
       "      <td>4.723400</td>\n",
       "      <td>NaN</td>\n",
       "      <td>NaN</td>\n",
       "      <td>NaN</td>\n",
       "      <td>NaN</td>\n",
       "      <td>NaN</td>\n",
       "      <td>NaN</td>\n",
       "      <td>NaN</td>\n",
       "      <td>...</td>\n",
       "      <td>NaN</td>\n",
       "      <td>NaN</td>\n",
       "      <td>NaN</td>\n",
       "      <td>NaN</td>\n",
       "      <td>NaN</td>\n",
       "      <td>NaN</td>\n",
       "      <td>NaN</td>\n",
       "      <td>NaN</td>\n",
       "      <td>NaN</td>\n",
       "      <td>NaN</td>\n",
       "    </tr>\n",
       "  </tbody>\n",
       "</table>\n",
       "<p>11 rows × 162 columns</p>\n",
       "</div>"
      ],
      "text/plain": [
       "             CaseID    parent_wt      teen_wt XSPANISH XPPRACEM  \\\n",
       "count   1811.000000  1811.000000  1811.000000     1811     1811   \n",
       "unique          NaN          NaN          NaN        2        6   \n",
       "top             NaN          NaN          NaN  English    White   \n",
       "freq            NaN          NaN          NaN     1618     1526   \n",
       "mean    1286.601325     1.000000     1.000000      NaN      NaN   \n",
       "std      756.782246     0.889595     0.919161      NaN      NaN   \n",
       "min       12.000000     0.123200     0.134500      NaN      NaN   \n",
       "25%      630.500000     0.425050     0.393550      NaN      NaN   \n",
       "50%     1252.000000     0.719800     0.687000      NaN      NaN   \n",
       "75%     1943.500000     1.289050     1.214500      NaN      NaN   \n",
       "max     2679.000000     4.978900     4.723400      NaN      NaN   \n",
       "\n",
       "                     PPETHM PPAGEREC                     PPEDUCAT PPGENDER  \\\n",
       "count                  1811     1811                         1811     1811   \n",
       "unique                    5        4                            4        2   \n",
       "top     White, Non-Hispanic    30-49  Bachelor's degree or higher   Female   \n",
       "freq                   1150     1280                          786     1232   \n",
       "mean                    NaN      NaN                          NaN      NaN   \n",
       "std                     NaN      NaN                          NaN      NaN   \n",
       "min                     NaN      NaN                          NaN      NaN   \n",
       "25%                     NaN      NaN                          NaN      NaN   \n",
       "50%                     NaN      NaN                          NaN      NaN   \n",
       "75%                     NaN      NaN                          NaN      NaN   \n",
       "max                     NaN      NaN                          NaN      NaN   \n",
       "\n",
       "            PPINCIMPREC  ...  \\\n",
       "count              1811  ...   \n",
       "unique                3  ...   \n",
       "top     $75,000 or more  ...   \n",
       "freq                838  ...   \n",
       "mean                NaN  ...   \n",
       "std                 NaN  ...   \n",
       "min                 NaN  ...   \n",
       "25%                 NaN  ...   \n",
       "50%                 NaN  ...   \n",
       "75%                 NaN  ...   \n",
       "max                 NaN  ...   \n",
       "\n",
       "                                              tparsame3oe  \\\n",
       "count                                                 233   \n",
       "unique                                                  9   \n",
       "top     Made own decision based on what felt right or ...   \n",
       "freq                                                   57   \n",
       "mean                                                  NaN   \n",
       "std                                                   NaN   \n",
       "min                                                   NaN   \n",
       "25%                                                   NaN   \n",
       "50%                                                   NaN   \n",
       "75%                                                   NaN   \n",
       "max                                                   NaN   \n",
       "\n",
       "                                                TGODMORAL TSEXASK thisp  \\\n",
       "count                                                1811    1811  1811   \n",
       "unique                                                  3       3     3   \n",
       "top     It is NOT necessary to believe in God in order...    Male    No   \n",
       "freq                                                 1115     912  1306   \n",
       "mean                                                  NaN     NaN   NaN   \n",
       "std                                                   NaN     NaN   NaN   \n",
       "min                                                   NaN     NaN   NaN   \n",
       "25%                                                   NaN     NaN   NaN   \n",
       "50%                                                   NaN     NaN   NaN   \n",
       "75%                                                   NaN     NaN   NaN   \n",
       "max                                                   NaN     NaN   NaN   \n",
       "\n",
       "       TRACECMB            tracethn    TPARTY              TPARTYLN  \\\n",
       "count      1811                1811      1811                   868   \n",
       "unique        6                   5         5                     3   \n",
       "top       White  White non-Hispanic  Democrat  The Democratic Party   \n",
       "freq       1376                1022       484                   419   \n",
       "mean        NaN                 NaN       NaN                   NaN   \n",
       "std         NaN                 NaN       NaN                   NaN   \n",
       "min         NaN                 NaN       NaN                   NaN   \n",
       "25%         NaN                 NaN       NaN                   NaN   \n",
       "50%         NaN                 NaN       NaN                   NaN   \n",
       "75%         NaN                 NaN       NaN                   NaN   \n",
       "max         NaN                 NaN       NaN                   NaN   \n",
       "\n",
       "                     tpartysum     TIDEO  \n",
       "count                     1811      1811  \n",
       "unique                       3         6  \n",
       "top     Democrat/lean Democrat  Moderate  \n",
       "freq                       903       767  \n",
       "mean                       NaN       NaN  \n",
       "std                        NaN       NaN  \n",
       "min                        NaN       NaN  \n",
       "25%                        NaN       NaN  \n",
       "50%                        NaN       NaN  \n",
       "75%                        NaN       NaN  \n",
       "max                        NaN       NaN  \n",
       "\n",
       "[11 rows x 162 columns]"
      ]
     },
     "execution_count": 11,
     "metadata": {},
     "output_type": "execute_result"
    }
   ],
   "source": [
    "# describe() all columns\n",
    "\n",
    "pewdata.describe(include = 'all')"
   ]
  },
  {
   "cell_type": "markdown",
   "metadata": {},
   "source": [
    "`value_counts()` for categorical"
   ]
  },
  {
   "cell_type": "code",
   "execution_count": 12,
   "metadata": {
    "code_folding": [],
    "scrolled": false
   },
   "outputs": [
    {
     "data": {
      "text/plain": [
       "White                               1526\n",
       "Black or African American            154\n",
       "Asian                                 62\n",
       "2 + Races                             45\n",
       "American Indian Or Alaska Native      21\n",
       "Native Hawaiian/Pacific Islander       3\n",
       "Name: XPPRACEM, dtype: int64"
      ]
     },
     "execution_count": 12,
     "metadata": {},
     "output_type": "execute_result"
    }
   ],
   "source": [
    "# value_counts() for XPPRACEM\n",
    "\n",
    "pewdata.XPPRACEM.value_counts()"
   ]
  },
  {
   "cell_type": "code",
   "execution_count": 13,
   "metadata": {
    "code_folding": []
   },
   "outputs": [
    {
     "data": {
      "text/plain": [
       "0       Married\n",
       "1       Married\n",
       "2       Married\n",
       "3       Married\n",
       "4       Married\n",
       "         ...   \n",
       "1806    Married\n",
       "1807    Married\n",
       "1808    Married\n",
       "1809    Married\n",
       "1810    Married\n",
       "Name: PPMARIT, Length: 1811, dtype: category\n",
       "Categories (6, object): ['Divorced', 'Living with partner', 'Married', 'Never married', 'Separated', 'Widowed']"
      ]
     },
     "execution_count": 13,
     "metadata": {},
     "output_type": "execute_result"
    }
   ],
   "source": [
    "# view PPMARIT\n",
    "\n",
    "pewdata.PPMARIT"
   ]
  },
  {
   "cell_type": "code",
   "execution_count": 14,
   "metadata": {
    "code_folding": []
   },
   "outputs": [
    {
     "data": {
      "text/plain": [
       "Married                1401\n",
       "Divorced                164\n",
       "Never married           103\n",
       "Living with partner      67\n",
       "Separated                48\n",
       "Widowed                  28\n",
       "Name: PPMARIT, dtype: int64"
      ]
     },
     "execution_count": 14,
     "metadata": {},
     "output_type": "execute_result"
    }
   ],
   "source": [
    "# value_counts() for PPMARIT\n",
    "\n",
    "pewdata.PPMARIT.value_counts()"
   ]
  },
  {
   "cell_type": "markdown",
   "metadata": {},
   "source": [
    "#### Student Practice\n",
    "Pause the video and try to perform the following tasks on the `pewdata` dataset. Then check your answers as I walk through the solutions. \n",
    "\n",
    "**Exercise**: How many parents are agnostic while their children are Roman Catholic? \n",
    "\n",
    "\n",
    "I am intentionally not telling you the column names to look for as I want you to try to use the code book to figure this out.  This will be great practice in reading a code book or data dictionary.  Be careful with your lower and upper cases!"
   ]
  },
  {
   "cell_type": "code",
   "execution_count": 15,
   "metadata": {},
   "outputs": [
    {
     "data": {
      "text/html": [
       "<div>\n",
       "<style scoped>\n",
       "    .dataframe tbody tr th:only-of-type {\n",
       "        vertical-align: middle;\n",
       "    }\n",
       "\n",
       "    .dataframe tbody tr th {\n",
       "        vertical-align: top;\n",
       "    }\n",
       "\n",
       "    .dataframe thead th {\n",
       "        text-align: right;\n",
       "    }\n",
       "</style>\n",
       "<table border=\"1\" class=\"dataframe\">\n",
       "  <thead>\n",
       "    <tr style=\"text-align: right;\">\n",
       "      <th></th>\n",
       "      <th>CaseID</th>\n",
       "      <th>parent_wt</th>\n",
       "      <th>teen_wt</th>\n",
       "      <th>XSPANISH</th>\n",
       "      <th>XPPRACEM</th>\n",
       "      <th>PPETHM</th>\n",
       "      <th>PPAGEREC</th>\n",
       "      <th>PPEDUCAT</th>\n",
       "      <th>PPGENDER</th>\n",
       "      <th>PPINCIMPREC</th>\n",
       "      <th>...</th>\n",
       "      <th>tparsame3oe</th>\n",
       "      <th>TGODMORAL</th>\n",
       "      <th>TSEXASK</th>\n",
       "      <th>thisp</th>\n",
       "      <th>TRACECMB</th>\n",
       "      <th>tracethn</th>\n",
       "      <th>TPARTY</th>\n",
       "      <th>TPARTYLN</th>\n",
       "      <th>tpartysum</th>\n",
       "      <th>TIDEO</th>\n",
       "    </tr>\n",
       "  </thead>\n",
       "  <tbody>\n",
       "    <tr>\n",
       "      <th>350</th>\n",
       "      <td>499.0</td>\n",
       "      <td>1.6294</td>\n",
       "      <td>2.0520</td>\n",
       "      <td>English</td>\n",
       "      <td>Black or African American</td>\n",
       "      <td>Black, Non-Hispanic</td>\n",
       "      <td>30-49</td>\n",
       "      <td>Bachelor's degree or higher</td>\n",
       "      <td>Male</td>\n",
       "      <td>$75,000 or more</td>\n",
       "      <td>...</td>\n",
       "      <td>Chose to follow one parent, no specific reason...</td>\n",
       "      <td>It is necessary to believe in God in order to ...</td>\n",
       "      <td>Female</td>\n",
       "      <td>No</td>\n",
       "      <td>Black or African American</td>\n",
       "      <td>Black non-Hispanic</td>\n",
       "      <td>Something else</td>\n",
       "      <td>The Democratic Party</td>\n",
       "      <td>Democrat/lean Democrat</td>\n",
       "      <td>Moderate</td>\n",
       "    </tr>\n",
       "    <tr>\n",
       "      <th>358</th>\n",
       "      <td>509.0</td>\n",
       "      <td>1.0166</td>\n",
       "      <td>0.8487</td>\n",
       "      <td>English</td>\n",
       "      <td>White</td>\n",
       "      <td>White, Non-Hispanic</td>\n",
       "      <td>30-49</td>\n",
       "      <td>Some college</td>\n",
       "      <td>Male</td>\n",
       "      <td>$75,000 or more</td>\n",
       "      <td>...</td>\n",
       "      <td>Don't know/refused</td>\n",
       "      <td>It is NOT necessary to believe in God in order...</td>\n",
       "      <td>Male</td>\n",
       "      <td>No</td>\n",
       "      <td>White</td>\n",
       "      <td>White non-Hispanic</td>\n",
       "      <td>Something else</td>\n",
       "      <td>The Republican Party</td>\n",
       "      <td>Republican/lean Republican</td>\n",
       "      <td>Moderate</td>\n",
       "    </tr>\n",
       "    <tr>\n",
       "      <th>378</th>\n",
       "      <td>536.0</td>\n",
       "      <td>3.9922</td>\n",
       "      <td>3.1924</td>\n",
       "      <td>English</td>\n",
       "      <td>White</td>\n",
       "      <td>White, Non-Hispanic</td>\n",
       "      <td>30-49</td>\n",
       "      <td>Some college</td>\n",
       "      <td>Male</td>\n",
       "      <td>$75,000 or more</td>\n",
       "      <td>...</td>\n",
       "      <td>NaN</td>\n",
       "      <td>It is necessary to believe in God in order to ...</td>\n",
       "      <td>Female</td>\n",
       "      <td>No</td>\n",
       "      <td>White</td>\n",
       "      <td>White non-Hispanic</td>\n",
       "      <td>Independent</td>\n",
       "      <td>The Democratic Party</td>\n",
       "      <td>Democrat/lean Democrat</td>\n",
       "      <td>Moderate</td>\n",
       "    </tr>\n",
       "  </tbody>\n",
       "</table>\n",
       "<p>3 rows × 162 columns</p>\n",
       "</div>"
      ],
      "text/plain": [
       "     CaseID  parent_wt  teen_wt XSPANISH                   XPPRACEM  \\\n",
       "350   499.0     1.6294   2.0520  English  Black or African American   \n",
       "358   509.0     1.0166   0.8487  English                      White   \n",
       "378   536.0     3.9922   3.1924  English                      White   \n",
       "\n",
       "                  PPETHM PPAGEREC                     PPEDUCAT PPGENDER  \\\n",
       "350  Black, Non-Hispanic    30-49  Bachelor's degree or higher     Male   \n",
       "358  White, Non-Hispanic    30-49                 Some college     Male   \n",
       "378  White, Non-Hispanic    30-49                 Some college     Male   \n",
       "\n",
       "         PPINCIMPREC  ...                                        tparsame3oe  \\\n",
       "350  $75,000 or more  ...  Chose to follow one parent, no specific reason...   \n",
       "358  $75,000 or more  ...                                 Don't know/refused   \n",
       "378  $75,000 or more  ...                                                NaN   \n",
       "\n",
       "                                             TGODMORAL TSEXASK thisp  \\\n",
       "350  It is necessary to believe in God in order to ...  Female    No   \n",
       "358  It is NOT necessary to believe in God in order...    Male    No   \n",
       "378  It is necessary to believe in God in order to ...  Female    No   \n",
       "\n",
       "                      TRACECMB            tracethn          TPARTY  \\\n",
       "350  Black or African American  Black non-Hispanic  Something else   \n",
       "358                      White  White non-Hispanic  Something else   \n",
       "378                      White  White non-Hispanic     Independent   \n",
       "\n",
       "                 TPARTYLN                   tpartysum     TIDEO  \n",
       "350  The Democratic Party      Democrat/lean Democrat  Moderate  \n",
       "358  The Republican Party  Republican/lean Republican  Moderate  \n",
       "378  The Democratic Party      Democrat/lean Democrat  Moderate  \n",
       "\n",
       "[3 rows x 162 columns]"
      ]
     },
     "execution_count": 15,
     "metadata": {},
     "output_type": "execute_result"
    }
   ],
   "source": [
    "q = pewdata[(pewdata.preligrec=='Agnostic (not sure if there is a God)') & (pewdata.treligrec=='Roman Catholic')]\n",
    "q\n",
    "#3 parents only"
   ]
  },
  {
   "cell_type": "code",
   "execution_count": 16,
   "metadata": {},
   "outputs": [
    {
     "data": {
      "text/plain": [
       "3"
      ]
     },
     "execution_count": 16,
     "metadata": {},
     "output_type": "execute_result"
    }
   ],
   "source": [
    "len(q)"
   ]
  },
  {
   "cell_type": "code",
   "execution_count": 17,
   "metadata": {},
   "outputs": [
    {
     "data": {
      "text/plain": [
       "293382"
      ]
     },
     "execution_count": 17,
     "metadata": {},
     "output_type": "execute_result"
    }
   ],
   "source": [
    "pewdata.size"
   ]
  },
  {
   "cell_type": "markdown",
   "metadata": {},
   "source": [
    "**Exercise:** Which five parent/child denomination combinations are largest?  In other words, group by the parent's denomination and then the teen's denomination and see which five combinations are the largest."
   ]
  },
  {
   "cell_type": "code",
   "execution_count": 18,
   "metadata": {},
   "outputs": [
    {
     "data": {
      "text/plain": [
       "Preltrad                                       treltrad                                     \n",
       "Catholic                                       Catholic                                         398\n",
       "Theologically Evangelical Protestant Churches  Theologically Evangelical Protestant Churches    353\n",
       "Unaffiliated                                   Unaffiliated                                     344\n",
       "Historic Mainline Protestant Churches          Historic Mainline Protestant Churches            145\n",
       "Catholic                                       Unaffiliated                                      79\n",
       "dtype: int64"
      ]
     },
     "execution_count": 18,
     "metadata": {},
     "output_type": "execute_result"
    }
   ],
   "source": [
    "pewdata.groupby(['Preltrad', 'treltrad']).size().nlargest(5)  \n",
    "#The most simple method for pandas groupby count is by using the in-built pandas method named size(). It returns a pandas series that possess the total number of row count for each group"
   ]
  },
  {
   "cell_type": "code",
   "execution_count": 70,
   "metadata": {},
   "outputs": [],
   "source": [
    "#Example:\n",
    "#pewdata['Preltrad'].groupby(pewdata.Preltrad).count()\n",
    "\n",
    "#or\n",
    "#pewdata.groupby('Preltrad').size()"
   ]
  },
  {
   "cell_type": "markdown",
   "metadata": {},
   "source": [
    "# Let's recreate this!\n",
    "\n",
    "<img src='images/PF_09.10.20_religion.teens-00-0.webp' width = \"400\">\n",
    "<i>Image from <a href=\"https://www.pewresearch.org/religion/2020/09/10/u-s-teens-take-after-their-parents-religiously-attend-services-together-and-enjoy-family-rituals/\">Pew Research</a></i>\n"
   ]
  },
  {
   "cell_type": "markdown",
   "metadata": {},
   "source": [
    "Look at the codebook"
   ]
  },
  {
   "cell_type": "code",
   "execution_count": 46,
   "metadata": {
    "code_folding": []
   },
   "outputs": [
    {
     "data": {
      "text/plain": [
       "Catholic                                         498\n",
       "Theologically Evangelical Protestant Churches    441\n",
       "Unaffiliated                                     404\n",
       "Historic Mainline Protestant Churches            246\n",
       "Historically Black Protestant Churches            71\n",
       "Mormon                                            51\n",
       "Jewish                                            21\n",
       "Other Faiths                                      16\n",
       "Muslim                                            14\n",
       "Hindu                                             11\n",
       "Jehovah's Witness                                  9\n",
       "Buddhist                                           8\n",
       "Orthodox Christian                                 8\n",
       "DK/REF                                             7\n",
       "Other Christian                                    4\n",
       "Other World Religions                              2\n",
       "Name: Preltrad, dtype: int64"
      ]
     },
     "execution_count": 46,
     "metadata": {},
     "output_type": "execute_result"
    }
   ],
   "source": [
    "# value counts for Preltrad\n",
    "\n",
    "pewdata.Preltrad.value_counts()"
   ]
  },
  {
   "cell_type": "markdown",
   "metadata": {},
   "source": [
    "We want 'Evangelical Protestant', 'Mainline Protestant', 'Catholic', 'Unaffiliated' only"
   ]
  },
  {
   "cell_type": "code",
   "execution_count": 19,
   "metadata": {
    "code_folding": []
   },
   "outputs": [],
   "source": [
    "# change values fit order in chart\n",
    "\n",
    "pewdata.loc[pewdata['Preltrad'] == 'Theologically Evangelical Protestant Churches', 'prelid'] = 1\n",
    "pewdata.loc[pewdata['Preltrad'] == 'Historic Mainline Protestant Churches', 'prelid'] = 2\n",
    "pewdata.loc[pewdata['Preltrad'] == 'Catholic', 'prelid'] = 3\n",
    "pewdata.loc[pewdata['Preltrad'] == 'Unaffiliated', 'prelid'] = 4\n",
    "\n",
    "pewdata.loc[pewdata['treltrad'] == 'Theologically Evangelical Protestant Churches', 'trelid'] = 1\n",
    "pewdata.loc[pewdata['treltrad'] == 'Historic Mainline Protestant Churches', 'trelid'] = 2\n",
    "pewdata.loc[pewdata['treltrad'] == 'Catholic', 'trelid'] = 3\n",
    "pewdata.loc[pewdata['treltrad'] == 'Unaffiliated', 'trelid'] = 4"
   ]
  },
  {
   "cell_type": "code",
   "execution_count": 20,
   "metadata": {
    "code_folding": [],
    "scrolled": true
   },
   "outputs": [
    {
     "data": {
      "text/html": [
       "<div>\n",
       "<style scoped>\n",
       "    .dataframe tbody tr th:only-of-type {\n",
       "        vertical-align: middle;\n",
       "    }\n",
       "\n",
       "    .dataframe tbody tr th {\n",
       "        vertical-align: top;\n",
       "    }\n",
       "\n",
       "    .dataframe thead th {\n",
       "        text-align: right;\n",
       "    }\n",
       "</style>\n",
       "<table border=\"1\" class=\"dataframe\">\n",
       "  <thead>\n",
       "    <tr style=\"text-align: right;\">\n",
       "      <th>trelid</th>\n",
       "      <th>1.0</th>\n",
       "      <th>2.0</th>\n",
       "      <th>3.0</th>\n",
       "      <th>4.0</th>\n",
       "    </tr>\n",
       "    <tr>\n",
       "      <th>prelid</th>\n",
       "      <th></th>\n",
       "      <th></th>\n",
       "      <th></th>\n",
       "      <th></th>\n",
       "    </tr>\n",
       "  </thead>\n",
       "  <tbody>\n",
       "    <tr>\n",
       "      <th>1.0</th>\n",
       "      <td>353</td>\n",
       "      <td>29</td>\n",
       "      <td>4</td>\n",
       "      <td>47</td>\n",
       "    </tr>\n",
       "    <tr>\n",
       "      <th>2.0</th>\n",
       "      <td>27</td>\n",
       "      <td>145</td>\n",
       "      <td>4</td>\n",
       "      <td>61</td>\n",
       "    </tr>\n",
       "    <tr>\n",
       "      <th>3.0</th>\n",
       "      <td>6</td>\n",
       "      <td>9</td>\n",
       "      <td>398</td>\n",
       "      <td>79</td>\n",
       "    </tr>\n",
       "    <tr>\n",
       "      <th>4.0</th>\n",
       "      <td>8</td>\n",
       "      <td>20</td>\n",
       "      <td>18</td>\n",
       "      <td>344</td>\n",
       "    </tr>\n",
       "  </tbody>\n",
       "</table>\n",
       "</div>"
      ],
      "text/plain": [
       "trelid  1.0  2.0  3.0  4.0\n",
       "prelid                    \n",
       "1.0     353   29    4   47\n",
       "2.0      27  145    4   61\n",
       "3.0       6    9  398   79\n",
       "4.0       8   20   18  344"
      ]
     },
     "execution_count": 20,
     "metadata": {},
     "output_type": "execute_result"
    }
   ],
   "source": [
    "# crosstabs using our two variables\n",
    "\n",
    "pd.crosstab(pewdata.prelid, pewdata.trelid)"
   ]
  },
  {
   "cell_type": "markdown",
   "metadata": {},
   "source": [
    "Include `normalize = 'index'` to get percentages"
   ]
  },
  {
   "cell_type": "code",
   "execution_count": 21,
   "metadata": {
    "code_folding": []
   },
   "outputs": [
    {
     "data": {
      "text/html": [
       "<div>\n",
       "<style scoped>\n",
       "    .dataframe tbody tr th:only-of-type {\n",
       "        vertical-align: middle;\n",
       "    }\n",
       "\n",
       "    .dataframe tbody tr th {\n",
       "        vertical-align: top;\n",
       "    }\n",
       "\n",
       "    .dataframe thead th {\n",
       "        text-align: right;\n",
       "    }\n",
       "</style>\n",
       "<table border=\"1\" class=\"dataframe\">\n",
       "  <thead>\n",
       "    <tr style=\"text-align: right;\">\n",
       "      <th>trelid</th>\n",
       "      <th>1.0</th>\n",
       "      <th>2.0</th>\n",
       "      <th>3.0</th>\n",
       "      <th>4.0</th>\n",
       "    </tr>\n",
       "    <tr>\n",
       "      <th>prelid</th>\n",
       "      <th></th>\n",
       "      <th></th>\n",
       "      <th></th>\n",
       "      <th></th>\n",
       "    </tr>\n",
       "  </thead>\n",
       "  <tbody>\n",
       "    <tr>\n",
       "      <th>1.0</th>\n",
       "      <td>0.82</td>\n",
       "      <td>0.07</td>\n",
       "      <td>0.01</td>\n",
       "      <td>0.11</td>\n",
       "    </tr>\n",
       "    <tr>\n",
       "      <th>2.0</th>\n",
       "      <td>0.11</td>\n",
       "      <td>0.61</td>\n",
       "      <td>0.02</td>\n",
       "      <td>0.26</td>\n",
       "    </tr>\n",
       "    <tr>\n",
       "      <th>3.0</th>\n",
       "      <td>0.01</td>\n",
       "      <td>0.02</td>\n",
       "      <td>0.81</td>\n",
       "      <td>0.16</td>\n",
       "    </tr>\n",
       "    <tr>\n",
       "      <th>4.0</th>\n",
       "      <td>0.02</td>\n",
       "      <td>0.05</td>\n",
       "      <td>0.05</td>\n",
       "      <td>0.88</td>\n",
       "    </tr>\n",
       "  </tbody>\n",
       "</table>\n",
       "</div>"
      ],
      "text/plain": [
       "trelid   1.0   2.0   3.0   4.0\n",
       "prelid                        \n",
       "1.0     0.82  0.07  0.01  0.11\n",
       "2.0     0.11  0.61  0.02  0.26\n",
       "3.0     0.01  0.02  0.81  0.16\n",
       "4.0     0.02  0.05  0.05  0.88"
      ]
     },
     "execution_count": 21,
     "metadata": {},
     "output_type": "execute_result"
    }
   ],
   "source": [
    "# add `normalize = 'index'` to get percentages, and round to two decimals\n",
    "\n",
    "our_table = pd.crosstab(pewdata.prelid, pewdata.trelid, normalize = 'index').round(2)\n",
    "our_table"
   ]
  },
  {
   "cell_type": "markdown",
   "metadata": {},
   "source": [
    "How accurate are we?"
   ]
  },
  {
   "cell_type": "markdown",
   "metadata": {},
   "source": [
    "<img src='images/PF_09.10.20_religion.teens-00-0.webp' width = \"300\" align = \"left\">\n"
   ]
  },
  {
   "cell_type": "code",
   "execution_count": null,
   "metadata": {
    "code_folding": []
   },
   "outputs": [],
   "source": [
    "# recreate the table in a DF\n",
    "\n",
    "pew_numbers = {1: [.80, .12, .01, .02], 2: [.06, .55, .01, .03],\n",
    "    3: [.01, .04, .81, .05], 4: [.12, .24, .15, .86]}\n",
    "\n",
    "pew_table = pd.DataFrame(data = pew_numbers, index = [1, 2, 3, 4], )\n",
    "pew_table"
   ]
  },
  {
   "cell_type": "code",
   "execution_count": null,
   "metadata": {
    "code_folding": [],
    "scrolled": true
   },
   "outputs": [],
   "source": [
    "# subtract their values from ours to two decimals\n",
    "\n",
    "(our_table - pew_table).round(2)"
   ]
  },
  {
   "cell_type": "markdown",
   "metadata": {},
   "source": [
    "## Categorical data\n",
    "\n",
    "Read more about categorical data from the [Pandas documentation](https://pandas.pydata.org/docs/user_guide/categorical.html)\n",
    "\n",
    "Categorical data used extensively in statistics.  \n",
    "\n",
    "Features:\n",
    "* categorical variables take on a limited, usually fixed, number of possible values\n",
    "* categorical variables can have an order (ordinal data)\n",
    "* all values are either in categories or np.nan\n",
    "* if an order is present (e.g., \"strongly agree\", \"agree\", \"neutral\", etc.), sorting will use the logical \n",
    "* especially useful in survey research"
   ]
  },
  {
   "cell_type": "code",
   "execution_count": 22,
   "metadata": {
    "scrolled": true
   },
   "outputs": [
    {
     "data": {
      "text/plain": [
       "0                    $75,000 or more\n",
       "1                    $75,000 or more\n",
       "2                    $75,000 or more\n",
       "3                    $75,000 or more\n",
       "4       $30,000 to less than $75,000\n",
       "                    ...             \n",
       "1806    $30,000 to less than $75,000\n",
       "1807               Less than $30,000\n",
       "1808                 $75,000 or more\n",
       "1809                 $75,000 or more\n",
       "1810                 $75,000 or more\n",
       "Name: PPINCIMPREC, Length: 1811, dtype: category\n",
       "Categories (3, object): ['$30,000 to less than $75,000', '$75,000 or more', 'Less than $30,000']"
      ]
     },
     "execution_count": 22,
     "metadata": {},
     "output_type": "execute_result"
    }
   ],
   "source": [
    "# view annual household income of participating parent, PPINCIMPREC \n",
    "\n",
    "pewdata['PPINCIMPREC']"
   ]
  },
  {
   "cell_type": "code",
   "execution_count": 23,
   "metadata": {
    "scrolled": false
   },
   "outputs": [
    {
     "data": {
      "text/plain": [
       "$75,000 or more                 838\n",
       "$30,000 to less than $75,000    627\n",
       "Less than $30,000               346\n",
       "Name: PPINCIMPREC, dtype: int64"
      ]
     },
     "execution_count": 23,
     "metadata": {},
     "output_type": "execute_result"
    }
   ],
   "source": [
    "# PPINCIMPREC value counts\n",
    "\n",
    "pewdata['PPINCIMPREC'].value_counts()"
   ]
  },
  {
   "cell_type": "code",
   "execution_count": 24,
   "metadata": {
    "scrolled": true
   },
   "outputs": [
    {
     "data": {
      "text/plain": [
       "487     $30,000 to less than $75,000\n",
       "460     $30,000 to less than $75,000\n",
       "810     $30,000 to less than $75,000\n",
       "463     $30,000 to less than $75,000\n",
       "809     $30,000 to less than $75,000\n",
       "                    ...             \n",
       "1489               Less than $30,000\n",
       "1164               Less than $30,000\n",
       "373                Less than $30,000\n",
       "1522               Less than $30,000\n",
       "977                Less than $30,000\n",
       "Name: PPINCIMPREC, Length: 1811, dtype: category\n",
       "Categories (3, object): ['$30,000 to less than $75,000', '$75,000 or more', 'Less than $30,000']"
      ]
     },
     "execution_count": 24,
     "metadata": {},
     "output_type": "execute_result"
    }
   ],
   "source": [
    "# sort PPINCIMPREC\n",
    "\n",
    "pewdata['PPINCIMPREC'].sort_values()\n",
    "#notice it's out of logical order"
   ]
  },
  {
   "cell_type": "markdown",
   "metadata": {},
   "source": [
    "To alleviate this, we use `reorder_categories`.\n",
    "\n",
    "In our case, we will use `pewdata['PPINCIMPREC'].cat.reorder_categories()` and pass a list of our values in order"
   ]
  },
  {
   "cell_type": "code",
   "execution_count": 25,
   "metadata": {},
   "outputs": [],
   "source": [
    "# reorder categories\n",
    "\n",
    "pewdata['PPINCIMPREC'] = pewdata['PPINCIMPREC'].cat.reorder_categories(\n",
    "    ['Less than $30,000', '$30,000 to less than $75,000', '$75,000 or more'])"
   ]
  },
  {
   "cell_type": "code",
   "execution_count": 26,
   "metadata": {
    "scrolled": true
   },
   "outputs": [
    {
     "data": {
      "text/plain": [
       "['$75,000 or more', '$75,000 or more', '$75,000 or more', '$75,000 or more', '$30,000 to less than $75,000', ..., '$30,000 to less than $75,000', 'Less than $30,000', '$75,000 or more', '$75,000 or more', '$75,000 or more']\n",
       "Length: 1811\n",
       "Categories (3, object): ['Less than $30,000', '$30,000 to less than $75,000', '$75,000 or more']"
      ]
     },
     "execution_count": 26,
     "metadata": {},
     "output_type": "execute_result"
    }
   ],
   "source": [
    "# check values\n",
    "\n",
    "pewdata['PPINCIMPREC'].values"
   ]
  },
  {
   "cell_type": "code",
   "execution_count": 27,
   "metadata": {
    "scrolled": true
   },
   "outputs": [
    {
     "data": {
      "text/plain": [
       "606     Less than $30,000\n",
       "893     Less than $30,000\n",
       "1362    Less than $30,000\n",
       "357     Less than $30,000\n",
       "354     Less than $30,000\n",
       "              ...        \n",
       "786       $75,000 or more\n",
       "784       $75,000 or more\n",
       "783       $75,000 or more\n",
       "775       $75,000 or more\n",
       "1810      $75,000 or more\n",
       "Name: PPINCIMPREC, Length: 1811, dtype: category\n",
       "Categories (3, object): ['Less than $30,000', '$30,000 to less than $75,000', '$75,000 or more']"
      ]
     },
     "execution_count": 27,
     "metadata": {},
     "output_type": "execute_result"
    }
   ],
   "source": [
    "# check sorted values\n",
    "\n",
    "pewdata['PPINCIMPREC'].sort_values()"
   ]
  },
  {
   "cell_type": "markdown",
   "metadata": {},
   "source": [
    "# Importance\n",
    "\n",
    "Let's turn to importance, and match the values from this:\n",
    "\n",
    "<img src='images/PF_09.10.20_religion.teens-00-1.jpg' width = \"400\">\n",
    "<i>Image from <a href=\"https://www.pewresearch.org/religion/2020/09/10/u-s-teens-take-after-their-parents-religiously-attend-services-together-and-enjoy-family-rituals/\">Pew Research</a></i>"
   ]
  },
  {
   "cell_type": "code",
   "execution_count": 28,
   "metadata": {
    "code_folding": [],
    "scrolled": true
   },
   "outputs": [
    {
     "data": {
      "text/plain": [
       "Very important          824\n",
       "Somewhat important      525\n",
       "Not at all important    252\n",
       "Not too important       203\n",
       "Refused                   7\n",
       "Name: PRELIMP, dtype: int64"
      ]
     },
     "execution_count": 28,
     "metadata": {},
     "output_type": "execute_result"
    }
   ],
   "source": [
    "# importance value counts\n",
    "\n",
    "pewdata.PRELIMP.value_counts()"
   ]
  },
  {
   "cell_type": "code",
   "execution_count": 29,
   "metadata": {
    "code_folding": []
   },
   "outputs": [
    {
     "data": {
      "text/plain": [
       "Very important          0.454997\n",
       "Somewhat important      0.289895\n",
       "Not at all important    0.139150\n",
       "Not too important       0.112093\n",
       "Refused                 0.003865\n",
       "Name: PRELIMP, dtype: float64"
      ]
     },
     "execution_count": 29,
     "metadata": {},
     "output_type": "execute_result"
    }
   ],
   "source": [
    "# normalize value counts\n",
    "\n",
    "pewdata.PRELIMP.value_counts(normalize = True)"
   ]
  },
  {
   "cell_type": "code",
   "execution_count": 30,
   "metadata": {
    "code_folding": []
   },
   "outputs": [],
   "source": [
    "# remove 'Refused' responses\n",
    "\n",
    "df3 = pewdata.loc[pewdata['PRELIMP'] != 'Refused']"
   ]
  },
  {
   "cell_type": "code",
   "execution_count": 31,
   "metadata": {
    "code_folding": [],
    "scrolled": false
   },
   "outputs": [
    {
     "data": {
      "text/plain": [
       "Very important          0.456763\n",
       "Somewhat important      0.291020\n",
       "Not at all important    0.139690\n",
       "Not too important       0.112528\n",
       "Refused                 0.000000\n",
       "Name: PRELIMP, dtype: float64"
      ]
     },
     "execution_count": 31,
     "metadata": {},
     "output_type": "execute_result"
    }
   ],
   "source": [
    "# normalized value counts, no refused\n",
    "\n",
    "df3.PRELIMP.value_counts(normalize = True)"
   ]
  },
  {
   "cell_type": "code",
   "execution_count": 32,
   "metadata": {
    "code_folding": []
   },
   "outputs": [],
   "source": [
    "# remove 'Refused' for teens\n",
    "\n",
    "df4 = pewdata.loc[pewdata['TRELIMP'] != 'Refused']"
   ]
  },
  {
   "cell_type": "code",
   "execution_count": 33,
   "metadata": {
    "code_folding": [],
    "scrolled": true
   },
   "outputs": [
    {
     "data": {
      "text/plain": [
       "Somewhat important      0.367574\n",
       "Very important          0.247640\n",
       "Not too important       0.204886\n",
       "Not at all important    0.179900\n",
       "Refused                 0.000000\n",
       "Name: TRELIMP, dtype: float64"
      ]
     },
     "execution_count": 33,
     "metadata": {},
     "output_type": "execute_result"
    }
   ],
   "source": [
    "# normalized value counts for teens, no refused\n",
    "\n",
    "df4.TRELIMP.value_counts(normalize = True)"
   ]
  },
  {
   "cell_type": "markdown",
   "metadata": {},
   "source": [
    "# Percent of teens holding same religoius beliefs as parents\n",
    "\n",
    "\n",
    "\n",
    "<img src='images/PF_09.10.20_religion.teens-00-2.webp' width = \"400\">\n",
    "<i>Image from <a href=\"https://www.pewresearch.org/religion/2020/09/10/u-s-teens-take-after-their-parents-religiously-attend-services-together-and-enjoy-family-rituals/\">Pew Research</a></i>\n",
    "\n",
    "Let's first look to the first percentages\n",
    "\n",
    "To the codebook!"
   ]
  },
  {
   "cell_type": "code",
   "execution_count": 34,
   "metadata": {
    "code_folding": []
   },
   "outputs": [
    {
     "data": {
      "text/plain": [
       "All the same religious beliefs        0.49\n",
       "Some of the same religious beliefs    0.42\n",
       "Quite different religious beliefs     0.08\n",
       "Refused                               0.01\n",
       "Name: TPARRELIG1, dtype: float64"
      ]
     },
     "execution_count": 34,
     "metadata": {},
     "output_type": "execute_result"
    }
   ],
   "source": [
    "# value counts \n",
    "\n",
    "pewdata.TPARRELIG1.value_counts(normalize = True).round(2)"
   ]
  },
  {
   "cell_type": "markdown",
   "metadata": {},
   "source": [
    "\"...but among teens who say their beliefs differ, a third say the parent is unaware\"\n",
    "\n",
    "How should we examine this?\n",
    "\n",
    "1. Select only those who say beliefs differ\n",
    "2. Find question on awareness, and split.\n",
    "\n",
    "To the codebook!"
   ]
  },
  {
   "cell_type": "code",
   "execution_count": 35,
   "metadata": {
    "code_folding": []
   },
   "outputs": [
    {
     "data": {
      "text/plain": [
       "Yes        611\n",
       "No         296\n",
       "Refused      6\n",
       "Name: TPARRELIG2, dtype: int64"
      ]
     },
     "execution_count": 35,
     "metadata": {},
     "output_type": "execute_result"
    }
   ],
   "source": [
    "# value counts\n",
    "\n",
    "pewdata.TPARRELIG2.value_counts()"
   ]
  },
  {
   "cell_type": "code",
   "execution_count": 36,
   "metadata": {
    "code_folding": []
   },
   "outputs": [
    {
     "data": {
      "text/plain": [
       "Yes        0.67\n",
       "No         0.32\n",
       "Refused    0.01\n",
       "Name: TPARRELIG2, dtype: float64"
      ]
     },
     "execution_count": 36,
     "metadata": {},
     "output_type": "execute_result"
    }
   ],
   "source": [
    "# normalized value counts\n",
    "\n",
    "pewdata['TPARRELIG2'].value_counts(normalize=True).round(2)"
   ]
  },
  {
   "cell_type": "markdown",
   "metadata": {},
   "source": [
    "## Further Analysis\n",
    "\n",
    "As we have said many times, this course is meant for you to have time to practice a lot on your own.  This truly is how you are going to grow in your data manipulation knowledge.\n",
    "\n",
    "I suggest that you take time to do further analysis with this data and see if you can replicate some of the other Pew analysis from the article.  Also, this would be a great time to practice your data visualization skills as well.  Uploading the work you do with this dataset to Github will show your current or respective employers the type of quality work that you can do!"
   ]
  }
 ],
 "metadata": {
  "kernelspec": {
   "display_name": "Python 3",
   "language": "python",
   "name": "python3"
  },
  "language_info": {
   "codemirror_mode": {
    "name": "ipython",
    "version": 3
   },
   "file_extension": ".py",
   "mimetype": "text/x-python",
   "name": "python",
   "nbconvert_exporter": "python",
   "pygments_lexer": "ipython3",
   "version": "3.8.3"
  }
 },
 "nbformat": 4,
 "nbformat_minor": 4
}
